{
 "cells": [
  {
   "cell_type": "code",
   "execution_count": 10,
   "metadata": {
    "id": "OcPsZCLlR_G4"
   },
   "outputs": [],
   "source": [
    "import numpy as np\n",
    "import os\n",
    "import datetime\n",
    "import os\n",
    "import matplotlib.pyplot as plt\n",
    "from imageio import imread\n",
    "from skimage import io, transform\n",
    "from skimage.transform import resize\n",
    "\n",
    "import matplotlib.pyplot as plt\n",
    "%matplotlib inline\n",
    "\n",
    "import warnings\n",
    "warnings.filterwarnings('ignore')"
   ]
  },
  {
   "cell_type": "code",
   "execution_count": 11,
   "metadata": {
    "id": "WRRzV3bgSN0l"
   },
   "outputs": [],
   "source": [
    "np.random.seed(30)\n",
    "import random as rn\n",
    "rn.seed(30)\n",
    "from keras import backend as K\n",
    "import tensorflow as tf\n",
    "tf.random.set_seed(30)"
   ]
  },
  {
   "cell_type": "code",
   "execution_count": 12,
   "metadata": {
    "id": "dF8BzXNCSOlU"
   },
   "outputs": [],
   "source": [
    "train_doc = np.random.permutation(open('Project_data/train.csv').readlines())\n",
    "val_doc = np.random.permutation(open('Project_data/val.csv').readlines())\n",
    "\n",
    "# Batch size handled in class\n",
    "\n",
    "batch_size = 64"
   ]
  },
  {
   "cell_type": "code",
   "execution_count": 33,
   "metadata": {
    "id": "l9HmSX-ZSPYA"
   },
   "outputs": [],
   "source": [
    "def generator(source_path, folder_list, batch_size, factor_ht=0, factor_wd=0 ):\n",
    "    print( 'Source path = ', source_path, '; batch size =', batch_size)\n",
    "    \n",
    "    img_idx = np.arange(0,30,2) #create a list of image numbers you want to use for a particular video\n",
    "    \n",
    "    while True:\n",
    "        t = np.random.permutation(folder_list)\n",
    "\n",
    "\n",
    "        num_batches = len(folder_list)//batch_size # calculate the number of batches\n",
    "        for batch in range(num_batches): # we iterate over the number of batches\n",
    "            batch_data = np.zeros((batch_size,len(img_idx),100,100,3)) # x is the number of images you use for each video, (y,z) is the final size of the input images and 3 is the number of channels RGB\n",
    "            batch_labels = np.zeros((batch_size,5)) # batch_labels is the one hot representation of the output\n",
    "            for folder in range(batch_size): # iterate over the batch_size\n",
    "                imgs = os.listdir(source_path+'/'+ t[folder + (batch*batch_size)].split(';')[0]) # read all the images in the folder\n",
    "                for idx,item in enumerate(img_idx): #  Iterate iver the frames/images of a folder to read them in\n",
    "                    image = imread(source_path+'/'+ t[folder + (batch*batch_size)].strip().split(';')[0]+'/'+imgs[item]).astype(np.float32)\n",
    "                    \n",
    "                    #crop the images and resize them. Note that the images are of 2 different shape \n",
    "                    #and the conv3D will throw error if the inputs in a batch have different shapes\n",
    "                    if factor_ht!=0 or factor_wd!=0:\n",
    "                        image_ht, image_wd, _ = image.shape\n",
    "                        ht1 = int(factor_ht / 2)\n",
    "                        ht2 = image_ht - int(factor_ht /2)\n",
    "                        wd1 = int(factor_wd / 2)\n",
    "                        wd2 = image_wd - int(factor_wd / 2)\n",
    "                        image=image[ht1:ht2, wd1:wd2,:]\n",
    "\n",
    "                    image = resize(image,(100,100))\n",
    "                    batch_data[folder,idx,:,:,0] = image[:,:,0]/255\n",
    "                    batch_data[folder,idx,:,:,1] = image[:,:,1]/255\n",
    "                    batch_data[folder,idx,:,:,2] = image[:,:,2]/255\n",
    "                    \n",
    "                batch_labels[folder, int(t[folder + (batch*batch_size)].strip().split(';')[2])] = 1\n",
    "            yield batch_data, batch_labels #you yield the batch_data and the batch_labels, remember what does yield do\n",
    "        rem_image = len(folder_list)%batch_size\n",
    "        batch += 1\n",
    "        if(rem_image!=0):\n",
    "            batch_data = np.zeros((rem_image,len(img_idx),100,100,3)) # x is the number of images you use for each video, (y,z) is the final size of the input images and 3 is the number of channels RGB\n",
    "            batch_labels = np.zeros((rem_image,5)) # batch_labels is the one hot representation of the output\n",
    "            for folder in range(rem_image): # iterate over the batch_size\n",
    "                imgs = os.listdir(source_path+'/'+ t[folder + (batch*batch_size)].split(';')[0]) # read all the images in the folder\n",
    "                for idx,item in enumerate(img_idx): #  Iterate iver the frames/images of a folder to read them in\n",
    "                    image = imread(source_path+'/'+ t[folder + (batch*batch_size)].strip().split(';')[0]+'/'+imgs[item]).astype(np.float32)\n",
    "                    \n",
    "                    #crop the images and resize them. Note that the images are of 2 different shape \n",
    "                    #and the conv3D will throw error if the inputs in a batch have different shapes\n",
    "                    \n",
    "                   # CROP \n",
    "                    if factor_ht!=0 or factor_wd!=0:\n",
    "                        image_ht, image_wd, _ = image.shape\n",
    "                        ht1 = int(factor_ht / 2)\n",
    "                        ht2 = image_ht - int(factor_ht /2)\n",
    "                        wd1 = int(factor_wd / 2)\n",
    "                        wd2 = image_wd - int(factor_wd / 2)\n",
    "                        image=image[ht1:ht2, wd1:wd2,:]\n",
    "                    \n",
    "                    # Normalize\n",
    "                    image = resize(image,(100,100))\n",
    "                    batch_data[folder,idx,:,:,0] = image[:,:,0]\n",
    "                    batch_data[folder,idx,:,:,1] = image[:,:,1]\n",
    "                    batch_data[folder,idx,:,:,2] = image[:,:,2]\n",
    "                    \n",
    "                batch_labels[folder, int(t[folder + (batch*batch_size)].strip().split(';')[2])] = 1\n",
    "            yield batch_data, batch_labels\n",
    "            "
   ]
  },
  {
   "cell_type": "code",
   "execution_count": 34,
   "metadata": {},
   "outputs": [],
   "source": [
    "def loss(history):\n",
    "        acc = history.history['categorical_accuracy']\n",
    "        val_acc = history.history['val_categorical_accuracy']\n",
    "\n",
    "        loss = history.history['loss']\n",
    "        val_loss = history.history['val_loss']\n",
    "\n",
    "        epochs_range = range(len(history.history['loss']))\n",
    "\n",
    "        plt.figure(figsize=(8, 8))\n",
    "        plt.subplot(1, 2, 1)\n",
    "        plt.plot(epochs_range, acc, label='Training Accuracy')\n",
    "        plt.plot(epochs_range, val_acc, label='Validation Accuracy')\n",
    "        plt.legend(loc='lower right')\n",
    "        plt.title('Training and Validation Accuracy')\n",
    "\n",
    "        plt.subplot(1, 2, 2)\n",
    "        plt.plot(epochs_range, loss, label='Training Loss')\n",
    "        plt.plot(epochs_range, val_loss, label='Validation Loss')\n",
    "        plt.legend(loc='upper right')\n",
    "        plt.title('Training and Validation Loss')\n",
    "        plt.show()"
   ]
  },
  {
   "cell_type": "code",
   "execution_count": 20,
   "metadata": {
    "colab": {
     "base_uri": "https://localhost:8080/"
    },
    "executionInfo": {
     "elapsed": 6,
     "status": "ok",
     "timestamp": 1649265013005,
     "user": {
      "displayName": "Shubhham Agarwal",
      "userId": "13467995706959391364"
     },
     "user_tz": -330
    },
    "id": "e2zaXmdASPbr",
    "outputId": "5f3d92cf-049f-45c1-c21c-b61151baac3d"
   },
   "outputs": [
    {
     "name": "stdout",
     "output_type": "stream",
     "text": [
      "# training sequences = 663\n",
      "# validation sequences = 100\n",
      "# epochs = 1\n"
     ]
    }
   ],
   "source": [
    "curr_dt_time = datetime.datetime.now()\n",
    "train_path = 'Project_data/train'\n",
    "val_path = 'Project_data/val'\n",
    "num_train_sequences = len(train_doc)\n",
    "print('# training sequences =', num_train_sequences)\n",
    "num_val_sequences = len(val_doc)\n",
    "print('# validation sequences =', num_val_sequences)\n",
    "num_epochs = 1 # choose the number of epochs\n",
    "print ('# epochs =', num_epochs)\n",
    "num_classes = 5"
   ]
  },
  {
   "cell_type": "markdown",
   "metadata": {},
   "source": [
    "### Testing Generator function"
   ]
  },
  {
   "cell_type": "code",
   "execution_count": 30,
   "metadata": {},
   "outputs": [
    {
     "name": "stdout",
     "output_type": "stream",
     "text": [
      "Source path =  Project_data/train ; batch size = 32\n"
     ]
    },
    {
     "data": {
      "text/plain": [
       "<matplotlib.image.AxesImage at 0x1ebd44665b0>"
      ]
     },
     "execution_count": 30,
     "metadata": {},
     "output_type": "execute_result"
    },
    {
     "data": {
      "image/png": "[encoded data removed]",
      "text/plain": [
       "<Figure size 432x288 with 1 Axes>"
      ]
     },
     "metadata": {
      "needs_background": "light"
     },
     "output_type": "display_data"
    }
   ],
   "source": [
    "# Test Generator Function\n",
    "\n",
    "xtrain=generator('Project_data/train',train_doc, 32 )\n",
    "x=next(xtrain)\n",
    "plt.imshow(x[0][1][1])"
   ]
  },
  {
   "cell_type": "code",
   "execution_count": 29,
   "metadata": {},
   "outputs": [
    {
     "name": "stdout",
     "output_type": "stream",
     "text": [
      "Source path =  Project_data/train ; batch size = 32\n"
     ]
    },
    {
     "data": {
      "text/plain": [
       "<matplotlib.image.AxesImage at 0x1ebd4476a60>"
      ]
     },
     "execution_count": 29,
     "metadata": {},
     "output_type": "execute_result"
    },
    {
     "data": {
      "image/png": "[encoded data removed]",
      "text/plain": [
       "<Figure size 432x288 with 1 Axes>"
      ]
     },
     "metadata": {
      "needs_background": "light"
     },
     "output_type": "display_data"
    }
   ],
   "source": [
    "# Test Crop in Generator Function\n",
    "\n",
    "xtrain=generator('Project_data/train',train_doc, 32, factor_ht=10, factor_wd=10)\n",
    "x=next(xtrain)\n",
    "plt.imshow(x[0][1][1])"
   ]
  },
  {
   "cell_type": "markdown",
   "metadata": {},
   "source": [
    "### Define Keras Classes"
   ]
  },
  {
   "cell_type": "code",
   "execution_count": 32,
   "metadata": {
    "id": "g5m7eXw3m_Dx"
   },
   "outputs": [],
   "source": [
    "from keras.models import Sequential, Model\n",
    "from keras.layers import Dense, GRU, Flatten, TimeDistributed, Flatten, BatchNormalization, Activation, Dropout\n",
    "from keras.layers.convolutional import Conv3D, MaxPooling3D, Conv2D, MaxPooling2D\n",
    "from keras.callbacks import ModelCheckpoint, ReduceLROnPlateau, EarlyStopping\n",
    "from tensorflow.keras.optimizers import Adam, SGD\n",
    "from tensorflow.keras.layers import LSTM, GRU, SimpleRNN, LeakyReLU\n",
    "from tensorflow.keras.applications import EfficientNetB0"
   ]
  },
  {
   "cell_type": "markdown",
   "metadata": {},
   "source": [
    "## Model 1"
   ]
  },
  {
   "cell_type": "code",
   "execution_count": 13,
   "metadata": {
    "id": "sbRZiITuiZRM"
   },
   "outputs": [],
   "source": [
    "#write your model here\n",
    "\n",
    "Input_shape = (15, 100, 100, 3)\n",
    "model_1 = Sequential()\n",
    "model_1.add(Conv3D(32, (3,3,3), padding='same',\n",
    "                 input_shape=Input_shape))\n",
    "model_1.add(BatchNormalization())\n",
    "model_1.add(Activation('relu'))\n",
    "\n",
    "model_1.add(Conv3D(32, (3, 3,3)))\n",
    "model_1.add(BatchNormalization())\n",
    "model_1.add(Activation('relu'))\n",
    "model_1.add(MaxPooling3D(pool_size=(2, 2,2)))\n",
    "\n",
    "model_1.add(Dropout(0.5))\n",
    "\n",
    "model_1.add(Conv3D(64, (3, 3,3), padding='same'))\n",
    "model_1.add(BatchNormalization())\n",
    "model_1.add(Activation('relu'))\n",
    "model_1.add(Conv3D(64, (3, 3,3)))\n",
    "\n",
    "model_1.add(Activation('relu'))\n",
    "model_1.add(BatchNormalization())\n",
    "model_1.add(MaxPooling3D(pool_size=(2, 2,2)))\n",
    "\n",
    "model_1.add(Dropout(0.5))\n",
    "\n",
    "model_1.add(Flatten())\n",
    "\n",
    "model_1.add(Dense(5))\n",
    "model_1.add(Activation('softmax'))"
   ]
  },
  {
   "cell_type": "code",
   "execution_count": null,
   "metadata": {},
   "outputs": [],
   "source": [
    "optimiser = Adam(learning_rate=0.001) \n",
    "model_1.compile(optimizer=optimiser, loss='categorical_crossentropy', metrics=['categorical_accuracy'])\n",
    "print (model_1.summary())"
   ]
  },
  {
   "cell_type": "code",
   "execution_count": null,
   "metadata": {},
   "outputs": [],
   "source": [
    "train_generator = generator(train_path, train_doc, batch_size)\n",
    "val_generator = generator(val_path, val_doc, batch_size)\n",
    "\n",
    "model_name = 'Gesture_recog' + '_' + str(curr_dt_time).replace(' ','').replace(':','_') + '/'\n",
    "    \n",
    "if not os.path.exists(model_name):\n",
    "    os.mkdir(model_name)\n",
    "        \n",
    "filepath = model_name + 'model-{epoch:05d}-{loss:.5f}-{categorical_accuracy:.5f}-{val_loss:.5f}-{val_categorical_accuracy:.5f}.h5'\n",
    "\n",
    "checkpoint = ModelCheckpoint(filepath, monitor='val_loss', verbose=1, save_best_only=False, save_weights_only=False, mode='auto', period=1)\n",
    "\n",
    "LR = ReduceLROnPlateau(monitor = \"val_loss\", factor = 0.1, patience = 10,\n",
    "  verbose = 1, mode = \"auto\", epsilon = 1e-04, cooldown = 0,\n",
    "  min_lr = 0)\n",
    "callbacks_list = [checkpoint, LR]\n",
    "\n",
    "if (num_train_sequences%batch_size) == 0:\n",
    "    steps_per_epoch = int(num_train_sequences/batch_size)\n",
    "else:\n",
    "    steps_per_epoch = (num_train_sequences//batch_size) + 1\n",
    "\n",
    "if (num_val_sequences%batch_size) == 0:\n",
    "    validation_steps = int(num_val_sequences/batch_size)\n",
    "else:\n",
    "    validation_steps = (num_val_sequences//batch_size) + 1\n",
    "    \n",
    "history = model_1.fit(train_generator, steps_per_epoch=steps_per_epoch, epochs=num_epochs, verbose=1, \n",
    "                    callbacks=callbacks_list, validation_data=val_generator, \n",
    "                    validation_steps=validation_steps, class_weight=None, workers=1, initial_epoch=0)"
   ]
  },
  {
   "cell_type": "code",
   "execution_count": null,
   "metadata": {},
   "outputs": [],
   "source": [
    "loss(history)"
   ]
  },
  {
   "cell_type": "markdown",
   "metadata": {},
   "source": [
    "### Model 2"
   ]
  },
  {
   "cell_type": "code",
   "execution_count": 14,
   "metadata": {},
   "outputs": [],
   "source": [
    "# Define Model\n",
    "\n",
    "lrelu = lambda x: LeakyReLU(alpha=0.1)(x)\n",
    "\n",
    "model_2 = Sequential()\n",
    "\n",
    "model_2.add(Conv3D(16,(3,3,3),  padding='same', input_shape= (15,100,100,3) ))\n",
    "model_2.add(BatchNormalization())\n",
    "model_2.add(Activation(lrelu))\n",
    "model_2.add(Conv3D(16,(3,3,3),padding='same'))\n",
    "model_2.add(BatchNormalization())\n",
    "model_2.add(Activation(lrelu))\n",
    "model_2.add(Dropout(0.5))\n",
    "model_2.add(MaxPooling3D(pool_size= (2,2,2)))\n",
    "\n",
    "model_2.add(Conv3D(32,(3,3,3),padding='same'))\n",
    "model_2.add(BatchNormalization())\n",
    "model_2.add(Activation(lrelu))\n",
    "model_2.add(Conv3D(32,(3,3,3),padding='same'))\n",
    "model_2.add(BatchNormalization())\n",
    "model_2.add(Activation(lrelu))\n",
    "model_2.add(Dropout(0.5))\n",
    "model_2.add(MaxPooling3D(pool_size= (2,2,2)))\n",
    "\n",
    "model_2.add(Conv3D(64,(3,3,3),padding='same'))\n",
    "model_2.add(BatchNormalization())\n",
    "model_2.add(Activation(lrelu))\n",
    "model_2.add(Conv3D(64,(3,3,3),padding='same'))\n",
    "model_2.add(BatchNormalization())\n",
    "model_2.add(Activation(lrelu))\n",
    "model_2.add(Dropout(0.5))\n",
    "model_2.add(MaxPooling3D(pool_size= (2,2,2)))\n",
    "\n",
    "model_2.add(Flatten())\n",
    "\n",
    "model_2.add(Dense(64))\n",
    "model_2.add(BatchNormalization())\n",
    "model_2.add(Activation('elu'))\n",
    "model_2.add(Dropout(0.25))\n",
    "\n",
    "model_2.add(Dense(32))\n",
    "model_2.add(BatchNormalization())\n",
    "model_2.add(Activation('elu'))\n",
    "model_2.add(Dropout(0.25))\n",
    "\n",
    "model_2.add(Dense(5, activation='softmax'))"
   ]
  },
  {
   "cell_type": "code",
   "execution_count": null,
   "metadata": {},
   "outputs": [],
   "source": [
    "optimiser = Adam(learning_rate=0.001) \n",
    "model_2.compile(optimizer=optimiser, loss='categorical_crossentropy', metrics=['categorical_accuracy'])\n",
    "print (model_2.summary())"
   ]
  },
  {
   "cell_type": "code",
   "execution_count": null,
   "metadata": {},
   "outputs": [],
   "source": [
    "train_generator = generator(train_path, train_doc, batch_size)\n",
    "val_generator = generator(val_path, val_doc, batch_size)\n",
    "\n",
    "model_name = 'Gesture_recog' + '_' + str(curr_dt_time).replace(' ','').replace(':','_') + '/'\n",
    "    \n",
    "if not os.path.exists(model_name):\n",
    "    os.mkdir(model_name)\n",
    "        \n",
    "filepath = model_name + 'model-{epoch:05d}-{loss:.5f}-{categorical_accuracy:.5f}-{val_loss:.5f}-{val_categorical_accuracy:.5f}.h5'\n",
    "\n",
    "checkpoint = ModelCheckpoint(filepath, monitor='val_loss', verbose=1, save_best_only=False, save_weights_only=False, mode='auto', period=1)\n",
    "\n",
    "LR = ReduceLROnPlateau(monitor = \"val_loss\", factor = 0.1, patience = 10,\n",
    "  verbose = 1, mode = \"auto\", epsilon = 1e-04, cooldown = 0,\n",
    "  min_lr = 0)\n",
    "callbacks_list = [checkpoint, LR]\n",
    "\n",
    "if (num_train_sequences%batch_size) == 0:\n",
    "    steps_per_epoch = int(num_train_sequences/batch_size)\n",
    "else:\n",
    "    steps_per_epoch = (num_train_sequences//batch_size) + 1\n",
    "\n",
    "if (num_val_sequences%batch_size) == 0:\n",
    "    validation_steps = int(num_val_sequences/batch_size)\n",
    "else:\n",
    "    validation_steps = (num_val_sequences//batch_size) + 1\n",
    "    \n",
    "history = model_2.fit(train_generator, steps_per_epoch=steps_per_epoch, epochs=num_epochs, verbose=1, \n",
    "                    callbacks=callbacks_list, validation_data=val_generator, \n",
    "                    validation_steps=validation_steps, class_weight=None, workers=1, initial_epoch=0)"
   ]
  },
  {
   "cell_type": "code",
   "execution_count": null,
   "metadata": {},
   "outputs": [],
   "source": [
    "loss(history)"
   ]
  },
  {
   "cell_type": "markdown",
   "metadata": {},
   "source": [
    "### Model 3"
   ]
  },
  {
   "cell_type": "code",
   "execution_count": 40,
   "metadata": {},
   "outputs": [],
   "source": [
    "# Define Model\n",
    "\n",
    "model_3 = Sequential()\n",
    "\n",
    "model_3.add(Conv3D(16,(5,5,5),   padding='same', input_shape= (15,100,100,3) ))\n",
    "model_3.add(BatchNormalization())\n",
    "model_3.add(Activation('relu'))\n",
    "model_3.add(MaxPooling3D(pool_size= (2,2,2)))\n",
    "\n",
    "model_3.add(Conv3D(64,(3,3,3),padding='same'))\n",
    "model_3.add(BatchNormalization())\n",
    "model_3.add(Activation('relu'))\n",
    "model_3.add(MaxPooling3D(pool_size= (2,2,2)))\n",
    "\n",
    "# model_3.add(Conv3D(32,(1,3,3), padding='same'))\n",
    "# model_3.add(BatchNormalization())\n",
    "# model_3.add(Activation('relu'))\n",
    "# model_3.add(MaxPooling3D(pool_size= (2,2,2)))\n",
    "\n",
    "# model_3.add(Conv3D(64,(1,3,3), padding='same'))\n",
    "# model_3.add(BatchNormalization())\n",
    "# model_3.add(Activation('relu'))\n",
    "# model_3.add(MaxPooling3D(pool_size= (2,2,2)))\n",
    "\n",
    "model_3.add(Flatten())\n",
    "\n",
    "model_3.add(Dense(512, activation='relu'))\n",
    "model_3.add(Dropout(0.5))\n",
    "\n",
    "model_3.add(Dense(128, activation='relu'))\n",
    "model_3.add(Dropout(0.5))\n",
    "\n",
    "model_3.add(Dense(5, activation='softmax'))"
   ]
  },
  {
   "cell_type": "code",
   "execution_count": 36,
   "metadata": {},
   "outputs": [
    {
     "name": "stdout",
     "output_type": "stream",
     "text": [
      "Model: \"sequential\"\n",
      "_________________________________________________________________\n",
      " Layer (type)                Output Shape              Param #   \n",
      "=================================================================\n",
      " conv3d (Conv3D)             (None, 15, 100, 100, 8)   656       \n",
      "                                                                 \n",
      " batch_normalization (BatchN  (None, 15, 100, 100, 8)  32        \n",
      " ormalization)                                                   \n",
      "                                                                 \n",
      " activation (Activation)     (None, 15, 100, 100, 8)   0         \n",
      "                                                                 \n",
      " max_pooling3d (MaxPooling3D  (None, 7, 50, 50, 8)     0         \n",
      " )                                                               \n",
      "                                                                 \n",
      " conv3d_1 (Conv3D)           (None, 7, 50, 50, 16)     3472      \n",
      "                                                                 \n",
      " batch_normalization_1 (Batc  (None, 7, 50, 50, 16)    64        \n",
      " hNormalization)                                                 \n",
      "                                                                 \n",
      " activation_1 (Activation)   (None, 7, 50, 50, 16)     0         \n",
      "                                                                 \n",
      " max_pooling3d_1 (MaxPooling  (None, 3, 25, 25, 16)    0         \n",
      " 3D)                                                             \n",
      "                                                                 \n",
      " flatten (Flatten)           (None, 30000)             0         \n",
      "                                                                 \n",
      " dense (Dense)               (None, 1000)              30001000  \n",
      "                                                                 \n",
      " dropout (Dropout)           (None, 1000)              0         \n",
      "                                                                 \n",
      " dense_1 (Dense)             (None, 500)               500500    \n",
      "                                                                 \n",
      " dropout_1 (Dropout)         (None, 500)               0         \n",
      "                                                                 \n",
      " dense_2 (Dense)             (None, 5)                 2505      \n",
      "                                                                 \n",
      "=================================================================\n",
      "Total params: 30,508,229\n",
      "Trainable params: 30,508,181\n",
      "Non-trainable params: 48\n",
      "_________________________________________________________________\n",
      "None\n"
     ]
    }
   ],
   "source": [
    "optimiser = Adam(learning_rate=0.001) \n",
    "model_3.compile(optimizer=optimiser, loss='categorical_crossentropy', metrics=['categorical_accuracy'])\n",
    "print (model_3.summary())"
   ]
  },
  {
   "cell_type": "code",
   "execution_count": 37,
   "metadata": {},
   "outputs": [],
   "source": [
    "num_epochs=20"
   ]
  },
  {
   "cell_type": "code",
   "execution_count": 38,
   "metadata": {},
   "outputs": [
    {
     "name": "stdout",
     "output_type": "stream",
     "text": [
      "WARNING:tensorflow:`period` argument is deprecated. Please use `save_freq` to specify the frequency in number of batches seen.\n",
      "WARNING:tensorflow:`epsilon` argument is deprecated and will be removed, use `min_delta` instead.\n",
      "Source path =  Project_data/train ; batch size = 64\n",
      "Epoch 1/20\n",
      "11/11 [==============================] - ETA: 0s - loss: 25.1877 - categorical_accuracy: 0.2564Source path =  Project_data/val ; batch size = 64\n",
      "\n",
      "Epoch 1: saving model to Gesture_recog_2022-04-1001_07_14.869243\\model-00001-25.18767-0.25641-203.17563-0.15000.h5\n",
      "11/11 [==============================] - 109s 10s/step - loss: 25.1877 - categorical_accuracy: 0.2564 - val_loss: 203.1756 - val_categorical_accuracy: 0.1500 - lr: 0.0010\n",
      "Epoch 2/20\n",
      "11/11 [==============================] - ETA: 0s - loss: 12.1873 - categorical_accuracy: 0.2790\n",
      "Epoch 2: saving model to Gesture_recog_2022-04-1001_07_14.869243\\model-00002-12.18729-0.27903-130.19879-0.11000.h5\n",
      "11/11 [==============================] - 98s 9s/step - loss: 12.1873 - categorical_accuracy: 0.2790 - val_loss: 130.1988 - val_categorical_accuracy: 0.1100 - lr: 0.0010\n",
      "Epoch 3/20\n",
      "11/11 [==============================] - ETA: 0s - loss: 5.1091 - categorical_accuracy: 0.3183\n",
      "Epoch 3: saving model to Gesture_recog_2022-04-1001_07_14.869243\\model-00003-5.10908-0.31825-52.08262-0.17000.h5\n",
      "11/11 [==============================] - 100s 9s/step - loss: 5.1091 - categorical_accuracy: 0.3183 - val_loss: 52.0826 - val_categorical_accuracy: 0.1700 - lr: 0.0010\n",
      "Epoch 4/20\n",
      "11/11 [==============================] - ETA: 0s - loss: 2.3739 - categorical_accuracy: 0.4042\n",
      "Epoch 4: saving model to Gesture_recog_2022-04-1001_07_14.869243\\model-00004-2.37386-0.40422-33.34227-0.17000.h5\n",
      "11/11 [==============================] - 99s 9s/step - loss: 2.3739 - categorical_accuracy: 0.4042 - val_loss: 33.3423 - val_categorical_accuracy: 0.1700 - lr: 0.0010\n",
      "Epoch 5/20\n",
      "11/11 [==============================] - ETA: 0s - loss: 1.6217 - categorical_accuracy: 0.4223\n",
      "Epoch 5: saving model to Gesture_recog_2022-04-1001_07_14.869243\\model-00005-1.62174-0.42232-23.04569-0.18000.h5\n",
      "11/11 [==============================] - 102s 10s/step - loss: 1.6217 - categorical_accuracy: 0.4223 - val_loss: 23.0457 - val_categorical_accuracy: 0.1800 - lr: 0.0010\n",
      "Epoch 6/20\n",
      "11/11 [==============================] - ETA: 0s - loss: 1.3954 - categorical_accuracy: 0.4238\n",
      "Epoch 6: saving model to Gesture_recog_2022-04-1001_07_14.869243\\model-00006-1.39540-0.42383-16.26675-0.17000.h5\n",
      "11/11 [==============================] - 95s 9s/step - loss: 1.3954 - categorical_accuracy: 0.4238 - val_loss: 16.2668 - val_categorical_accuracy: 0.1700 - lr: 0.0010\n",
      "Epoch 7/20\n",
      "11/11 [==============================] - ETA: 0s - loss: 1.2928 - categorical_accuracy: 0.4615\n",
      "Epoch 7: saving model to Gesture_recog_2022-04-1001_07_14.869243\\model-00007-1.29280-0.46154-17.35055-0.19000.h5\n",
      "11/11 [==============================] - 103s 10s/step - loss: 1.2928 - categorical_accuracy: 0.4615 - val_loss: 17.3506 - val_categorical_accuracy: 0.1900 - lr: 0.0010\n",
      "Epoch 8/20\n",
      "11/11 [==============================] - ETA: 0s - loss: 1.2972 - categorical_accuracy: 0.4691\n",
      "Epoch 8: saving model to Gesture_recog_2022-04-1001_07_14.869243\\model-00008-1.29718-0.46908-20.08143-0.17000.h5\n",
      "11/11 [==============================] - 100s 9s/step - loss: 1.2972 - categorical_accuracy: 0.4691 - val_loss: 20.0814 - val_categorical_accuracy: 0.1700 - lr: 0.0010\n",
      "Epoch 9/20\n",
      "11/11 [==============================] - ETA: 0s - loss: 1.1779 - categorical_accuracy: 0.5279\n",
      "Epoch 9: saving model to Gesture_recog_2022-04-1001_07_14.869243\\model-00009-1.17786-0.52790-17.15173-0.18000.h5\n",
      "11/11 [==============================] - 96s 9s/step - loss: 1.1779 - categorical_accuracy: 0.5279 - val_loss: 17.1517 - val_categorical_accuracy: 0.1800 - lr: 0.0010\n",
      "Epoch 10/20\n",
      "11/11 [==============================] - ETA: 0s - loss: 1.1699 - categorical_accuracy: 0.5324\n",
      "Epoch 10: saving model to Gesture_recog_2022-04-1001_07_14.869243\\model-00010-1.16994-0.53243-15.47167-0.19000.h5\n",
      "11/11 [==============================] - 103s 10s/step - loss: 1.1699 - categorical_accuracy: 0.5324 - val_loss: 15.4717 - val_categorical_accuracy: 0.1900 - lr: 0.0010\n",
      "Epoch 11/20\n",
      "11/11 [==============================] - ETA: 0s - loss: 1.0829 - categorical_accuracy: 0.5551\n",
      "Epoch 11: saving model to Gesture_recog_2022-04-1001_07_14.869243\\model-00011-1.08286-0.55505-13.75892-0.17000.h5\n",
      "11/11 [==============================] - 95s 9s/step - loss: 1.0829 - categorical_accuracy: 0.5551 - val_loss: 13.7589 - val_categorical_accuracy: 0.1700 - lr: 0.0010\n",
      "Epoch 12/20\n",
      "11/11 [==============================] - ETA: 0s - loss: 1.0734 - categorical_accuracy: 0.5611\n",
      "Epoch 12: saving model to Gesture_recog_2022-04-1001_07_14.869243\\model-00012-1.07342-0.56109-11.62323-0.23000.h5\n",
      "11/11 [==============================] - 103s 10s/step - loss: 1.0734 - categorical_accuracy: 0.5611 - val_loss: 11.6232 - val_categorical_accuracy: 0.2300 - lr: 0.0010\n",
      "Epoch 13/20\n",
      "11/11 [==============================] - ETA: 0s - loss: 1.0375 - categorical_accuracy: 0.5716\n",
      "Epoch 13: saving model to Gesture_recog_2022-04-1001_07_14.869243\\model-00013-1.03755-0.57164-14.76829-0.18000.h5\n",
      "11/11 [==============================] - 107s 10s/step - loss: 1.0375 - categorical_accuracy: 0.5716 - val_loss: 14.7683 - val_categorical_accuracy: 0.1800 - lr: 0.0010\n",
      "Epoch 14/20\n",
      "11/11 [==============================] - ETA: 0s - loss: 1.0136 - categorical_accuracy: 0.5958\n",
      "Epoch 14: saving model to Gesture_recog_2022-04-1001_07_14.869243\\model-00014-1.01362-0.59578-11.44754-0.18000.h5\n",
      "11/11 [==============================] - 100s 9s/step - loss: 1.0136 - categorical_accuracy: 0.5958 - val_loss: 11.4475 - val_categorical_accuracy: 0.1800 - lr: 0.0010\n",
      "Epoch 15/20\n",
      "11/11 [==============================] - ETA: 0s - loss: 0.9345 - categorical_accuracy: 0.6244\n",
      "Epoch 15: saving model to Gesture_recog_2022-04-1001_07_14.869243\\model-00015-0.93452-0.62443-11.15054-0.22000.h5\n",
      "11/11 [==============================] - 103s 10s/step - loss: 0.9345 - categorical_accuracy: 0.6244 - val_loss: 11.1505 - val_categorical_accuracy: 0.2200 - lr: 0.0010\n",
      "Epoch 16/20\n",
      "11/11 [==============================] - ETA: 0s - loss: 0.9152 - categorical_accuracy: 0.6290\n",
      "Epoch 16: saving model to Gesture_recog_2022-04-1001_07_14.869243\\model-00016-0.91522-0.62896-12.77204-0.26000.h5\n",
      "11/11 [==============================] - 103s 10s/step - loss: 0.9152 - categorical_accuracy: 0.6290 - val_loss: 12.7720 - val_categorical_accuracy: 0.2600 - lr: 0.0010\n",
      "Epoch 17/20\n",
      "11/11 [==============================] - ETA: 0s - loss: 0.8149 - categorical_accuracy: 0.6576\n",
      "Epoch 17: saving model to Gesture_recog_2022-04-1001_07_14.869243\\model-00017-0.81488-0.65762-11.14916-0.24000.h5\n",
      "11/11 [==============================] - 105s 10s/step - loss: 0.8149 - categorical_accuracy: 0.6576 - val_loss: 11.1492 - val_categorical_accuracy: 0.2400 - lr: 0.0010\n",
      "Epoch 18/20\n",
      "11/11 [==============================] - ETA: 0s - loss: 0.7964 - categorical_accuracy: 0.6697\n",
      "Epoch 18: saving model to Gesture_recog_2022-04-1001_07_14.869243\\model-00018-0.79642-0.66968-11.96618-0.21000.h5\n",
      "11/11 [==============================] - 97s 9s/step - loss: 0.7964 - categorical_accuracy: 0.6697 - val_loss: 11.9662 - val_categorical_accuracy: 0.2100 - lr: 0.0010\n",
      "Epoch 19/20\n",
      "11/11 [==============================] - ETA: 0s - loss: 0.7719 - categorical_accuracy: 0.7044\n",
      "Epoch 19: saving model to Gesture_recog_2022-04-1001_07_14.869243\\model-00019-0.77192-0.70437-11.16382-0.24000.h5\n",
      "11/11 [==============================] - 106s 10s/step - loss: 0.7719 - categorical_accuracy: 0.7044 - val_loss: 11.1638 - val_categorical_accuracy: 0.2400 - lr: 0.0010\n",
      "Epoch 20/20\n",
      "11/11 [==============================] - ETA: 0s - loss: 0.6823 - categorical_accuracy: 0.7466\n",
      "Epoch 20: saving model to Gesture_recog_2022-04-1001_07_14.869243\\model-00020-0.68231-0.74661-11.51812-0.24000.h5\n",
      "11/11 [==============================] - 104s 10s/step - loss: 0.6823 - categorical_accuracy: 0.7466 - val_loss: 11.5181 - val_categorical_accuracy: 0.2400 - lr: 0.0010\n"
     ]
    }
   ],
   "source": [
    "train_generator = generator(train_path, train_doc, batch_size)\n",
    "val_generator = generator(val_path, val_doc, batch_size)\n",
    "\n",
    "model_name = 'Gesture_recog' + '_' + str(curr_dt_time).replace(' ','').replace(':','_') + '/'\n",
    "    \n",
    "if not os.path.exists(model_name):\n",
    "    os.mkdir(model_name)\n",
    "        \n",
    "filepath = model_name + 'model-{epoch:05d}-{loss:.5f}-{categorical_accuracy:.5f}-{val_loss:.5f}-{val_categorical_accuracy:.5f}.h5'\n",
    "\n",
    "checkpoint = ModelCheckpoint(filepath, monitor='val_loss', verbose=1, save_best_only=False, save_weights_only=False, mode='auto', period=1)\n",
    "\n",
    "LR = ReduceLROnPlateau(monitor = \"val_loss\", factor = 0.1, patience = 10,\n",
    "  verbose = 1, mode = \"auto\", epsilon = 1e-04, cooldown = 0,\n",
    "  min_lr = 0)\n",
    "callbacks_list = [checkpoint, LR]\n",
    "\n",
    "if (num_train_sequences%batch_size) == 0:\n",
    "    steps_per_epoch = int(num_train_sequences/batch_size)\n",
    "else:\n",
    "    steps_per_epoch = (num_train_sequences//batch_size) + 1\n",
    "\n",
    "if (num_val_sequences%batch_size) == 0:\n",
    "    validation_steps = int(num_val_sequences/batch_size)\n",
    "else:\n",
    "    validation_steps = (num_val_sequences//batch_size) + 1\n",
    "    \n",
    "history = model_3.fit(train_generator, steps_per_epoch=steps_per_epoch, epochs=num_epochs, verbose=1, \n",
    "                    callbacks=callbacks_list, validation_data=val_generator, \n",
    "                    validation_steps=validation_steps, class_weight=None, workers=1, initial_epoch=0)"
   ]
  },
  {
   "cell_type": "code",
   "execution_count": 39,
   "metadata": {},
   "outputs": [
    {
     "data": {
      "image/png": "[encoded data removed]",
      "text/plain": [
       "<Figure size 576x576 with 2 Axes>"
      ]
     },
     "metadata": {
      "needs_background": "light"
     },
     "output_type": "display_data"
    }
   ],
   "source": [
    "loss(history)"
   ]
  },
  {
   "cell_type": "code",
   "execution_count": 41,
   "metadata": {},
   "outputs": [
    {
     "name": "stdout",
     "output_type": "stream",
     "text": [
      "Model: \"sequential_1\"\n",
      "_________________________________________________________________\n",
      " Layer (type)                Output Shape              Param #   \n",
      "=================================================================\n",
      " conv3d_2 (Conv3D)           (None, 15, 100, 100, 16)  6016      \n",
      "                                                                 \n",
      " batch_normalization_2 (Batc  (None, 15, 100, 100, 16)  64       \n",
      " hNormalization)                                                 \n",
      "                                                                 \n",
      " activation_2 (Activation)   (None, 15, 100, 100, 16)  0         \n",
      "                                                                 \n",
      " max_pooling3d_2 (MaxPooling  (None, 7, 50, 50, 16)    0         \n",
      " 3D)                                                             \n",
      "                                                                 \n",
      " conv3d_3 (Conv3D)           (None, 7, 50, 50, 64)     27712     \n",
      "                                                                 \n",
      " batch_normalization_3 (Batc  (None, 7, 50, 50, 64)    256       \n",
      " hNormalization)                                                 \n",
      "                                                                 \n",
      " activation_3 (Activation)   (None, 7, 50, 50, 64)     0         \n",
      "                                                                 \n",
      " max_pooling3d_3 (MaxPooling  (None, 3, 25, 25, 64)    0         \n",
      " 3D)                                                             \n",
      "                                                                 \n",
      " flatten_1 (Flatten)         (None, 120000)            0         \n",
      "                                                                 \n",
      " dense_3 (Dense)             (None, 512)               61440512  \n",
      "                                                                 \n",
      " dropout_2 (Dropout)         (None, 512)               0         \n",
      "                                                                 \n",
      " dense_4 (Dense)             (None, 128)               65664     \n",
      "                                                                 \n",
      " dropout_3 (Dropout)         (None, 128)               0         \n",
      "                                                                 \n",
      " dense_5 (Dense)             (None, 5)                 645       \n",
      "                                                                 \n",
      "=================================================================\n",
      "Total params: 61,540,869\n",
      "Trainable params: 61,540,709\n",
      "Non-trainable params: 160\n",
      "_________________________________________________________________\n",
      "None\n"
     ]
    }
   ],
   "source": [
    "optimiser = Adam(learning_rate=0.001) \n",
    "model_3.compile(optimizer=optimiser, loss='categorical_crossentropy', metrics=['categorical_accuracy'])\n",
    "print (model_3.summary())"
   ]
  },
  {
   "cell_type": "code",
   "execution_count": null,
   "metadata": {},
   "outputs": [
    {
     "name": "stdout",
     "output_type": "stream",
     "text": [
      "WARNING:tensorflow:`period` argument is deprecated. Please use `save_freq` to specify the frequency in number of batches seen.\n",
      "WARNING:tensorflow:`epsilon` argument is deprecated and will be removed, use `min_delta` instead.\n",
      "Source path =  Project_data/train ; batch size = 64\n",
      "Epoch 1/20\n",
      " 1/11 [=>............................] - ETA: 3:17 - loss: 35.1852 - categorical_accuracy: 0.2656"
     ]
    }
   ],
   "source": [
    "train_generator = generator(train_path, train_doc, batch_size)\n",
    "val_generator = generator(val_path, val_doc, batch_size)\n",
    "\n",
    "model_name = 'Gesture_recog' + '_' + str(curr_dt_time).replace(' ','').replace(':','_') + '/'\n",
    "    \n",
    "if not os.path.exists(model_name):\n",
    "    os.mkdir(model_name)\n",
    "        \n",
    "filepath = model_name + 'model-{epoch:05d}-{loss:.5f}-{categorical_accuracy:.5f}-{val_loss:.5f}-{val_categorical_accuracy:.5f}.h5'\n",
    "\n",
    "checkpoint = ModelCheckpoint(filepath, monitor='val_loss', verbose=1, save_best_only=False, save_weights_only=False, mode='auto', period=1)\n",
    "\n",
    "LR = ReduceLROnPlateau(monitor = \"val_loss\", factor = 0.1, patience = 10,\n",
    "  verbose = 1, mode = \"auto\", epsilon = 1e-04, cooldown = 0,\n",
    "  min_lr = 0)\n",
    "callbacks_list = [checkpoint, LR]\n",
    "\n",
    "if (num_train_sequences%batch_size) == 0:\n",
    "    steps_per_epoch = int(num_train_sequences/batch_size)\n",
    "else:\n",
    "    steps_per_epoch = (num_train_sequences//batch_size) + 1\n",
    "\n",
    "if (num_val_sequences%batch_size) == 0:\n",
    "    validation_steps = int(num_val_sequences/batch_size)\n",
    "else:\n",
    "    validation_steps = (num_val_sequences//batch_size) + 1\n",
    "    \n",
    "history = model_3.fit(train_generator, steps_per_epoch=steps_per_epoch, epochs=num_epochs, verbose=1, \n",
    "                    callbacks=callbacks_list, validation_data=val_generator, \n",
    "                    validation_steps=validation_steps, class_weight=None, workers=1, initial_epoch=0)"
   ]
  },
  {
   "cell_type": "code",
   "execution_count": null,
   "metadata": {},
   "outputs": [],
   "source": [
    "loss(history)"
   ]
  },
  {
   "cell_type": "markdown",
   "metadata": {},
   "source": [
    "### Model 4"
   ]
  },
  {
   "cell_type": "code",
   "execution_count": null,
   "metadata": {},
   "outputs": [],
   "source": [
    "# Define Model\n",
    "\n",
    "model_4 = Sequential()\n",
    "\n",
    "model_4.add(Conv3D(8,(3,3,3),   padding='same', input_shape= (15,100,100,3) ))\n",
    "model_4.add(BatchNormalization())\n",
    "model_4.add(Activation('relu'))\n",
    "model_4.add(Dropout(0.5))\n",
    "\n",
    "model_4.add(Conv3D(16,(3,3,3),padding='same', activation='relu'))\n",
    "model_4.add(BatchNormalization())\n",
    "model_4.add(Activation('relu'))\n",
    "model_4.add(Dropout(0.5))\n",
    "\n",
    "model_4.add(MaxPooling3D(pool_size= (2,2,2)))\n",
    "\n",
    "model_4.add(Conv3D(16,(3,3,3),padding='same'))\n",
    "model_4.add(BatchNormalization())\n",
    "model_4.add(Activation('relu'))\n",
    "model_4.add(Dropout(0.5))\n",
    "\n",
    "model_4.add(Conv3D(32,(3,3,3),padding='same'))\n",
    "model_4.add(BatchNormalization())\n",
    "model_4.add(Activation('relu'))\n",
    "model_4.add(Dropout(0.5))\n",
    "\n",
    "model_4.add(MaxPooling3D(pool_size= (2,2,2)))\n",
    "\n",
    "model_4.add(Conv3D(32,(1,3,3), padding='same'))\n",
    "model_4.add(BatchNormalization())\n",
    "model_4.add(Activation('relu'))\n",
    "model_4.add(Dropout(0.5))\n",
    "model_4.add(Conv3D(64,(3,3,3),padding='same'))\n",
    "model_4.add(BatchNormalization())\n",
    "model_4.add(Activation('relu'))\n",
    "model_4.add(Dropout(0.5))\n",
    "\n",
    "model_4.add(MaxPooling3D(pool_size= (2,2,2)))\n",
    "\n",
    "model_4.add(Conv3D(64,(1,3,3), padding='same'))\n",
    "model_4.add(BatchNormalization())\n",
    "model_4.add(Activation('relu'))\n",
    "model_4.add(Dropout(0.5))\n",
    "\n",
    "model_4.add(Conv3D(128,(3,3,3),padding='same'))\n",
    "model_4.add(BatchNormalization())\n",
    "model_4.add(Activation('relu'))\n",
    "model_4.add(Dropout(0.5))\n",
    "\n",
    "model_4.add(MaxPooling3D(pool_size= (2,2,2)))\n",
    "\n",
    "model_4.add(Flatten())\n",
    "\n",
    "model_4.add(Dense(1000))\n",
    "model_4.add(BatchNormalization())\n",
    "model_4.add(Activation('relu'))\n",
    "model_4.add(Dropout(0.25))\n",
    "\n",
    "model_4.add(Dense(500))\n",
    "model_4.add(BatchNormalization())\n",
    "model_4.add(Activation('relu'))\n",
    "model_4.add(Dropout(0.25))\n",
    "\n",
    "model_4.add(Dense(5, activation='softmax'))"
   ]
  },
  {
   "cell_type": "code",
   "execution_count": null,
   "metadata": {},
   "outputs": [],
   "source": [
    "optimiser = Adam(learning_rate=0.001) \n",
    "model_4.compile(optimizer=optimiser, loss='categorical_crossentropy', metrics=['categorical_accuracy'])\n",
    "print (model_4.summary())"
   ]
  },
  {
   "cell_type": "code",
   "execution_count": null,
   "metadata": {},
   "outputs": [],
   "source": [
    "train_generator = generator(train_path, train_doc, batch_size)\n",
    "val_generator = generator(val_path, val_doc, batch_size)\n",
    "\n",
    "model_name = 'Gesture_recog' + '_' + str(curr_dt_time).replace(' ','').replace(':','_') + '/'\n",
    "    \n",
    "if not os.path.exists(model_name):\n",
    "    os.mkdir(model_name)\n",
    "        \n",
    "filepath = model_name + 'model-{epoch:05d}-{loss:.5f}-{categorical_accuracy:.5f}-{val_loss:.5f}-{val_categorical_accuracy:.5f}.h5'\n",
    "\n",
    "checkpoint = ModelCheckpoint(filepath, monitor='val_loss', verbose=1, save_best_only=False, save_weights_only=False, mode='auto', period=1)\n",
    "\n",
    "LR = ReduceLROnPlateau(monitor = \"val_loss\", factor = 0.1, patience = 10,\n",
    "  verbose = 1, mode = \"auto\", epsilon = 1e-04, cooldown = 0,\n",
    "  min_lr = 0)\n",
    "callbacks_list = [checkpoint, LR]\n",
    "\n",
    "if (num_train_sequences%batch_size) == 0:\n",
    "    steps_per_epoch = int(num_train_sequences/batch_size)\n",
    "else:\n",
    "    steps_per_epoch = (num_train_sequences//batch_size) + 1\n",
    "\n",
    "if (num_val_sequences%batch_size) == 0:\n",
    "    validation_steps = int(num_val_sequences/batch_size)\n",
    "else:\n",
    "    validation_steps = (num_val_sequences//batch_size) + 1\n",
    "    \n",
    "history = model_4.fit(train_generator, steps_per_epoch=steps_per_epoch, epochs=num_epochs, verbose=1, \n",
    "                    callbacks=callbacks_list, validation_data=val_generator, \n",
    "                    validation_steps=validation_steps, class_weight=None, workers=1, initial_epoch=0)"
   ]
  },
  {
   "cell_type": "code",
   "execution_count": null,
   "metadata": {},
   "outputs": [],
   "source": [
    "loss(history)"
   ]
  },
  {
   "cell_type": "markdown",
   "metadata": {},
   "source": [
    "### Model 5"
   ]
  },
  {
   "cell_type": "code",
   "execution_count": null,
   "metadata": {},
   "outputs": [],
   "source": [
    "# Define Model\n",
    "\n",
    "model_5 = Sequential()\n",
    "\n",
    "model_5.add(Conv3D(8,(3,3,3),   padding='same', input_shape= (15,100,100,3) ))\n",
    "model_5.add(BatchNormalization())\n",
    "model_5.add(Activation('relu'))\n",
    "model_5.add(Dropout(0.5))\n",
    "\n",
    "model_5.add(Conv3D(16,(3,3,3),padding='same', activation='relu'))\n",
    "model_5.add(BatchNormalization())\n",
    "model_5.add(Activation('relu'))\n",
    "model_5.add(Dropout(0.5))\n",
    "\n",
    "model_5.add(MaxPooling3D(pool_size= (2,2,2)))\n",
    "\n",
    "model_5.add(Conv3D(16,(3,3,3),padding='same'))\n",
    "model_5.add(BatchNormalization())\n",
    "model_5.add(Activation('relu'))\n",
    "model_5.add(Dropout(0.5))\n",
    "\n",
    "model_5.add(Conv3D(32,(3,3,3),padding='same'))\n",
    "model_5.add(BatchNormalization())\n",
    "model_5.add(Activation('relu'))\n",
    "model_5.add(Dropout(0.5))\n",
    "\n",
    "model_5.add(MaxPooling3D(pool_size= (2,2,2)))\n",
    "\n",
    "model_5.add(Conv3D(32,(3,3,3), padding='same'))\n",
    "model_5.add(BatchNormalization())\n",
    "model_5.add(Activation('relu'))\n",
    "model_5.add(Dropout(0.5))\n",
    "model_5.add(Conv3D(64,(3,3,3),padding='same'))\n",
    "model_5.add(BatchNormalization())\n",
    "model_5.add(Activation('relu'))\n",
    "model_5.add(Dropout(0.5))\n",
    "\n",
    "model_5.add(MaxPooling3D(pool_size= (2,2,2)))\n",
    "\n",
    "model_5.add(Conv3D(64,(3,3,3), padding='same'))\n",
    "model_5.add(BatchNormalization())\n",
    "model_5.add(Activation('relu'))\n",
    "model_5.add(Dropout(0.5))\n",
    "\n",
    "model_5.add(Conv3D(128,(3,3,3),padding='same'))\n",
    "model_5.add(BatchNormalization())\n",
    "model_5.add(Activation('relu'))\n",
    "model_5.add(Dropout(0.5))\n",
    "\n",
    "model_5.add(MaxPooling3D(pool_size= (2,2,2)))\n",
    "\n",
    "model_5.add(Flatten())\n",
    "\n",
    "model_5.add(Dense(1000))\n",
    "model_5.add(BatchNormalization())\n",
    "model_5.add(Activation('relu'))\n",
    "model_5.add(Dropout(0.25))\n",
    "\n",
    "model_5.add(Dense(500))\n",
    "model_5.add(BatchNormalization())\n",
    "model_5.add(Activation('relu'))\n",
    "model_3.add(Dropout(0.25))\n",
    "\n",
    "model_5.add(Dense(5, activation='softmax'))"
   ]
  },
  {
   "cell_type": "code",
   "execution_count": null,
   "metadata": {},
   "outputs": [],
   "source": [
    "optimiser = Adam(learning_rate=0.001) \n",
    "model_5.compile(optimizer=optimiser, loss='categorical_crossentropy', metrics=['categorical_accuracy'])\n",
    "print (model_5.summary())"
   ]
  },
  {
   "cell_type": "code",
   "execution_count": null,
   "metadata": {},
   "outputs": [],
   "source": [
    "train_generator = generator(train_path, train_doc, batch_size)\n",
    "val_generator = generator(val_path, val_doc, batch_size)\n",
    "\n",
    "model_name = 'Gesture_recog' + '_' + str(curr_dt_time).replace(' ','').replace(':','_') + '/'\n",
    "    \n",
    "if not os.path.exists(model_name):\n",
    "    os.mkdir(model_name)\n",
    "        \n",
    "filepath = model_name + 'model-{epoch:05d}-{loss:.5f}-{categorical_accuracy:.5f}-{val_loss:.5f}-{val_categorical_accuracy:.5f}.h5'\n",
    "\n",
    "checkpoint = ModelCheckpoint(filepath, monitor='val_loss', verbose=1, save_best_only=False, save_weights_only=False, mode='auto', period=1)\n",
    "\n",
    "LR = ReduceLROnPlateau(monitor = \"val_loss\", factor = 0.1, patience = 10,\n",
    "  verbose = 1, mode = \"auto\", epsilon = 1e-04, cooldown = 0,\n",
    "  min_lr = 0)\n",
    "callbacks_list = [checkpoint, LR]\n",
    "\n",
    "if (num_train_sequences%batch_size) == 0:\n",
    "    steps_per_epoch = int(num_train_sequences/batch_size)\n",
    "else:\n",
    "    steps_per_epoch = (num_train_sequences//batch_size) + 1\n",
    "\n",
    "if (num_val_sequences%batch_size) == 0:\n",
    "    validation_steps = int(num_val_sequences/batch_size)\n",
    "else:\n",
    "    validation_steps = (num_val_sequences//batch_size) + 1\n",
    "    \n",
    "history = model_5.fit(train_generator, steps_per_epoch=steps_per_epoch, epochs=num_epochs, verbose=1, \n",
    "                    callbacks=callbacks_list, validation_data=val_generator, \n",
    "                    validation_steps=validation_steps, class_weight=None, workers=1, initial_epoch=0)"
   ]
  },
  {
   "cell_type": "code",
   "execution_count": null,
   "metadata": {},
   "outputs": [],
   "source": [
    "loss(history)"
   ]
  },
  {
   "cell_type": "markdown",
   "metadata": {
    "id": "bfF-4RgUVs8T"
   },
   "source": [
    "### Model 6"
   ]
  },
  {
   "cell_type": "code",
   "execution_count": null,
   "metadata": {
    "id": "iPr6r4QqVtAF"
   },
   "outputs": [],
   "source": [
    "# Define Model\n",
    "\n",
    "model_6 = Sequential()\n",
    "\n",
    "model_6.add(Conv3D(32,(2,2,2), activation='elu', input_shape=(15,100,100,3), padding = \"same\" ))\n",
    "model_6.add(Conv3D(32,(2,2,2),  activation='elu'))\n",
    "model_6.add(Dropout(0.5))\n",
    "model_6.add(BatchNormalization())\n",
    "model_6.add(MaxPooling3D(pool_size= (2,2,2)))\n",
    "\n",
    "model_6.add(Conv3D(64,(2,2,2), activation='elu', padding = \"same\" ))\n",
    "model_6.add(Conv3D(64,(2,2,2),  activation='elu'))\n",
    "model_6.add(Dropout(0.5))\n",
    "model_6.add(BatchNormalization())\n",
    "model_6.add(MaxPooling3D(pool_size= (2,2,2)))\n",
    "\n",
    "model_6.add(Conv3D(128,(2,2,2), activation='elu', padding = \"same\" ))\n",
    "model_6.add(Conv3D(128,(2,2,2),  activation='elu'))\n",
    "model_6.add(Dropout(0.5))\n",
    "model_6.add(BatchNormalization())\n",
    "model_6.add(MaxPooling3D(pool_size= (2,2,2)))\n",
    "\n",
    "model_6.add(Flatten())\n",
    "\n",
    "model_6.add(Dense(128, activation='elu'))\n",
    "model_6.add(Dense(64, activation='elu'))\n",
    "model_6.add(Dense(5, activation='softmax'))"
   ]
  },
  {
   "cell_type": "code",
   "execution_count": null,
   "metadata": {},
   "outputs": [],
   "source": [
    "optimiser = Adam(learning_rate=0.001) \n",
    "model_6.compile(optimizer=optimiser, loss='categorical_crossentropy', metrics=['categorical_accuracy'])\n",
    "print (model_6.summary())"
   ]
  },
  {
   "cell_type": "code",
   "execution_count": null,
   "metadata": {},
   "outputs": [],
   "source": [
    "train_generator = generator(train_path, train_doc, batch_size)\n",
    "val_generator = generator(val_path, val_doc, batch_size)\n",
    "\n",
    "model_name = 'Gesture_recog' + '_' + str(curr_dt_time).replace(' ','').replace(':','_') + '/'\n",
    "    \n",
    "if not os.path.exists(model_name):\n",
    "    os.mkdir(model_name)\n",
    "        \n",
    "filepath = model_name + 'model-{epoch:05d}-{loss:.5f}-{categorical_accuracy:.5f}-{val_loss:.5f}-{val_categorical_accuracy:.5f}.h5'\n",
    "\n",
    "checkpoint = ModelCheckpoint(filepath, monitor='val_loss', verbose=1, save_best_only=False, save_weights_only=False, mode='auto', period=1)\n",
    "\n",
    "LR = ReduceLROnPlateau(monitor = \"val_loss\", factor = 0.1, patience = 10,\n",
    "  verbose = 1, mode = \"auto\", epsilon = 1e-04, cooldown = 0,\n",
    "  min_lr = 0)\n",
    "callbacks_list = [checkpoint, LR]\n",
    "\n",
    "if (num_train_sequences%batch_size) == 0:\n",
    "    steps_per_epoch = int(num_train_sequences/batch_size)\n",
    "else:\n",
    "    steps_per_epoch = (num_train_sequences//batch_size) + 1\n",
    "\n",
    "if (num_val_sequences%batch_size) == 0:\n",
    "    validation_steps = int(num_val_sequences/batch_size)\n",
    "else:\n",
    "    validation_steps = (num_val_sequences//batch_size) + 1\n",
    "    \n",
    "history = model_6.fit(train_generator, steps_per_epoch=steps_per_epoch, epochs=num_epochs, verbose=1, \n",
    "                    callbacks=callbacks_list, validation_data=val_generator, \n",
    "                    validation_steps=validation_steps, class_weight=None, workers=1, initial_epoch=0)"
   ]
  },
  {
   "cell_type": "code",
   "execution_count": null,
   "metadata": {},
   "outputs": [],
   "source": [
    "loss(history)"
   ]
  },
  {
   "cell_type": "markdown",
   "metadata": {
    "id": "iFGKzVneVtH9"
   },
   "source": [
    "### Model 7"
   ]
  },
  {
   "cell_type": "code",
   "execution_count": null,
   "metadata": {
    "id": "K25I1QvfVtL0"
   },
   "outputs": [],
   "source": [
    "model_7 = Sequential()\n",
    "\n",
    "model_7.add(TimeDistributed(Conv2D(32, (3,3), padding = \"same\"), input_shape=(15,100,100,3)))\n",
    "model_7.add(TimeDistributed(BatchNormalization()))\n",
    "model_7.add(TimeDistributed(Activation('relu')))\n",
    "model_7.add(TimeDistributed(Dropout(0.5))\n",
    "            \n",
    "model_7.add(TimeDistributed(Conv2D(32,(3,3))))\n",
    "model_7.add(TimeDistributed(BatchNormalization()))\n",
    "model_7.add(TimeDistributed(Activation('relu')))\n",
    "model_7.add(TimeDistributed(Dropout(0.5)))\n",
    "            \n",
    "model_7.add(TimeDistributed(MaxPooling2D(pool_size= (2,2))))\n",
    "\n",
    "model_7.add(TimeDistributed(Conv2D(64, (3,3),  padding = \"same\")))\n",
    "model_7.add(TimeDistributed(BatchNormalization()))\n",
    "model_7.add(TimeDistributed(Activation('relu')))\n",
    "model_7.add(TimeDistributed(Dropout(0.5))\n",
    "            \n",
    "model_7.add(TimeDistributed(Conv2D(64,(3,3))))\n",
    "model_7.add(TimeDistributed(BatchNormalization()))\n",
    "model_7.add(TimeDistributed(Activation('relu')))\n",
    "model_7.add(TimeDistributed(Dropout(0.5))\n",
    "            \n",
    "model_7.add(TimeDistributed(MaxPooling2D(pool_size= (2,2))))\n",
    "\n",
    "model_7.add(TimeDistributed(Flatten()))\n",
    "model_7.add(LSTM(64,dropout=0.5, recurrent_dropout=0.5))\n",
    "\n",
    "model_7.add(Dense(5, activation='softmax'))"
   ]
  },
  {
   "cell_type": "code",
   "execution_count": null,
   "metadata": {},
   "outputs": [],
   "source": [
    "optimiser = Adam(learning_rate=0.001) \n",
    "model_7.compile(optimizer=optimiser, loss='categorical_crossentropy', metrics=['categorical_accuracy'])\n",
    "print (model_7.summary())"
   ]
  },
  {
   "cell_type": "code",
   "execution_count": null,
   "metadata": {},
   "outputs": [],
   "source": [
    "train_generator = generator(train_path, train_doc, batch_size)\n",
    "val_generator = generator(val_path, val_doc, batch_size)\n",
    "\n",
    "model_name = 'Gesture_recog' + '_' + str(curr_dt_time).replace(' ','').replace(':','_') + '/'\n",
    "    \n",
    "if not os.path.exists(model_name):\n",
    "    os.mkdir(model_name)\n",
    "        \n",
    "filepath = model_name + 'model-{epoch:05d}-{loss:.5f}-{categorical_accuracy:.5f}-{val_loss:.5f}-{val_categorical_accuracy:.5f}.h5'\n",
    "\n",
    "checkpoint = ModelCheckpoint(filepath, monitor='val_loss', verbose=1, save_best_only=False, save_weights_only=False, mode='auto', period=1)\n",
    "\n",
    "LR = ReduceLROnPlateau(monitor = \"val_loss\", factor = 0.1, patience = 10,\n",
    "  verbose = 1, mode = \"auto\", epsilon = 1e-04, cooldown = 0,\n",
    "  min_lr = 0)\n",
    "callbacks_list = [checkpoint, LR]\n",
    "\n",
    "if (num_train_sequences%batch_size) == 0:\n",
    "    steps_per_epoch = int(num_train_sequences/batch_size)\n",
    "else:\n",
    "    steps_per_epoch = (num_train_sequences//batch_size) + 1\n",
    "\n",
    "if (num_val_sequences%batch_size) == 0:\n",
    "    validation_steps = int(num_val_sequences/batch_size)\n",
    "else:\n",
    "    validation_steps = (num_val_sequences//batch_size) + 1\n",
    "    \n",
    "history = model_7.fit(train_generator, steps_per_epoch=steps_per_epoch, epochs=num_epochs, verbose=1, \n",
    "                    callbacks=callbacks_list, validation_data=val_generator, \n",
    "                    validation_steps=validation_steps, class_weight=None, workers=1, initial_epoch=0)"
   ]
  },
  {
   "cell_type": "code",
   "execution_count": null,
   "metadata": {},
   "outputs": [],
   "source": [
    "loss(history)"
   ]
  },
  {
   "cell_type": "markdown",
   "metadata": {
    "id": "GSsv7JQpSPkG"
   },
   "source": [
    "### Model 8"
   ]
  },
  {
   "cell_type": "code",
   "execution_count": null,
   "metadata": {
    "id": "fYm7y51sSPnn"
   },
   "outputs": [],
   "source": [
    "model_8 = Sequential()\n",
    "\n",
    "model_8.add(TimeDistributed(Conv2D(32, (3,3), padding = \"same\"), input_shape=(15,100,100,3)))\n",
    "model_8.add(TimeDistributed(BatchNormalization()))\n",
    "model_8.add(TimeDistributed(Activation('relu')))\n",
    "model_8.add(TimeDistributed(Dropout(0.5))\n",
    "            \n",
    "model_8.add(TimeDistributed(Conv2D(32,(3,3))))\n",
    "model_8.add(TimeDistributed(BatchNormalization()))\n",
    "model_8.add(TimeDistributed(Activation('relu')))\n",
    "model_8.add(TimeDistributed(Dropout(0.5)))\n",
    "            \n",
    "model_8.add(TimeDistributed(MaxPooling2D(pool_size= (2,2))))\n",
    "\n",
    "model_8.add(TimeDistributed(Conv2D(64, (3,3),  padding = \"same\")))\n",
    "model_8.add(TimeDistributed(BatchNormalization()))\n",
    "model_8.add(TimeDistributed(Activation('relu')))\n",
    "model_8.add(TimeDistributed(Dropout(0.5))\n",
    "            \n",
    "model_8.add(TimeDistributed(Conv2D(64,(3,3))))\n",
    "model_8.add(TimeDistributed(BatchNormalization()))\n",
    "model_8.add(TimeDistributed(Activation('relu')))\n",
    "model_8.add(TimeDistributed(Dropout(0.5))\n",
    "            \n",
    "model_8.add(TimeDistributed(MaxPooling2D(pool_size= (2,2))))\n",
    "\n",
    "model_8.add(TimeDistributed(Flatten()))\n",
    "model_8.add(GRU(64,dropout=0.5, recurrent_dropout=0.5))\n",
    "\n",
    "model_8.add(Dense(5, activation='softmax'))"
   ]
  },
  {
   "cell_type": "code",
   "execution_count": null,
   "metadata": {},
   "outputs": [],
   "source": [
    "optimiser = Adam(learning_rate=0.001) \n",
    "model_8.compile(optimizer=optimiser, loss='categorical_crossentropy', metrics=['categorical_accuracy'])\n",
    "print (model_8.summary())"
   ]
  },
  {
   "cell_type": "code",
   "execution_count": null,
   "metadata": {},
   "outputs": [],
   "source": [
    "train_generator = generator(train_path, train_doc, batch_size)\n",
    "val_generator = generator(val_path, val_doc, batch_size)\n",
    "\n",
    "model_name = 'Gesture_recog' + '_' + str(curr_dt_time).replace(' ','').replace(':','_') + '/'\n",
    "    \n",
    "if not os.path.exists(model_name):\n",
    "    os.mkdir(model_name)\n",
    "        \n",
    "filepath = model_name + 'model-{epoch:05d}-{loss:.5f}-{categorical_accuracy:.5f}-{val_loss:.5f}-{val_categorical_accuracy:.5f}.h5'\n",
    "\n",
    "checkpoint = ModelCheckpoint(filepath, monitor='val_loss', verbose=1, save_best_only=False, save_weights_only=False, mode='auto', period=1)\n",
    "\n",
    "LR = ReduceLROnPlateau(monitor = \"val_loss\", factor = 0.1, patience = 10,\n",
    "  verbose = 1, mode = \"auto\", epsilon = 1e-04, cooldown = 0,\n",
    "  min_lr = 0)\n",
    "callbacks_list = [checkpoint, LR]\n",
    "\n",
    "if (num_train_sequences%batch_size) == 0:\n",
    "    steps_per_epoch = int(num_train_sequences/batch_size)\n",
    "else:\n",
    "    steps_per_epoch = (num_train_sequences//batch_size) + 1\n",
    "\n",
    "if (num_val_sequences%batch_size) == 0:\n",
    "    validation_steps = int(num_val_sequences/batch_size)\n",
    "else:\n",
    "    validation_steps = (num_val_sequences//batch_size) + 1\n",
    "    \n",
    "history = model_8.fit(train_generator, steps_per_epoch=steps_per_epoch, epochs=num_epochs, verbose=1, \n",
    "                    callbacks=callbacks_list, validation_data=val_generator, \n",
    "                    validation_steps=validation_steps, class_weight=None, workers=1, initial_epoch=0)"
   ]
  },
  {
   "cell_type": "code",
   "execution_count": null,
   "metadata": {},
   "outputs": [],
   "source": [
    "loss(history)"
   ]
  },
  {
   "cell_type": "markdown",
   "metadata": {
    "id": "HyD9VR5wFIQw"
   },
   "source": [
    "### Model 9"
   ]
  },
  {
   "cell_type": "code",
   "execution_count": null,
   "metadata": {
    "id": "SCVGNjg9FIrr"
   },
   "outputs": [],
   "source": [
    "model_9 = Sequential()\n",
    "model_9.add(TimeDistributed(EfficientNetB0(weights='imagenet', include_top=False),input_shape=Input_shape))\n",
    "\n",
    "for layer in model_9.layers:\n",
    "    layer.trainable = False\n",
    "\n",
    "model_9.add(TimeDistributed(Flatten()))    \n",
    "model_9.add(GRU(128,dropout=0.5, recurrent_dropout=0.5))\n",
    "model_9.add(Dense(5,activation='softmax'))"
   ]
  },
  {
   "cell_type": "code",
   "execution_count": null,
   "metadata": {},
   "outputs": [],
   "source": [
    "optimiser = Adam(learning_rate=0.001) \n",
    "model_9.compile(optimizer=optimiser, loss='categorical_crossentropy', metrics=['categorical_accuracy'])\n",
    "print (model_9.summary())"
   ]
  },
  {
   "cell_type": "code",
   "execution_count": null,
   "metadata": {},
   "outputs": [],
   "source": [
    "train_generator = generator(train_path, train_doc, batch_size)\n",
    "val_generator = generator(val_path, val_doc, batch_size)\n",
    "\n",
    "model_name = 'Gesture_recog' + '_' + str(curr_dt_time).replace(' ','').replace(':','_') + '/'\n",
    "    \n",
    "if not os.path.exists(model_name):\n",
    "    os.mkdir(model_name)\n",
    "        \n",
    "filepath = model_name + 'model-{epoch:05d}-{loss:.5f}-{categorical_accuracy:.5f}-{val_loss:.5f}-{val_categorical_accuracy:.5f}.h5'\n",
    "\n",
    "checkpoint = ModelCheckpoint(filepath, monitor='val_loss', verbose=1, save_best_only=False, save_weights_only=False, mode='auto', period=1)\n",
    "\n",
    "LR = ReduceLROnPlateau(monitor = \"val_loss\", factor = 0.1, patience = 10,\n",
    "  verbose = 1, mode = \"auto\", epsilon = 1e-04, cooldown = 0,\n",
    "  min_lr = 0)\n",
    "callbacks_list = [checkpoint, LR]\n",
    "\n",
    "if (num_train_sequences%batch_size) == 0:\n",
    "    steps_per_epoch = int(num_train_sequences/batch_size)\n",
    "else:\n",
    "    steps_per_epoch = (num_train_sequences//batch_size) + 1\n",
    "\n",
    "if (num_val_sequences%batch_size) == 0:\n",
    "    validation_steps = int(num_val_sequences/batch_size)\n",
    "else:\n",
    "    validation_steps = (num_val_sequences//batch_size) + 1\n",
    "    \n",
    "history = model_9.fit(train_generator, steps_per_epoch=steps_per_epoch, epochs=num_epochs, verbose=1, \n",
    "                    callbacks=callbacks_list, validation_data=val_generator, \n",
    "                    validation_steps=validation_steps, class_weight=None, workers=1, initial_epoch=0)"
   ]
  },
  {
   "cell_type": "code",
   "execution_count": null,
   "metadata": {},
   "outputs": [],
   "source": [
    "loss(history)"
   ]
  },
  {
   "cell_type": "code",
   "execution_count": null,
   "metadata": {
    "id": "NGUsf8OqFI-Z"
   },
   "outputs": [],
   "source": []
  }
 ],
 "metadata": {
  "colab": {
   "collapsed_sections": [],
   "name": "First Copy from Internet - Github.ipynb",
   "provenance": []
  },
  "kernelspec": {
   "display_name": "Python 3",
   "language": "python",
   "name": "python3"
  },
  "language_info": {
   "codemirror_mode": {
    "name": "ipython",
    "version": 3
   },
   "file_extension": ".py",
   "mimetype": "text/x-python",
   "name": "python",
   "nbconvert_exporter": "python",
   "pygments_lexer": "ipython3",
   "version": "3.8.8"
  }
 },
 "nbformat": 4,
 "nbformat_minor": 1
}
