{
 "cells": [
  {
   "cell_type": "code",
   "execution_count": 1,
   "id": "12271dbd",
   "metadata": {},
   "outputs": [],
   "source": [
    "import pandas as pd\n",
    "import numpy as np\n",
    "import matplotlib.pyplot as plt\n",
    "import seaborn as sns"
   ]
  },
  {
   "cell_type": "markdown",
   "id": "fe7ccb2b",
   "metadata": {},
   "source": [
    "Dataset Link: https://www.kaggle.com/mojtaba142/hotel-booking/download\n",
    "\n",
    "Dataset information: https://www.kaggle.com/mojtaba142/hotel-booking"
   ]
  },
  {
   "cell_type": "code",
   "execution_count": 2,
   "id": "589ef4fe",
   "metadata": {},
   "outputs": [],
   "source": [
    "df=pd.read_csv('hotel_booking.csv')"
   ]
  },
  {
   "cell_type": "markdown",
   "id": "a7254891",
   "metadata": {},
   "source": [
    "### Get the basic Info"
   ]
  },
  {
   "cell_type": "code",
   "execution_count": 3,
   "id": "052bfb5d",
   "metadata": {},
   "outputs": [
    {
     "name": "stdout",
     "output_type": "stream",
     "text": [
      "<class 'pandas.core.frame.DataFrame'>\n",
      "RangeIndex: 119390 entries, 0 to 119389\n",
      "Data columns (total 36 columns):\n",
      " #   Column                          Non-Null Count   Dtype  \n",
      "---  ------                          --------------   -----  \n",
      " 0   hotel                           119390 non-null  object \n",
      " 1   is_canceled                     119390 non-null  int64  \n",
      " 2   lead_time                       119390 non-null  int64  \n",
      " 3   arrival_date_year               119390 non-null  int64  \n",
      " 4   arrival_date_month              119390 non-null  object \n",
      " 5   arrival_date_week_number        119390 non-null  int64  \n",
      " 6   arrival_date_day_of_month       119390 non-null  int64  \n",
      " 7   stays_in_weekend_nights         119390 non-null  int64  \n",
      " 8   stays_in_week_nights            119390 non-null  int64  \n",
      " 9   adults                          119390 non-null  int64  \n",
      " 10  children                        119386 non-null  float64\n",
      " 11  babies                          119390 non-null  int64  \n",
      " 12  meal                            119390 non-null  object \n",
      " 13  country                         118902 non-null  object \n",
      " 14  market_segment                  119390 non-null  object \n",
      " 15  distribution_channel            119390 non-null  object \n",
      " 16  is_repeated_guest               119390 non-null  int64  \n",
      " 17  previous_cancellations          119390 non-null  int64  \n",
      " 18  previous_bookings_not_canceled  119390 non-null  int64  \n",
      " 19  reserved_room_type              119390 non-null  object \n",
      " 20  assigned_room_type              119390 non-null  object \n",
      " 21  booking_changes                 119390 non-null  int64  \n",
      " 22  deposit_type                    119390 non-null  object \n",
      " 23  agent                           103050 non-null  float64\n",
      " 24  company                         6797 non-null    float64\n",
      " 25  days_in_waiting_list            119390 non-null  int64  \n",
      " 26  customer_type                   119390 non-null  object \n",
      " 27  adr                             119390 non-null  float64\n",
      " 28  required_car_parking_spaces     119390 non-null  int64  \n",
      " 29  total_of_special_requests       119390 non-null  int64  \n",
      " 30  reservation_status              119390 non-null  object \n",
      " 31  reservation_status_date         119390 non-null  object \n",
      " 32  name                            119390 non-null  object \n",
      " 33  email                           119390 non-null  object \n",
      " 34  phone-number                    119390 non-null  object \n",
      " 35  credit_card                     119390 non-null  object \n",
      "dtypes: float64(4), int64(16), object(16)\n",
      "memory usage: 32.8+ MB\n"
     ]
    }
   ],
   "source": [
    "df.info()"
   ]
  },
  {
   "cell_type": "code",
   "execution_count": 4,
   "id": "02c6e153",
   "metadata": {},
   "outputs": [
    {
     "data": {
      "text/html": [
       "<div>\n",
       "<style scoped>\n",
       "    .dataframe tbody tr th:only-of-type {\n",
       "        vertical-align: middle;\n",
       "    }\n",
       "\n",
       "    .dataframe tbody tr th {\n",
       "        vertical-align: top;\n",
       "    }\n",
       "\n",
       "    .dataframe thead th {\n",
       "        text-align: right;\n",
       "    }\n",
       "</style>\n",
       "<table border=\"1\" class=\"dataframe\">\n",
       "  <thead>\n",
       "    <tr style=\"text-align: right;\">\n",
       "      <th></th>\n",
       "      <th>hotel</th>\n",
       "      <th>is_canceled</th>\n",
       "      <th>lead_time</th>\n",
       "      <th>arrival_date_year</th>\n",
       "      <th>arrival_date_month</th>\n",
       "      <th>arrival_date_week_number</th>\n",
       "      <th>arrival_date_day_of_month</th>\n",
       "      <th>stays_in_weekend_nights</th>\n",
       "      <th>stays_in_week_nights</th>\n",
       "      <th>adults</th>\n",
       "      <th>...</th>\n",
       "      <th>customer_type</th>\n",
       "      <th>adr</th>\n",
       "      <th>required_car_parking_spaces</th>\n",
       "      <th>total_of_special_requests</th>\n",
       "      <th>reservation_status</th>\n",
       "      <th>reservation_status_date</th>\n",
       "      <th>name</th>\n",
       "      <th>email</th>\n",
       "      <th>phone-number</th>\n",
       "      <th>credit_card</th>\n",
       "    </tr>\n",
       "  </thead>\n",
       "  <tbody>\n",
       "    <tr>\n",
       "      <th>0</th>\n",
       "      <td>Resort Hotel</td>\n",
       "      <td>0</td>\n",
       "      <td>342</td>\n",
       "      <td>2015</td>\n",
       "      <td>July</td>\n",
       "      <td>27</td>\n",
       "      <td>1</td>\n",
       "      <td>0</td>\n",
       "      <td>0</td>\n",
       "      <td>2</td>\n",
       "      <td>...</td>\n",
       "      <td>Transient</td>\n",
       "      <td>0.0</td>\n",
       "      <td>0</td>\n",
       "      <td>0</td>\n",
       "      <td>Check-Out</td>\n",
       "      <td>2015-07-01</td>\n",
       "      <td>Ernest Barnes</td>\n",
       "      <td>Ernest.Barnes31@outlook.com</td>\n",
       "      <td>669-792-1661</td>\n",
       "      <td>************4322</td>\n",
       "    </tr>\n",
       "    <tr>\n",
       "      <th>1</th>\n",
       "      <td>Resort Hotel</td>\n",
       "      <td>0</td>\n",
       "      <td>737</td>\n",
       "      <td>2015</td>\n",
       "      <td>July</td>\n",
       "      <td>27</td>\n",
       "      <td>1</td>\n",
       "      <td>0</td>\n",
       "      <td>0</td>\n",
       "      <td>2</td>\n",
       "      <td>...</td>\n",
       "      <td>Transient</td>\n",
       "      <td>0.0</td>\n",
       "      <td>0</td>\n",
       "      <td>0</td>\n",
       "      <td>Check-Out</td>\n",
       "      <td>2015-07-01</td>\n",
       "      <td>Andrea Baker</td>\n",
       "      <td>Andrea_Baker94@aol.com</td>\n",
       "      <td>858-637-6955</td>\n",
       "      <td>************9157</td>\n",
       "    </tr>\n",
       "    <tr>\n",
       "      <th>2</th>\n",
       "      <td>Resort Hotel</td>\n",
       "      <td>0</td>\n",
       "      <td>7</td>\n",
       "      <td>2015</td>\n",
       "      <td>July</td>\n",
       "      <td>27</td>\n",
       "      <td>1</td>\n",
       "      <td>0</td>\n",
       "      <td>1</td>\n",
       "      <td>1</td>\n",
       "      <td>...</td>\n",
       "      <td>Transient</td>\n",
       "      <td>75.0</td>\n",
       "      <td>0</td>\n",
       "      <td>0</td>\n",
       "      <td>Check-Out</td>\n",
       "      <td>2015-07-02</td>\n",
       "      <td>Rebecca Parker</td>\n",
       "      <td>Rebecca_Parker@comcast.net</td>\n",
       "      <td>652-885-2745</td>\n",
       "      <td>************3734</td>\n",
       "    </tr>\n",
       "    <tr>\n",
       "      <th>3</th>\n",
       "      <td>Resort Hotel</td>\n",
       "      <td>0</td>\n",
       "      <td>13</td>\n",
       "      <td>2015</td>\n",
       "      <td>July</td>\n",
       "      <td>27</td>\n",
       "      <td>1</td>\n",
       "      <td>0</td>\n",
       "      <td>1</td>\n",
       "      <td>1</td>\n",
       "      <td>...</td>\n",
       "      <td>Transient</td>\n",
       "      <td>75.0</td>\n",
       "      <td>0</td>\n",
       "      <td>0</td>\n",
       "      <td>Check-Out</td>\n",
       "      <td>2015-07-02</td>\n",
       "      <td>Laura Murray</td>\n",
       "      <td>Laura_M@gmail.com</td>\n",
       "      <td>364-656-8427</td>\n",
       "      <td>************5677</td>\n",
       "    </tr>\n",
       "    <tr>\n",
       "      <th>4</th>\n",
       "      <td>Resort Hotel</td>\n",
       "      <td>0</td>\n",
       "      <td>14</td>\n",
       "      <td>2015</td>\n",
       "      <td>July</td>\n",
       "      <td>27</td>\n",
       "      <td>1</td>\n",
       "      <td>0</td>\n",
       "      <td>2</td>\n",
       "      <td>2</td>\n",
       "      <td>...</td>\n",
       "      <td>Transient</td>\n",
       "      <td>98.0</td>\n",
       "      <td>0</td>\n",
       "      <td>1</td>\n",
       "      <td>Check-Out</td>\n",
       "      <td>2015-07-03</td>\n",
       "      <td>Linda Hines</td>\n",
       "      <td>LHines@verizon.com</td>\n",
       "      <td>713-226-5883</td>\n",
       "      <td>************5498</td>\n",
       "    </tr>\n",
       "  </tbody>\n",
       "</table>\n",
       "<p>5 rows × 36 columns</p>\n",
       "</div>"
      ],
      "text/plain": [
       "          hotel  is_canceled  lead_time  arrival_date_year arrival_date_month  \\\n",
       "0  Resort Hotel            0        342               2015               July   \n",
       "1  Resort Hotel            0        737               2015               July   \n",
       "2  Resort Hotel            0          7               2015               July   \n",
       "3  Resort Hotel            0         13               2015               July   \n",
       "4  Resort Hotel            0         14               2015               July   \n",
       "\n",
       "   arrival_date_week_number  arrival_date_day_of_month  \\\n",
       "0                        27                          1   \n",
       "1                        27                          1   \n",
       "2                        27                          1   \n",
       "3                        27                          1   \n",
       "4                        27                          1   \n",
       "\n",
       "   stays_in_weekend_nights  stays_in_week_nights  adults  ...  customer_type  \\\n",
       "0                        0                     0       2  ...      Transient   \n",
       "1                        0                     0       2  ...      Transient   \n",
       "2                        0                     1       1  ...      Transient   \n",
       "3                        0                     1       1  ...      Transient   \n",
       "4                        0                     2       2  ...      Transient   \n",
       "\n",
       "    adr required_car_parking_spaces total_of_special_requests  \\\n",
       "0   0.0                           0                         0   \n",
       "1   0.0                           0                         0   \n",
       "2  75.0                           0                         0   \n",
       "3  75.0                           0                         0   \n",
       "4  98.0                           0                         1   \n",
       "\n",
       "  reservation_status reservation_status_date            name  \\\n",
       "0          Check-Out              2015-07-01   Ernest Barnes   \n",
       "1          Check-Out              2015-07-01    Andrea Baker   \n",
       "2          Check-Out              2015-07-02  Rebecca Parker   \n",
       "3          Check-Out              2015-07-02    Laura Murray   \n",
       "4          Check-Out              2015-07-03     Linda Hines   \n",
       "\n",
       "                         email  phone-number       credit_card  \n",
       "0  Ernest.Barnes31@outlook.com  669-792-1661  ************4322  \n",
       "1       Andrea_Baker94@aol.com  858-637-6955  ************9157  \n",
       "2   Rebecca_Parker@comcast.net  652-885-2745  ************3734  \n",
       "3            Laura_M@gmail.com  364-656-8427  ************5677  \n",
       "4           LHines@verizon.com  713-226-5883  ************5498  \n",
       "\n",
       "[5 rows x 36 columns]"
      ]
     },
     "execution_count": 4,
     "metadata": {},
     "output_type": "execute_result"
    }
   ],
   "source": [
    "df.head()"
   ]
  },
  {
   "cell_type": "code",
   "execution_count": 5,
   "id": "e486b126",
   "metadata": {},
   "outputs": [
    {
     "data": {
      "text/plain": [
       "(119390, 36)"
      ]
     },
     "execution_count": 5,
     "metadata": {},
     "output_type": "execute_result"
    }
   ],
   "source": [
    "df.shape"
   ]
  },
  {
   "cell_type": "markdown",
   "id": "7a8ceab0",
   "metadata": {},
   "source": [
    "## Data Cleaning\n",
    "\n",
    "**Check Null Values**"
   ]
  },
  {
   "cell_type": "code",
   "execution_count": 6,
   "id": "4bad2fc3",
   "metadata": {},
   "outputs": [
    {
     "data": {
      "text/plain": [
       "hotel                                  0\n",
       "is_canceled                            0\n",
       "lead_time                              0\n",
       "arrival_date_year                      0\n",
       "arrival_date_month                     0\n",
       "arrival_date_week_number               0\n",
       "arrival_date_day_of_month              0\n",
       "stays_in_weekend_nights                0\n",
       "stays_in_week_nights                   0\n",
       "adults                                 0\n",
       "children                               4\n",
       "babies                                 0\n",
       "meal                                   0\n",
       "country                              488\n",
       "market_segment                         0\n",
       "distribution_channel                   0\n",
       "is_repeated_guest                      0\n",
       "previous_cancellations                 0\n",
       "previous_bookings_not_canceled         0\n",
       "reserved_room_type                     0\n",
       "assigned_room_type                     0\n",
       "booking_changes                        0\n",
       "deposit_type                           0\n",
       "agent                              16340\n",
       "company                           112593\n",
       "days_in_waiting_list                   0\n",
       "customer_type                          0\n",
       "adr                                    0\n",
       "required_car_parking_spaces            0\n",
       "total_of_special_requests              0\n",
       "reservation_status                     0\n",
       "reservation_status_date                0\n",
       "name                                   0\n",
       "email                                  0\n",
       "phone-number                           0\n",
       "credit_card                            0\n",
       "dtype: int64"
      ]
     },
     "execution_count": 6,
     "metadata": {},
     "output_type": "execute_result"
    }
   ],
   "source": [
    "df.isnull().sum()"
   ]
  },
  {
   "cell_type": "code",
   "execution_count": 7,
   "id": "b8a4d6f0",
   "metadata": {},
   "outputs": [
    {
     "data": {
      "text/plain": [
       "9.0      31961\n",
       "240.0    13922\n",
       "1.0       7191\n",
       "14.0      3640\n",
       "7.0       3539\n",
       "         ...  \n",
       "304.0        1\n",
       "431.0        1\n",
       "278.0        1\n",
       "450.0        1\n",
       "114.0        1\n",
       "Name: agent, Length: 333, dtype: int64"
      ]
     },
     "execution_count": 7,
     "metadata": {},
     "output_type": "execute_result"
    }
   ],
   "source": [
    "df.agent.value_counts()"
   ]
  },
  {
   "cell_type": "code",
   "execution_count": 8,
   "id": "c5137779",
   "metadata": {},
   "outputs": [],
   "source": [
    "df.agent.fillna(-1,inplace=True)  ## New categorical value of -1 set for agent"
   ]
  },
  {
   "cell_type": "code",
   "execution_count": 9,
   "id": "82ad1ef1",
   "metadata": {},
   "outputs": [
    {
     "data": {
      "text/plain": [
       "hotel                                  0\n",
       "is_canceled                            0\n",
       "lead_time                              0\n",
       "arrival_date_year                      0\n",
       "arrival_date_month                     0\n",
       "arrival_date_week_number               0\n",
       "arrival_date_day_of_month              0\n",
       "stays_in_weekend_nights                0\n",
       "stays_in_week_nights                   0\n",
       "adults                                 0\n",
       "children                               4\n",
       "babies                                 0\n",
       "meal                                   0\n",
       "country                              488\n",
       "market_segment                         0\n",
       "distribution_channel                   0\n",
       "is_repeated_guest                      0\n",
       "previous_cancellations                 0\n",
       "previous_bookings_not_canceled         0\n",
       "reserved_room_type                     0\n",
       "assigned_room_type                     0\n",
       "booking_changes                        0\n",
       "deposit_type                           0\n",
       "agent                                  0\n",
       "company                           112593\n",
       "days_in_waiting_list                   0\n",
       "customer_type                          0\n",
       "adr                                    0\n",
       "required_car_parking_spaces            0\n",
       "total_of_special_requests              0\n",
       "reservation_status                     0\n",
       "reservation_status_date                0\n",
       "name                                   0\n",
       "email                                  0\n",
       "phone-number                           0\n",
       "credit_card                            0\n",
       "dtype: int64"
      ]
     },
     "execution_count": 9,
     "metadata": {},
     "output_type": "execute_result"
    }
   ],
   "source": [
    "df.isnull().sum()"
   ]
  },
  {
   "cell_type": "code",
   "execution_count": 10,
   "id": "c58119b0",
   "metadata": {},
   "outputs": [
    {
     "data": {
      "text/plain": [
       "40.0     927\n",
       "223.0    784\n",
       "67.0     267\n",
       "45.0     250\n",
       "153.0    215\n",
       "        ... \n",
       "273.0      1\n",
       "415.0      1\n",
       "352.0      1\n",
       "253.0      1\n",
       "497.0      1\n",
       "Name: company, Length: 352, dtype: int64"
      ]
     },
     "execution_count": 10,
     "metadata": {},
     "output_type": "execute_result"
    }
   ],
   "source": [
    "df.company.value_counts()"
   ]
  },
  {
   "cell_type": "code",
   "execution_count": 11,
   "id": "21491dc4",
   "metadata": {},
   "outputs": [],
   "source": [
    "df.company.fillna(-1,inplace=True)  # -1 new categorical variable set for company"
   ]
  },
  {
   "cell_type": "code",
   "execution_count": 12,
   "id": "4abbbd83",
   "metadata": {},
   "outputs": [
    {
     "data": {
      "text/html": [
       "<div>\n",
       "<style scoped>\n",
       "    .dataframe tbody tr th:only-of-type {\n",
       "        vertical-align: middle;\n",
       "    }\n",
       "\n",
       "    .dataframe tbody tr th {\n",
       "        vertical-align: top;\n",
       "    }\n",
       "\n",
       "    .dataframe thead th {\n",
       "        text-align: right;\n",
       "    }\n",
       "</style>\n",
       "<table border=\"1\" class=\"dataframe\">\n",
       "  <thead>\n",
       "    <tr style=\"text-align: right;\">\n",
       "      <th></th>\n",
       "      <th>hotel</th>\n",
       "      <th>is_canceled</th>\n",
       "      <th>lead_time</th>\n",
       "      <th>arrival_date_year</th>\n",
       "      <th>arrival_date_month</th>\n",
       "      <th>arrival_date_week_number</th>\n",
       "      <th>arrival_date_day_of_month</th>\n",
       "      <th>stays_in_weekend_nights</th>\n",
       "      <th>stays_in_week_nights</th>\n",
       "      <th>adults</th>\n",
       "      <th>...</th>\n",
       "      <th>customer_type</th>\n",
       "      <th>adr</th>\n",
       "      <th>required_car_parking_spaces</th>\n",
       "      <th>total_of_special_requests</th>\n",
       "      <th>reservation_status</th>\n",
       "      <th>reservation_status_date</th>\n",
       "      <th>name</th>\n",
       "      <th>email</th>\n",
       "      <th>phone-number</th>\n",
       "      <th>credit_card</th>\n",
       "    </tr>\n",
       "  </thead>\n",
       "  <tbody>\n",
       "    <tr>\n",
       "      <th>30</th>\n",
       "      <td>Resort Hotel</td>\n",
       "      <td>0</td>\n",
       "      <td>118</td>\n",
       "      <td>2015</td>\n",
       "      <td>July</td>\n",
       "      <td>27</td>\n",
       "      <td>1</td>\n",
       "      <td>4</td>\n",
       "      <td>10</td>\n",
       "      <td>1</td>\n",
       "      <td>...</td>\n",
       "      <td>Transient</td>\n",
       "      <td>62.0</td>\n",
       "      <td>0</td>\n",
       "      <td>2</td>\n",
       "      <td>Check-Out</td>\n",
       "      <td>2015-07-15</td>\n",
       "      <td>Diamond Wilson</td>\n",
       "      <td>Wilson.Diamond@comcast.net</td>\n",
       "      <td>870-563-6202</td>\n",
       "      <td>************8017</td>\n",
       "    </tr>\n",
       "    <tr>\n",
       "      <th>4127</th>\n",
       "      <td>Resort Hotel</td>\n",
       "      <td>1</td>\n",
       "      <td>0</td>\n",
       "      <td>2016</td>\n",
       "      <td>February</td>\n",
       "      <td>8</td>\n",
       "      <td>15</td>\n",
       "      <td>0</td>\n",
       "      <td>0</td>\n",
       "      <td>0</td>\n",
       "      <td>...</td>\n",
       "      <td>Transient</td>\n",
       "      <td>0.0</td>\n",
       "      <td>0</td>\n",
       "      <td>0</td>\n",
       "      <td>Canceled</td>\n",
       "      <td>2016-02-15</td>\n",
       "      <td>Alex Lang</td>\n",
       "      <td>Lang_Alex@mail.com</td>\n",
       "      <td>479-339-8268</td>\n",
       "      <td>************4034</td>\n",
       "    </tr>\n",
       "    <tr>\n",
       "      <th>7092</th>\n",
       "      <td>Resort Hotel</td>\n",
       "      <td>1</td>\n",
       "      <td>8</td>\n",
       "      <td>2016</td>\n",
       "      <td>July</td>\n",
       "      <td>30</td>\n",
       "      <td>21</td>\n",
       "      <td>0</td>\n",
       "      <td>1</td>\n",
       "      <td>1</td>\n",
       "      <td>...</td>\n",
       "      <td>Transient</td>\n",
       "      <td>73.0</td>\n",
       "      <td>0</td>\n",
       "      <td>2</td>\n",
       "      <td>Canceled</td>\n",
       "      <td>2016-07-20</td>\n",
       "      <td>Tamara Olson</td>\n",
       "      <td>Tamara_O@gmail.com</td>\n",
       "      <td>926-236-0559</td>\n",
       "      <td>************9899</td>\n",
       "    </tr>\n",
       "    <tr>\n",
       "      <th>7860</th>\n",
       "      <td>Resort Hotel</td>\n",
       "      <td>1</td>\n",
       "      <td>39</td>\n",
       "      <td>2016</td>\n",
       "      <td>August</td>\n",
       "      <td>36</td>\n",
       "      <td>30</td>\n",
       "      <td>0</td>\n",
       "      <td>5</td>\n",
       "      <td>2</td>\n",
       "      <td>...</td>\n",
       "      <td>Transient</td>\n",
       "      <td>159.0</td>\n",
       "      <td>0</td>\n",
       "      <td>5</td>\n",
       "      <td>Canceled</td>\n",
       "      <td>2016-07-22</td>\n",
       "      <td>Amanda Harper</td>\n",
       "      <td>Amanda.H66@yahoo.com</td>\n",
       "      <td>864-257-9807</td>\n",
       "      <td>************9835</td>\n",
       "    </tr>\n",
       "    <tr>\n",
       "      <th>8779</th>\n",
       "      <td>Resort Hotel</td>\n",
       "      <td>1</td>\n",
       "      <td>0</td>\n",
       "      <td>2016</td>\n",
       "      <td>October</td>\n",
       "      <td>42</td>\n",
       "      <td>13</td>\n",
       "      <td>0</td>\n",
       "      <td>1</td>\n",
       "      <td>1</td>\n",
       "      <td>...</td>\n",
       "      <td>Transient</td>\n",
       "      <td>50.0</td>\n",
       "      <td>0</td>\n",
       "      <td>0</td>\n",
       "      <td>Canceled</td>\n",
       "      <td>2016-10-13</td>\n",
       "      <td>Shelley Jenkins</td>\n",
       "      <td>Jenkins_Shelley@yahoo.com</td>\n",
       "      <td>621-092-0324</td>\n",
       "      <td>************9962</td>\n",
       "    </tr>\n",
       "    <tr>\n",
       "      <th>...</th>\n",
       "      <td>...</td>\n",
       "      <td>...</td>\n",
       "      <td>...</td>\n",
       "      <td>...</td>\n",
       "      <td>...</td>\n",
       "      <td>...</td>\n",
       "      <td>...</td>\n",
       "      <td>...</td>\n",
       "      <td>...</td>\n",
       "      <td>...</td>\n",
       "      <td>...</td>\n",
       "      <td>...</td>\n",
       "      <td>...</td>\n",
       "      <td>...</td>\n",
       "      <td>...</td>\n",
       "      <td>...</td>\n",
       "      <td>...</td>\n",
       "      <td>...</td>\n",
       "      <td>...</td>\n",
       "      <td>...</td>\n",
       "      <td>...</td>\n",
       "    </tr>\n",
       "    <tr>\n",
       "      <th>65908</th>\n",
       "      <td>City Hotel</td>\n",
       "      <td>1</td>\n",
       "      <td>0</td>\n",
       "      <td>2017</td>\n",
       "      <td>April</td>\n",
       "      <td>15</td>\n",
       "      <td>10</td>\n",
       "      <td>0</td>\n",
       "      <td>0</td>\n",
       "      <td>0</td>\n",
       "      <td>...</td>\n",
       "      <td>Transient</td>\n",
       "      <td>0.0</td>\n",
       "      <td>0</td>\n",
       "      <td>0</td>\n",
       "      <td>Canceled</td>\n",
       "      <td>2017-04-10</td>\n",
       "      <td>Robin Diaz</td>\n",
       "      <td>Diaz.Robin@yandex.com</td>\n",
       "      <td>358-814-7268</td>\n",
       "      <td>************2947</td>\n",
       "    </tr>\n",
       "    <tr>\n",
       "      <th>65909</th>\n",
       "      <td>City Hotel</td>\n",
       "      <td>1</td>\n",
       "      <td>0</td>\n",
       "      <td>2017</td>\n",
       "      <td>April</td>\n",
       "      <td>15</td>\n",
       "      <td>10</td>\n",
       "      <td>0</td>\n",
       "      <td>0</td>\n",
       "      <td>0</td>\n",
       "      <td>...</td>\n",
       "      <td>Transient</td>\n",
       "      <td>0.0</td>\n",
       "      <td>0</td>\n",
       "      <td>0</td>\n",
       "      <td>Canceled</td>\n",
       "      <td>2017-04-10</td>\n",
       "      <td>Teresa Duncan</td>\n",
       "      <td>TeresaDuncan@att.com</td>\n",
       "      <td>636-547-8162</td>\n",
       "      <td>************8374</td>\n",
       "    </tr>\n",
       "    <tr>\n",
       "      <th>65910</th>\n",
       "      <td>City Hotel</td>\n",
       "      <td>1</td>\n",
       "      <td>0</td>\n",
       "      <td>2017</td>\n",
       "      <td>April</td>\n",
       "      <td>15</td>\n",
       "      <td>10</td>\n",
       "      <td>0</td>\n",
       "      <td>0</td>\n",
       "      <td>0</td>\n",
       "      <td>...</td>\n",
       "      <td>Transient</td>\n",
       "      <td>0.0</td>\n",
       "      <td>0</td>\n",
       "      <td>0</td>\n",
       "      <td>Canceled</td>\n",
       "      <td>2017-04-10</td>\n",
       "      <td>Michael Gonzalez</td>\n",
       "      <td>Michael_Gonzalez@protonmail.com</td>\n",
       "      <td>472-826-7082</td>\n",
       "      <td>************2498</td>\n",
       "    </tr>\n",
       "    <tr>\n",
       "      <th>80830</th>\n",
       "      <td>City Hotel</td>\n",
       "      <td>0</td>\n",
       "      <td>4</td>\n",
       "      <td>2015</td>\n",
       "      <td>November</td>\n",
       "      <td>48</td>\n",
       "      <td>23</td>\n",
       "      <td>1</td>\n",
       "      <td>2</td>\n",
       "      <td>1</td>\n",
       "      <td>...</td>\n",
       "      <td>Transient-Party</td>\n",
       "      <td>70.0</td>\n",
       "      <td>0</td>\n",
       "      <td>0</td>\n",
       "      <td>Check-Out</td>\n",
       "      <td>2015-11-26</td>\n",
       "      <td>Alice Campbell</td>\n",
       "      <td>Alice.C@gmail.com</td>\n",
       "      <td>795-315-2254</td>\n",
       "      <td>************2426</td>\n",
       "    </tr>\n",
       "    <tr>\n",
       "      <th>101488</th>\n",
       "      <td>City Hotel</td>\n",
       "      <td>0</td>\n",
       "      <td>1</td>\n",
       "      <td>2016</td>\n",
       "      <td>November</td>\n",
       "      <td>47</td>\n",
       "      <td>13</td>\n",
       "      <td>2</td>\n",
       "      <td>2</td>\n",
       "      <td>2</td>\n",
       "      <td>...</td>\n",
       "      <td>Group</td>\n",
       "      <td>105.0</td>\n",
       "      <td>0</td>\n",
       "      <td>1</td>\n",
       "      <td>Check-Out</td>\n",
       "      <td>2016-11-17</td>\n",
       "      <td>Kelly Meza</td>\n",
       "      <td>Kelly_M84@zoho.com</td>\n",
       "      <td>471-936-7807</td>\n",
       "      <td>************7105</td>\n",
       "    </tr>\n",
       "  </tbody>\n",
       "</table>\n",
       "<p>488 rows × 36 columns</p>\n",
       "</div>"
      ],
      "text/plain": [
       "               hotel  is_canceled  lead_time  arrival_date_year  \\\n",
       "30      Resort Hotel            0        118               2015   \n",
       "4127    Resort Hotel            1          0               2016   \n",
       "7092    Resort Hotel            1          8               2016   \n",
       "7860    Resort Hotel            1         39               2016   \n",
       "8779    Resort Hotel            1          0               2016   \n",
       "...              ...          ...        ...                ...   \n",
       "65908     City Hotel            1          0               2017   \n",
       "65909     City Hotel            1          0               2017   \n",
       "65910     City Hotel            1          0               2017   \n",
       "80830     City Hotel            0          4               2015   \n",
       "101488    City Hotel            0          1               2016   \n",
       "\n",
       "       arrival_date_month  arrival_date_week_number  \\\n",
       "30                   July                        27   \n",
       "4127             February                         8   \n",
       "7092                 July                        30   \n",
       "7860               August                        36   \n",
       "8779              October                        42   \n",
       "...                   ...                       ...   \n",
       "65908               April                        15   \n",
       "65909               April                        15   \n",
       "65910               April                        15   \n",
       "80830            November                        48   \n",
       "101488           November                        47   \n",
       "\n",
       "        arrival_date_day_of_month  stays_in_weekend_nights  \\\n",
       "30                              1                        4   \n",
       "4127                           15                        0   \n",
       "7092                           21                        0   \n",
       "7860                           30                        0   \n",
       "8779                           13                        0   \n",
       "...                           ...                      ...   \n",
       "65908                          10                        0   \n",
       "65909                          10                        0   \n",
       "65910                          10                        0   \n",
       "80830                          23                        1   \n",
       "101488                         13                        2   \n",
       "\n",
       "        stays_in_week_nights  adults  ...    customer_type    adr  \\\n",
       "30                        10       1  ...        Transient   62.0   \n",
       "4127                       0       0  ...        Transient    0.0   \n",
       "7092                       1       1  ...        Transient   73.0   \n",
       "7860                       5       2  ...        Transient  159.0   \n",
       "8779                       1       1  ...        Transient   50.0   \n",
       "...                      ...     ...  ...              ...    ...   \n",
       "65908                      0       0  ...        Transient    0.0   \n",
       "65909                      0       0  ...        Transient    0.0   \n",
       "65910                      0       0  ...        Transient    0.0   \n",
       "80830                      2       1  ...  Transient-Party   70.0   \n",
       "101488                     2       2  ...            Group  105.0   \n",
       "\n",
       "       required_car_parking_spaces total_of_special_requests  \\\n",
       "30                               0                         2   \n",
       "4127                             0                         0   \n",
       "7092                             0                         2   \n",
       "7860                             0                         5   \n",
       "8779                             0                         0   \n",
       "...                            ...                       ...   \n",
       "65908                            0                         0   \n",
       "65909                            0                         0   \n",
       "65910                            0                         0   \n",
       "80830                            0                         0   \n",
       "101488                           0                         1   \n",
       "\n",
       "       reservation_status reservation_status_date              name  \\\n",
       "30              Check-Out              2015-07-15    Diamond Wilson   \n",
       "4127             Canceled              2016-02-15         Alex Lang   \n",
       "7092             Canceled              2016-07-20      Tamara Olson   \n",
       "7860             Canceled              2016-07-22     Amanda Harper   \n",
       "8779             Canceled              2016-10-13   Shelley Jenkins   \n",
       "...                   ...                     ...               ...   \n",
       "65908            Canceled              2017-04-10        Robin Diaz   \n",
       "65909            Canceled              2017-04-10     Teresa Duncan   \n",
       "65910            Canceled              2017-04-10  Michael Gonzalez   \n",
       "80830           Check-Out              2015-11-26    Alice Campbell   \n",
       "101488          Check-Out              2016-11-17        Kelly Meza   \n",
       "\n",
       "                                  email  phone-number       credit_card  \n",
       "30           Wilson.Diamond@comcast.net  870-563-6202  ************8017  \n",
       "4127                 Lang_Alex@mail.com  479-339-8268  ************4034  \n",
       "7092                 Tamara_O@gmail.com  926-236-0559  ************9899  \n",
       "7860               Amanda.H66@yahoo.com  864-257-9807  ************9835  \n",
       "8779          Jenkins_Shelley@yahoo.com  621-092-0324  ************9962  \n",
       "...                                 ...           ...               ...  \n",
       "65908             Diaz.Robin@yandex.com  358-814-7268  ************2947  \n",
       "65909              TeresaDuncan@att.com  636-547-8162  ************8374  \n",
       "65910   Michael_Gonzalez@protonmail.com  472-826-7082  ************2498  \n",
       "80830                 Alice.C@gmail.com  795-315-2254  ************2426  \n",
       "101488               Kelly_M84@zoho.com  471-936-7807  ************7105  \n",
       "\n",
       "[488 rows x 36 columns]"
      ]
     },
     "execution_count": 12,
     "metadata": {},
     "output_type": "execute_result"
    }
   ],
   "source": [
    "df[df.country.isnull()]"
   ]
  },
  {
   "cell_type": "code",
   "execution_count": 13,
   "id": "4b8fd21d",
   "metadata": {},
   "outputs": [],
   "source": [
    "df.country.fillna('MIS',inplace=True)"
   ]
  },
  {
   "cell_type": "code",
   "execution_count": 14,
   "id": "2bb0d829",
   "metadata": {},
   "outputs": [],
   "source": [
    "df.children.fillna(0,inplace=True)"
   ]
  },
  {
   "cell_type": "code",
   "execution_count": 15,
   "id": "9939a03e",
   "metadata": {},
   "outputs": [
    {
     "data": {
      "text/plain": [
       "hotel                             0\n",
       "is_canceled                       0\n",
       "lead_time                         0\n",
       "arrival_date_year                 0\n",
       "arrival_date_month                0\n",
       "arrival_date_week_number          0\n",
       "arrival_date_day_of_month         0\n",
       "stays_in_weekend_nights           0\n",
       "stays_in_week_nights              0\n",
       "adults                            0\n",
       "children                          0\n",
       "babies                            0\n",
       "meal                              0\n",
       "country                           0\n",
       "market_segment                    0\n",
       "distribution_channel              0\n",
       "is_repeated_guest                 0\n",
       "previous_cancellations            0\n",
       "previous_bookings_not_canceled    0\n",
       "reserved_room_type                0\n",
       "assigned_room_type                0\n",
       "booking_changes                   0\n",
       "deposit_type                      0\n",
       "agent                             0\n",
       "company                           0\n",
       "days_in_waiting_list              0\n",
       "customer_type                     0\n",
       "adr                               0\n",
       "required_car_parking_spaces       0\n",
       "total_of_special_requests         0\n",
       "reservation_status                0\n",
       "reservation_status_date           0\n",
       "name                              0\n",
       "email                             0\n",
       "phone-number                      0\n",
       "credit_card                       0\n",
       "dtype: int64"
      ]
     },
     "execution_count": 15,
     "metadata": {},
     "output_type": "execute_result"
    }
   ],
   "source": [
    "df.isnull().sum()"
   ]
  },
  {
   "cell_type": "code",
   "execution_count": 16,
   "id": "502337da",
   "metadata": {},
   "outputs": [],
   "source": [
    "df.drop(columns=['name','email','phone-number','credit_card'],inplace=True)"
   ]
  },
  {
   "cell_type": "code",
   "execution_count": 17,
   "id": "f30a9995",
   "metadata": {},
   "outputs": [
    {
     "data": {
      "text/html": [
       "<div>\n",
       "<style scoped>\n",
       "    .dataframe tbody tr th:only-of-type {\n",
       "        vertical-align: middle;\n",
       "    }\n",
       "\n",
       "    .dataframe tbody tr th {\n",
       "        vertical-align: top;\n",
       "    }\n",
       "\n",
       "    .dataframe thead th {\n",
       "        text-align: right;\n",
       "    }\n",
       "</style>\n",
       "<table border=\"1\" class=\"dataframe\">\n",
       "  <thead>\n",
       "    <tr style=\"text-align: right;\">\n",
       "      <th></th>\n",
       "      <th>hotel</th>\n",
       "      <th>is_canceled</th>\n",
       "      <th>lead_time</th>\n",
       "      <th>arrival_date_year</th>\n",
       "      <th>arrival_date_month</th>\n",
       "      <th>arrival_date_week_number</th>\n",
       "      <th>arrival_date_day_of_month</th>\n",
       "      <th>stays_in_weekend_nights</th>\n",
       "      <th>stays_in_week_nights</th>\n",
       "      <th>adults</th>\n",
       "      <th>...</th>\n",
       "      <th>deposit_type</th>\n",
       "      <th>agent</th>\n",
       "      <th>company</th>\n",
       "      <th>days_in_waiting_list</th>\n",
       "      <th>customer_type</th>\n",
       "      <th>adr</th>\n",
       "      <th>required_car_parking_spaces</th>\n",
       "      <th>total_of_special_requests</th>\n",
       "      <th>reservation_status</th>\n",
       "      <th>reservation_status_date</th>\n",
       "    </tr>\n",
       "  </thead>\n",
       "  <tbody>\n",
       "    <tr>\n",
       "      <th>0</th>\n",
       "      <td>Resort Hotel</td>\n",
       "      <td>0</td>\n",
       "      <td>342</td>\n",
       "      <td>2015</td>\n",
       "      <td>July</td>\n",
       "      <td>27</td>\n",
       "      <td>1</td>\n",
       "      <td>0</td>\n",
       "      <td>0</td>\n",
       "      <td>2</td>\n",
       "      <td>...</td>\n",
       "      <td>No Deposit</td>\n",
       "      <td>-1.0</td>\n",
       "      <td>-1.0</td>\n",
       "      <td>0</td>\n",
       "      <td>Transient</td>\n",
       "      <td>0.0</td>\n",
       "      <td>0</td>\n",
       "      <td>0</td>\n",
       "      <td>Check-Out</td>\n",
       "      <td>2015-07-01</td>\n",
       "    </tr>\n",
       "    <tr>\n",
       "      <th>1</th>\n",
       "      <td>Resort Hotel</td>\n",
       "      <td>0</td>\n",
       "      <td>737</td>\n",
       "      <td>2015</td>\n",
       "      <td>July</td>\n",
       "      <td>27</td>\n",
       "      <td>1</td>\n",
       "      <td>0</td>\n",
       "      <td>0</td>\n",
       "      <td>2</td>\n",
       "      <td>...</td>\n",
       "      <td>No Deposit</td>\n",
       "      <td>-1.0</td>\n",
       "      <td>-1.0</td>\n",
       "      <td>0</td>\n",
       "      <td>Transient</td>\n",
       "      <td>0.0</td>\n",
       "      <td>0</td>\n",
       "      <td>0</td>\n",
       "      <td>Check-Out</td>\n",
       "      <td>2015-07-01</td>\n",
       "    </tr>\n",
       "    <tr>\n",
       "      <th>2</th>\n",
       "      <td>Resort Hotel</td>\n",
       "      <td>0</td>\n",
       "      <td>7</td>\n",
       "      <td>2015</td>\n",
       "      <td>July</td>\n",
       "      <td>27</td>\n",
       "      <td>1</td>\n",
       "      <td>0</td>\n",
       "      <td>1</td>\n",
       "      <td>1</td>\n",
       "      <td>...</td>\n",
       "      <td>No Deposit</td>\n",
       "      <td>-1.0</td>\n",
       "      <td>-1.0</td>\n",
       "      <td>0</td>\n",
       "      <td>Transient</td>\n",
       "      <td>75.0</td>\n",
       "      <td>0</td>\n",
       "      <td>0</td>\n",
       "      <td>Check-Out</td>\n",
       "      <td>2015-07-02</td>\n",
       "    </tr>\n",
       "    <tr>\n",
       "      <th>3</th>\n",
       "      <td>Resort Hotel</td>\n",
       "      <td>0</td>\n",
       "      <td>13</td>\n",
       "      <td>2015</td>\n",
       "      <td>July</td>\n",
       "      <td>27</td>\n",
       "      <td>1</td>\n",
       "      <td>0</td>\n",
       "      <td>1</td>\n",
       "      <td>1</td>\n",
       "      <td>...</td>\n",
       "      <td>No Deposit</td>\n",
       "      <td>304.0</td>\n",
       "      <td>-1.0</td>\n",
       "      <td>0</td>\n",
       "      <td>Transient</td>\n",
       "      <td>75.0</td>\n",
       "      <td>0</td>\n",
       "      <td>0</td>\n",
       "      <td>Check-Out</td>\n",
       "      <td>2015-07-02</td>\n",
       "    </tr>\n",
       "    <tr>\n",
       "      <th>4</th>\n",
       "      <td>Resort Hotel</td>\n",
       "      <td>0</td>\n",
       "      <td>14</td>\n",
       "      <td>2015</td>\n",
       "      <td>July</td>\n",
       "      <td>27</td>\n",
       "      <td>1</td>\n",
       "      <td>0</td>\n",
       "      <td>2</td>\n",
       "      <td>2</td>\n",
       "      <td>...</td>\n",
       "      <td>No Deposit</td>\n",
       "      <td>240.0</td>\n",
       "      <td>-1.0</td>\n",
       "      <td>0</td>\n",
       "      <td>Transient</td>\n",
       "      <td>98.0</td>\n",
       "      <td>0</td>\n",
       "      <td>1</td>\n",
       "      <td>Check-Out</td>\n",
       "      <td>2015-07-03</td>\n",
       "    </tr>\n",
       "  </tbody>\n",
       "</table>\n",
       "<p>5 rows × 32 columns</p>\n",
       "</div>"
      ],
      "text/plain": [
       "          hotel  is_canceled  lead_time  arrival_date_year arrival_date_month  \\\n",
       "0  Resort Hotel            0        342               2015               July   \n",
       "1  Resort Hotel            0        737               2015               July   \n",
       "2  Resort Hotel            0          7               2015               July   \n",
       "3  Resort Hotel            0         13               2015               July   \n",
       "4  Resort Hotel            0         14               2015               July   \n",
       "\n",
       "   arrival_date_week_number  arrival_date_day_of_month  \\\n",
       "0                        27                          1   \n",
       "1                        27                          1   \n",
       "2                        27                          1   \n",
       "3                        27                          1   \n",
       "4                        27                          1   \n",
       "\n",
       "   stays_in_weekend_nights  stays_in_week_nights  adults  ...  deposit_type  \\\n",
       "0                        0                     0       2  ...    No Deposit   \n",
       "1                        0                     0       2  ...    No Deposit   \n",
       "2                        0                     1       1  ...    No Deposit   \n",
       "3                        0                     1       1  ...    No Deposit   \n",
       "4                        0                     2       2  ...    No Deposit   \n",
       "\n",
       "   agent company days_in_waiting_list customer_type   adr  \\\n",
       "0   -1.0    -1.0                    0     Transient   0.0   \n",
       "1   -1.0    -1.0                    0     Transient   0.0   \n",
       "2   -1.0    -1.0                    0     Transient  75.0   \n",
       "3  304.0    -1.0                    0     Transient  75.0   \n",
       "4  240.0    -1.0                    0     Transient  98.0   \n",
       "\n",
       "   required_car_parking_spaces  total_of_special_requests  reservation_status  \\\n",
       "0                            0                          0           Check-Out   \n",
       "1                            0                          0           Check-Out   \n",
       "2                            0                          0           Check-Out   \n",
       "3                            0                          0           Check-Out   \n",
       "4                            0                          1           Check-Out   \n",
       "\n",
       "  reservation_status_date  \n",
       "0              2015-07-01  \n",
       "1              2015-07-01  \n",
       "2              2015-07-02  \n",
       "3              2015-07-02  \n",
       "4              2015-07-03  \n",
       "\n",
       "[5 rows x 32 columns]"
      ]
     },
     "execution_count": 17,
     "metadata": {},
     "output_type": "execute_result"
    }
   ],
   "source": [
    "df.head()"
   ]
  },
  {
   "cell_type": "markdown",
   "id": "7c6ee40e",
   "metadata": {},
   "source": [
    "## Data Analysis"
   ]
  },
  {
   "cell_type": "markdown",
   "id": "6d4e7a5e",
   "metadata": {},
   "source": [
    "### Hotels vs is_canceled\n",
    "\n",
    "Check to see if there are issues with Cancelled and reservation status"
   ]
  },
  {
   "cell_type": "code",
   "execution_count": 18,
   "id": "22a504b4",
   "metadata": {},
   "outputs": [
    {
     "data": {
      "text/html": [
       "<div>\n",
       "<style scoped>\n",
       "    .dataframe tbody tr th:only-of-type {\n",
       "        vertical-align: middle;\n",
       "    }\n",
       "\n",
       "    .dataframe tbody tr th {\n",
       "        vertical-align: top;\n",
       "    }\n",
       "\n",
       "    .dataframe thead th {\n",
       "        text-align: right;\n",
       "    }\n",
       "</style>\n",
       "<table border=\"1\" class=\"dataframe\">\n",
       "  <thead>\n",
       "    <tr style=\"text-align: right;\">\n",
       "      <th></th>\n",
       "      <th>hotel</th>\n",
       "      <th>is_canceled</th>\n",
       "      <th>lead_time</th>\n",
       "      <th>arrival_date_year</th>\n",
       "      <th>arrival_date_month</th>\n",
       "      <th>arrival_date_week_number</th>\n",
       "      <th>arrival_date_day_of_month</th>\n",
       "      <th>stays_in_weekend_nights</th>\n",
       "      <th>stays_in_week_nights</th>\n",
       "      <th>adults</th>\n",
       "      <th>...</th>\n",
       "      <th>deposit_type</th>\n",
       "      <th>agent</th>\n",
       "      <th>company</th>\n",
       "      <th>days_in_waiting_list</th>\n",
       "      <th>customer_type</th>\n",
       "      <th>adr</th>\n",
       "      <th>required_car_parking_spaces</th>\n",
       "      <th>total_of_special_requests</th>\n",
       "      <th>reservation_status</th>\n",
       "      <th>reservation_status_date</th>\n",
       "    </tr>\n",
       "  </thead>\n",
       "  <tbody>\n",
       "  </tbody>\n",
       "</table>\n",
       "<p>0 rows × 32 columns</p>\n",
       "</div>"
      ],
      "text/plain": [
       "Empty DataFrame\n",
       "Columns: [hotel, is_canceled, lead_time, arrival_date_year, arrival_date_month, arrival_date_week_number, arrival_date_day_of_month, stays_in_weekend_nights, stays_in_week_nights, adults, children, babies, meal, country, market_segment, distribution_channel, is_repeated_guest, previous_cancellations, previous_bookings_not_canceled, reserved_room_type, assigned_room_type, booking_changes, deposit_type, agent, company, days_in_waiting_list, customer_type, adr, required_car_parking_spaces, total_of_special_requests, reservation_status, reservation_status_date]\n",
       "Index: []\n",
       "\n",
       "[0 rows x 32 columns]"
      ]
     },
     "execution_count": 18,
     "metadata": {},
     "output_type": "execute_result"
    }
   ],
   "source": [
    "df[(df.is_canceled==1) & (df.reservation_status=='Check-Out')]"
   ]
  },
  {
   "cell_type": "code",
   "execution_count": 19,
   "id": "8f6354b3",
   "metadata": {},
   "outputs": [
    {
     "data": {
      "text/html": [
       "<div>\n",
       "<style scoped>\n",
       "    .dataframe tbody tr th:only-of-type {\n",
       "        vertical-align: middle;\n",
       "    }\n",
       "\n",
       "    .dataframe tbody tr th {\n",
       "        vertical-align: top;\n",
       "    }\n",
       "\n",
       "    .dataframe thead th {\n",
       "        text-align: right;\n",
       "    }\n",
       "</style>\n",
       "<table border=\"1\" class=\"dataframe\">\n",
       "  <thead>\n",
       "    <tr style=\"text-align: right;\">\n",
       "      <th></th>\n",
       "      <th>hotel</th>\n",
       "      <th>is_canceled</th>\n",
       "      <th>lead_time</th>\n",
       "      <th>arrival_date_year</th>\n",
       "      <th>arrival_date_month</th>\n",
       "      <th>arrival_date_week_number</th>\n",
       "      <th>arrival_date_day_of_month</th>\n",
       "      <th>stays_in_weekend_nights</th>\n",
       "      <th>stays_in_week_nights</th>\n",
       "      <th>adults</th>\n",
       "      <th>...</th>\n",
       "      <th>deposit_type</th>\n",
       "      <th>agent</th>\n",
       "      <th>company</th>\n",
       "      <th>days_in_waiting_list</th>\n",
       "      <th>customer_type</th>\n",
       "      <th>adr</th>\n",
       "      <th>required_car_parking_spaces</th>\n",
       "      <th>total_of_special_requests</th>\n",
       "      <th>reservation_status</th>\n",
       "      <th>reservation_status_date</th>\n",
       "    </tr>\n",
       "  </thead>\n",
       "  <tbody>\n",
       "  </tbody>\n",
       "</table>\n",
       "<p>0 rows × 32 columns</p>\n",
       "</div>"
      ],
      "text/plain": [
       "Empty DataFrame\n",
       "Columns: [hotel, is_canceled, lead_time, arrival_date_year, arrival_date_month, arrival_date_week_number, arrival_date_day_of_month, stays_in_weekend_nights, stays_in_week_nights, adults, children, babies, meal, country, market_segment, distribution_channel, is_repeated_guest, previous_cancellations, previous_bookings_not_canceled, reserved_room_type, assigned_room_type, booking_changes, deposit_type, agent, company, days_in_waiting_list, customer_type, adr, required_car_parking_spaces, total_of_special_requests, reservation_status, reservation_status_date]\n",
       "Index: []\n",
       "\n",
       "[0 rows x 32 columns]"
      ]
     },
     "execution_count": 19,
     "metadata": {},
     "output_type": "execute_result"
    }
   ],
   "source": [
    "df[(df.is_canceled==0) & (df.reservation_status!='Check-Out')]"
   ]
  },
  {
   "cell_type": "markdown",
   "id": "aca096d8",
   "metadata": {},
   "source": [
    "Cancellation records are fine"
   ]
  },
  {
   "cell_type": "code",
   "execution_count": 20,
   "id": "b010ab07",
   "metadata": {},
   "outputs": [
    {
     "data": {
      "text/plain": [
       "0    0.629584\n",
       "1    0.370416\n",
       "Name: is_canceled, dtype: float64"
      ]
     },
     "execution_count": 20,
     "metadata": {},
     "output_type": "execute_result"
    }
   ],
   "source": [
    "df.is_canceled.value_counts(normalize=True)"
   ]
  },
  {
   "cell_type": "code",
   "execution_count": 21,
   "id": "0784297f",
   "metadata": {},
   "outputs": [
    {
     "data": {
      "image/png": "[encoded data removed]",
      "text/plain": [
       "<Figure size 432x288 with 1 Axes>"
      ]
     },
     "metadata": {
      "needs_background": "light"
     },
     "output_type": "display_data"
    }
   ],
   "source": [
    "df.is_canceled.value_counts(normalize=True).plot.bar()\n",
    "plt.show()"
   ]
  },
  {
   "cell_type": "code",
   "execution_count": 22,
   "id": "53f91113",
   "metadata": {},
   "outputs": [
    {
     "data": {
      "text/plain": [
       "City Hotel      66.446101\n",
       "Resort Hotel    33.553899\n",
       "Name: hotel, dtype: float64"
      ]
     },
     "execution_count": 22,
     "metadata": {},
     "output_type": "execute_result"
    }
   ],
   "source": [
    "df.hotel.value_counts(normalize=True)*100"
   ]
  },
  {
   "cell_type": "code",
   "execution_count": 23,
   "id": "159dc7c5",
   "metadata": {},
   "outputs": [
    {
     "data": {
      "text/plain": [
       "hotel         is_canceled\n",
       "City Hotel    0              58.273037\n",
       "              1              41.726963\n",
       "Resort Hotel  0              72.236645\n",
       "              1              27.763355\n",
       "Name: is_canceled, dtype: float64"
      ]
     },
     "execution_count": 23,
     "metadata": {},
     "output_type": "execute_result"
    }
   ],
   "source": [
    "df.groupby('hotel')['is_canceled'].value_counts(normalize=True)*100"
   ]
  },
  {
   "cell_type": "code",
   "execution_count": 24,
   "id": "cd73c3d6",
   "metadata": {},
   "outputs": [
    {
     "data": {
      "image/png": "[encoded data removed]",
      "text/plain": [
       "<Figure size 432x288 with 1 Axes>"
      ]
     },
     "metadata": {
      "needs_background": "light"
     },
     "output_type": "display_data"
    }
   ],
   "source": [
    "var=df.groupby('hotel')['is_canceled'].value_counts().rename('Total Cancellations').reset_index()\n",
    "sns.barplot(data=var, x='is_canceled', y='Total Cancellations', hue='hotel')\n",
    "plt.show()"
   ]
  },
  {
   "cell_type": "markdown",
   "id": "d3dc94fa",
   "metadata": {},
   "source": [
    "#### We can see that the resorts have lower cancellation rates than the City Hotels. \n",
    "\n",
    "Also, we see that the city hotels are booked more than resorts"
   ]
  },
  {
   "cell_type": "markdown",
   "id": "f6cd6b25",
   "metadata": {},
   "source": [
    "### Hotel vs Lead Time"
   ]
  },
  {
   "cell_type": "code",
   "execution_count": 25,
   "id": "aa7ea52e",
   "metadata": {},
   "outputs": [
    {
     "data": {
      "text/plain": [
       "count    119390.000000\n",
       "mean        104.011416\n",
       "std         106.863097\n",
       "min           0.000000\n",
       "25%          18.000000\n",
       "50%          69.000000\n",
       "75%         160.000000\n",
       "max         737.000000\n",
       "Name: lead_time, dtype: float64"
      ]
     },
     "execution_count": 25,
     "metadata": {},
     "output_type": "execute_result"
    }
   ],
   "source": [
    "df.lead_time.describe()"
   ]
  },
  {
   "cell_type": "code",
   "execution_count": 26,
   "id": "5a8d7e76",
   "metadata": {},
   "outputs": [
    {
     "data": {
      "image/png": "[encoded data removed]",
      "text/plain": [
       "<Figure size 432x288 with 1 Axes>"
      ]
     },
     "metadata": {
      "needs_background": "light"
     },
     "output_type": "display_data"
    }
   ],
   "source": [
    "df.lead_time.plot.box()\n",
    "plt.show()"
   ]
  },
  {
   "cell_type": "code",
   "execution_count": 27,
   "id": "450af585",
   "metadata": {},
   "outputs": [
    {
     "data": {
      "text/plain": [
       "hotel         is_canceled\n",
       "City Hotel    1              0.711169\n",
       "              0              0.288831\n",
       "Resort Hotel  0              0.533784\n",
       "              1              0.466216\n",
       "Name: is_canceled, dtype: float64"
      ]
     },
     "execution_count": 27,
     "metadata": {},
     "output_type": "execute_result"
    }
   ],
   "source": [
    "df[df.lead_time>365].groupby('hotel')['is_canceled'].value_counts(normalize=True)"
   ]
  },
  {
   "cell_type": "code",
   "execution_count": 28,
   "id": "fa3835e1",
   "metadata": {},
   "outputs": [
    {
     "data": {
      "image/png": "[encoded data removed]",
      "text/plain": [
       "<Figure size 432x288 with 1 Axes>"
      ]
     },
     "metadata": {
      "needs_background": "light"
     },
     "output_type": "display_data"
    }
   ],
   "source": [
    "var=df[df.lead_time>365].groupby('hotel')['is_canceled'].value_counts(normalize=True).rename('% Cancellation').mul(100).reset_index()\n",
    "sns.barplot(data=var, x='is_canceled', y='% Cancellation', hue='hotel')\n",
    "plt.show()"
   ]
  },
  {
   "cell_type": "markdown",
   "id": "4feb3522",
   "metadata": {},
   "source": [
    "**This shows when lead time>365:**\n",
    "\n",
    "- The cancellations in the resorts increases almost to 45%\n",
    "- In case of City Hotels the cancellations increases drastically to above 70%"
   ]
  },
  {
   "cell_type": "code",
   "execution_count": 29,
   "id": "752475d3",
   "metadata": {},
   "outputs": [],
   "source": [
    "df['lead_bins']=pd.cut(df.lead_time,[0,10,20,30,60,90,120,180,240,360,99999],labels=['<10','10-20','20-30','1-2m','2-3m','3-4m','4-6m',\n",
    "                                                                    '6-8m','8-12m','>1yr'])"
   ]
  },
  {
   "cell_type": "code",
   "execution_count": 30,
   "id": "0c937bcb",
   "metadata": {},
   "outputs": [
    {
     "data": {
      "image/png": "[encoded data removed]",
      "text/plain": [
       "<Figure size 720x360 with 1 Axes>"
      ]
     },
     "metadata": {
      "needs_background": "light"
     },
     "output_type": "display_data"
    }
   ],
   "source": [
    "plt.figure(figsize=[10,5])\n",
    "sns.barplot(data=df, x='lead_bins',y='is_canceled',hue='hotel')\n",
    "plt.ylabel('% Cancellations')\n",
    "plt.show()"
   ]
  },
  {
   "cell_type": "markdown",
   "id": "98384c6d",
   "metadata": {},
   "source": [
    "- For City hotels, there is a 70% chance of cancellation when booked more than 8 months in advance\n",
    "- For Resorts Cancellations are generally less than 40% overall. When the lead booking time is less than a month there is only 20% chance of cancellations"
   ]
  },
  {
   "cell_type": "code",
   "execution_count": 31,
   "id": "bb0b159b",
   "metadata": {},
   "outputs": [
    {
     "data": {
      "image/png": "[encoded data removed]",
      "text/plain": [
       "<Figure size 720x504 with 1 Axes>"
      ]
     },
     "metadata": {
      "needs_background": "light"
     },
     "output_type": "display_data"
    }
   ],
   "source": [
    "plt.figure(figsize=[10,7])\n",
    "sns.barplot(data=df, x='is_canceled',y='lead_time',hue='hotel')\n",
    "plt.show()"
   ]
  },
  {
   "cell_type": "markdown",
   "id": "1d0bd80f",
   "metadata": {},
   "source": [
    "### Arrival Date"
   ]
  },
  {
   "cell_type": "code",
   "execution_count": 32,
   "id": "e82b19d0",
   "metadata": {},
   "outputs": [
    {
     "data": {
      "text/plain": [
       "2016    47.497278\n",
       "2017    34.079069\n",
       "2015    18.423654\n",
       "Name: arrival_date_year, dtype: float64"
      ]
     },
     "execution_count": 32,
     "metadata": {},
     "output_type": "execute_result"
    }
   ],
   "source": [
    "df.arrival_date_year.value_counts(normalize=True)*100"
   ]
  },
  {
   "cell_type": "code",
   "execution_count": 33,
   "id": "63d32367",
   "metadata": {},
   "outputs": [
    {
     "data": {
      "text/plain": [
       "hotel         arrival_date_year  arrival_date_month  is_canceled\n",
       "City Hotel    2015               August              0              1248\n",
       "                                                     1              1232\n",
       "                                 December            0               986\n",
       "                                                     1               668\n",
       "                                 July                1               939\n",
       "                                                                    ... \n",
       "Resort Hotel  2017               June                1               631\n",
       "                                 March               0              1164\n",
       "                                                     1               394\n",
       "                                 May                 0              1212\n",
       "                                                     1               545\n",
       "Name: is_canceled, Length: 104, dtype: int64"
      ]
     },
     "execution_count": 33,
     "metadata": {},
     "output_type": "execute_result"
    }
   ],
   "source": [
    "df.groupby(by=['hotel','arrival_date_year',\n",
    "                                      'arrival_date_month'])['is_canceled'].value_counts()"
   ]
  },
  {
   "cell_type": "code",
   "execution_count": 34,
   "id": "b246e879",
   "metadata": {},
   "outputs": [
    {
     "data": {
      "image/png": "[encoded data removed]",
      "text/plain": [
       "<Figure size 928.1x216 with 2 Axes>"
      ]
     },
     "metadata": {},
     "output_type": "display_data"
    }
   ],
   "source": [
    "# plt.figure(figsize=[10,10])\n",
    "# sns.color_palette(['r','g','b'],3)\n",
    "# d = {'color': ['r', 'b','g']}\n",
    "# g = sns.FacetGrid(df, row='Sex', col='Survived', hue_kws=d, hue='Survived')\n",
    "# g.map(plt.hist, 'Age')\n",
    "\n",
    "sns.set(style=\"whitegrid\")\n",
    "g = sns.FacetGrid(data=df, col=\"hotel\" ,aspect=2, palette = 'colorblind')\n",
    "g.map_dataframe(sns.barplot, x='arrival_date_month',y='is_canceled',hue='arrival_date_year')\n",
    "g.add_legend()\n",
    "g.set_xticklabels(rotation=90)\n",
    "g.set_axis_labels('Months','% Cancellations')\n",
    "# sns.barplot(data=df, x='arrival_date_year',y='is_canceled',hue='hotel',order='arrival_date_month')\n",
    "plt.show()"
   ]
  },
  {
   "cell_type": "markdown",
   "id": "8cee3ee3",
   "metadata": {},
   "source": [
    "- Jan month had very low cancellations for resorts. This makes sense as people tend to go on holidays. for City hotels the number of cancellations is almost the double of it\n",
    "- Similar trend observed for November\n",
    "- Overbooking of rooms by 20% for the whole year except for months November and January"
   ]
  },
  {
   "cell_type": "markdown",
   "id": "745268f8",
   "metadata": {},
   "source": [
    "## Analysis on Adults and Children"
   ]
  },
  {
   "cell_type": "code",
   "execution_count": 35,
   "id": "e43d4d0c",
   "metadata": {},
   "outputs": [
    {
     "data": {
      "text/html": [
       "<div>\n",
       "<style scoped>\n",
       "    .dataframe tbody tr th:only-of-type {\n",
       "        vertical-align: middle;\n",
       "    }\n",
       "\n",
       "    .dataframe tbody tr th {\n",
       "        vertical-align: top;\n",
       "    }\n",
       "\n",
       "    .dataframe thead th {\n",
       "        text-align: right;\n",
       "    }\n",
       "</style>\n",
       "<table border=\"1\" class=\"dataframe\">\n",
       "  <thead>\n",
       "    <tr style=\"text-align: right;\">\n",
       "      <th></th>\n",
       "      <th>stays_in_weekend_nights</th>\n",
       "      <th>stays_in_week_nights</th>\n",
       "      <th>adults</th>\n",
       "      <th>children</th>\n",
       "      <th>babies</th>\n",
       "      <th>meal</th>\n",
       "    </tr>\n",
       "  </thead>\n",
       "  <tbody>\n",
       "    <tr>\n",
       "      <th>0</th>\n",
       "      <td>0</td>\n",
       "      <td>0</td>\n",
       "      <td>2</td>\n",
       "      <td>0.0</td>\n",
       "      <td>0</td>\n",
       "      <td>BB</td>\n",
       "    </tr>\n",
       "    <tr>\n",
       "      <th>1</th>\n",
       "      <td>0</td>\n",
       "      <td>0</td>\n",
       "      <td>2</td>\n",
       "      <td>0.0</td>\n",
       "      <td>0</td>\n",
       "      <td>BB</td>\n",
       "    </tr>\n",
       "    <tr>\n",
       "      <th>2</th>\n",
       "      <td>0</td>\n",
       "      <td>1</td>\n",
       "      <td>1</td>\n",
       "      <td>0.0</td>\n",
       "      <td>0</td>\n",
       "      <td>BB</td>\n",
       "    </tr>\n",
       "    <tr>\n",
       "      <th>3</th>\n",
       "      <td>0</td>\n",
       "      <td>1</td>\n",
       "      <td>1</td>\n",
       "      <td>0.0</td>\n",
       "      <td>0</td>\n",
       "      <td>BB</td>\n",
       "    </tr>\n",
       "    <tr>\n",
       "      <th>4</th>\n",
       "      <td>0</td>\n",
       "      <td>2</td>\n",
       "      <td>2</td>\n",
       "      <td>0.0</td>\n",
       "      <td>0</td>\n",
       "      <td>BB</td>\n",
       "    </tr>\n",
       "    <tr>\n",
       "      <th>...</th>\n",
       "      <td>...</td>\n",
       "      <td>...</td>\n",
       "      <td>...</td>\n",
       "      <td>...</td>\n",
       "      <td>...</td>\n",
       "      <td>...</td>\n",
       "    </tr>\n",
       "    <tr>\n",
       "      <th>119385</th>\n",
       "      <td>2</td>\n",
       "      <td>5</td>\n",
       "      <td>2</td>\n",
       "      <td>0.0</td>\n",
       "      <td>0</td>\n",
       "      <td>BB</td>\n",
       "    </tr>\n",
       "    <tr>\n",
       "      <th>119386</th>\n",
       "      <td>2</td>\n",
       "      <td>5</td>\n",
       "      <td>3</td>\n",
       "      <td>0.0</td>\n",
       "      <td>0</td>\n",
       "      <td>BB</td>\n",
       "    </tr>\n",
       "    <tr>\n",
       "      <th>119387</th>\n",
       "      <td>2</td>\n",
       "      <td>5</td>\n",
       "      <td>2</td>\n",
       "      <td>0.0</td>\n",
       "      <td>0</td>\n",
       "      <td>BB</td>\n",
       "    </tr>\n",
       "    <tr>\n",
       "      <th>119388</th>\n",
       "      <td>2</td>\n",
       "      <td>5</td>\n",
       "      <td>2</td>\n",
       "      <td>0.0</td>\n",
       "      <td>0</td>\n",
       "      <td>BB</td>\n",
       "    </tr>\n",
       "    <tr>\n",
       "      <th>119389</th>\n",
       "      <td>2</td>\n",
       "      <td>7</td>\n",
       "      <td>2</td>\n",
       "      <td>0.0</td>\n",
       "      <td>0</td>\n",
       "      <td>HB</td>\n",
       "    </tr>\n",
       "  </tbody>\n",
       "</table>\n",
       "<p>119390 rows × 6 columns</p>\n",
       "</div>"
      ],
      "text/plain": [
       "        stays_in_weekend_nights  stays_in_week_nights  adults  children  \\\n",
       "0                             0                     0       2       0.0   \n",
       "1                             0                     0       2       0.0   \n",
       "2                             0                     1       1       0.0   \n",
       "3                             0                     1       1       0.0   \n",
       "4                             0                     2       2       0.0   \n",
       "...                         ...                   ...     ...       ...   \n",
       "119385                        2                     5       2       0.0   \n",
       "119386                        2                     5       3       0.0   \n",
       "119387                        2                     5       2       0.0   \n",
       "119388                        2                     5       2       0.0   \n",
       "119389                        2                     7       2       0.0   \n",
       "\n",
       "        babies meal  \n",
       "0            0   BB  \n",
       "1            0   BB  \n",
       "2            0   BB  \n",
       "3            0   BB  \n",
       "4            0   BB  \n",
       "...        ...  ...  \n",
       "119385       0   BB  \n",
       "119386       0   BB  \n",
       "119387       0   BB  \n",
       "119388       0   BB  \n",
       "119389       0   HB  \n",
       "\n",
       "[119390 rows x 6 columns]"
      ]
     },
     "execution_count": 35,
     "metadata": {},
     "output_type": "execute_result"
    }
   ],
   "source": [
    "df[['stays_in_weekend_nights',\n",
    "'stays_in_week_nights',\n",
    "'adults',\n",
    "'children',\n",
    "'babies',\n",
    "'meal']]"
   ]
  },
  {
   "cell_type": "code",
   "execution_count": 36,
   "id": "d0c1bf89",
   "metadata": {},
   "outputs": [
    {
     "data": {
      "text/plain": [
       "array(['Check-Out', 'Canceled', 'No-Show'], dtype=object)"
      ]
     },
     "execution_count": 36,
     "metadata": {},
     "output_type": "execute_result"
    }
   ],
   "source": [
    "df.reservation_status.unique()"
   ]
  },
  {
   "cell_type": "code",
   "execution_count": 37,
   "id": "7ff00783",
   "metadata": {},
   "outputs": [
    {
     "data": {
      "text/html": [
       "<div>\n",
       "<style scoped>\n",
       "    .dataframe tbody tr th:only-of-type {\n",
       "        vertical-align: middle;\n",
       "    }\n",
       "\n",
       "    .dataframe tbody tr th {\n",
       "        vertical-align: top;\n",
       "    }\n",
       "\n",
       "    .dataframe thead th {\n",
       "        text-align: right;\n",
       "    }\n",
       "</style>\n",
       "<table border=\"1\" class=\"dataframe\">\n",
       "  <thead>\n",
       "    <tr style=\"text-align: right;\">\n",
       "      <th></th>\n",
       "      <th>stays_in_weekend_nights</th>\n",
       "      <th>stays_in_week_nights</th>\n",
       "      <th>adults</th>\n",
       "      <th>children</th>\n",
       "      <th>babies</th>\n",
       "      <th>meal</th>\n",
       "    </tr>\n",
       "  </thead>\n",
       "  <tbody>\n",
       "    <tr>\n",
       "      <th>122</th>\n",
       "      <td>0</td>\n",
       "      <td>1</td>\n",
       "      <td>1</td>\n",
       "      <td>0.0</td>\n",
       "      <td>0</td>\n",
       "      <td>BB</td>\n",
       "    </tr>\n",
       "    <tr>\n",
       "      <th>328</th>\n",
       "      <td>4</td>\n",
       "      <td>10</td>\n",
       "      <td>2</td>\n",
       "      <td>10.0</td>\n",
       "      <td>0</td>\n",
       "      <td>BB</td>\n",
       "    </tr>\n",
       "    <tr>\n",
       "      <th>343</th>\n",
       "      <td>2</td>\n",
       "      <td>3</td>\n",
       "      <td>2</td>\n",
       "      <td>0.0</td>\n",
       "      <td>0</td>\n",
       "      <td>BB</td>\n",
       "    </tr>\n",
       "    <tr>\n",
       "      <th>467</th>\n",
       "      <td>0</td>\n",
       "      <td>2</td>\n",
       "      <td>2</td>\n",
       "      <td>0.0</td>\n",
       "      <td>0</td>\n",
       "      <td>BB</td>\n",
       "    </tr>\n",
       "    <tr>\n",
       "      <th>472</th>\n",
       "      <td>0</td>\n",
       "      <td>2</td>\n",
       "      <td>1</td>\n",
       "      <td>0.0</td>\n",
       "      <td>0</td>\n",
       "      <td>BB</td>\n",
       "    </tr>\n",
       "    <tr>\n",
       "      <th>...</th>\n",
       "      <td>...</td>\n",
       "      <td>...</td>\n",
       "      <td>...</td>\n",
       "      <td>...</td>\n",
       "      <td>...</td>\n",
       "      <td>...</td>\n",
       "    </tr>\n",
       "    <tr>\n",
       "      <th>104650</th>\n",
       "      <td>0</td>\n",
       "      <td>0</td>\n",
       "      <td>1</td>\n",
       "      <td>0.0</td>\n",
       "      <td>0</td>\n",
       "      <td>BB</td>\n",
       "    </tr>\n",
       "    <tr>\n",
       "      <th>108459</th>\n",
       "      <td>2</td>\n",
       "      <td>0</td>\n",
       "      <td>1</td>\n",
       "      <td>0.0</td>\n",
       "      <td>0</td>\n",
       "      <td>BB</td>\n",
       "    </tr>\n",
       "    <tr>\n",
       "      <th>108829</th>\n",
       "      <td>2</td>\n",
       "      <td>1</td>\n",
       "      <td>1</td>\n",
       "      <td>0.0</td>\n",
       "      <td>0</td>\n",
       "      <td>BB</td>\n",
       "    </tr>\n",
       "    <tr>\n",
       "      <th>111925</th>\n",
       "      <td>1</td>\n",
       "      <td>0</td>\n",
       "      <td>1</td>\n",
       "      <td>0.0</td>\n",
       "      <td>0</td>\n",
       "      <td>BB</td>\n",
       "    </tr>\n",
       "    <tr>\n",
       "      <th>117295</th>\n",
       "      <td>0</td>\n",
       "      <td>2</td>\n",
       "      <td>1</td>\n",
       "      <td>0.0</td>\n",
       "      <td>0</td>\n",
       "      <td>BB</td>\n",
       "    </tr>\n",
       "  </tbody>\n",
       "</table>\n",
       "<p>1207 rows × 6 columns</p>\n",
       "</div>"
      ],
      "text/plain": [
       "        stays_in_weekend_nights  stays_in_week_nights  adults  children  \\\n",
       "122                           0                     1       1       0.0   \n",
       "328                           4                    10       2      10.0   \n",
       "343                           2                     3       2       0.0   \n",
       "467                           0                     2       2       0.0   \n",
       "472                           0                     2       1       0.0   \n",
       "...                         ...                   ...     ...       ...   \n",
       "104650                        0                     0       1       0.0   \n",
       "108459                        2                     0       1       0.0   \n",
       "108829                        2                     1       1       0.0   \n",
       "111925                        1                     0       1       0.0   \n",
       "117295                        0                     2       1       0.0   \n",
       "\n",
       "        babies meal  \n",
       "122          0   BB  \n",
       "328          0   BB  \n",
       "343          0   BB  \n",
       "467          0   BB  \n",
       "472          0   BB  \n",
       "...        ...  ...  \n",
       "104650       0   BB  \n",
       "108459       0   BB  \n",
       "108829       0   BB  \n",
       "111925       0   BB  \n",
       "117295       0   BB  \n",
       "\n",
       "[1207 rows x 6 columns]"
      ]
     },
     "execution_count": 37,
     "metadata": {},
     "output_type": "execute_result"
    }
   ],
   "source": [
    "df.loc[df.reservation_status=='No-Show', ['stays_in_weekend_nights',\n",
    "'stays_in_week_nights',\n",
    "'adults',\n",
    "'children',\n",
    "'babies',\n",
    "'meal']]"
   ]
  },
  {
   "cell_type": "markdown",
   "id": "908ea04c",
   "metadata": {},
   "source": [
    "**Creating another Column that has Total Stay**"
   ]
  },
  {
   "cell_type": "code",
   "execution_count": 38,
   "id": "9dbf6afa",
   "metadata": {},
   "outputs": [],
   "source": [
    "df['Total_Stay']=df.apply(lambda x: int(x['stays_in_weekend_nights']+x['stays_in_week_nights']),axis=1)"
   ]
  },
  {
   "cell_type": "code",
   "execution_count": 39,
   "id": "9e3cae19",
   "metadata": {},
   "outputs": [
    {
     "data": {
      "text/plain": [
       "(44224, 34)"
      ]
     },
     "execution_count": 39,
     "metadata": {},
     "output_type": "execute_result"
    }
   ],
   "source": [
    "df[df.reservation_status !='Check-Out'].shape"
   ]
  },
  {
   "cell_type": "code",
   "execution_count": 40,
   "id": "22279e85",
   "metadata": {},
   "outputs": [
    {
     "data": {
      "text/plain": [
       "(18, 34)"
      ]
     },
     "execution_count": 40,
     "metadata": {},
     "output_type": "execute_result"
    }
   ],
   "source": [
    "# Check no of records where children>2 and reservation_status is not Check-Out\n",
    "\n",
    "df[(df.children>2) &  (df.reservation_status !='Check-Out')].shape"
   ]
  },
  {
   "cell_type": "code",
   "execution_count": 41,
   "id": "92b0aca9",
   "metadata": {},
   "outputs": [
    {
     "data": {
      "text/plain": [
       "0.0     110800\n",
       "1.0       4861\n",
       "2.0       3652\n",
       "3.0         76\n",
       "10.0         1\n",
       "Name: children, dtype: int64"
      ]
     },
     "execution_count": 41,
     "metadata": {},
     "output_type": "execute_result"
    }
   ],
   "source": [
    "df.children.value_counts()"
   ]
  },
  {
   "cell_type": "code",
   "execution_count": 42,
   "id": "537adcec",
   "metadata": {},
   "outputs": [
    {
     "data": {
      "text/plain": [
       "0     118473\n",
       "1        900\n",
       "2         15\n",
       "9          1\n",
       "10         1\n",
       "Name: babies, dtype: int64"
      ]
     },
     "execution_count": 42,
     "metadata": {},
     "output_type": "execute_result"
    }
   ],
   "source": [
    "df.babies.value_counts()"
   ]
  },
  {
   "cell_type": "code",
   "execution_count": 43,
   "id": "5e298e11",
   "metadata": {},
   "outputs": [
    {
     "data": {
      "text/plain": [
       "2     0.751152\n",
       "1     0.192872\n",
       "3     0.051947\n",
       "0     0.003375\n",
       "4     0.000519\n",
       "26    0.000042\n",
       "5     0.000017\n",
       "20    0.000017\n",
       "27    0.000017\n",
       "6     0.000008\n",
       "10    0.000008\n",
       "40    0.000008\n",
       "50    0.000008\n",
       "55    0.000008\n",
       "Name: adults, dtype: float64"
      ]
     },
     "execution_count": 43,
     "metadata": {},
     "output_type": "execute_result"
    }
   ],
   "source": [
    "df.adults.value_counts(normalize=True)"
   ]
  },
  {
   "cell_type": "code",
   "execution_count": 44,
   "id": "3e561fd0",
   "metadata": {},
   "outputs": [
    {
     "data": {
      "text/html": [
       "<div>\n",
       "<style scoped>\n",
       "    .dataframe tbody tr th:only-of-type {\n",
       "        vertical-align: middle;\n",
       "    }\n",
       "\n",
       "    .dataframe tbody tr th {\n",
       "        vertical-align: top;\n",
       "    }\n",
       "\n",
       "    .dataframe thead th {\n",
       "        text-align: right;\n",
       "    }\n",
       "</style>\n",
       "<table border=\"1\" class=\"dataframe\">\n",
       "  <thead>\n",
       "    <tr style=\"text-align: right;\">\n",
       "      <th></th>\n",
       "      <th>hotel</th>\n",
       "      <th>adults</th>\n",
       "      <th>children</th>\n",
       "      <th>babies</th>\n",
       "      <th>reservation_status</th>\n",
       "    </tr>\n",
       "  </thead>\n",
       "  <tbody>\n",
       "    <tr>\n",
       "      <th>2224</th>\n",
       "      <td>Resort Hotel</td>\n",
       "      <td>0</td>\n",
       "      <td>0.0</td>\n",
       "      <td>0</td>\n",
       "      <td>Check-Out</td>\n",
       "    </tr>\n",
       "    <tr>\n",
       "      <th>2409</th>\n",
       "      <td>Resort Hotel</td>\n",
       "      <td>0</td>\n",
       "      <td>0.0</td>\n",
       "      <td>0</td>\n",
       "      <td>Check-Out</td>\n",
       "    </tr>\n",
       "    <tr>\n",
       "      <th>3181</th>\n",
       "      <td>Resort Hotel</td>\n",
       "      <td>0</td>\n",
       "      <td>0.0</td>\n",
       "      <td>0</td>\n",
       "      <td>Check-Out</td>\n",
       "    </tr>\n",
       "    <tr>\n",
       "      <th>3684</th>\n",
       "      <td>Resort Hotel</td>\n",
       "      <td>0</td>\n",
       "      <td>0.0</td>\n",
       "      <td>0</td>\n",
       "      <td>Check-Out</td>\n",
       "    </tr>\n",
       "    <tr>\n",
       "      <th>3708</th>\n",
       "      <td>Resort Hotel</td>\n",
       "      <td>0</td>\n",
       "      <td>0.0</td>\n",
       "      <td>0</td>\n",
       "      <td>Check-Out</td>\n",
       "    </tr>\n",
       "    <tr>\n",
       "      <th>...</th>\n",
       "      <td>...</td>\n",
       "      <td>...</td>\n",
       "      <td>...</td>\n",
       "      <td>...</td>\n",
       "      <td>...</td>\n",
       "    </tr>\n",
       "    <tr>\n",
       "      <th>117204</th>\n",
       "      <td>City Hotel</td>\n",
       "      <td>0</td>\n",
       "      <td>2.0</td>\n",
       "      <td>0</td>\n",
       "      <td>Check-Out</td>\n",
       "    </tr>\n",
       "    <tr>\n",
       "      <th>117274</th>\n",
       "      <td>City Hotel</td>\n",
       "      <td>0</td>\n",
       "      <td>2.0</td>\n",
       "      <td>0</td>\n",
       "      <td>Check-Out</td>\n",
       "    </tr>\n",
       "    <tr>\n",
       "      <th>117303</th>\n",
       "      <td>City Hotel</td>\n",
       "      <td>0</td>\n",
       "      <td>2.0</td>\n",
       "      <td>0</td>\n",
       "      <td>Check-Out</td>\n",
       "    </tr>\n",
       "    <tr>\n",
       "      <th>117453</th>\n",
       "      <td>City Hotel</td>\n",
       "      <td>0</td>\n",
       "      <td>2.0</td>\n",
       "      <td>0</td>\n",
       "      <td>Check-Out</td>\n",
       "    </tr>\n",
       "    <tr>\n",
       "      <th>118200</th>\n",
       "      <td>City Hotel</td>\n",
       "      <td>0</td>\n",
       "      <td>3.0</td>\n",
       "      <td>0</td>\n",
       "      <td>Check-Out</td>\n",
       "    </tr>\n",
       "  </tbody>\n",
       "</table>\n",
       "<p>403 rows × 5 columns</p>\n",
       "</div>"
      ],
      "text/plain": [
       "               hotel  adults  children  babies reservation_status\n",
       "2224    Resort Hotel       0       0.0       0          Check-Out\n",
       "2409    Resort Hotel       0       0.0       0          Check-Out\n",
       "3181    Resort Hotel       0       0.0       0          Check-Out\n",
       "3684    Resort Hotel       0       0.0       0          Check-Out\n",
       "3708    Resort Hotel       0       0.0       0          Check-Out\n",
       "...              ...     ...       ...     ...                ...\n",
       "117204    City Hotel       0       2.0       0          Check-Out\n",
       "117274    City Hotel       0       2.0       0          Check-Out\n",
       "117303    City Hotel       0       2.0       0          Check-Out\n",
       "117453    City Hotel       0       2.0       0          Check-Out\n",
       "118200    City Hotel       0       3.0       0          Check-Out\n",
       "\n",
       "[403 rows x 5 columns]"
      ]
     },
     "execution_count": 44,
     "metadata": {},
     "output_type": "execute_result"
    }
   ],
   "source": [
    "df.loc[(df.adults==0),['hotel','adults','children','babies','reservation_status']]"
   ]
  },
  {
   "cell_type": "markdown",
   "id": "6ca71187",
   "metadata": {},
   "source": [
    "**These looks to be errorneous records. Assiging a room to babies and children without adults does not seem to be correct**"
   ]
  },
  {
   "cell_type": "code",
   "execution_count": 45,
   "id": "6b1130cc",
   "metadata": {},
   "outputs": [],
   "source": [
    "df=df[~(df.adults==0)]"
   ]
  },
  {
   "cell_type": "markdown",
   "id": "a8496d1c",
   "metadata": {},
   "source": [
    "- People generally dont tend to book a room or travel with their children\n",
    "- Very few people travel having kids >2\n",
    "- Couples made the most of the bookings which accounts for 75%"
   ]
  },
  {
   "cell_type": "code",
   "execution_count": 46,
   "id": "97615d47",
   "metadata": {},
   "outputs": [
    {
     "data": {
      "image/png": "[encoded data removed]",
      "text/plain": [
       "<Figure size 432x288 with 1 Axes>"
      ]
     },
     "metadata": {},
     "output_type": "display_data"
    }
   ],
   "source": [
    "var=df.groupby('hotel')['adults'].value_counts(normalize=True).rename('percent').mul(100).reset_index()  \n",
    "sns.barplot(data=var,x='adults', y='percent',hue='hotel')\n",
    "plt.legend(bbox_to_anchor=(1,1), loc='upper right')\n",
    "plt.show()"
   ]
  },
  {
   "cell_type": "code",
   "execution_count": 47,
   "id": "32c499b0",
   "metadata": {},
   "outputs": [
    {
     "data": {
      "text/html": [
       "<div>\n",
       "<style scoped>\n",
       "    .dataframe tbody tr th:only-of-type {\n",
       "        vertical-align: middle;\n",
       "    }\n",
       "\n",
       "    .dataframe tbody tr th {\n",
       "        vertical-align: top;\n",
       "    }\n",
       "\n",
       "    .dataframe thead th {\n",
       "        text-align: right;\n",
       "    }\n",
       "</style>\n",
       "<table border=\"1\" class=\"dataframe\">\n",
       "  <thead>\n",
       "    <tr style=\"text-align: right;\">\n",
       "      <th></th>\n",
       "      <th>adults</th>\n",
       "      <th>is_canceled</th>\n",
       "    </tr>\n",
       "    <tr>\n",
       "      <th>hotel</th>\n",
       "      <th></th>\n",
       "      <th></th>\n",
       "    </tr>\n",
       "  </thead>\n",
       "  <tbody>\n",
       "    <tr>\n",
       "      <th>City Hotel</th>\n",
       "      <td>69</td>\n",
       "      <td>0.188406</td>\n",
       "    </tr>\n",
       "    <tr>\n",
       "      <th>Resort Hotel</th>\n",
       "      <td>103</td>\n",
       "      <td>0.194175</td>\n",
       "    </tr>\n",
       "  </tbody>\n",
       "</table>\n",
       "</div>"
      ],
      "text/plain": [
       "              adults  is_canceled\n",
       "hotel                            \n",
       "City Hotel        69     0.188406\n",
       "Resort Hotel     103     0.194175"
      ]
     },
     "execution_count": 47,
     "metadata": {},
     "output_type": "execute_result"
    }
   ],
   "source": [
    "# Check how many customers travelled with both children and babies\n",
    "\n",
    "df[(df.babies !=0) & (df.children !=0)].groupby('hotel')[['adults','is_canceled']].agg({'adults':'count', \n",
    "                                                                                      'is_canceled':'mean'\n",
    "                                                                                     })"
   ]
  },
  {
   "cell_type": "code",
   "execution_count": 48,
   "id": "a21d886c",
   "metadata": {},
   "outputs": [
    {
     "data": {
      "image/png": "[encoded data removed]",
      "text/plain": [
       "<Figure size 432x288 with 1 Axes>"
      ]
     },
     "metadata": {},
     "output_type": "display_data"
    }
   ],
   "source": [
    "#with both children and babies\n",
    "\n",
    "var=df[(df.babies !=0) & (df.children !=0)].groupby('hotel')['adults'].value_counts(normalize=True).rename('percent').mul(\n",
    "    100).reset_index()  \n",
    "sns.barplot(data=var,x='adults', y='percent',hue='hotel')\n",
    "plt.show()"
   ]
  },
  {
   "cell_type": "code",
   "execution_count": 49,
   "id": "ced351b7",
   "metadata": {},
   "outputs": [
    {
     "data": {
      "text/html": [
       "<div>\n",
       "<style scoped>\n",
       "    .dataframe tbody tr th:only-of-type {\n",
       "        vertical-align: middle;\n",
       "    }\n",
       "\n",
       "    .dataframe tbody tr th {\n",
       "        vertical-align: top;\n",
       "    }\n",
       "\n",
       "    .dataframe thead th {\n",
       "        text-align: right;\n",
       "    }\n",
       "</style>\n",
       "<table border=\"1\" class=\"dataframe\">\n",
       "  <thead>\n",
       "    <tr style=\"text-align: right;\">\n",
       "      <th></th>\n",
       "      <th>adults</th>\n",
       "      <th>is_canceled</th>\n",
       "    </tr>\n",
       "    <tr>\n",
       "      <th>hotel</th>\n",
       "      <th></th>\n",
       "      <th></th>\n",
       "    </tr>\n",
       "  </thead>\n",
       "  <tbody>\n",
       "    <tr>\n",
       "      <th>City Hotel</th>\n",
       "      <td>5180</td>\n",
       "      <td>0.343243</td>\n",
       "    </tr>\n",
       "    <tr>\n",
       "      <th>Resort Hotel</th>\n",
       "      <td>3929</td>\n",
       "      <td>0.355561</td>\n",
       "    </tr>\n",
       "  </tbody>\n",
       "</table>\n",
       "</div>"
      ],
      "text/plain": [
       "              adults  is_canceled\n",
       "hotel                            \n",
       "City Hotel      5180     0.343243\n",
       "Resort Hotel    3929     0.355561"
      ]
     },
     "execution_count": 49,
     "metadata": {},
     "output_type": "execute_result"
    }
   ],
   "source": [
    "df[(df.babies !=0) | (df.children !=0)].groupby('hotel')[['adults','is_canceled']].agg({'adults':'count', \n",
    "                                                                                      'is_canceled':'mean'\n",
    "                                                                                     })\n"
   ]
  },
  {
   "cell_type": "code",
   "execution_count": 50,
   "id": "0a9d94a6",
   "metadata": {},
   "outputs": [
    {
     "data": {
      "image/png": "[encoded data removed]",
      "text/plain": [
       "<Figure size 432x288 with 1 Axes>"
      ]
     },
     "metadata": {},
     "output_type": "display_data"
    }
   ],
   "source": [
    "# with either children or babies\n",
    "\n",
    "var=df[(df.babies !=0) | (df.children !=0)].groupby('hotel')['adults'].value_counts(normalize=True).rename('percent').mul(\n",
    "    100).reset_index()  \n",
    "sns.barplot(data=var,x='adults', y='percent',hue='hotel')\n",
    "plt.show()"
   ]
  },
  {
   "cell_type": "code",
   "execution_count": 51,
   "id": "bff29b07",
   "metadata": {},
   "outputs": [
    {
     "data": {
      "image/png": "[encoded data removed]",
      "text/plain": [
       "<Figure size 432x288 with 1 Axes>"
      ]
     },
     "metadata": {},
     "output_type": "display_data"
    }
   ],
   "source": [
    "# without Children and babies\n",
    "\n",
    "var=df[(df.babies ==0) & (df.children ==0)].groupby('hotel')['adults'].value_counts(normalize=True).rename('percent').mul(\n",
    "    100).reset_index()  \n",
    "sns.barplot(data=var,x='adults', y='percent',hue='hotel')\n",
    "plt.legend(bbox_to_anchor=(1,1),loc='upper right')\n",
    "plt.show()"
   ]
  },
  {
   "cell_type": "markdown",
   "id": "5bb50a77",
   "metadata": {},
   "source": [
    "**Analysis Result**\n",
    "- Very few people travelled with children >2\n",
    "- People generally dont tend to book a room or travel with their children\n",
    "- Couples made the most of the bookings which accounts for 75% and prefer resorts over city hotels\n",
    "- Singles tend to stay more in city hotels\n",
    "- Adults with both children and babies tend to prefer resorts although not that significant\n",
    "- Adults with either children or babies tend to prefer city hotels although not that significant\n",
    "- Hotels can start creche facility to lure in more customers with babies/ children"
   ]
  },
  {
   "cell_type": "markdown",
   "id": "b5f0dca2",
   "metadata": {},
   "source": [
    "## Meals and Stays"
   ]
  },
  {
   "cell_type": "code",
   "execution_count": 52,
   "id": "737918ab",
   "metadata": {},
   "outputs": [
    {
     "data": {
      "image/png": "[encoded data removed]",
      "text/plain": [
       "<Figure size 432x288 with 1 Axes>"
      ]
     },
     "metadata": {},
     "output_type": "display_data"
    }
   ],
   "source": [
    "df.meal.value_counts(normalize=True).plot.bar()\n",
    "plt.show()"
   ]
  },
  {
   "cell_type": "code",
   "execution_count": 53,
   "id": "8dcb23f5",
   "metadata": {},
   "outputs": [
    {
     "data": {
      "image/png": "[encoded data removed]",
      "text/plain": [
       "<Figure size 432x288 with 1 Axes>"
      ]
     },
     "metadata": {},
     "output_type": "display_data"
    }
   ],
   "source": [
    "var=df.groupby('hotel')['meal'].value_counts(normalize=True).rename('percentage').mul(100).reset_index()\n",
    "sns.barplot(x='meal',y='percentage',data=var,hue='hotel')\n",
    "plt.show()"
   ]
  },
  {
   "cell_type": "markdown",
   "id": "b0856a70",
   "metadata": {},
   "source": [
    "- The most preferred options is Bed and Breakfast for City hotel and resorts\n",
    "- One thing to note is SC in Resort is almot non existent. While in city hotels it is the second most preferred option.\n",
    "- Could be due to the fact that resorts are generally far away from cities."
   ]
  },
  {
   "cell_type": "markdown",
   "id": "c526ab78",
   "metadata": {},
   "source": [
    "### Stays with Meals\n",
    "\n",
    "**Without Children and babies**"
   ]
  },
  {
   "cell_type": "code",
   "execution_count": 54,
   "id": "e7583bf4",
   "metadata": {},
   "outputs": [
    {
     "data": {
      "image/png": "[encoded data removed]",
      "text/plain": [
       "<Figure size 1620x360 with 2 Axes>"
      ]
     },
     "metadata": {},
     "output_type": "display_data"
    }
   ],
   "source": [
    "var=df[(df.babies ==0) & (df.children ==0)].groupby(by=['hotel','adults','meal'])['Total_Stay'].agg('mean').rename('Mean').reset_index()  \n",
    "\n",
    "g=sns.FacetGrid(data=var,col='hotel', height=5, aspect=1.5, col_wrap=3)\n",
    "g.map_dataframe(sns.barplot, x='adults', y='Mean',hue='meal')\n",
    "plt.legend(bbox_to_anchor=(1.05, 1), loc='upper left')\n",
    "plt.show()"
   ]
  },
  {
   "cell_type": "code",
   "execution_count": 55,
   "id": "c3ca2dc1",
   "metadata": {},
   "outputs": [
    {
     "data": {
      "image/png": "[encoded data removed]",
      "text/plain": [
       "<Figure size 720x504 with 1 Axes>"
      ]
     },
     "metadata": {},
     "output_type": "display_data"
    }
   ],
   "source": [
    "\n",
    "plt.figure(figsize=(10,7))\n",
    "var=df[(df.babies ==0) & (df.children ==0)].groupby(by=['meal','adults'])['Total_Stay'].agg('mean').rename('Mean').reset_index()  \n",
    "sns.barplot(data=var,x='adults', y='Mean',hue='meal')\n",
    "plt.legend(bbox_to_anchor=(1.05, 1), loc='upper left')\n",
    "plt.show()"
   ]
  },
  {
   "cell_type": "markdown",
   "id": "177db176",
   "metadata": {},
   "source": [
    "**Without Kids**\n",
    "\n",
    "**Resorts**:\n",
    "- Stays in resorts is more than 3 days\n",
    "- SC is the most preferred option for couples followed by FB with average stay of 8 days\n",
    "- BB is most preferred by guests and they have average stay of a week\n",
    "- Adults >2 also tend to stay longer for around 5 days.\n",
    "\n",
    "**City Hotel**\n",
    "- Average stay is less than 3 days\n",
    "- No specific pattern with meal type and stay"
   ]
  },
  {
   "cell_type": "markdown",
   "id": "280bbc88",
   "metadata": {},
   "source": [
    "**With either Children and babies or both**"
   ]
  },
  {
   "cell_type": "code",
   "execution_count": 56,
   "id": "6b2b3d8b",
   "metadata": {},
   "outputs": [
    {
     "data": {
      "image/png": "[encoded data removed]",
      "text/plain": [
       "<Figure size 1620x360 with 2 Axes>"
      ]
     },
     "metadata": {},
     "output_type": "display_data"
    }
   ],
   "source": [
    "var=df[(df.babies !=0) | (df.children !=0)].groupby(by=['hotel','adults','meal'])['Total_Stay'].agg('mean').rename('Mean').reset_index()  \n",
    "\n",
    "g=sns.FacetGrid(data=var,col='hotel', height=5, aspect=1.5, col_wrap=3)\n",
    "g.map_dataframe(sns.barplot, x='adults', y='Mean',hue='meal')\n",
    "plt.legend(bbox_to_anchor=(1.05, 1), loc='upper left')\n",
    "plt.show()"
   ]
  },
  {
   "cell_type": "code",
   "execution_count": 57,
   "id": "917068d6",
   "metadata": {},
   "outputs": [
    {
     "data": {
      "image/png": "[encoded data removed]",
      "text/plain": [
       "<Figure size 720x504 with 1 Axes>"
      ]
     },
     "metadata": {},
     "output_type": "display_data"
    }
   ],
   "source": [
    "\n",
    "plt.figure(figsize=(10,7))\n",
    "var=df[(df.babies !=0) | (df.children !=0)].groupby(by=['meal','adults'])['Total_Stay'].agg('mean').rename('Mean').reset_index()  \n",
    "sns.barplot(data=var,x='adults', y='Mean',hue='meal')\n",
    "plt.legend(bbox_to_anchor=(1.05, 1), loc='upper left')\n",
    "plt.show()"
   ]
  },
  {
   "cell_type": "markdown",
   "id": "a012f23c",
   "metadata": {},
   "source": [
    "**With Kids**\n",
    "\n",
    "**City Hotels**\n"
   ]
  },
  {
   "cell_type": "markdown",
   "id": "9bec2e35",
   "metadata": {},
   "source": [
    "### Stays\n",
    "\n",
    "**Without Children and Babies**"
   ]
  },
  {
   "cell_type": "code",
   "execution_count": 58,
   "id": "aa8f209c",
   "metadata": {},
   "outputs": [
    {
     "data": {
      "image/png": "[encoded data removed]",
      "text/plain": [
       "<Figure size 720x504 with 1 Axes>"
      ]
     },
     "metadata": {},
     "output_type": "display_data"
    }
   ],
   "source": [
    "plt.figure(figsize=(10,7))\n",
    "var=df[(df.babies ==0) & (df.children ==0)].groupby(by=['hotel','adults'])['Total_Stay'].agg('mean').rename('Mean').reset_index()  \n",
    "sns.barplot(data=var,x='adults', y='Mean',hue='hotel')\n",
    "plt.legend(bbox_to_anchor=(1.05, 1), loc='upper left')\n",
    "plt.show()"
   ]
  },
  {
   "cell_type": "markdown",
   "id": "440d3d55",
   "metadata": {},
   "source": [
    "**With Children and babies**"
   ]
  },
  {
   "cell_type": "code",
   "execution_count": 59,
   "id": "9a4b48e8",
   "metadata": {},
   "outputs": [
    {
     "data": {
      "image/png": "[encoded data removed]",
      "text/plain": [
       "<Figure size 720x504 with 1 Axes>"
      ]
     },
     "metadata": {},
     "output_type": "display_data"
    }
   ],
   "source": [
    "plt.figure(figsize=(10,7))\n",
    "var=df.groupby(by=['hotel','adults'])['Total_Stay'].agg('mean').rename('Mean').reset_index()  \n",
    "sns.barplot(data=var,x='adults', y='Mean',hue='hotel')\n",
    "plt.legend(bbox_to_anchor=(1.05, 1), loc='upper left')\n",
    "plt.show()"
   ]
  },
  {
   "cell_type": "markdown",
   "id": "2a83d2fe",
   "metadata": {},
   "source": [
    "### Analysis Result\n",
    "\n",
    "- As we can see that most preferred options is Bed and Breakfast only\n",
    "- One thing to note is SC in Resort is almot non existent. While in city hotels it is the second most preferred option. Could be due to the fact that resorts are generally far away from cities.\n",
    "- BB category is predomimnantly taken by group booking but they tend to stay longer for nearly a week. The remaining SC category the stay is at the max to 3 days\n",
    "- For longer stays Resorts are the preffered options\n",
    "- Tour groups uses Resorts only for stays with BB as the preferred meal plan\n",
    "- Tour groups dont travel with children or babies\n",
    "\n",
    "**Without Kids**\n",
    "\n",
    "*Resorts:*\n",
    "- Stays in resorts is more than 3 days\n",
    "- SC is the most preferred option for couples followed by FB with average stay of 8 days\n",
    "- BB is most preferred by guests and they have average stay of a week\n",
    "- Adults >2 also tend to stay longer for around 5 days with FB is most preferred option followed by HB\n",
    "\n",
    "*City Hotel:*\n",
    "- Average stay is less than 3 days\n",
    "- No specific pattern with meal type and stay\n",
    "\n",
    "\n",
    "**With Kids**\n",
    "\n",
    "*Resorts:*\n",
    "- FB and HB meals preferred by parents rather than couples without children or babies with average stay around 4 days. \n",
    "- Could be due to the fact from past experiences of staying in the resort it made more sense to have FB and HB meals\n",
    "\n",
    "*City Hotels:*\n",
    "- FB is most preferred with average stay of less than 4 days"
   ]
  },
  {
   "cell_type": "markdown",
   "id": "2ab8b7ad",
   "metadata": {},
   "source": [
    "## Country and market Segment"
   ]
  },
  {
   "cell_type": "code",
   "execution_count": 60,
   "id": "3d05e29c",
   "metadata": {},
   "outputs": [
    {
     "data": {
      "text/plain": [
       "PRT    0.407103\n",
       "GBR    0.101734\n",
       "FRA    0.087203\n",
       "ESP    0.071823\n",
       "DEU    0.061108\n",
       "Name: country, dtype: float64"
      ]
     },
     "execution_count": 60,
     "metadata": {},
     "output_type": "execute_result"
    }
   ],
   "source": [
    "df.country.value_counts(normalize=True).head()"
   ]
  },
  {
   "cell_type": "code",
   "execution_count": 61,
   "id": "5942b600",
   "metadata": {},
   "outputs": [
    {
     "data": {
      "text/plain": [
       "Online TA        0.472497\n",
       "Offline TA/TO    0.203207\n",
       "Groups           0.166329\n",
       "Direct           0.105499\n",
       "Corporate        0.044391\n",
       "Complementary    0.006085\n",
       "Aviation         0.001975\n",
       "Undefined        0.000017\n",
       "Name: market_segment, dtype: float64"
      ]
     },
     "execution_count": 61,
     "metadata": {},
     "output_type": "execute_result"
    }
   ],
   "source": [
    "df.market_segment.value_counts(normalize=True)"
   ]
  },
  {
   "cell_type": "code",
   "execution_count": 62,
   "id": "a81a234e",
   "metadata": {},
   "outputs": [
    {
     "data": {
      "text/plain": [
       "country  market_segment\n",
       "DEU      Online TA         0.546417\n",
       "         Offline TA/TO     0.306010\n",
       "         Groups            0.081694\n",
       "         Direct            0.057076\n",
       "         Corporate         0.006877\n",
       "         Aviation          0.001100\n",
       "         Complementary     0.000825\n",
       "ESP      Online TA         0.626726\n",
       "         Groups            0.124386\n",
       "         Direct            0.121928\n",
       "         Offline TA/TO     0.106132\n",
       "         Corporate         0.017903\n",
       "         Aviation          0.001521\n",
       "         Complementary     0.001404\n",
       "FRA      Online TA         0.609676\n",
       "         Offline TA/TO     0.215401\n",
       "         Direct            0.097436\n",
       "         Groups            0.058115\n",
       "         Corporate         0.018022\n",
       "         Aviation          0.001060\n",
       "         Complementary     0.000289\n",
       "GBR      Online TA         0.537299\n",
       "         Offline TA/TO     0.253119\n",
       "         Groups            0.124742\n",
       "         Direct            0.072449\n",
       "         Corporate         0.010409\n",
       "         Complementary     0.001652\n",
       "         Aviation          0.000330\n",
       "PRT      Groups            0.286540\n",
       "         Offline TA/TO     0.246945\n",
       "         Online TA         0.245974\n",
       "         Direct            0.120252\n",
       "         Corporate         0.084620\n",
       "         Complementary     0.013501\n",
       "         Aviation          0.002126\n",
       "         Undefined         0.000041\n",
       "Name: market_segment, dtype: float64"
      ]
     },
     "execution_count": 62,
     "metadata": {},
     "output_type": "execute_result"
    }
   ],
   "source": [
    "\n",
    "df.loc[(df['country'].isin(['PRT','GBR','FRA','ESP','DEU'])),\n",
    "       ['market_segment','country']].groupby('country')['market_segment'].value_counts(normalize=True)\n"
   ]
  },
  {
   "cell_type": "markdown",
   "id": "ccb904a9",
   "metadata": {},
   "source": [
    "Top 5 countries preferred booking choices"
   ]
  },
  {
   "cell_type": "code",
   "execution_count": 63,
   "id": "2c394568",
   "metadata": {},
   "outputs": [
    {
     "data": {
      "image/png": "[encoded data removed]",
      "text/plain": [
       "<Figure size 720x504 with 1 Axes>"
      ]
     },
     "metadata": {},
     "output_type": "display_data"
    }
   ],
   "source": [
    "plt.figure(figsize=[10,7])\n",
    "var=df.loc[(df['country'].isin(\n",
    "    df.country.value_counts(normalize=True).head().index)),\n",
    "       ['market_segment','country']].groupby('country')['market_segment'].value_counts(normalize=True).rename('Percent').mul(\n",
    "    100).reset_index()\n",
    "\n",
    "# nation=['PRT','GBR','FRA','ESP','DEU']\n",
    "# sns.displot(x=df.market_segment, kde=True, norm_hist=True)\n",
    "sns.barplot(data=var,x='market_segment',y='Percent',hue='country')\n",
    "plt.legend(bbox_to_anchor=(1,1),loc='upper right')\n",
    "# plt.xticks(rotation=90)\n",
    "plt.show()"
   ]
  },
  {
   "cell_type": "markdown",
   "id": "45259459",
   "metadata": {},
   "source": [
    "### Analysis Result\n",
    "\n",
    "- Portugal is the country with maximum tourist\n",
    "- Online TA is the most preferred choice with bookings above 50% except for Portugal\n",
    "- For Portugal there is no one preffered choice like others\n"
   ]
  },
  {
   "cell_type": "markdown",
   "id": "aa194e0f",
   "metadata": {},
   "source": [
    "## ADR and Room Type"
   ]
  },
  {
   "cell_type": "code",
   "execution_count": 64,
   "id": "7b56d11e",
   "metadata": {},
   "outputs": [
    {
     "data": {
      "image/png": "[encoded data removed]",
      "text/plain": [
       "<Figure size 432x288 with 1 Axes>"
      ]
     },
     "metadata": {},
     "output_type": "display_data"
    }
   ],
   "source": [
    "#Which roomtype had most ADR across hotels\n",
    "sns.barplot(x=df.assigned_room_type, y=df.adr)\n",
    "plt.show()"
   ]
  },
  {
   "cell_type": "markdown",
   "id": "32e709b7",
   "metadata": {},
   "source": [
    "Room G, F and H are the ones with most ADR"
   ]
  },
  {
   "cell_type": "code",
   "execution_count": 65,
   "id": "d9346cde",
   "metadata": {},
   "outputs": [
    {
     "data": {
      "image/png": "[encoded data removed]",
      "text/plain": [
       "<Figure size 720x504 with 1 Axes>"
      ]
     },
     "metadata": {},
     "output_type": "display_data"
    }
   ],
   "source": [
    "# Which Room type has max ADR and in which hotel\n",
    "\n",
    "plt.figure(figsize=(10,7))\n",
    "sns.barplot(data=df,x='assigned_room_type',y='adr',hue='hotel')\n",
    "plt.show()"
   ]
  },
  {
   "cell_type": "markdown",
   "id": "3e5d07db",
   "metadata": {},
   "source": [
    "Rooms G, F and E have maximum ADR in City Hotels. \n",
    "\n",
    "Room H has maximum ADR in Resorts followed by G and F with the most ADR"
   ]
  },
  {
   "cell_type": "markdown",
   "id": "ced4f172",
   "metadata": {},
   "source": [
    "#### ADR with Meal Type"
   ]
  },
  {
   "cell_type": "code",
   "execution_count": 66,
   "id": "3f1507d9",
   "metadata": {},
   "outputs": [
    {
     "data": {
      "image/png": "[encoded data removed]",
      "text/plain": [
       "<Figure size 432x288 with 1 Axes>"
      ]
     },
     "metadata": {},
     "output_type": "display_data"
    }
   ],
   "source": [
    "var=df.groupby(by=['hotel','meal'])['adr'].mean().rename('Mean Rate').reset_index()\n",
    "\n",
    "sns.barplot(data=var,x='meal',y='Mean Rate',hue='hotel')\n",
    "plt.legend(bbox_to_anchor=(1,1),loc='upper left')\n",
    "plt.show()"
   ]
  },
  {
   "cell_type": "markdown",
   "id": "a719b0ee",
   "metadata": {},
   "source": [
    "- HB and BB is the most preferred choice for City hotels\n",
    "- For Resorts, HB is closely followed by FB"
   ]
  },
  {
   "cell_type": "markdown",
   "id": "20134ea6",
   "metadata": {},
   "source": [
    "#### Room Type and Kids"
   ]
  },
  {
   "cell_type": "code",
   "execution_count": 67,
   "id": "e60c211a",
   "metadata": {},
   "outputs": [
    {
     "data": {
      "image/png": "[encoded data removed]",
      "text/plain": [
       "<Figure size 432x288 with 1 Axes>"
      ]
     },
     "metadata": {},
     "output_type": "display_data"
    }
   ],
   "source": [
    "# Which Room had the most children or babies per hotel\n",
    "sns.countplot(data=df[(df['children']!=0) | (df['babies']!=0)], x='assigned_room_type',hue='hotel')\n",
    "plt.legend(bbox_to_anchor=(1,1), loc='upper left')\n",
    "plt.show()"
   ]
  },
  {
   "cell_type": "code",
   "execution_count": 68,
   "id": "71c4efb2",
   "metadata": {},
   "outputs": [
    {
     "data": {
      "image/png": "[encoded data removed]",
      "text/plain": [
       "<Figure size 432x288 with 1 Axes>"
      ]
     },
     "metadata": {},
     "output_type": "display_data"
    }
   ],
   "source": [
    "\n",
    "\n",
    "var=df[(df['children']!=0) |  (df['babies']!=0) ].groupby(by=['hotel'])['assigned_room_type'].value_counts(\n",
    "    normalize=True).rename('Kids_Percent').mul(100).reset_index()\n",
    "\n",
    "\n",
    "sns.barplot(data=var, x='assigned_room_type',y='Kids_Percent', hue='hotel')\n",
    "plt.legend(bbox_to_anchor=(1,1), loc='upper left')\n",
    "plt.show()"
   ]
  },
  {
   "cell_type": "markdown",
   "id": "8935af2a",
   "metadata": {},
   "source": [
    "- For City Hotel, room A, F and D had the most children or babies\n",
    "- For Resorts, Room G was the most preferred by people with babies or children. This was followed by room C and then room H"
   ]
  },
  {
   "cell_type": "markdown",
   "id": "c875e87f",
   "metadata": {},
   "source": [
    "#### Meal Type and ADR"
   ]
  },
  {
   "cell_type": "code",
   "execution_count": 69,
   "id": "95a1142f",
   "metadata": {},
   "outputs": [
    {
     "data": {
      "image/png": "[encoded data removed]",
      "text/plain": [
       "<Figure size 432x288 with 1 Axes>"
      ]
     },
     "metadata": {},
     "output_type": "display_data"
    }
   ],
   "source": [
    "sns.barplot(data=df, x='meal',y='adr', hue='hotel')\n",
    "plt.legend(bbox_to_anchor=(1,1), loc='upper left')\n",
    "plt.show()"
   ]
  },
  {
   "cell_type": "markdown",
   "id": "921ec01d",
   "metadata": {},
   "source": [
    "#### ADR, Room Type and Kids"
   ]
  },
  {
   "cell_type": "code",
   "execution_count": 70,
   "id": "7dee4b18",
   "metadata": {},
   "outputs": [
    {
     "data": {
      "image/png": "[encoded data removed]",
      "text/plain": [
       "<Figure size 432x288 with 1 Axes>"
      ]
     },
     "metadata": {},
     "output_type": "display_data"
    }
   ],
   "source": [
    "# Which Room type has max ADR and in which hotel that hosted Children or babies\n",
    "\n",
    "var=df[(df['children']!=0) | (df['babies']!=0)].groupby(by=['hotel','assigned_room_type'])['adr'].mean().rename('Mean ADR').reset_index()\n",
    "\n",
    "\n",
    "sns.barplot(data=var, x='assigned_room_type',y='Mean ADR', hue='hotel')\n",
    "plt.legend(bbox_to_anchor=(1,1), loc='upper left')\n",
    "plt.show()"
   ]
  },
  {
   "cell_type": "markdown",
   "id": "b1ddb83f",
   "metadata": {},
   "source": [
    "**Rooms that hosted Children or babies with most ADR is as follows:**\n",
    "- City Hotels: Room G, followed by F and E\n",
    "- Resorts: Room H followed by room G and F\n",
    "\n",
    "***There seems to be a relation between ADR, Assigned room Type and Children***"
   ]
  },
  {
   "cell_type": "code",
   "execution_count": 71,
   "id": "ab6a927d",
   "metadata": {},
   "outputs": [
    {
     "data": {
      "text/html": [
       "<div>\n",
       "<style scoped>\n",
       "    .dataframe tbody tr th:only-of-type {\n",
       "        vertical-align: middle;\n",
       "    }\n",
       "\n",
       "    .dataframe tbody tr th {\n",
       "        vertical-align: top;\n",
       "    }\n",
       "\n",
       "    .dataframe thead th {\n",
       "        text-align: right;\n",
       "    }\n",
       "</style>\n",
       "<table border=\"1\" class=\"dataframe\">\n",
       "  <thead>\n",
       "    <tr style=\"text-align: right;\">\n",
       "      <th>children</th>\n",
       "      <th>1.0</th>\n",
       "      <th>2.0</th>\n",
       "      <th>3.0</th>\n",
       "      <th>10.0</th>\n",
       "    </tr>\n",
       "    <tr>\n",
       "      <th>assigned_room_type</th>\n",
       "      <th></th>\n",
       "      <th></th>\n",
       "      <th></th>\n",
       "      <th></th>\n",
       "    </tr>\n",
       "  </thead>\n",
       "  <tbody>\n",
       "    <tr>\n",
       "      <th>A</th>\n",
       "      <td>129.604864</td>\n",
       "      <td>123.032600</td>\n",
       "      <td>0.000000</td>\n",
       "      <td>0.00</td>\n",
       "    </tr>\n",
       "    <tr>\n",
       "      <th>B</th>\n",
       "      <td>120.438750</td>\n",
       "      <td>135.953636</td>\n",
       "      <td>116.130000</td>\n",
       "      <td>0.00</td>\n",
       "    </tr>\n",
       "    <tr>\n",
       "      <th>C</th>\n",
       "      <td>141.011260</td>\n",
       "      <td>175.092414</td>\n",
       "      <td>201.700000</td>\n",
       "      <td>0.00</td>\n",
       "    </tr>\n",
       "    <tr>\n",
       "      <th>D</th>\n",
       "      <td>129.173576</td>\n",
       "      <td>133.689535</td>\n",
       "      <td>0.000000</td>\n",
       "      <td>133.16</td>\n",
       "    </tr>\n",
       "    <tr>\n",
       "      <th>E</th>\n",
       "      <td>155.234164</td>\n",
       "      <td>173.967887</td>\n",
       "      <td>215.000000</td>\n",
       "      <td>0.00</td>\n",
       "    </tr>\n",
       "    <tr>\n",
       "      <th>F</th>\n",
       "      <td>177.335731</td>\n",
       "      <td>194.207387</td>\n",
       "      <td>234.625000</td>\n",
       "      <td>0.00</td>\n",
       "    </tr>\n",
       "    <tr>\n",
       "      <th>G</th>\n",
       "      <td>174.169114</td>\n",
       "      <td>189.113615</td>\n",
       "      <td>245.820652</td>\n",
       "      <td>0.00</td>\n",
       "    </tr>\n",
       "    <tr>\n",
       "      <th>H</th>\n",
       "      <td>192.360840</td>\n",
       "      <td>180.055909</td>\n",
       "      <td>159.933000</td>\n",
       "      <td>0.00</td>\n",
       "    </tr>\n",
       "    <tr>\n",
       "      <th>I</th>\n",
       "      <td>89.160909</td>\n",
       "      <td>95.825000</td>\n",
       "      <td>0.000000</td>\n",
       "      <td>0.00</td>\n",
       "    </tr>\n",
       "    <tr>\n",
       "      <th>K</th>\n",
       "      <td>97.295455</td>\n",
       "      <td>149.600000</td>\n",
       "      <td>0.000000</td>\n",
       "      <td>0.00</td>\n",
       "    </tr>\n",
       "  </tbody>\n",
       "</table>\n",
       "</div>"
      ],
      "text/plain": [
       "children                  1.0         2.0         3.0     10.0\n",
       "assigned_room_type                                            \n",
       "A                   129.604864  123.032600    0.000000    0.00\n",
       "B                   120.438750  135.953636  116.130000    0.00\n",
       "C                   141.011260  175.092414  201.700000    0.00\n",
       "D                   129.173576  133.689535    0.000000  133.16\n",
       "E                   155.234164  173.967887  215.000000    0.00\n",
       "F                   177.335731  194.207387  234.625000    0.00\n",
       "G                   174.169114  189.113615  245.820652    0.00\n",
       "H                   192.360840  180.055909  159.933000    0.00\n",
       "I                    89.160909   95.825000    0.000000    0.00\n",
       "K                    97.295455  149.600000    0.000000    0.00"
      ]
     },
     "execution_count": 71,
     "metadata": {},
     "output_type": "execute_result"
    }
   ],
   "source": [
    "res=pd.pivot_table(data=df[(df['children']!=0)], index='assigned_room_type', columns='children', values='adr').fillna(0)\n",
    "# sns.heatmap(res.corr(), annot=True, cmap='RdYlGn')\n",
    "\n",
    "res"
   ]
  },
  {
   "cell_type": "code",
   "execution_count": 72,
   "id": "70ef100f",
   "metadata": {},
   "outputs": [
    {
     "data": {
      "text/plain": [
       "<AxesSubplot:xlabel='children', ylabel='assigned_room_type'>"
      ]
     },
     "execution_count": 72,
     "metadata": {},
     "output_type": "execute_result"
    },
    {
     "data": {
      "image/png": "[encoded data removed]",
      "text/plain": [
       "<Figure size 720x432 with 2 Axes>"
      ]
     },
     "metadata": {},
     "output_type": "display_data"
    }
   ],
   "source": [
    "plt.figure(figsize=(10,6))\n",
    "sns.heatmap(res, annot=True, cmap='RdYlGn')"
   ]
  },
  {
   "cell_type": "markdown",
   "id": "bbba6f36",
   "metadata": {},
   "source": [
    "With 3 Children Room type G F and E had max ADR.\n",
    "With 2 Children Room Type G and F had max ADR.\n",
    "With 1 Children Room type H had max ADR"
   ]
  },
  {
   "cell_type": "code",
   "execution_count": 73,
   "id": "c52970f1",
   "metadata": {},
   "outputs": [
    {
     "data": {
      "image/png": "[encoded data removed]",
      "text/plain": [
       "<Figure size 1080x360 with 2 Axes>"
      ]
     },
     "metadata": {},
     "output_type": "display_data"
    }
   ],
   "source": [
    "# Average ADR with Children across hotels with kind of meal opted and room type\n",
    "var=df[(df['children']!=0) | (df['babies']!=0)].groupby(by=['hotel','meal','assigned_room_type'])['adr'].mean().rename('Mean ADR').reset_index()\n",
    "\n",
    "g= sns.FacetGrid(data=var, col='hotel',height=5, aspect = 1.5)\n",
    "g.map_dataframe(sns.barplot, x='assigned_room_type',y='Mean ADR', hue='meal')\n",
    "plt.legend(bbox_to_anchor=(1,1), loc='upper left')\n",
    "plt.show()"
   ]
  },
  {
   "cell_type": "code",
   "execution_count": 74,
   "id": "89d15e80",
   "metadata": {},
   "outputs": [
    {
     "data": {
      "image/png": "[encoded data removed]",
      "text/plain": [
       "<Figure size 1080x360 with 2 Axes>"
      ]
     },
     "metadata": {},
     "output_type": "display_data"
    }
   ],
   "source": [
    "var=df[df['babies']!=0].groupby(by=['hotel','meal','assigned_room_type'])['adr'].mean().rename('Mean ADR').reset_index()\n",
    "\n",
    "g= sns.FacetGrid(data=var, col='hotel',height=5, aspect = 1.5)\n",
    "g.map_dataframe(sns.barplot, x='assigned_room_type',y='Mean ADR', hue='meal')\n",
    "plt.legend(bbox_to_anchor=(1,1), loc='upper left')\n",
    "plt.show()"
   ]
  },
  {
   "cell_type": "code",
   "execution_count": 75,
   "id": "e8564afe",
   "metadata": {},
   "outputs": [
    {
     "data": {
      "image/png": "[encoded data removed]",
      "text/plain": [
       "<Figure size 1080x360 with 2 Axes>"
      ]
     },
     "metadata": {},
     "output_type": "display_data"
    }
   ],
   "source": [
    "var=df[df['children']!=0].groupby(by=['hotel','meal','assigned_room_type'])['adr'].mean().rename('Mean ADR').reset_index()\n",
    "\n",
    "g= sns.FacetGrid(data=var, col='hotel',height=5, aspect = 1.5)\n",
    "g.map_dataframe(sns.barplot, x='assigned_room_type',y='Mean ADR', hue='meal')\n",
    "plt.legend(bbox_to_anchor=(1,1), loc='upper left')\n",
    "plt.show()"
   ]
  },
  {
   "cell_type": "code",
   "execution_count": 76,
   "id": "5ece1dae",
   "metadata": {},
   "outputs": [
    {
     "data": {
      "text/plain": [
       "<AxesSubplot:xlabel='children', ylabel='adr'>"
      ]
     },
     "execution_count": 76,
     "metadata": {},
     "output_type": "execute_result"
    },
    {
     "data": {
      "image/png": "[encoded data removed]",
      "text/plain": [
       "<Figure size 432x288 with 1 Axes>"
      ]
     },
     "metadata": {},
     "output_type": "display_data"
    }
   ],
   "source": [
    "sns.barplot(data=df, x='children',y='adr', hue='hotel')"
   ]
  },
  {
   "cell_type": "code",
   "execution_count": 77,
   "id": "eb6fffe8",
   "metadata": {},
   "outputs": [
    {
     "data": {
      "text/plain": [
       "<AxesSubplot:xlabel='babies', ylabel='adr'>"
      ]
     },
     "execution_count": 77,
     "metadata": {},
     "output_type": "execute_result"
    },
    {
     "data": {
      "image/png": "[encoded data removed]",
      "text/plain": [
       "<Figure size 432x288 with 1 Axes>"
      ]
     },
     "metadata": {},
     "output_type": "display_data"
    }
   ],
   "source": [
    "sns.barplot(data=df, x='babies',y='adr', hue='hotel')"
   ]
  },
  {
   "cell_type": "markdown",
   "id": "f3a32829",
   "metadata": {},
   "source": [
    "### Analysis Result\n",
    "\n",
    "**Highest ADR**\n",
    "- Room G, F and H are the ones with most ADR\n",
    "- Rooms G, F and E have maximum ADR in **City Hotels**.\n",
    "- Room H has maximum ADR in **Resorts** followed by G and F with the most ADR\n",
    "\n",
    "**Rooms with most Kids**\n",
    "- For City Hotel, room A, F and D had the most children or babies\n",
    "- For Resorts, Room G was the most preferred by people with babies or children. This was followed by room C and then room H\n",
    "\n",
    "**Meal Type and ADR**\n",
    "- HB and BB is the most preferred choice for City hotels with maximum ADR\n",
    "- For Resorts, HB is closely followed by FB with most ADR\n",
    "- For SC category in resorts, that was predominantly the group bookings as seen earlier, the Average Daily Rate is nominal. This may be due to they have tour operating may have the meals are already adjusted within the tour package\n",
    "- HB has the maximum ADR.\n",
    "- For City Hotels, while booking we can ask the customers to opt for FB instead of HB as it may bring more value to customer\n",
    "\n",
    "\n",
    "**Rooms that hosted Children or babies with *most ADR* and meal Type is as follows:**\n",
    "***City Hotels:***\n",
    "- Room G, followed by F and E in term of max ADR\n",
    "- HB has max ADR in terms of meal type opted in Room type F and G\n",
    "- FB has mx ADR for Room D that has highed ADR\n",
    "- With Babies, FB is with max ADR in room type D, while HB has max ADR with Room type G, F and E in the same order\n",
    "- With Children, FB and HB had same pattern in max ADR with Room Type G, F and E in same order\n",
    "\n",
    "***Resorts***\n",
    "- Room H followed by room G and F with max ADR\n",
    "- Travellers in Room G  are the one that also opted for HB meals\n",
    "- Room H had the most ADR with FB followed by room G, C and E\n",
    "- Room type C has the most FB with max ADR\n",
    "- With Babies, Room H had maximum ADR with HB\n",
    "- With Babies, Room D had max ADR with FB\n",
    "- With Children, Room H had maximum ADR with FB and HB. \n",
    "- With Children, Room G has the second max ADR with both FB and HB\n"
   ]
  },
  {
   "cell_type": "markdown",
   "id": "82826129",
   "metadata": {},
   "source": [
    "# Car Parking"
   ]
  },
  {
   "cell_type": "code",
   "execution_count": 78,
   "id": "d2bca3b1",
   "metadata": {},
   "outputs": [
    {
     "data": {
      "image/png": "[encoded data removed]",
      "text/plain": [
       "<Figure size 432x288 with 1 Axes>"
      ]
     },
     "metadata": {},
     "output_type": "display_data"
    }
   ],
   "source": [
    "sns.barplot(data=df,x='hotel', y='required_car_parking_spaces', estimator=sum)\n",
    "plt.show()"
   ]
  },
  {
   "cell_type": "code",
   "execution_count": 79,
   "id": "2b73317d",
   "metadata": {},
   "outputs": [
    {
     "data": {
      "image/png": "[encoded data removed]",
      "text/plain": [
       "<Figure size 432x288 with 1 Axes>"
      ]
     },
     "metadata": {},
     "output_type": "display_data"
    }
   ],
   "source": [
    "sns.barplot(data=df,x='assigned_room_type', y='required_car_parking_spaces',hue='hotel', estimator=sum)\n",
    "plt.show()"
   ]
  },
  {
   "cell_type": "code",
   "execution_count": 80,
   "id": "6114436a",
   "metadata": {},
   "outputs": [
    {
     "data": {
      "image/png": "[encoded data removed]",
      "text/plain": [
       "<Figure size 432x288 with 1 Axes>"
      ]
     },
     "metadata": {},
     "output_type": "display_data"
    }
   ],
   "source": [
    "sns.barplot(data=df[(df['children']!=0) | (df['babies']!=0)],x='assigned_room_type', y='required_car_parking_spaces',hue='hotel', estimator=sum)\n",
    "plt.show()"
   ]
  },
  {
   "cell_type": "markdown",
   "id": "3415eff7",
   "metadata": {},
   "source": [
    "### Analysis Result\n",
    "\n",
    "- Car parking on resorts is almost 3 times than city hotels\n",
    "- Overall Room A and D has the maximum requirement of car parkings for resorts, while for city hotels room type A has max requirement\n",
    "- When further analyzing with babies or children we see that for city hotels the max requirement is with room type F (insignificant though). For Resorts, Rooms types G and C has the maximum need"
   ]
  }
 ],
 "metadata": {
  "kernelspec": {
   "display_name": "Python 3",
   "language": "python",
   "name": "python3"
  },
  "language_info": {
   "codemirror_mode": {
    "name": "ipython",
    "version": 3
   },
   "file_extension": ".py",
   "mimetype": "text/x-python",
   "name": "python",
   "nbconvert_exporter": "python",
   "pygments_lexer": "ipython3",
   "version": "3.8.8"
  }
 },
 "nbformat": 4,
 "nbformat_minor": 5
}
