{
 "cells": [
  {
   "cell_type": "code",
   "execution_count": 1,
   "id": "82c2bdac",
   "metadata": {},
   "outputs": [],
   "source": [
    "import pandas as pd\n",
    "import numpy as np\n",
    "import matplotlib.pyplot as plt\n",
    "import seaborn as sns\n",
    "from sklearn.preprocessing import StandardScaler, PowerTransformer\n",
    "from sklearn.model_selection import train_test_split\n",
    "from sklearn.decomposition import PCA\n",
    "from sklearn.pipeline import Pipeline\n",
    "from sklearn.ensemble import RandomForestClassifier"
   ]
  },
  {
   "cell_type": "code",
   "execution_count": 2,
   "id": "889e2e91",
   "metadata": {},
   "outputs": [],
   "source": [
    "import warnings\n",
    "warnings.filterwarnings('ignore')\n",
    "from sklearn.model_selection import GridSearchCV\n",
    "from sklearn import metrics"
   ]
  },
  {
   "cell_type": "code",
   "execution_count": 3,
   "id": "c8dce89a",
   "metadata": {},
   "outputs": [],
   "source": [
    "train=pd.read_csv('train.csv')\n",
    "test=pd.read_csv('test.csv')"
   ]
  },
  {
   "cell_type": "code",
   "execution_count": 4,
   "id": "0e41777b",
   "metadata": {},
   "outputs": [
    {
     "name": "stdout",
     "output_type": "stream",
     "text": [
      "<class 'pandas.core.frame.DataFrame'>\n",
      "RangeIndex: 42000 entries, 0 to 41999\n",
      "Columns: 785 entries, label to pixel783\n",
      "dtypes: int64(785)\n",
      "memory usage: 251.5 MB\n"
     ]
    }
   ],
   "source": [
    "train.info()"
   ]
  },
  {
   "cell_type": "code",
   "execution_count": 5,
   "id": "d07fe4bc",
   "metadata": {},
   "outputs": [
    {
     "name": "stdout",
     "output_type": "stream",
     "text": [
      "<class 'pandas.core.frame.DataFrame'>\n",
      "RangeIndex: 28000 entries, 0 to 27999\n",
      "Columns: 784 entries, pixel0 to pixel783\n",
      "dtypes: int64(784)\n",
      "memory usage: 167.5 MB\n"
     ]
    }
   ],
   "source": [
    "test.info()"
   ]
  },
  {
   "cell_type": "code",
   "execution_count": 6,
   "id": "ce21956a",
   "metadata": {},
   "outputs": [
    {
     "data": {
      "text/html": [
       "<div>\n",
       "<style scoped>\n",
       "    .dataframe tbody tr th:only-of-type {\n",
       "        vertical-align: middle;\n",
       "    }\n",
       "\n",
       "    .dataframe tbody tr th {\n",
       "        vertical-align: top;\n",
       "    }\n",
       "\n",
       "    .dataframe thead th {\n",
       "        text-align: right;\n",
       "    }\n",
       "</style>\n",
       "<table border=\"1\" class=\"dataframe\">\n",
       "  <thead>\n",
       "    <tr style=\"text-align: right;\">\n",
       "      <th></th>\n",
       "      <th>label</th>\n",
       "      <th>pixel0</th>\n",
       "      <th>pixel1</th>\n",
       "      <th>pixel2</th>\n",
       "      <th>pixel3</th>\n",
       "      <th>pixel4</th>\n",
       "      <th>pixel5</th>\n",
       "      <th>pixel6</th>\n",
       "      <th>pixel7</th>\n",
       "      <th>pixel8</th>\n",
       "      <th>...</th>\n",
       "      <th>pixel774</th>\n",
       "      <th>pixel775</th>\n",
       "      <th>pixel776</th>\n",
       "      <th>pixel777</th>\n",
       "      <th>pixel778</th>\n",
       "      <th>pixel779</th>\n",
       "      <th>pixel780</th>\n",
       "      <th>pixel781</th>\n",
       "      <th>pixel782</th>\n",
       "      <th>pixel783</th>\n",
       "    </tr>\n",
       "  </thead>\n",
       "  <tbody>\n",
       "    <tr>\n",
       "      <th>count</th>\n",
       "      <td>42000.000000</td>\n",
       "      <td>42000.0</td>\n",
       "      <td>42000.0</td>\n",
       "      <td>42000.0</td>\n",
       "      <td>42000.0</td>\n",
       "      <td>42000.0</td>\n",
       "      <td>42000.0</td>\n",
       "      <td>42000.0</td>\n",
       "      <td>42000.0</td>\n",
       "      <td>42000.0</td>\n",
       "      <td>...</td>\n",
       "      <td>42000.000000</td>\n",
       "      <td>42000.000000</td>\n",
       "      <td>42000.000000</td>\n",
       "      <td>42000.00000</td>\n",
       "      <td>42000.000000</td>\n",
       "      <td>42000.000000</td>\n",
       "      <td>42000.0</td>\n",
       "      <td>42000.0</td>\n",
       "      <td>42000.0</td>\n",
       "      <td>42000.0</td>\n",
       "    </tr>\n",
       "    <tr>\n",
       "      <th>mean</th>\n",
       "      <td>4.456643</td>\n",
       "      <td>0.0</td>\n",
       "      <td>0.0</td>\n",
       "      <td>0.0</td>\n",
       "      <td>0.0</td>\n",
       "      <td>0.0</td>\n",
       "      <td>0.0</td>\n",
       "      <td>0.0</td>\n",
       "      <td>0.0</td>\n",
       "      <td>0.0</td>\n",
       "      <td>...</td>\n",
       "      <td>0.219286</td>\n",
       "      <td>0.117095</td>\n",
       "      <td>0.059024</td>\n",
       "      <td>0.02019</td>\n",
       "      <td>0.017238</td>\n",
       "      <td>0.002857</td>\n",
       "      <td>0.0</td>\n",
       "      <td>0.0</td>\n",
       "      <td>0.0</td>\n",
       "      <td>0.0</td>\n",
       "    </tr>\n",
       "    <tr>\n",
       "      <th>std</th>\n",
       "      <td>2.887730</td>\n",
       "      <td>0.0</td>\n",
       "      <td>0.0</td>\n",
       "      <td>0.0</td>\n",
       "      <td>0.0</td>\n",
       "      <td>0.0</td>\n",
       "      <td>0.0</td>\n",
       "      <td>0.0</td>\n",
       "      <td>0.0</td>\n",
       "      <td>0.0</td>\n",
       "      <td>...</td>\n",
       "      <td>6.312890</td>\n",
       "      <td>4.633819</td>\n",
       "      <td>3.274488</td>\n",
       "      <td>1.75987</td>\n",
       "      <td>1.894498</td>\n",
       "      <td>0.414264</td>\n",
       "      <td>0.0</td>\n",
       "      <td>0.0</td>\n",
       "      <td>0.0</td>\n",
       "      <td>0.0</td>\n",
       "    </tr>\n",
       "    <tr>\n",
       "      <th>min</th>\n",
       "      <td>0.000000</td>\n",
       "      <td>0.0</td>\n",
       "      <td>0.0</td>\n",
       "      <td>0.0</td>\n",
       "      <td>0.0</td>\n",
       "      <td>0.0</td>\n",
       "      <td>0.0</td>\n",
       "      <td>0.0</td>\n",
       "      <td>0.0</td>\n",
       "      <td>0.0</td>\n",
       "      <td>...</td>\n",
       "      <td>0.000000</td>\n",
       "      <td>0.000000</td>\n",
       "      <td>0.000000</td>\n",
       "      <td>0.00000</td>\n",
       "      <td>0.000000</td>\n",
       "      <td>0.000000</td>\n",
       "      <td>0.0</td>\n",
       "      <td>0.0</td>\n",
       "      <td>0.0</td>\n",
       "      <td>0.0</td>\n",
       "    </tr>\n",
       "    <tr>\n",
       "      <th>25%</th>\n",
       "      <td>2.000000</td>\n",
       "      <td>0.0</td>\n",
       "      <td>0.0</td>\n",
       "      <td>0.0</td>\n",
       "      <td>0.0</td>\n",
       "      <td>0.0</td>\n",
       "      <td>0.0</td>\n",
       "      <td>0.0</td>\n",
       "      <td>0.0</td>\n",
       "      <td>0.0</td>\n",
       "      <td>...</td>\n",
       "      <td>0.000000</td>\n",
       "      <td>0.000000</td>\n",
       "      <td>0.000000</td>\n",
       "      <td>0.00000</td>\n",
       "      <td>0.000000</td>\n",
       "      <td>0.000000</td>\n",
       "      <td>0.0</td>\n",
       "      <td>0.0</td>\n",
       "      <td>0.0</td>\n",
       "      <td>0.0</td>\n",
       "    </tr>\n",
       "    <tr>\n",
       "      <th>50%</th>\n",
       "      <td>4.000000</td>\n",
       "      <td>0.0</td>\n",
       "      <td>0.0</td>\n",
       "      <td>0.0</td>\n",
       "      <td>0.0</td>\n",
       "      <td>0.0</td>\n",
       "      <td>0.0</td>\n",
       "      <td>0.0</td>\n",
       "      <td>0.0</td>\n",
       "      <td>0.0</td>\n",
       "      <td>...</td>\n",
       "      <td>0.000000</td>\n",
       "      <td>0.000000</td>\n",
       "      <td>0.000000</td>\n",
       "      <td>0.00000</td>\n",
       "      <td>0.000000</td>\n",
       "      <td>0.000000</td>\n",
       "      <td>0.0</td>\n",
       "      <td>0.0</td>\n",
       "      <td>0.0</td>\n",
       "      <td>0.0</td>\n",
       "    </tr>\n",
       "    <tr>\n",
       "      <th>75%</th>\n",
       "      <td>7.000000</td>\n",
       "      <td>0.0</td>\n",
       "      <td>0.0</td>\n",
       "      <td>0.0</td>\n",
       "      <td>0.0</td>\n",
       "      <td>0.0</td>\n",
       "      <td>0.0</td>\n",
       "      <td>0.0</td>\n",
       "      <td>0.0</td>\n",
       "      <td>0.0</td>\n",
       "      <td>...</td>\n",
       "      <td>0.000000</td>\n",
       "      <td>0.000000</td>\n",
       "      <td>0.000000</td>\n",
       "      <td>0.00000</td>\n",
       "      <td>0.000000</td>\n",
       "      <td>0.000000</td>\n",
       "      <td>0.0</td>\n",
       "      <td>0.0</td>\n",
       "      <td>0.0</td>\n",
       "      <td>0.0</td>\n",
       "    </tr>\n",
       "    <tr>\n",
       "      <th>max</th>\n",
       "      <td>9.000000</td>\n",
       "      <td>0.0</td>\n",
       "      <td>0.0</td>\n",
       "      <td>0.0</td>\n",
       "      <td>0.0</td>\n",
       "      <td>0.0</td>\n",
       "      <td>0.0</td>\n",
       "      <td>0.0</td>\n",
       "      <td>0.0</td>\n",
       "      <td>0.0</td>\n",
       "      <td>...</td>\n",
       "      <td>254.000000</td>\n",
       "      <td>254.000000</td>\n",
       "      <td>253.000000</td>\n",
       "      <td>253.00000</td>\n",
       "      <td>254.000000</td>\n",
       "      <td>62.000000</td>\n",
       "      <td>0.0</td>\n",
       "      <td>0.0</td>\n",
       "      <td>0.0</td>\n",
       "      <td>0.0</td>\n",
       "    </tr>\n",
       "  </tbody>\n",
       "</table>\n",
       "<p>8 rows × 785 columns</p>\n",
       "</div>"
      ],
      "text/plain": [
       "              label   pixel0   pixel1   pixel2   pixel3   pixel4   pixel5  \\\n",
       "count  42000.000000  42000.0  42000.0  42000.0  42000.0  42000.0  42000.0   \n",
       "mean       4.456643      0.0      0.0      0.0      0.0      0.0      0.0   \n",
       "std        2.887730      0.0      0.0      0.0      0.0      0.0      0.0   \n",
       "min        0.000000      0.0      0.0      0.0      0.0      0.0      0.0   \n",
       "25%        2.000000      0.0      0.0      0.0      0.0      0.0      0.0   \n",
       "50%        4.000000      0.0      0.0      0.0      0.0      0.0      0.0   \n",
       "75%        7.000000      0.0      0.0      0.0      0.0      0.0      0.0   \n",
       "max        9.000000      0.0      0.0      0.0      0.0      0.0      0.0   \n",
       "\n",
       "        pixel6   pixel7   pixel8  ...      pixel774      pixel775  \\\n",
       "count  42000.0  42000.0  42000.0  ...  42000.000000  42000.000000   \n",
       "mean       0.0      0.0      0.0  ...      0.219286      0.117095   \n",
       "std        0.0      0.0      0.0  ...      6.312890      4.633819   \n",
       "min        0.0      0.0      0.0  ...      0.000000      0.000000   \n",
       "25%        0.0      0.0      0.0  ...      0.000000      0.000000   \n",
       "50%        0.0      0.0      0.0  ...      0.000000      0.000000   \n",
       "75%        0.0      0.0      0.0  ...      0.000000      0.000000   \n",
       "max        0.0      0.0      0.0  ...    254.000000    254.000000   \n",
       "\n",
       "           pixel776     pixel777      pixel778      pixel779  pixel780  \\\n",
       "count  42000.000000  42000.00000  42000.000000  42000.000000   42000.0   \n",
       "mean       0.059024      0.02019      0.017238      0.002857       0.0   \n",
       "std        3.274488      1.75987      1.894498      0.414264       0.0   \n",
       "min        0.000000      0.00000      0.000000      0.000000       0.0   \n",
       "25%        0.000000      0.00000      0.000000      0.000000       0.0   \n",
       "50%        0.000000      0.00000      0.000000      0.000000       0.0   \n",
       "75%        0.000000      0.00000      0.000000      0.000000       0.0   \n",
       "max      253.000000    253.00000    254.000000     62.000000       0.0   \n",
       "\n",
       "       pixel781  pixel782  pixel783  \n",
       "count   42000.0   42000.0   42000.0  \n",
       "mean        0.0       0.0       0.0  \n",
       "std         0.0       0.0       0.0  \n",
       "min         0.0       0.0       0.0  \n",
       "25%         0.0       0.0       0.0  \n",
       "50%         0.0       0.0       0.0  \n",
       "75%         0.0       0.0       0.0  \n",
       "max         0.0       0.0       0.0  \n",
       "\n",
       "[8 rows x 785 columns]"
      ]
     },
     "execution_count": 6,
     "metadata": {},
     "output_type": "execute_result"
    }
   ],
   "source": [
    "train.describe()"
   ]
  },
  {
   "cell_type": "markdown",
   "id": "4b7a72b9",
   "metadata": {},
   "source": [
    "Checking for **Null Values** in Train and Test set"
   ]
  },
  {
   "cell_type": "code",
   "execution_count": 7,
   "id": "e9b1a588",
   "metadata": {},
   "outputs": [
    {
     "data": {
      "text/plain": [
       "0"
      ]
     },
     "execution_count": 7,
     "metadata": {},
     "output_type": "execute_result"
    }
   ],
   "source": [
    "train.isnull().sum().sum()"
   ]
  },
  {
   "cell_type": "code",
   "execution_count": 8,
   "id": "893b1875",
   "metadata": {},
   "outputs": [
    {
     "data": {
      "text/plain": [
       "0"
      ]
     },
     "execution_count": 8,
     "metadata": {},
     "output_type": "execute_result"
    }
   ],
   "source": [
    "test.isnull().sum().sum()"
   ]
  },
  {
   "cell_type": "code",
   "execution_count": 9,
   "id": "c42655fc",
   "metadata": {},
   "outputs": [
    {
     "data": {
      "text/plain": [
       "1    11.152381\n",
       "7    10.478571\n",
       "3    10.359524\n",
       "9     9.971429\n",
       "2     9.945238\n",
       "6     9.850000\n",
       "0     9.838095\n",
       "4     9.695238\n",
       "8     9.673810\n",
       "5     9.035714\n",
       "Name: label, dtype: float64"
      ]
     },
     "execution_count": 9,
     "metadata": {},
     "output_type": "execute_result"
    }
   ],
   "source": [
    "## Check Distribution of Label coulmn\n",
    "train.label.value_counts(normalize=True)*100"
   ]
  },
  {
   "cell_type": "markdown",
   "id": "c57c9637",
   "metadata": {},
   "source": [
    "Splitting the Dataset"
   ]
  },
  {
   "cell_type": "code",
   "execution_count": 10,
   "id": "94e8c64d",
   "metadata": {},
   "outputs": [],
   "source": [
    "X=train.drop('label',axis=1)\n",
    "y=train['label']"
   ]
  },
  {
   "cell_type": "code",
   "execution_count": 11,
   "id": "8d5333d5",
   "metadata": {},
   "outputs": [],
   "source": [
    "X_train,X_test,y_train,y_test=train_test_split(X,y,test_size=0.3,random_state=100)"
   ]
  },
  {
   "cell_type": "code",
   "execution_count": 12,
   "id": "8c16b718",
   "metadata": {},
   "outputs": [
    {
     "data": {
      "text/plain": [
       "((29400, 784), (12600, 784))"
      ]
     },
     "execution_count": 12,
     "metadata": {},
     "output_type": "execute_result"
    }
   ],
   "source": [
    "X_train.shape , X_test.shape"
   ]
  },
  {
   "cell_type": "code",
   "execution_count": 13,
   "id": "237e8089",
   "metadata": {},
   "outputs": [
    {
     "data": {
      "text/plain": [
       "((29400,), (12600,))"
      ]
     },
     "execution_count": 13,
     "metadata": {},
     "output_type": "execute_result"
    }
   ],
   "source": [
    "y_train.shape , y_test.shape"
   ]
  },
  {
   "cell_type": "code",
   "execution_count": 14,
   "id": "77c25e15",
   "metadata": {},
   "outputs": [
    {
     "name": "stdout",
     "output_type": "stream",
     "text": [
      "<class 'pandas.core.frame.DataFrame'>\n",
      "Int64Index: 29400 entries, 17529 to 38408\n",
      "Data columns (total 10 columns):\n",
      " #   Column  Non-Null Count  Dtype\n",
      "---  ------  --------------  -----\n",
      " 0   pixel0  29400 non-null  int64\n",
      " 1   pixel1  29400 non-null  int64\n",
      " 2   pixel2  29400 non-null  int64\n",
      " 3   pixel3  29400 non-null  int64\n",
      " 4   pixel4  29400 non-null  int64\n",
      " 5   pixel5  29400 non-null  int64\n",
      " 6   pixel6  29400 non-null  int64\n",
      " 7   pixel7  29400 non-null  int64\n",
      " 8   pixel8  29400 non-null  int64\n",
      " 9   pixel9  29400 non-null  int64\n",
      "dtypes: int64(10)\n",
      "memory usage: 2.5 MB\n"
     ]
    }
   ],
   "source": [
    "X_train.iloc[:,:10].info()"
   ]
  },
  {
   "cell_type": "markdown",
   "id": "952ec3f6",
   "metadata": {},
   "source": [
    "**Starting with RandomForestClassifier without PCA first**"
   ]
  },
  {
   "cell_type": "code",
   "execution_count": 15,
   "id": "1bf96e0d",
   "metadata": {},
   "outputs": [],
   "source": [
    "rf=RandomForestClassifier(random_state=42)"
   ]
  },
  {
   "cell_type": "code",
   "execution_count": 16,
   "id": "3cb58422",
   "metadata": {},
   "outputs": [
    {
     "data": {
      "text/plain": [
       "RandomForestClassifier(random_state=42)"
      ]
     },
     "execution_count": 16,
     "metadata": {},
     "output_type": "execute_result"
    }
   ],
   "source": [
    "rf.fit(X_train,y_train)"
   ]
  },
  {
   "cell_type": "code",
   "execution_count": 17,
   "id": "7a8b8a8e",
   "metadata": {},
   "outputs": [],
   "source": [
    "y_train_pred=rf.predict(X_train)\n",
    "y_test_pred=rf.predict(X_test)"
   ]
  },
  {
   "cell_type": "code",
   "execution_count": 18,
   "id": "fca60a69",
   "metadata": {},
   "outputs": [
    {
     "name": "stdout",
     "output_type": "stream",
     "text": [
      "              precision    recall  f1-score   support\n",
      "\n",
      "           0       1.00      1.00      1.00      2890\n",
      "           1       1.00      1.00      1.00      3260\n",
      "           2       1.00      1.00      1.00      2978\n",
      "           3       1.00      1.00      1.00      3055\n",
      "           4       1.00      1.00      1.00      2868\n",
      "           5       1.00      1.00      1.00      2617\n",
      "           6       1.00      1.00      1.00      2887\n",
      "           7       1.00      1.00      1.00      3117\n",
      "           8       1.00      1.00      1.00      2827\n",
      "           9       1.00      1.00      1.00      2901\n",
      "\n",
      "    accuracy                           1.00     29400\n",
      "   macro avg       1.00      1.00      1.00     29400\n",
      "weighted avg       1.00      1.00      1.00     29400\n",
      "\n",
      "--------------------\n",
      "              precision    recall  f1-score   support\n",
      "\n",
      "           0       0.98      0.99      0.99      1242\n",
      "           1       0.98      0.98      0.98      1424\n",
      "           2       0.95      0.96      0.95      1199\n",
      "           3       0.95      0.95      0.95      1296\n",
      "           4       0.95      0.96      0.96      1204\n",
      "           5       0.97      0.96      0.96      1178\n",
      "           6       0.97      0.99      0.98      1250\n",
      "           7       0.97      0.95      0.96      1284\n",
      "           8       0.96      0.94      0.95      1236\n",
      "           9       0.94      0.94      0.94      1287\n",
      "\n",
      "    accuracy                           0.96     12600\n",
      "   macro avg       0.96      0.96      0.96     12600\n",
      "weighted avg       0.96      0.96      0.96     12600\n",
      "\n"
     ]
    }
   ],
   "source": [
    "print(metrics.classification_report(y_train,y_train_pred))\n",
    "print('-'*20)\n",
    "print(metrics.classification_report(y_test,y_test_pred))"
   ]
  },
  {
   "cell_type": "markdown",
   "id": "6f919cb8",
   "metadata": {},
   "source": [
    "As seen from above the RandomForest seem to proivde good fit.\n",
    "\n",
    "#### Using HyperParameter Tuning on RandomForest"
   ]
  },
  {
   "cell_type": "code",
   "execution_count": 19,
   "id": "d3d5cbbe",
   "metadata": {},
   "outputs": [],
   "source": [
    "param_grid={\n",
    "                'max_depth': [3, 5, 10, 15, 20],\n",
    "                'max_features': [3, 5, 7, 11, 15,20],\n",
    "                'min_samples_leaf': [10, 20, 50, 100, 200, 400],\n",
    "                'n_estimators': [10, 25, 50, 80, 100]\n",
    "}"
   ]
  },
  {
   "cell_type": "code",
   "execution_count": 20,
   "id": "90824033",
   "metadata": {},
   "outputs": [],
   "source": [
    "grid_search=GridSearchCV(rf,param_grid = param_grid, n_jobs=-1, cv=5, scoring='accuracy',verbose=1, return_train_score=True)"
   ]
  },
  {
   "cell_type": "code",
   "execution_count": 21,
   "id": "08304546",
   "metadata": {},
   "outputs": [
    {
     "name": "stdout",
     "output_type": "stream",
     "text": [
      "Fitting 5 folds for each of 900 candidates, totalling 4500 fits\n"
     ]
    },
    {
     "data": {
      "text/plain": [
       "GridSearchCV(cv=5, estimator=RandomForestClassifier(random_state=42), n_jobs=-1,\n",
       "             param_grid={'max_depth': [3, 5, 10, 15, 20],\n",
       "                         'max_features': [3, 5, 7, 11, 15, 20],\n",
       "                         'min_samples_leaf': [10, 20, 50, 100, 200, 400],\n",
       "                         'n_estimators': [10, 25, 50, 80, 100]},\n",
       "             return_train_score=True, scoring='accuracy', verbose=1)"
      ]
     },
     "execution_count": 21,
     "metadata": {},
     "output_type": "execute_result"
    }
   ],
   "source": [
    "grid_search.fit(X_train,y_train)"
   ]
  },
  {
   "cell_type": "code",
   "execution_count": 22,
   "id": "9f7c3a4b",
   "metadata": {},
   "outputs": [],
   "source": [
    "results= pd.DataFrame(grid_search.cv_results_)"
   ]
  },
  {
   "cell_type": "code",
   "execution_count": 23,
   "id": "521af285",
   "metadata": {},
   "outputs": [],
   "source": [
    "results_eval= results[['rank_test_score', 'mean_train_score', 'mean_test_score', 'param_max_depth','param_n_estimators'\n",
    "                       ,'param_min_samples_leaf', 'param_max_features']].sort_values('rank_test_score')"
   ]
  },
  {
   "cell_type": "code",
   "execution_count": 24,
   "id": "82e337a0",
   "metadata": {},
   "outputs": [
    {
     "data": {
      "text/html": [
       "<div>\n",
       "<style scoped>\n",
       "    .dataframe tbody tr th:only-of-type {\n",
       "        vertical-align: middle;\n",
       "    }\n",
       "\n",
       "    .dataframe tbody tr th {\n",
       "        vertical-align: top;\n",
       "    }\n",
       "\n",
       "    .dataframe thead th {\n",
       "        text-align: right;\n",
       "    }\n",
       "</style>\n",
       "<table border=\"1\" class=\"dataframe\">\n",
       "  <thead>\n",
       "    <tr style=\"text-align: right;\">\n",
       "      <th></th>\n",
       "      <th>rank_test_score</th>\n",
       "      <th>mean_train_score</th>\n",
       "      <th>mean_test_score</th>\n",
       "      <th>param_max_depth</th>\n",
       "      <th>param_n_estimators</th>\n",
       "      <th>param_min_samples_leaf</th>\n",
       "      <th>param_max_features</th>\n",
       "    </tr>\n",
       "  </thead>\n",
       "  <tbody>\n",
       "    <tr>\n",
       "      <th>694</th>\n",
       "      <td>1</td>\n",
       "      <td>0.972959</td>\n",
       "      <td>0.945714</td>\n",
       "      <td>15</td>\n",
       "      <td>100</td>\n",
       "      <td>10</td>\n",
       "      <td>20</td>\n",
       "    </tr>\n",
       "    <tr>\n",
       "      <th>874</th>\n",
       "      <td>2</td>\n",
       "      <td>0.972993</td>\n",
       "      <td>0.945510</td>\n",
       "      <td>20</td>\n",
       "      <td>100</td>\n",
       "      <td>10</td>\n",
       "      <td>20</td>\n",
       "    </tr>\n",
       "    <tr>\n",
       "      <th>693</th>\n",
       "      <td>3</td>\n",
       "      <td>0.972806</td>\n",
       "      <td>0.945102</td>\n",
       "      <td>15</td>\n",
       "      <td>80</td>\n",
       "      <td>10</td>\n",
       "      <td>20</td>\n",
       "    </tr>\n",
       "    <tr>\n",
       "      <th>873</th>\n",
       "      <td>4</td>\n",
       "      <td>0.973036</td>\n",
       "      <td>0.944660</td>\n",
       "      <td>20</td>\n",
       "      <td>80</td>\n",
       "      <td>10</td>\n",
       "      <td>20</td>\n",
       "    </tr>\n",
       "    <tr>\n",
       "      <th>844</th>\n",
       "      <td>5</td>\n",
       "      <td>0.972211</td>\n",
       "      <td>0.944150</td>\n",
       "      <td>20</td>\n",
       "      <td>100</td>\n",
       "      <td>10</td>\n",
       "      <td>15</td>\n",
       "    </tr>\n",
       "  </tbody>\n",
       "</table>\n",
       "</div>"
      ],
      "text/plain": [
       "     rank_test_score  mean_train_score  mean_test_score param_max_depth  \\\n",
       "694                1          0.972959         0.945714              15   \n",
       "874                2          0.972993         0.945510              20   \n",
       "693                3          0.972806         0.945102              15   \n",
       "873                4          0.973036         0.944660              20   \n",
       "844                5          0.972211         0.944150              20   \n",
       "\n",
       "    param_n_estimators param_min_samples_leaf param_max_features  \n",
       "694                100                     10                 20  \n",
       "874                100                     10                 20  \n",
       "693                 80                     10                 20  \n",
       "873                 80                     10                 20  \n",
       "844                100                     10                 15  "
      ]
     },
     "execution_count": 24,
     "metadata": {},
     "output_type": "execute_result"
    }
   ],
   "source": [
    "results_eval.head()"
   ]
  },
  {
   "cell_type": "code",
   "execution_count": 25,
   "id": "8a9f9f8e",
   "metadata": {},
   "outputs": [
    {
     "data": {
      "image/png": "[encoded data removed]",
      "text/plain": [
       "<Figure size 432x288 with 1 Axes>"
      ]
     },
     "metadata": {
      "needs_background": "light"
     },
     "output_type": "display_data"
    }
   ],
   "source": [
    "results_eval.groupby('param_max_depth')[['mean_train_score','mean_test_score']].mean().plot()\n",
    "plt.show()"
   ]
  },
  {
   "cell_type": "code",
   "execution_count": 26,
   "id": "54a2520c",
   "metadata": {},
   "outputs": [
    {
     "data": {
      "image/png": "[encoded data removed]",
      "text/plain": [
       "<Figure size 432x288 with 1 Axes>"
      ]
     },
     "metadata": {
      "needs_background": "light"
     },
     "output_type": "display_data"
    }
   ],
   "source": [
    "results_eval.groupby('param_max_depth')[['mean_train_score','mean_test_score']].median().plot()\n",
    "plt.show()"
   ]
  },
  {
   "cell_type": "code",
   "execution_count": 27,
   "id": "daa00405",
   "metadata": {},
   "outputs": [
    {
     "data": {
      "image/png": "[encoded data removed]",
      "text/plain": [
       "<Figure size 432x288 with 1 Axes>"
      ]
     },
     "metadata": {
      "needs_background": "light"
     },
     "output_type": "display_data"
    }
   ],
   "source": [
    "results_eval.groupby('param_n_estimators')[['mean_train_score','mean_test_score']].mean().plot()\n",
    "plt.show()"
   ]
  },
  {
   "cell_type": "code",
   "execution_count": 28,
   "id": "ef2a75de",
   "metadata": {},
   "outputs": [
    {
     "data": {
      "image/png": "[encoded data removed]",
      "text/plain": [
       "<Figure size 432x288 with 1 Axes>"
      ]
     },
     "metadata": {
      "needs_background": "light"
     },
     "output_type": "display_data"
    }
   ],
   "source": [
    "results_eval.groupby('param_max_features')[['mean_train_score','mean_test_score']].mean().plot()\n",
    "plt.show()"
   ]
  },
  {
   "cell_type": "code",
   "execution_count": 29,
   "id": "baa2a162",
   "metadata": {},
   "outputs": [
    {
     "data": {
      "image/png": "[encoded data removed]",
      "text/plain": [
       "<Figure size 432x288 with 1 Axes>"
      ]
     },
     "metadata": {
      "needs_background": "light"
     },
     "output_type": "display_data"
    }
   ],
   "source": [
    "results_eval.groupby('param_min_samples_leaf')[['mean_train_score','mean_test_score']].mean().plot()\n",
    "plt.show()"
   ]
  },
  {
   "cell_type": "markdown",
   "id": "dbbd2794",
   "metadata": {},
   "source": [
    "As seen from above, the min_samples_leaf and n_estimators need more coarse-tuning.\n",
    "\n",
    "max_depth =20 can be assumed safely"
   ]
  },
  {
   "cell_type": "code",
   "execution_count": 30,
   "id": "f2df3ad1",
   "metadata": {},
   "outputs": [],
   "source": [
    "param_grid2={\n",
    "                'max_features': [20, 25, 30],\n",
    "                'min_samples_leaf': [3,5,7,9,15],\n",
    "                'n_estimators': [100,130, 150, 200, 250]\n",
    "}"
   ]
  },
  {
   "cell_type": "code",
   "execution_count": 31,
   "id": "14e652f9",
   "metadata": {},
   "outputs": [],
   "source": [
    "rf= RandomForestClassifier(max_depth=20, random_state=42)"
   ]
  },
  {
   "cell_type": "code",
   "execution_count": 32,
   "id": "b98f26de",
   "metadata": {},
   "outputs": [],
   "source": [
    "grid_search2=GridSearchCV(rf,param_grid = param_grid2, n_jobs=-1, cv=5, scoring='accuracy',verbose=1, return_train_score=True)"
   ]
  },
  {
   "cell_type": "code",
   "execution_count": 33,
   "id": "1d1242fd",
   "metadata": {},
   "outputs": [
    {
     "name": "stdout",
     "output_type": "stream",
     "text": [
      "Fitting 5 folds for each of 75 candidates, totalling 375 fits\n",
      "Wall time: 22min 43s\n"
     ]
    },
    {
     "data": {
      "text/plain": [
       "GridSearchCV(cv=5,\n",
       "             estimator=RandomForestClassifier(max_depth=20, random_state=42),\n",
       "             n_jobs=-1,\n",
       "             param_grid={'max_features': [20, 25, 30],\n",
       "                         'min_samples_leaf': [3, 5, 7, 9, 15],\n",
       "                         'n_estimators': [100, 130, 150, 200, 250]},\n",
       "             return_train_score=True, scoring='accuracy', verbose=1)"
      ]
     },
     "execution_count": 33,
     "metadata": {},
     "output_type": "execute_result"
    }
   ],
   "source": [
    "%%time\n",
    "\n",
    "grid_search2.fit(X_train,y_train)"
   ]
  },
  {
   "cell_type": "code",
   "execution_count": 34,
   "id": "298cf0e2",
   "metadata": {},
   "outputs": [],
   "source": [
    "results= pd.DataFrame(grid_search2.cv_results_)\n",
    "results_eval2= results[['rank_test_score', 'mean_train_score', 'mean_test_score', 'param_n_estimators'\n",
    "                       ,'param_min_samples_leaf', 'param_max_features']].sort_values('rank_test_score')"
   ]
  },
  {
   "cell_type": "code",
   "execution_count": 35,
   "id": "4dd629d6",
   "metadata": {},
   "outputs": [
    {
     "data": {
      "image/png": "[encoded data removed]",
      "text/plain": [
       "<Figure size 432x288 with 1 Axes>"
      ]
     },
     "metadata": {
      "needs_background": "light"
     },
     "output_type": "display_data"
    }
   ],
   "source": [
    "results_eval2.groupby('param_n_estimators')[['mean_train_score','mean_test_score']].mean().plot()\n",
    "plt.show()"
   ]
  },
  {
   "cell_type": "code",
   "execution_count": 36,
   "id": "299002c6",
   "metadata": {},
   "outputs": [
    {
     "data": {
      "image/png": "[encoded data removed]",
      "text/plain": [
       "<Figure size 432x288 with 1 Axes>"
      ]
     },
     "metadata": {
      "needs_background": "light"
     },
     "output_type": "display_data"
    }
   ],
   "source": [
    "results_eval2.groupby('param_max_features')[['mean_train_score','mean_test_score']].mean().plot()\n",
    "plt.show()"
   ]
  },
  {
   "cell_type": "code",
   "execution_count": 37,
   "id": "d07991b6",
   "metadata": {},
   "outputs": [
    {
     "data": {
      "image/png": "[encoded data removed]",
      "text/plain": [
       "<Figure size 432x288 with 1 Axes>"
      ]
     },
     "metadata": {
      "needs_background": "light"
     },
     "output_type": "display_data"
    }
   ],
   "source": [
    "results_eval2.groupby('param_min_samples_leaf')[['mean_train_score','mean_test_score']].mean().plot()\n",
    "plt.show()"
   ]
  },
  {
   "cell_type": "markdown",
   "id": "7ea2cc08",
   "metadata": {},
   "source": [
    "More tuning needed for param_min_samples_leaf"
   ]
  },
  {
   "cell_type": "code",
   "execution_count": 41,
   "id": "96a92467",
   "metadata": {},
   "outputs": [],
   "source": [
    "param_grid3={\n",
    "                'min_samples_leaf': [1,2,3]\n",
    "                \n",
    "}"
   ]
  },
  {
   "cell_type": "code",
   "execution_count": 42,
   "id": "87d02efc",
   "metadata": {},
   "outputs": [],
   "source": [
    "rf= RandomForestClassifier(max_depth=20, random_state=42, n_estimators=180, max_features=25)"
   ]
  },
  {
   "cell_type": "code",
   "execution_count": 43,
   "id": "6c644437",
   "metadata": {},
   "outputs": [],
   "source": [
    "grid_search2=GridSearchCV(rf,param_grid = param_grid3, n_jobs=-1, cv=5, scoring='accuracy',verbose=1, return_train_score=True)"
   ]
  },
  {
   "cell_type": "code",
   "execution_count": 44,
   "id": "bb61c938",
   "metadata": {},
   "outputs": [
    {
     "name": "stdout",
     "output_type": "stream",
     "text": [
      "Fitting 5 folds for each of 3 candidates, totalling 15 fits\n",
      "Wall time: 1min 31s\n"
     ]
    },
    {
     "data": {
      "text/plain": [
       "GridSearchCV(cv=5,\n",
       "             estimator=RandomForestClassifier(max_depth=20, max_features=25,\n",
       "                                              n_estimators=180,\n",
       "                                              random_state=42),\n",
       "             n_jobs=-1, param_grid={'min_samples_leaf': [1, 2, 3]},\n",
       "             return_train_score=True, scoring='accuracy', verbose=1)"
      ]
     },
     "execution_count": 44,
     "metadata": {},
     "output_type": "execute_result"
    }
   ],
   "source": [
    "%%time\n",
    "\n",
    "grid_search2.fit(X_train,y_train)"
   ]
  },
  {
   "cell_type": "code",
   "execution_count": 45,
   "id": "8e73a076",
   "metadata": {},
   "outputs": [],
   "source": [
    "results= pd.DataFrame(grid_search2.cv_results_)\n",
    "results_eval2= results[['rank_test_score', 'mean_train_score', 'mean_test_score', 'param_min_samples_leaf']].sort_values(\n",
    "    'rank_test_score')"
   ]
  },
  {
   "cell_type": "code",
   "execution_count": 46,
   "id": "914624d7",
   "metadata": {},
   "outputs": [
    {
     "data": {
      "image/png": "[encoded data removed]",
      "text/plain": [
       "<Figure size 432x288 with 1 Axes>"
      ]
     },
     "metadata": {
      "needs_background": "light"
     },
     "output_type": "display_data"
    }
   ],
   "source": [
    "results_eval2.groupby('param_min_samples_leaf')[['mean_train_score','mean_test_score']].mean().plot()\n",
    "plt.show()"
   ]
  },
  {
   "cell_type": "code",
   "execution_count": 47,
   "id": "b0ac74d1",
   "metadata": {},
   "outputs": [],
   "source": [
    "model=grid_search2.best_estimator_"
   ]
  },
  {
   "cell_type": "code",
   "execution_count": 48,
   "id": "a53c1a67",
   "metadata": {},
   "outputs": [
    {
     "data": {
      "text/plain": [
       "0.9615986394557823"
      ]
     },
     "execution_count": 48,
     "metadata": {},
     "output_type": "execute_result"
    }
   ],
   "source": [
    "grid_search2.best_score_"
   ]
  },
  {
   "cell_type": "code",
   "execution_count": 49,
   "id": "2bc92c8a",
   "metadata": {},
   "outputs": [],
   "source": [
    "model=RandomForestClassifier(max_depth=20, max_features=25, n_estimators=180,min_samples_leaf=1,\n",
    "                       random_state=42, n_jobs=-1)"
   ]
  },
  {
   "cell_type": "code",
   "execution_count": 50,
   "id": "30e3c556",
   "metadata": {},
   "outputs": [
    {
     "data": {
      "text/plain": [
       "RandomForestClassifier(max_depth=20, max_features=25, n_estimators=180,\n",
       "                       n_jobs=-1, random_state=42)"
      ]
     },
     "execution_count": 50,
     "metadata": {},
     "output_type": "execute_result"
    }
   ],
   "source": [
    "model.fit(X_train,y_train)"
   ]
  },
  {
   "cell_type": "code",
   "execution_count": 51,
   "id": "a8798098",
   "metadata": {},
   "outputs": [
    {
     "name": "stdout",
     "output_type": "stream",
     "text": [
      "              precision    recall  f1-score   support\n",
      "\n",
      "           0       1.00      1.00      1.00      2890\n",
      "           1       1.00      1.00      1.00      3260\n",
      "           2       1.00      1.00      1.00      2978\n",
      "           3       1.00      1.00      1.00      3055\n",
      "           4       1.00      1.00      1.00      2868\n",
      "           5       1.00      1.00      1.00      2617\n",
      "           6       1.00      1.00      1.00      2887\n",
      "           7       1.00      1.00      1.00      3117\n",
      "           8       1.00      1.00      1.00      2827\n",
      "           9       1.00      1.00      1.00      2901\n",
      "\n",
      "    accuracy                           1.00     29400\n",
      "   macro avg       1.00      1.00      1.00     29400\n",
      "weighted avg       1.00      1.00      1.00     29400\n",
      "\n",
      "--------------------\n",
      "              precision    recall  f1-score   support\n",
      "\n",
      "           0       0.98      0.99      0.98      1242\n",
      "           1       0.98      0.98      0.98      1424\n",
      "           2       0.95      0.96      0.95      1199\n",
      "           3       0.96      0.95      0.95      1296\n",
      "           4       0.96      0.96      0.96      1204\n",
      "           5       0.97      0.96      0.97      1178\n",
      "           6       0.97      0.99      0.98      1250\n",
      "           7       0.97      0.95      0.96      1284\n",
      "           8       0.96      0.95      0.95      1236\n",
      "           9       0.94      0.94      0.94      1287\n",
      "\n",
      "    accuracy                           0.96     12600\n",
      "   macro avg       0.96      0.96      0.96     12600\n",
      "weighted avg       0.96      0.96      0.96     12600\n",
      "\n"
     ]
    }
   ],
   "source": [
    "y_train_pred=model.predict(X_train)\n",
    "y_test_pred=model.predict(X_test)\n",
    "\n",
    "print(metrics.classification_report(y_train,y_train_pred))\n",
    "print('-'*20)\n",
    "print(metrics.classification_report(y_test,y_test_pred))"
   ]
  },
  {
   "cell_type": "markdown",
   "id": "e16bd75e",
   "metadata": {},
   "source": [
    "## Using PCA"
   ]
  },
  {
   "cell_type": "markdown",
   "id": "dfe366c0",
   "metadata": {},
   "source": [
    "Scaling the data"
   ]
  },
  {
   "cell_type": "code",
   "execution_count": 52,
   "id": "efdf867a",
   "metadata": {},
   "outputs": [],
   "source": [
    "scaler=StandardScaler()"
   ]
  },
  {
   "cell_type": "code",
   "execution_count": 53,
   "id": "9256b55e",
   "metadata": {},
   "outputs": [],
   "source": [
    "X_train=scaler.fit_transform(X_train)\n",
    "x_test=scaler.transform(X_test)"
   ]
  },
  {
   "cell_type": "code",
   "execution_count": 54,
   "id": "79c8e464",
   "metadata": {},
   "outputs": [],
   "source": [
    "pca=PCA(random_state=100)"
   ]
  },
  {
   "cell_type": "code",
   "execution_count": 55,
   "id": "19720c5e",
   "metadata": {},
   "outputs": [
    {
     "data": {
      "text/plain": [
       "PCA(random_state=100)"
      ]
     },
     "execution_count": 55,
     "metadata": {},
     "output_type": "execute_result"
    }
   ],
   "source": [
    "pca.fit(X_train)"
   ]
  },
  {
   "cell_type": "code",
   "execution_count": 56,
   "id": "f0bcc723",
   "metadata": {},
   "outputs": [
    {
     "data": {
      "text/plain": [
       "(784, 784)"
      ]
     },
     "execution_count": 56,
     "metadata": {},
     "output_type": "execute_result"
    }
   ],
   "source": [
    "pca.components_.shape"
   ]
  },
  {
   "cell_type": "code",
   "execution_count": 57,
   "id": "f918ed2e",
   "metadata": {},
   "outputs": [],
   "source": [
    "cumsum=np.cumsum(pca.explained_variance_ratio_)"
   ]
  },
  {
   "cell_type": "code",
   "execution_count": 58,
   "id": "e6c8058b",
   "metadata": {},
   "outputs": [
    {
     "data": {
      "image/png": "[encoded data removed]",
      "text/plain": [
       "<Figure size 432x288 with 1 Axes>"
      ]
     },
     "metadata": {
      "needs_background": "light"
     },
     "output_type": "display_data"
    }
   ],
   "source": [
    "plt.plot(cumsum)\n",
    "plt.hlines(y=0.95,xmin=0,xmax=800,linestyle='--',color='g')\n",
    "plt.vlines(x=315,ymin=0,ymax=1, linestyle='--', color='r')\n",
    "plt.ylabel(\"Cumulative variance explained\")\n",
    "plt.show()"
   ]
  },
  {
   "cell_type": "markdown",
   "id": "d192a26c",
   "metadata": {},
   "source": [
    "With Principal Components as 315 we capture nearly 95% variance"
   ]
  },
  {
   "cell_type": "markdown",
   "id": "6f9d52d8",
   "metadata": {},
   "source": [
    "**Let's Create a Pipeline to perform Hypertuning of the parameters**"
   ]
  },
  {
   "cell_type": "code",
   "execution_count": 59,
   "id": "455a60fc",
   "metadata": {},
   "outputs": [],
   "source": [
    "pipe=Pipeline((\n",
    "('pca', PCA()),\n",
    " ('rf',RandomForestClassifier())\n",
    "))"
   ]
  },
  {
   "cell_type": "code",
   "execution_count": 65,
   "id": "196a5ccf",
   "metadata": {},
   "outputs": [],
   "source": [
    "pca=PCA(n_components=315)\n",
    "X_train=pca.fit_transform(X_train)\n",
    "X_test=pca.transform(X_test)"
   ]
  },
  {
   "cell_type": "code",
   "execution_count": 66,
   "id": "e7df04fe",
   "metadata": {},
   "outputs": [],
   "source": [
    "param_grid={\n",
    "#     'pca__n_components':[315],\n",
    "    'max_features': [ 15,20,25,30],\n",
    "    'min_samples_leaf': [1,5,10,15],\n",
    "    'n_estimators': [100,150, 200, 250],\n",
    "    'max_depth': [ 5, 10, 25, 50]\n",
    "#     'random_state':[100],\n",
    "#     'random_state':[100]\n",
    "}\n",
    "\n",
    "\n",
    "# rf_pca=RandomForestClassifier(max_depth=20, max_features=25, n_estimators=180,min_samples_leaf=1,\n",
    "#                        random_state=42, n_jobs=-1)"
   ]
  },
  {
   "cell_type": "code",
   "execution_count": 61,
   "id": "b6d912a5",
   "metadata": {},
   "outputs": [],
   "source": [
    "from sklearn.model_selection import RandomizedSearchCV"
   ]
  },
  {
   "cell_type": "code",
   "execution_count": 67,
   "id": "73d2ef02",
   "metadata": {},
   "outputs": [],
   "source": [
    "rf_pca=RandomForestClassifier()\n",
    "cv=RandomizedSearchCV(rf_pca, param_grid,scoring='accuracy',n_jobs=-1, verbose=1, return_train_score=True, cv=4, n_iter=150)"
   ]
  },
  {
   "cell_type": "code",
   "execution_count": 68,
   "id": "2aefee4a",
   "metadata": {},
   "outputs": [
    {
     "name": "stdout",
     "output_type": "stream",
     "text": [
      "Fitting 4 folds for each of 150 candidates, totalling 600 fits\n",
      "Wall time: 52min 27s\n"
     ]
    },
    {
     "data": {
      "text/plain": [
       "RandomizedSearchCV(cv=4, estimator=RandomForestClassifier(), n_iter=150,\n",
       "                   n_jobs=-1,\n",
       "                   param_distributions={'max_depth': [5, 10, 25, 50],\n",
       "                                        'max_features': [15, 20, 25, 30],\n",
       "                                        'min_samples_leaf': [1, 5, 10, 15],\n",
       "                                        'n_estimators': [100, 150, 200, 250]},\n",
       "                   return_train_score=True, scoring='accuracy', verbose=1)"
      ]
     },
     "execution_count": 68,
     "metadata": {},
     "output_type": "execute_result"
    }
   ],
   "source": [
    "%%time\n",
    "\n",
    "cv.fit(X_train,y_train)"
   ]
  },
  {
   "cell_type": "code",
   "execution_count": 69,
   "id": "9c37f5e6",
   "metadata": {},
   "outputs": [
    {
     "data": {
      "text/html": [
       "<div>\n",
       "<style scoped>\n",
       "    .dataframe tbody tr th:only-of-type {\n",
       "        vertical-align: middle;\n",
       "    }\n",
       "\n",
       "    .dataframe tbody tr th {\n",
       "        vertical-align: top;\n",
       "    }\n",
       "\n",
       "    .dataframe thead th {\n",
       "        text-align: right;\n",
       "    }\n",
       "</style>\n",
       "<table border=\"1\" class=\"dataframe\">\n",
       "  <thead>\n",
       "    <tr style=\"text-align: right;\">\n",
       "      <th></th>\n",
       "      <th>mean_fit_time</th>\n",
       "      <th>std_fit_time</th>\n",
       "      <th>mean_score_time</th>\n",
       "      <th>std_score_time</th>\n",
       "      <th>param_max_depth</th>\n",
       "      <th>param_max_features</th>\n",
       "      <th>param_min_samples_leaf</th>\n",
       "      <th>param_n_estimators</th>\n",
       "      <th>params</th>\n",
       "      <th>split0_test_score</th>\n",
       "      <th>...</th>\n",
       "      <th>mean_test_score</th>\n",
       "      <th>std_test_score</th>\n",
       "      <th>rank_test_score</th>\n",
       "      <th>split0_train_score</th>\n",
       "      <th>split1_train_score</th>\n",
       "      <th>split2_train_score</th>\n",
       "      <th>split3_train_score</th>\n",
       "      <th>split4_train_score</th>\n",
       "      <th>mean_train_score</th>\n",
       "      <th>std_train_score</th>\n",
       "    </tr>\n",
       "  </thead>\n",
       "  <tbody>\n",
       "    <tr>\n",
       "      <th>0</th>\n",
       "      <td>0.972138</td>\n",
       "      <td>0.138215</td>\n",
       "      <td>0.094772</td>\n",
       "      <td>0.011563</td>\n",
       "      <td>3</td>\n",
       "      <td>3</td>\n",
       "      <td>10</td>\n",
       "      <td>10</td>\n",
       "      <td>{'max_depth': 3, 'max_features': 3, 'min_sampl...</td>\n",
       "      <td>0.593197</td>\n",
       "      <td>...</td>\n",
       "      <td>0.600578</td>\n",
       "      <td>0.005827</td>\n",
       "      <td>895</td>\n",
       "      <td>0.588393</td>\n",
       "      <td>0.607866</td>\n",
       "      <td>0.610927</td>\n",
       "      <td>0.615604</td>\n",
       "      <td>0.594515</td>\n",
       "      <td>0.603461</td>\n",
       "      <td>0.010292</td>\n",
       "    </tr>\n",
       "    <tr>\n",
       "      <th>1</th>\n",
       "      <td>1.168631</td>\n",
       "      <td>0.142164</td>\n",
       "      <td>0.091668</td>\n",
       "      <td>0.009632</td>\n",
       "      <td>3</td>\n",
       "      <td>3</td>\n",
       "      <td>10</td>\n",
       "      <td>25</td>\n",
       "      <td>{'max_depth': 3, 'max_features': 3, 'min_sampl...</td>\n",
       "      <td>0.702211</td>\n",
       "      <td>...</td>\n",
       "      <td>0.692143</td>\n",
       "      <td>0.006414</td>\n",
       "      <td>851</td>\n",
       "      <td>0.690561</td>\n",
       "      <td>0.697662</td>\n",
       "      <td>0.695238</td>\n",
       "      <td>0.698469</td>\n",
       "      <td>0.685757</td>\n",
       "      <td>0.693537</td>\n",
       "      <td>0.004767</td>\n",
       "    </tr>\n",
       "    <tr>\n",
       "      <th>2</th>\n",
       "      <td>1.768182</td>\n",
       "      <td>0.207427</td>\n",
       "      <td>0.137031</td>\n",
       "      <td>0.023082</td>\n",
       "      <td>3</td>\n",
       "      <td>3</td>\n",
       "      <td>10</td>\n",
       "      <td>50</td>\n",
       "      <td>{'max_depth': 3, 'max_features': 3, 'min_sampl...</td>\n",
       "      <td>0.742517</td>\n",
       "      <td>...</td>\n",
       "      <td>0.731224</td>\n",
       "      <td>0.006595</td>\n",
       "      <td>804</td>\n",
       "      <td>0.735289</td>\n",
       "      <td>0.738393</td>\n",
       "      <td>0.738478</td>\n",
       "      <td>0.732398</td>\n",
       "      <td>0.727126</td>\n",
       "      <td>0.734337</td>\n",
       "      <td>0.004249</td>\n",
       "    </tr>\n",
       "    <tr>\n",
       "      <th>3</th>\n",
       "      <td>2.042220</td>\n",
       "      <td>0.242193</td>\n",
       "      <td>0.139567</td>\n",
       "      <td>0.014316</td>\n",
       "      <td>3</td>\n",
       "      <td>3</td>\n",
       "      <td>10</td>\n",
       "      <td>80</td>\n",
       "      <td>{'max_depth': 3, 'max_features': 3, 'min_sampl...</td>\n",
       "      <td>0.768027</td>\n",
       "      <td>...</td>\n",
       "      <td>0.753061</td>\n",
       "      <td>0.008316</td>\n",
       "      <td>732</td>\n",
       "      <td>0.758206</td>\n",
       "      <td>0.758121</td>\n",
       "      <td>0.755910</td>\n",
       "      <td>0.752083</td>\n",
       "      <td>0.755910</td>\n",
       "      <td>0.756046</td>\n",
       "      <td>0.002223</td>\n",
       "    </tr>\n",
       "    <tr>\n",
       "      <th>4</th>\n",
       "      <td>2.228397</td>\n",
       "      <td>0.246963</td>\n",
       "      <td>0.155128</td>\n",
       "      <td>0.048461</td>\n",
       "      <td>3</td>\n",
       "      <td>3</td>\n",
       "      <td>10</td>\n",
       "      <td>100</td>\n",
       "      <td>{'max_depth': 3, 'max_features': 3, 'min_sampl...</td>\n",
       "      <td>0.763605</td>\n",
       "      <td>...</td>\n",
       "      <td>0.750476</td>\n",
       "      <td>0.007426</td>\n",
       "      <td>746</td>\n",
       "      <td>0.756335</td>\n",
       "      <td>0.755740</td>\n",
       "      <td>0.755017</td>\n",
       "      <td>0.750553</td>\n",
       "      <td>0.752551</td>\n",
       "      <td>0.754039</td>\n",
       "      <td>0.002167</td>\n",
       "    </tr>\n",
       "  </tbody>\n",
       "</table>\n",
       "<p>5 rows × 24 columns</p>\n",
       "</div>"
      ],
      "text/plain": [
       "   mean_fit_time  std_fit_time  mean_score_time  std_score_time  \\\n",
       "0       0.972138      0.138215         0.094772        0.011563   \n",
       "1       1.168631      0.142164         0.091668        0.009632   \n",
       "2       1.768182      0.207427         0.137031        0.023082   \n",
       "3       2.042220      0.242193         0.139567        0.014316   \n",
       "4       2.228397      0.246963         0.155128        0.048461   \n",
       "\n",
       "  param_max_depth param_max_features param_min_samples_leaf  \\\n",
       "0               3                  3                     10   \n",
       "1               3                  3                     10   \n",
       "2               3                  3                     10   \n",
       "3               3                  3                     10   \n",
       "4               3                  3                     10   \n",
       "\n",
       "  param_n_estimators                                             params  \\\n",
       "0                 10  {'max_depth': 3, 'max_features': 3, 'min_sampl...   \n",
       "1                 25  {'max_depth': 3, 'max_features': 3, 'min_sampl...   \n",
       "2                 50  {'max_depth': 3, 'max_features': 3, 'min_sampl...   \n",
       "3                 80  {'max_depth': 3, 'max_features': 3, 'min_sampl...   \n",
       "4                100  {'max_depth': 3, 'max_features': 3, 'min_sampl...   \n",
       "\n",
       "   split0_test_score  ...  mean_test_score  std_test_score  rank_test_score  \\\n",
       "0           0.593197  ...         0.600578        0.005827              895   \n",
       "1           0.702211  ...         0.692143        0.006414              851   \n",
       "2           0.742517  ...         0.731224        0.006595              804   \n",
       "3           0.768027  ...         0.753061        0.008316              732   \n",
       "4           0.763605  ...         0.750476        0.007426              746   \n",
       "\n",
       "   split0_train_score  split1_train_score  split2_train_score  \\\n",
       "0            0.588393            0.607866            0.610927   \n",
       "1            0.690561            0.697662            0.695238   \n",
       "2            0.735289            0.738393            0.738478   \n",
       "3            0.758206            0.758121            0.755910   \n",
       "4            0.756335            0.755740            0.755017   \n",
       "\n",
       "   split3_train_score  split4_train_score  mean_train_score  std_train_score  \n",
       "0            0.615604            0.594515          0.603461         0.010292  \n",
       "1            0.698469            0.685757          0.693537         0.004767  \n",
       "2            0.732398            0.727126          0.734337         0.004249  \n",
       "3            0.752083            0.755910          0.756046         0.002223  \n",
       "4            0.750553            0.752551          0.754039         0.002167  \n",
       "\n",
       "[5 rows x 24 columns]"
      ]
     },
     "execution_count": 69,
     "metadata": {},
     "output_type": "execute_result"
    }
   ],
   "source": [
    "results= pd.DataFrame(grid_search.cv_results_)\n",
    "results.head()"
   ]
  },
  {
   "cell_type": "code",
   "execution_count": 70,
   "id": "d9e0d6e7",
   "metadata": {},
   "outputs": [],
   "source": [
    "results_eval= results[['rank_test_score', 'mean_train_score', 'mean_test_score', 'param_max_depth','param_n_estimators'\n",
    "                       ,'param_min_samples_leaf', 'param_max_features']].sort_values('rank_test_score')"
   ]
  },
  {
   "cell_type": "code",
   "execution_count": 71,
   "id": "885b9c13",
   "metadata": {},
   "outputs": [
    {
     "data": {
      "image/png": "[encoded data removed]",
      "text/plain": [
       "<Figure size 432x288 with 1 Axes>"
      ]
     },
     "metadata": {
      "needs_background": "light"
     },
     "output_type": "display_data"
    }
   ],
   "source": [
    "results_eval.groupby('param_max_depth')[['mean_train_score','mean_test_score']].median().plot()\n",
    "plt.show()"
   ]
  },
  {
   "cell_type": "code",
   "execution_count": 72,
   "id": "6a58b1e6",
   "metadata": {},
   "outputs": [
    {
     "data": {
      "image/png": "[encoded data removed]",
      "text/plain": [
       "<Figure size 432x288 with 1 Axes>"
      ]
     },
     "metadata": {
      "needs_background": "light"
     },
     "output_type": "display_data"
    }
   ],
   "source": [
    "results_eval.groupby('param_n_estimators')[['mean_train_score','mean_test_score']].median().plot()\n",
    "plt.show()"
   ]
  },
  {
   "cell_type": "code",
   "execution_count": 73,
   "id": "ab30a435",
   "metadata": {},
   "outputs": [
    {
     "data": {
      "image/png": "[encoded data removed]",
      "text/plain": [
       "<Figure size 432x288 with 1 Axes>"
      ]
     },
     "metadata": {
      "needs_background": "light"
     },
     "output_type": "display_data"
    }
   ],
   "source": [
    "results_eval.groupby('param_max_features')[['mean_train_score','mean_test_score']].mean().plot()\n",
    "plt.show()"
   ]
  },
  {
   "cell_type": "code",
   "execution_count": 74,
   "id": "776872a4",
   "metadata": {},
   "outputs": [
    {
     "data": {
      "image/png": "[encoded data removed]",
      "text/plain": [
       "<Figure size 432x288 with 1 Axes>"
      ]
     },
     "metadata": {
      "needs_background": "light"
     },
     "output_type": "display_data"
    }
   ],
   "source": [
    "results_eval.groupby('param_min_samples_leaf')[['mean_train_score','mean_test_score']].mean().plot()\n",
    "plt.show()"
   ]
  },
  {
   "cell_type": "code",
   "execution_count": 75,
   "id": "0d000ef3",
   "metadata": {},
   "outputs": [
    {
     "data": {
      "image/png": "[encoded data removed]",
      "text/plain": [
       "<Figure size 432x288 with 1 Axes>"
      ]
     },
     "metadata": {
      "needs_background": "light"
     },
     "output_type": "display_data"
    }
   ],
   "source": [
    "cumsum=np.cumsum(pca.explained_variance_ratio_)\n",
    "plt.plot(cumsum)\n",
    "plt.hlines(y=0.95,xmin=0,xmax=800,linestyle='--',color='g')\n",
    "plt.vlines(x=315,ymin=0,ymax=1, linestyle='--', color='r')\n",
    "plt.ylabel(\"Cumulative variance explained\")\n",
    "plt.show()"
   ]
  },
  {
   "cell_type": "code",
   "execution_count": 76,
   "id": "b6092ae9",
   "metadata": {},
   "outputs": [
    {
     "data": {
      "text/plain": [
       "RandomForestClassifier(max_depth=50, max_features=30, n_estimators=250)"
      ]
     },
     "execution_count": 76,
     "metadata": {},
     "output_type": "execute_result"
    }
   ],
   "source": [
    "cv.best_estimator_"
   ]
  },
  {
   "cell_type": "code",
   "execution_count": 77,
   "id": "80c524f9",
   "metadata": {},
   "outputs": [
    {
     "data": {
      "text/plain": [
       "0.9322108843537416"
      ]
     },
     "execution_count": 77,
     "metadata": {},
     "output_type": "execute_result"
    }
   ],
   "source": [
    "cv.best_score_"
   ]
  },
  {
   "cell_type": "code",
   "execution_count": null,
   "id": "a3551339",
   "metadata": {},
   "outputs": [],
   "source": []
  },
  {
   "cell_type": "code",
   "execution_count": null,
   "id": "1393e1a4",
   "metadata": {},
   "outputs": [],
   "source": []
  },
  {
   "cell_type": "code",
   "execution_count": 79,
   "id": "787f3885",
   "metadata": {},
   "outputs": [],
   "source": [
    "sub = pd.DataFrame(columns=['ImageId','Label'])"
   ]
  },
  {
   "cell_type": "code",
   "execution_count": 82,
   "id": "e68bfa7d",
   "metadata": {},
   "outputs": [
    {
     "data": {
      "text/plain": [
       "(28000,)"
      ]
     },
     "execution_count": 82,
     "metadata": {},
     "output_type": "execute_result"
    }
   ],
   "source": [
    "prediction= model.predict(test)\n",
    "prediction.shape"
   ]
  },
  {
   "cell_type": "code",
   "execution_count": 89,
   "id": "fe93e5be",
   "metadata": {},
   "outputs": [
    {
     "data": {
      "text/html": [
       "<div>\n",
       "<style scoped>\n",
       "    .dataframe tbody tr th:only-of-type {\n",
       "        vertical-align: middle;\n",
       "    }\n",
       "\n",
       "    .dataframe tbody tr th {\n",
       "        vertical-align: top;\n",
       "    }\n",
       "\n",
       "    .dataframe thead th {\n",
       "        text-align: right;\n",
       "    }\n",
       "</style>\n",
       "<table border=\"1\" class=\"dataframe\">\n",
       "  <thead>\n",
       "    <tr style=\"text-align: right;\">\n",
       "      <th></th>\n",
       "      <th>ImageId</th>\n",
       "      <th>Label</th>\n",
       "    </tr>\n",
       "  </thead>\n",
       "  <tbody>\n",
       "    <tr>\n",
       "      <th>0</th>\n",
       "      <td>1</td>\n",
       "      <td>2</td>\n",
       "    </tr>\n",
       "    <tr>\n",
       "      <th>1</th>\n",
       "      <td>2</td>\n",
       "      <td>0</td>\n",
       "    </tr>\n",
       "    <tr>\n",
       "      <th>2</th>\n",
       "      <td>3</td>\n",
       "      <td>9</td>\n",
       "    </tr>\n",
       "    <tr>\n",
       "      <th>3</th>\n",
       "      <td>4</td>\n",
       "      <td>9</td>\n",
       "    </tr>\n",
       "    <tr>\n",
       "      <th>4</th>\n",
       "      <td>5</td>\n",
       "      <td>3</td>\n",
       "    </tr>\n",
       "    <tr>\n",
       "      <th>...</th>\n",
       "      <td>...</td>\n",
       "      <td>...</td>\n",
       "    </tr>\n",
       "    <tr>\n",
       "      <th>27995</th>\n",
       "      <td>27996</td>\n",
       "      <td>9</td>\n",
       "    </tr>\n",
       "    <tr>\n",
       "      <th>27996</th>\n",
       "      <td>27997</td>\n",
       "      <td>7</td>\n",
       "    </tr>\n",
       "    <tr>\n",
       "      <th>27997</th>\n",
       "      <td>27998</td>\n",
       "      <td>3</td>\n",
       "    </tr>\n",
       "    <tr>\n",
       "      <th>27998</th>\n",
       "      <td>27999</td>\n",
       "      <td>9</td>\n",
       "    </tr>\n",
       "    <tr>\n",
       "      <th>27999</th>\n",
       "      <td>28000</td>\n",
       "      <td>2</td>\n",
       "    </tr>\n",
       "  </tbody>\n",
       "</table>\n",
       "<p>28000 rows × 2 columns</p>\n",
       "</div>"
      ],
      "text/plain": [
       "       ImageId  Label\n",
       "0            1      2\n",
       "1            2      0\n",
       "2            3      9\n",
       "3            4      9\n",
       "4            5      3\n",
       "...        ...    ...\n",
       "27995    27996      9\n",
       "27996    27997      7\n",
       "27997    27998      3\n",
       "27998    27999      9\n",
       "27999    28000      2\n",
       "\n",
       "[28000 rows x 2 columns]"
      ]
     },
     "execution_count": 89,
     "metadata": {},
     "output_type": "execute_result"
    }
   ],
   "source": [
    "sub['ImageId']=test.index+1\n",
    "sub['Label']=prediction\n",
    "sub"
   ]
  },
  {
   "cell_type": "code",
   "execution_count": 90,
   "id": "64f7e0e4",
   "metadata": {},
   "outputs": [],
   "source": [
    "sub.to_csv('submission.csv',index=False)"
   ]
  },
  {
   "cell_type": "code",
   "execution_count": 93,
   "id": "194bb62f",
   "metadata": {},
   "outputs": [
    {
     "name": "stdout",
     "output_type": "stream",
     "text": [
      "[-3. 13.]\n",
      "[[-0.78935222 -0.70710678]\n",
      " [ 0.61394061 -0.70710678]]\n"
     ]
    }
   ],
   "source": [
    "A = np.array([[4, 9], \n",
    "              [7, 6]])\n",
    "\n",
    "# c is the array of eigenvalues\n",
    "# v is the matrix with eigenvectors as the columns\n",
    "c, v = np.linalg.eig(A)\n",
    "print(c)\n",
    "print(v)"
   ]
  }
 ],
 "metadata": {
  "kernelspec": {
   "display_name": "Python 3",
   "language": "python",
   "name": "python3"
  },
  "language_info": {
   "codemirror_mode": {
    "name": "ipython",
    "version": 3
   },
   "file_extension": ".py",
   "mimetype": "text/x-python",
   "name": "python",
   "nbconvert_exporter": "python",
   "pygments_lexer": "ipython3",
   "version": "3.8.8"
  }
 },
 "nbformat": 4,
 "nbformat_minor": 5
}
