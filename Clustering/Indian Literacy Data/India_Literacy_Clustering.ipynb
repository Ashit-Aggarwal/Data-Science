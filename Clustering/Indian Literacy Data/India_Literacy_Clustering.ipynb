{
 "cells": [
  {
   "cell_type": "code",
   "execution_count": 1,
   "id": "65a4884a",
   "metadata": {},
   "outputs": [],
   "source": [
    "import pandas as pd\n",
    "import numpy as np\n",
    "import matplotlib.pyplot as plt\n",
    "import seaborn as sns\n",
    "from sklearn.preprocessing import StandardScaler\n",
    "from sklearn import metrics\n",
    "from sklearn.cluster import KMeans\n",
    "\n",
    "# For checking Hopkins Stats to verify if clustering can be performed\n",
    "from sklearn.neighbors import NearestNeighbors\n",
    "from random import sample\n",
    "from numpy.random import uniform\n",
    "from math import isnan\n",
    "\n",
    "# For Silhoutte Score\n",
    "from sklearn.metrics import silhouette_score"
   ]
  },
  {
   "cell_type": "markdown",
   "id": "4326d47c",
   "metadata": {},
   "source": [
    "## 1. Read and Understand Data"
   ]
  },
  {
   "cell_type": "code",
   "execution_count": 2,
   "id": "031ff041",
   "metadata": {},
   "outputs": [],
   "source": [
    "india= pd.read_excel('Main.xlsx')"
   ]
  },
  {
   "cell_type": "code",
   "execution_count": 3,
   "id": "127faae8",
   "metadata": {},
   "outputs": [
    {
     "data": {
      "text/html": [
       "<div>\n",
       "<style scoped>\n",
       "    .dataframe tbody tr th:only-of-type {\n",
       "        vertical-align: middle;\n",
       "    }\n",
       "\n",
       "    .dataframe tbody tr th {\n",
       "        vertical-align: top;\n",
       "    }\n",
       "\n",
       "    .dataframe thead th {\n",
       "        text-align: right;\n",
       "    }\n",
       "</style>\n",
       "<table border=\"1\" class=\"dataframe\">\n",
       "  <thead>\n",
       "    <tr style=\"text-align: right;\">\n",
       "      <th></th>\n",
       "      <th>Area Name</th>\n",
       "      <th>Illiterate</th>\n",
       "      <th>Graduate &amp; above</th>\n",
       "      <th>Total - Population</th>\n",
       "      <th>Percentage Illiterate</th>\n",
       "      <th>Percentage Graduate &amp; above</th>\n",
       "    </tr>\n",
       "  </thead>\n",
       "  <tbody>\n",
       "    <tr>\n",
       "      <th>0</th>\n",
       "      <td>State - JAMMU &amp; KASHMIR</td>\n",
       "      <td>3378518</td>\n",
       "      <td>385463</td>\n",
       "      <td>12541302</td>\n",
       "      <td>26.939133</td>\n",
       "      <td>3.073549</td>\n",
       "    </tr>\n",
       "    <tr>\n",
       "      <th>1</th>\n",
       "      <td>State - HIMACHAL PRADESH</td>\n",
       "      <td>963742</td>\n",
       "      <td>267936</td>\n",
       "      <td>6864602</td>\n",
       "      <td>14.039299</td>\n",
       "      <td>3.903154</td>\n",
       "    </tr>\n",
       "    <tr>\n",
       "      <th>2</th>\n",
       "      <td>State - PUNJAB</td>\n",
       "      <td>4886265</td>\n",
       "      <td>979525</td>\n",
       "      <td>27743338</td>\n",
       "      <td>17.612390</td>\n",
       "      <td>3.530667</td>\n",
       "    </tr>\n",
       "    <tr>\n",
       "      <th>3</th>\n",
       "      <td>State - CHANDIGARH</td>\n",
       "      <td>175200</td>\n",
       "      <td>91276</td>\n",
       "      <td>1055450</td>\n",
       "      <td>16.599555</td>\n",
       "      <td>8.648065</td>\n",
       "    </tr>\n",
       "    <tr>\n",
       "      <th>4</th>\n",
       "      <td>State - UTTARAKHAND</td>\n",
       "      <td>1929236</td>\n",
       "      <td>525301</td>\n",
       "      <td>10086292</td>\n",
       "      <td>19.127307</td>\n",
       "      <td>5.208069</td>\n",
       "    </tr>\n",
       "  </tbody>\n",
       "</table>\n",
       "</div>"
      ],
      "text/plain": [
       "                  Area Name  Illiterate  Graduate & above  Total - Population  \\\n",
       "0   State - JAMMU & KASHMIR     3378518            385463            12541302   \n",
       "1  State - HIMACHAL PRADESH      963742            267936             6864602   \n",
       "2            State - PUNJAB     4886265            979525            27743338   \n",
       "3        State - CHANDIGARH      175200             91276             1055450   \n",
       "4       State - UTTARAKHAND     1929236            525301            10086292   \n",
       "\n",
       "   Percentage Illiterate  Percentage Graduate & above  \n",
       "0              26.939133                     3.073549  \n",
       "1              14.039299                     3.903154  \n",
       "2              17.612390                     3.530667  \n",
       "3              16.599555                     8.648065  \n",
       "4              19.127307                     5.208069  "
      ]
     },
     "execution_count": 3,
     "metadata": {},
     "output_type": "execute_result"
    }
   ],
   "source": [
    "india.head()"
   ]
  },
  {
   "cell_type": "code",
   "execution_count": 4,
   "id": "ead030cc",
   "metadata": {},
   "outputs": [
    {
     "name": "stdout",
     "output_type": "stream",
     "text": [
      "<class 'pandas.core.frame.DataFrame'>\n",
      "RangeIndex: 35 entries, 0 to 34\n",
      "Data columns (total 6 columns):\n",
      " #   Column                       Non-Null Count  Dtype  \n",
      "---  ------                       --------------  -----  \n",
      " 0   Area Name                    35 non-null     object \n",
      " 1   Illiterate                   35 non-null     int64  \n",
      " 2   Graduate & above             35 non-null     int64  \n",
      " 3   Total - Population           35 non-null     int64  \n",
      " 4   Percentage Illiterate        35 non-null     float64\n",
      " 5   Percentage Graduate & above  35 non-null     float64\n",
      "dtypes: float64(2), int64(3), object(1)\n",
      "memory usage: 1.8+ KB\n"
     ]
    }
   ],
   "source": [
    "india.info()"
   ]
  },
  {
   "cell_type": "code",
   "execution_count": 5,
   "id": "4217471a",
   "metadata": {},
   "outputs": [
    {
     "data": {
      "text/html": [
       "<div>\n",
       "<style scoped>\n",
       "    .dataframe tbody tr th:only-of-type {\n",
       "        vertical-align: middle;\n",
       "    }\n",
       "\n",
       "    .dataframe tbody tr th {\n",
       "        vertical-align: top;\n",
       "    }\n",
       "\n",
       "    .dataframe thead th {\n",
       "        text-align: right;\n",
       "    }\n",
       "</style>\n",
       "<table border=\"1\" class=\"dataframe\">\n",
       "  <thead>\n",
       "    <tr style=\"text-align: right;\">\n",
       "      <th></th>\n",
       "      <th>Illiterate</th>\n",
       "      <th>Graduate &amp; above</th>\n",
       "      <th>Total - Population</th>\n",
       "      <th>Percentage Illiterate</th>\n",
       "      <th>Percentage Graduate &amp; above</th>\n",
       "    </tr>\n",
       "  </thead>\n",
       "  <tbody>\n",
       "    <tr>\n",
       "      <th>count</th>\n",
       "      <td>3.500000e+01</td>\n",
       "      <td>3.500000e+01</td>\n",
       "      <td>3.500000e+01</td>\n",
       "      <td>35.000000</td>\n",
       "      <td>35.000000</td>\n",
       "    </tr>\n",
       "    <tr>\n",
       "      <th>mean</th>\n",
       "      <td>7.678103e+06</td>\n",
       "      <td>1.075194e+06</td>\n",
       "      <td>3.459586e+07</td>\n",
       "      <td>20.101981</td>\n",
       "      <td>3.483161</td>\n",
       "    </tr>\n",
       "    <tr>\n",
       "      <th>std</th>\n",
       "      <td>1.133721e+07</td>\n",
       "      <td>1.399289e+06</td>\n",
       "      <td>4.445234e+07</td>\n",
       "      <td>5.762072</td>\n",
       "      <td>1.661141</td>\n",
       "    </tr>\n",
       "    <tr>\n",
       "      <th>min</th>\n",
       "      <td>8.337000e+03</td>\n",
       "      <td>1.482000e+03</td>\n",
       "      <td>6.447300e+04</td>\n",
       "      <td>11.176535</td>\n",
       "      <td>1.454525</td>\n",
       "    </tr>\n",
       "    <tr>\n",
       "      <th>25%</th>\n",
       "      <td>3.098615e+05</td>\n",
       "      <td>5.948800e+04</td>\n",
       "      <td>1.421136e+06</td>\n",
       "      <td>16.076337</td>\n",
       "      <td>2.333452</td>\n",
       "    </tr>\n",
       "    <tr>\n",
       "      <th>50%</th>\n",
       "      <td>3.378518e+06</td>\n",
       "      <td>5.253010e+05</td>\n",
       "      <td>1.678794e+07</td>\n",
       "      <td>19.405567</td>\n",
       "      <td>3.073549</td>\n",
       "    </tr>\n",
       "    <tr>\n",
       "      <th>75%</th>\n",
       "      <td>1.036886e+07</td>\n",
       "      <td>1.596484e+06</td>\n",
       "      <td>6.076749e+07</td>\n",
       "      <td>24.170387</td>\n",
       "      <td>4.106503</td>\n",
       "    </tr>\n",
       "    <tr>\n",
       "      <th>max</th>\n",
       "      <td>5.422576e+07</td>\n",
       "      <td>5.741485e+06</td>\n",
       "      <td>1.998123e+08</td>\n",
       "      <td>33.460356</td>\n",
       "      <td>8.648065</td>\n",
       "    </tr>\n",
       "  </tbody>\n",
       "</table>\n",
       "</div>"
      ],
      "text/plain": [
       "         Illiterate  Graduate & above  Total - Population  \\\n",
       "count  3.500000e+01      3.500000e+01        3.500000e+01   \n",
       "mean   7.678103e+06      1.075194e+06        3.459586e+07   \n",
       "std    1.133721e+07      1.399289e+06        4.445234e+07   \n",
       "min    8.337000e+03      1.482000e+03        6.447300e+04   \n",
       "25%    3.098615e+05      5.948800e+04        1.421136e+06   \n",
       "50%    3.378518e+06      5.253010e+05        1.678794e+07   \n",
       "75%    1.036886e+07      1.596484e+06        6.076749e+07   \n",
       "max    5.422576e+07      5.741485e+06        1.998123e+08   \n",
       "\n",
       "       Percentage Illiterate  Percentage Graduate & above  \n",
       "count              35.000000                    35.000000  \n",
       "mean               20.101981                     3.483161  \n",
       "std                 5.762072                     1.661141  \n",
       "min                11.176535                     1.454525  \n",
       "25%                16.076337                     2.333452  \n",
       "50%                19.405567                     3.073549  \n",
       "75%                24.170387                     4.106503  \n",
       "max                33.460356                     8.648065  "
      ]
     },
     "execution_count": 5,
     "metadata": {},
     "output_type": "execute_result"
    }
   ],
   "source": [
    "india.describe()"
   ]
  },
  {
   "cell_type": "markdown",
   "id": "e454b2a2",
   "metadata": {},
   "source": [
    "EDA is not perfomed as the Data is the India leteracy Data is clean Data"
   ]
  },
  {
   "cell_type": "code",
   "execution_count": 6,
   "id": "ed7f10f4",
   "metadata": {},
   "outputs": [
    {
     "data": {
      "text/html": [
       "<div>\n",
       "<style scoped>\n",
       "    .dataframe tbody tr th:only-of-type {\n",
       "        vertical-align: middle;\n",
       "    }\n",
       "\n",
       "    .dataframe tbody tr th {\n",
       "        vertical-align: top;\n",
       "    }\n",
       "\n",
       "    .dataframe thead th {\n",
       "        text-align: right;\n",
       "    }\n",
       "</style>\n",
       "<table border=\"1\" class=\"dataframe\">\n",
       "  <thead>\n",
       "    <tr style=\"text-align: right;\">\n",
       "      <th></th>\n",
       "      <th>Illiterate</th>\n",
       "      <th>Graduate &amp; above</th>\n",
       "      <th>Total - Population</th>\n",
       "      <th>Percentage Illiterate</th>\n",
       "      <th>Percentage Graduate &amp; above</th>\n",
       "    </tr>\n",
       "  </thead>\n",
       "  <tbody>\n",
       "    <tr>\n",
       "      <th>0</th>\n",
       "      <td>-0.384782</td>\n",
       "      <td>-0.500111</td>\n",
       "      <td>-0.503383</td>\n",
       "      <td>1.203902</td>\n",
       "      <td>-0.250185</td>\n",
       "    </tr>\n",
       "    <tr>\n",
       "      <th>1</th>\n",
       "      <td>-0.600888</td>\n",
       "      <td>-0.585328</td>\n",
       "      <td>-0.632950</td>\n",
       "      <td>-1.067532</td>\n",
       "      <td>0.256526</td>\n",
       "    </tr>\n",
       "    <tr>\n",
       "      <th>2</th>\n",
       "      <td>-0.249850</td>\n",
       "      <td>-0.069368</td>\n",
       "      <td>-0.156405</td>\n",
       "      <td>-0.438373</td>\n",
       "      <td>0.029016</td>\n",
       "    </tr>\n",
       "    <tr>\n",
       "      <th>3</th>\n",
       "      <td>-0.671456</td>\n",
       "      <td>-0.713421</td>\n",
       "      <td>-0.765541</td>\n",
       "      <td>-0.616716</td>\n",
       "      <td>3.154645</td>\n",
       "    </tr>\n",
       "    <tr>\n",
       "      <th>4</th>\n",
       "      <td>-0.514483</td>\n",
       "      <td>-0.398717</td>\n",
       "      <td>-0.559417</td>\n",
       "      <td>-0.171623</td>\n",
       "      <td>1.053547</td>\n",
       "    </tr>\n",
       "  </tbody>\n",
       "</table>\n",
       "</div>"
      ],
      "text/plain": [
       "   Illiterate  Graduate & above  Total - Population  Percentage Illiterate  \\\n",
       "0   -0.384782         -0.500111           -0.503383               1.203902   \n",
       "1   -0.600888         -0.585328           -0.632950              -1.067532   \n",
       "2   -0.249850         -0.069368           -0.156405              -0.438373   \n",
       "3   -0.671456         -0.713421           -0.765541              -0.616716   \n",
       "4   -0.514483         -0.398717           -0.559417              -0.171623   \n",
       "\n",
       "   Percentage Graduate & above  \n",
       "0                    -0.250185  \n",
       "1                     0.256526  \n",
       "2                     0.029016  \n",
       "3                     3.154645  \n",
       "4                     1.053547  "
      ]
     },
     "execution_count": 6,
     "metadata": {},
     "output_type": "execute_result"
    }
   ],
   "source": [
    "scaler=StandardScaler()\n",
    "df=scaler.fit_transform(india[['Illiterate','Graduate & above','Total - Population','Percentage Illiterate','Percentage Graduate & above']])\n",
    "df=pd.DataFrame(df)\n",
    "df.columns=['Illiterate','Graduate & above','Total - Population','Percentage Illiterate','Percentage Graduate & above']\n",
    "df.head()"
   ]
  },
  {
   "cell_type": "code",
   "execution_count": 7,
   "id": "b9add4a4",
   "metadata": {},
   "outputs": [
    {
     "data": {
      "text/plain": [
       "5"
      ]
     },
     "execution_count": 7,
     "metadata": {},
     "output_type": "execute_result"
    }
   ],
   "source": [
    "df.shape[1]"
   ]
  },
  {
   "cell_type": "code",
   "execution_count": 8,
   "id": "f929a11e",
   "metadata": {},
   "outputs": [],
   "source": [
    "# Hopkins Statistic\n",
    "\n",
    "def hopkins(X):\n",
    "    d = X.shape[1]\n",
    "    #d = len(vars) # columns\n",
    "    n = len(X) # rows\n",
    "    m = int(0.1 * n) \n",
    "    nbrs = NearestNeighbors(n_neighbors=1).fit(X.values)\n",
    " \n",
    "    rand_X = sample(range(0, n, 1), m)\n",
    " \n",
    "    ujd = []\n",
    "    wjd = []\n",
    "    for j in range(0, m):\n",
    "        u_dist, _ = nbrs.kneighbors(uniform(np.amin(X,axis=0),np.amax(X,axis=0),d).reshape(1, -1), 2, return_distance=True)\n",
    "        ujd.append(u_dist[0][1])\n",
    "        w_dist, _ = nbrs.kneighbors(X.iloc[rand_X[j]].values.reshape(1, -1), 2, return_distance=True)\n",
    "        wjd.append(w_dist[0][1])\n",
    " \n",
    "    H = sum(ujd) / (sum(ujd) + sum(wjd))\n",
    "    if isnan(H):\n",
    "        print(ujd, wjd)\n",
    "        H = 0\n",
    " \n",
    "    return H"
   ]
  },
  {
   "cell_type": "code",
   "execution_count": 9,
   "id": "5aec2dd6",
   "metadata": {},
   "outputs": [
    {
     "data": {
      "text/plain": [
       "[3, 17, 33]"
      ]
     },
     "execution_count": 9,
     "metadata": {},
     "output_type": "execute_result"
    }
   ],
   "source": [
    "sample(range(0,len(df), 1),3)"
   ]
  },
  {
   "cell_type": "code",
   "execution_count": 10,
   "id": "61f45cb3",
   "metadata": {},
   "outputs": [
    {
     "data": {
      "text/plain": [
       "array([[ 0.92495381,  2.01498002, -0.40270533,  2.22804818,  2.27727064]])"
      ]
     },
     "execution_count": 10,
     "metadata": {},
     "output_type": "execute_result"
    }
   ],
   "source": [
    "uniform(np.amin(df,axis=0),np.amax(df,axis=0),5).reshape(1, -1)"
   ]
  },
  {
   "cell_type": "code",
   "execution_count": 11,
   "id": "df53b24c",
   "metadata": {},
   "outputs": [
    {
     "data": {
      "text/plain": [
       "0.7933840075910438"
      ]
     },
     "execution_count": 11,
     "metadata": {},
     "output_type": "execute_result"
    }
   ],
   "source": [
    "hopkins(df)"
   ]
  },
  {
   "cell_type": "markdown",
   "id": "f3aba185",
   "metadata": {},
   "source": [
    "Hopkins score of 0.8 is a good score for clustering"
   ]
  },
  {
   "cell_type": "markdown",
   "id": "dc3aefd0",
   "metadata": {},
   "source": [
    "### Finding Optimal number of clusters"
   ]
  },
  {
   "cell_type": "code",
   "execution_count": 12,
   "id": "b3e0c1fb",
   "metadata": {},
   "outputs": [
    {
     "data": {
      "text/plain": [
       "[2, 3, 4, 5]"
      ]
     },
     "execution_count": 12,
     "metadata": {},
     "output_type": "execute_result"
    }
   ],
   "source": [
    "num_clusters=list(range(2,6))\n",
    "num_clusters"
   ]
  },
  {
   "cell_type": "code",
   "execution_count": 13,
   "id": "8913e7ca",
   "metadata": {},
   "outputs": [],
   "source": [
    "# elbow-curve/SSD and Silhoutte Analysis\n",
    "\n",
    "ssd=[]\n",
    "silhoute=[]\n",
    "\n",
    "for i in num_clusters:\n",
    "    kmeans=KMeans(n_clusters=i,max_iter=50).fit(df)\n",
    "    \n",
    "    ssd.append(kmeans.inertia_)\n",
    "    silhoute.append(\"For n_clusters={0}, the silhouette score is {1}\".format(i, silhouette_score(df,kmeans.labels_)))"
   ]
  },
  {
   "cell_type": "code",
   "execution_count": 14,
   "id": "0a7665a8",
   "metadata": {},
   "outputs": [
    {
     "data": {
      "image/png": "[encoded data removed]",
      "text/plain": [
       "<Figure size 432x288 with 1 Axes>"
      ]
     },
     "metadata": {
      "needs_background": "light"
     },
     "output_type": "display_data"
    }
   ],
   "source": [
    "plt.plot(ssd)\n",
    "plt.show()"
   ]
  },
  {
   "cell_type": "code",
   "execution_count": 15,
   "id": "79f2e8ac",
   "metadata": {},
   "outputs": [
    {
     "data": {
      "text/plain": [
       "['For n_clusters=2, the silhouette score is 0.38913889968693116',\n",
       " 'For n_clusters=3, the silhouette score is 0.29360956319988357',\n",
       " 'For n_clusters=4, the silhouette score is 0.313798638027045',\n",
       " 'For n_clusters=5, the silhouette score is 0.3292583493850758']"
      ]
     },
     "execution_count": 15,
     "metadata": {},
     "output_type": "execute_result"
    }
   ],
   "source": [
    "silhoute"
   ]
  },
  {
   "cell_type": "markdown",
   "id": "6abae335",
   "metadata": {},
   "source": [
    "From above we se that the elbow is formed at cluster # 3 and this is confirmed by silhoutte score too . We will use 3 clusters"
   ]
  },
  {
   "cell_type": "code",
   "execution_count": 16,
   "id": "de767cd5",
   "metadata": {},
   "outputs": [],
   "source": [
    "kmeans=KMeans(n_clusters=3,max_iter=50).fit(df)"
   ]
  },
  {
   "cell_type": "code",
   "execution_count": 17,
   "id": "a59bb69d",
   "metadata": {},
   "outputs": [
    {
     "data": {
      "text/plain": [
       "array([0, 2, 2, 2, 2, 2, 2, 1, 1, 1, 2, 0, 0, 0, 0, 0, 0, 0, 1, 0, 0, 0,\n",
       "       1, 1, 2, 0, 1, 1, 1, 2, 2, 2, 1, 2, 2])"
      ]
     },
     "execution_count": 17,
     "metadata": {},
     "output_type": "execute_result"
    }
   ],
   "source": [
    "kmeans.labels_"
   ]
  },
  {
   "cell_type": "code",
   "execution_count": 18,
   "id": "7131e687",
   "metadata": {},
   "outputs": [
    {
     "data": {
      "text/html": [
       "<div>\n",
       "<style scoped>\n",
       "    .dataframe tbody tr th:only-of-type {\n",
       "        vertical-align: middle;\n",
       "    }\n",
       "\n",
       "    .dataframe tbody tr th {\n",
       "        vertical-align: top;\n",
       "    }\n",
       "\n",
       "    .dataframe thead th {\n",
       "        text-align: right;\n",
       "    }\n",
       "</style>\n",
       "<table border=\"1\" class=\"dataframe\">\n",
       "  <thead>\n",
       "    <tr style=\"text-align: right;\">\n",
       "      <th></th>\n",
       "      <th>Area Name</th>\n",
       "      <th>Illiterate</th>\n",
       "      <th>Graduate &amp; above</th>\n",
       "      <th>Total - Population</th>\n",
       "      <th>Percentage Illiterate</th>\n",
       "      <th>Percentage Graduate &amp; above</th>\n",
       "      <th>cluster</th>\n",
       "    </tr>\n",
       "  </thead>\n",
       "  <tbody>\n",
       "    <tr>\n",
       "      <th>0</th>\n",
       "      <td>State - JAMMU &amp; KASHMIR</td>\n",
       "      <td>3378518</td>\n",
       "      <td>385463</td>\n",
       "      <td>12541302</td>\n",
       "      <td>26.939133</td>\n",
       "      <td>3.073549</td>\n",
       "      <td>0</td>\n",
       "    </tr>\n",
       "    <tr>\n",
       "      <th>1</th>\n",
       "      <td>State - HIMACHAL PRADESH</td>\n",
       "      <td>963742</td>\n",
       "      <td>267936</td>\n",
       "      <td>6864602</td>\n",
       "      <td>14.039299</td>\n",
       "      <td>3.903154</td>\n",
       "      <td>2</td>\n",
       "    </tr>\n",
       "    <tr>\n",
       "      <th>2</th>\n",
       "      <td>State - PUNJAB</td>\n",
       "      <td>4886265</td>\n",
       "      <td>979525</td>\n",
       "      <td>27743338</td>\n",
       "      <td>17.612390</td>\n",
       "      <td>3.530667</td>\n",
       "      <td>2</td>\n",
       "    </tr>\n",
       "    <tr>\n",
       "      <th>3</th>\n",
       "      <td>State - CHANDIGARH</td>\n",
       "      <td>175200</td>\n",
       "      <td>91276</td>\n",
       "      <td>1055450</td>\n",
       "      <td>16.599555</td>\n",
       "      <td>8.648065</td>\n",
       "      <td>2</td>\n",
       "    </tr>\n",
       "    <tr>\n",
       "      <th>4</th>\n",
       "      <td>State - UTTARAKHAND</td>\n",
       "      <td>1929236</td>\n",
       "      <td>525301</td>\n",
       "      <td>10086292</td>\n",
       "      <td>19.127307</td>\n",
       "      <td>5.208069</td>\n",
       "      <td>2</td>\n",
       "    </tr>\n",
       "  </tbody>\n",
       "</table>\n",
       "</div>"
      ],
      "text/plain": [
       "                  Area Name  Illiterate  Graduate & above  Total - Population  \\\n",
       "0   State - JAMMU & KASHMIR     3378518            385463            12541302   \n",
       "1  State - HIMACHAL PRADESH      963742            267936             6864602   \n",
       "2            State - PUNJAB     4886265            979525            27743338   \n",
       "3        State - CHANDIGARH      175200             91276             1055450   \n",
       "4       State - UTTARAKHAND     1929236            525301            10086292   \n",
       "\n",
       "   Percentage Illiterate  Percentage Graduate & above  cluster  \n",
       "0              26.939133                     3.073549        0  \n",
       "1              14.039299                     3.903154        2  \n",
       "2              17.612390                     3.530667        2  \n",
       "3              16.599555                     8.648065        2  \n",
       "4              19.127307                     5.208069        2  "
      ]
     },
     "execution_count": 18,
     "metadata": {},
     "output_type": "execute_result"
    }
   ],
   "source": [
    "india['cluster']=kmeans.labels_\n",
    "india.head()"
   ]
  },
  {
   "cell_type": "code",
   "execution_count": 19,
   "id": "6f5d06a1",
   "metadata": {},
   "outputs": [
    {
     "data": {
      "image/png": "[encoded data removed]",
      "text/plain": [
       "<Figure size 432x288 with 1 Axes>"
      ]
     },
     "metadata": {
      "needs_background": "light"
     },
     "output_type": "display_data"
    }
   ],
   "source": [
    "sns.boxplot(x='cluster', y='Illiterate',  data=india)\n",
    "plt.show()"
   ]
  },
  {
   "cell_type": "code",
   "execution_count": 20,
   "id": "e36909a5",
   "metadata": {},
   "outputs": [
    {
     "data": {
      "image/png": "[encoded data removed]",
      "text/plain": [
       "<Figure size 432x288 with 1 Axes>"
      ]
     },
     "metadata": {
      "needs_background": "light"
     },
     "output_type": "display_data"
    }
   ],
   "source": [
    "sns.boxplot(x='cluster', y='Graduate & above',  data=india)\n",
    "plt.show()"
   ]
  },
  {
   "cell_type": "code",
   "execution_count": 21,
   "id": "ceac5dd5",
   "metadata": {},
   "outputs": [
    {
     "data": {
      "image/png": "[encoded data removed]",
      "text/plain": [
       "<Figure size 432x288 with 1 Axes>"
      ]
     },
     "metadata": {
      "needs_background": "light"
     },
     "output_type": "display_data"
    }
   ],
   "source": [
    "sns.boxplot(x='cluster', y='Percentage Illiterate',  data=india)\n",
    "plt.show()"
   ]
  },
  {
   "cell_type": "code",
   "execution_count": 22,
   "id": "083093f9",
   "metadata": {},
   "outputs": [
    {
     "data": {
      "image/png": "[encoded data removed]",
      "text/plain": [
       "<Figure size 432x288 with 1 Axes>"
      ]
     },
     "metadata": {
      "needs_background": "light"
     },
     "output_type": "display_data"
    }
   ],
   "source": [
    "sns.boxplot(x='cluster', y='Percentage Graduate & above',  data=india)\n",
    "plt.show()"
   ]
  },
  {
   "cell_type": "markdown",
   "id": "95deae7a",
   "metadata": {},
   "source": [
    "Cluster 0 has the most literacy %. Cluster 1 has the highest mix of literate and illetrate population. cluster 2 has high illetracy so lot of funding needed for this group of states"
   ]
  },
  {
   "cell_type": "markdown",
   "id": "04358656",
   "metadata": {},
   "source": [
    "## Using Hierarchical Clustering"
   ]
  },
  {
   "cell_type": "code",
   "execution_count": 24,
   "id": "88258e74",
   "metadata": {},
   "outputs": [],
   "source": [
    "# Hirerchical Clustering\n",
    "from scipy.cluster.hierarchy import linkage\n",
    "from scipy.cluster.hierarchy import dendrogram\n",
    "from scipy.cluster.hierarchy import cut_tree"
   ]
  },
  {
   "cell_type": "code",
   "execution_count": 25,
   "id": "5d87edb6",
   "metadata": {},
   "outputs": [
    {
     "data": {
      "image/png": "[encoded data removed]",
      "text/plain": [
       "<Figure size 432x288 with 1 Axes>"
      ]
     },
     "metadata": {
      "needs_background": "light"
     },
     "output_type": "display_data"
    }
   ],
   "source": [
    "mergings= linkage(df, method='single',metric='euclidean')\n",
    "dendrogram(mergings)\n",
    "plt.show()"
   ]
  },
  {
   "cell_type": "code",
   "execution_count": 26,
   "id": "f704cfe3",
   "metadata": {},
   "outputs": [
    {
     "data": {
      "image/png": "[encoded data removed]",
      "text/plain": [
       "<Figure size 432x288 with 1 Axes>"
      ]
     },
     "metadata": {
      "needs_background": "light"
     },
     "output_type": "display_data"
    }
   ],
   "source": [
    "mergings= linkage(df, method='complete',metric='euclidean')\n",
    "dendrogram(mergings)\n",
    "plt.show()"
   ]
  },
  {
   "cell_type": "code",
   "execution_count": 27,
   "id": "0780f5c7",
   "metadata": {},
   "outputs": [
    {
     "data": {
      "image/png": "[encoded data removed]",
      "text/plain": [
       "<Figure size 432x288 with 1 Axes>"
      ]
     },
     "metadata": {
      "needs_background": "light"
     },
     "output_type": "display_data"
    }
   ],
   "source": [
    "mergings= linkage(df, method='average',metric='euclidean')\n",
    "dendrogram(mergings)\n",
    "plt.show()"
   ]
  },
  {
   "cell_type": "code",
   "execution_count": null,
   "id": "873c0238",
   "metadata": {},
   "outputs": [],
   "source": []
  }
 ],
 "metadata": {
  "kernelspec": {
   "display_name": "Python 3",
   "language": "python",
   "name": "python3"
  },
  "language_info": {
   "codemirror_mode": {
    "name": "ipython",
    "version": 3
   },
   "file_extension": ".py",
   "mimetype": "text/x-python",
   "name": "python",
   "nbconvert_exporter": "python",
   "pygments_lexer": "ipython3",
   "version": "3.8.8"
  }
 },
 "nbformat": 4,
 "nbformat_minor": 5
}
