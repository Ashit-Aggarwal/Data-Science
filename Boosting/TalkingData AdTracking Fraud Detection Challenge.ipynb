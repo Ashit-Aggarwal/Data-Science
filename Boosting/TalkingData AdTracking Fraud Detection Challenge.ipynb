{
 "cells": [
  {
   "cell_type": "code",
   "execution_count": 1,
   "id": "dae13d6c",
   "metadata": {},
   "outputs": [],
   "source": [
    "import numpy as np \n",
    "import pandas as pd \n",
    "import sklearn\n",
    "import matplotlib.pyplot as plt\n",
    "import seaborn as sns\n",
    "\n",
    "from sklearn.model_selection import train_test_split, GridSearchCV, cross_val_score\n",
    "from sklearn.preprocessing import MinMaxScaler\n",
    "from sklearn.ensemble import AdaBoostClassifier, GradientBoostingClassifier\n",
    "from xgboost import XGBClassifier\n",
    "\n",
    "from sklearn import metrics\n",
    "\n",
    "import warnings\n",
    "warnings.filterwarnings('ignore')\n",
    "\n",
    "%matplotlib inline"
   ]
  },
  {
   "cell_type": "markdown",
   "id": "9a707336",
   "metadata": {},
   "source": [
    "### EDA"
   ]
  },
  {
   "cell_type": "code",
   "execution_count": 2,
   "id": "7ecaf815",
   "metadata": {},
   "outputs": [],
   "source": [
    "df=pd.read_csv('train_sample.csv')"
   ]
  },
  {
   "cell_type": "code",
   "execution_count": 3,
   "id": "ff28e6bc",
   "metadata": {},
   "outputs": [
    {
     "name": "stdout",
     "output_type": "stream",
     "text": [
      "<class 'pandas.core.frame.DataFrame'>\n",
      "RangeIndex: 100000 entries, 0 to 99999\n",
      "Data columns (total 8 columns):\n",
      " #   Column           Non-Null Count   Dtype \n",
      "---  ------           --------------   ----- \n",
      " 0   ip               100000 non-null  int64 \n",
      " 1   app              100000 non-null  int64 \n",
      " 2   device           100000 non-null  int64 \n",
      " 3   os               100000 non-null  int64 \n",
      " 4   channel          100000 non-null  int64 \n",
      " 5   click_time       100000 non-null  object\n",
      " 6   attributed_time  227 non-null     object\n",
      " 7   is_attributed    100000 non-null  int64 \n",
      "dtypes: int64(6), object(2)\n",
      "memory usage: 6.1+ MB\n"
     ]
    }
   ],
   "source": [
    "df.info()"
   ]
  },
  {
   "cell_type": "code",
   "execution_count": 4,
   "id": "a222fe8a",
   "metadata": {},
   "outputs": [
    {
     "data": {
      "text/html": [
       "<div>\n",
       "<style scoped>\n",
       "    .dataframe tbody tr th:only-of-type {\n",
       "        vertical-align: middle;\n",
       "    }\n",
       "\n",
       "    .dataframe tbody tr th {\n",
       "        vertical-align: top;\n",
       "    }\n",
       "\n",
       "    .dataframe thead th {\n",
       "        text-align: right;\n",
       "    }\n",
       "</style>\n",
       "<table border=\"1\" class=\"dataframe\">\n",
       "  <thead>\n",
       "    <tr style=\"text-align: right;\">\n",
       "      <th></th>\n",
       "      <th>ip</th>\n",
       "      <th>app</th>\n",
       "      <th>device</th>\n",
       "      <th>os</th>\n",
       "      <th>channel</th>\n",
       "      <th>is_attributed</th>\n",
       "    </tr>\n",
       "  </thead>\n",
       "  <tbody>\n",
       "    <tr>\n",
       "      <th>count</th>\n",
       "      <td>100000.000000</td>\n",
       "      <td>100000.00000</td>\n",
       "      <td>100000.000000</td>\n",
       "      <td>100000.000000</td>\n",
       "      <td>100000.000000</td>\n",
       "      <td>100000.000000</td>\n",
       "    </tr>\n",
       "    <tr>\n",
       "      <th>mean</th>\n",
       "      <td>91255.879670</td>\n",
       "      <td>12.04788</td>\n",
       "      <td>21.771250</td>\n",
       "      <td>22.818280</td>\n",
       "      <td>268.832460</td>\n",
       "      <td>0.002270</td>\n",
       "    </tr>\n",
       "    <tr>\n",
       "      <th>std</th>\n",
       "      <td>69835.553661</td>\n",
       "      <td>14.94150</td>\n",
       "      <td>259.667767</td>\n",
       "      <td>55.943136</td>\n",
       "      <td>129.724248</td>\n",
       "      <td>0.047591</td>\n",
       "    </tr>\n",
       "    <tr>\n",
       "      <th>min</th>\n",
       "      <td>9.000000</td>\n",
       "      <td>1.00000</td>\n",
       "      <td>0.000000</td>\n",
       "      <td>0.000000</td>\n",
       "      <td>3.000000</td>\n",
       "      <td>0.000000</td>\n",
       "    </tr>\n",
       "    <tr>\n",
       "      <th>25%</th>\n",
       "      <td>40552.000000</td>\n",
       "      <td>3.00000</td>\n",
       "      <td>1.000000</td>\n",
       "      <td>13.000000</td>\n",
       "      <td>145.000000</td>\n",
       "      <td>0.000000</td>\n",
       "    </tr>\n",
       "    <tr>\n",
       "      <th>50%</th>\n",
       "      <td>79827.000000</td>\n",
       "      <td>12.00000</td>\n",
       "      <td>1.000000</td>\n",
       "      <td>18.000000</td>\n",
       "      <td>258.000000</td>\n",
       "      <td>0.000000</td>\n",
       "    </tr>\n",
       "    <tr>\n",
       "      <th>75%</th>\n",
       "      <td>118252.000000</td>\n",
       "      <td>15.00000</td>\n",
       "      <td>1.000000</td>\n",
       "      <td>19.000000</td>\n",
       "      <td>379.000000</td>\n",
       "      <td>0.000000</td>\n",
       "    </tr>\n",
       "    <tr>\n",
       "      <th>max</th>\n",
       "      <td>364757.000000</td>\n",
       "      <td>551.00000</td>\n",
       "      <td>3867.000000</td>\n",
       "      <td>866.000000</td>\n",
       "      <td>498.000000</td>\n",
       "      <td>1.000000</td>\n",
       "    </tr>\n",
       "  </tbody>\n",
       "</table>\n",
       "</div>"
      ],
      "text/plain": [
       "                  ip           app         device             os  \\\n",
       "count  100000.000000  100000.00000  100000.000000  100000.000000   \n",
       "mean    91255.879670      12.04788      21.771250      22.818280   \n",
       "std     69835.553661      14.94150     259.667767      55.943136   \n",
       "min         9.000000       1.00000       0.000000       0.000000   \n",
       "25%     40552.000000       3.00000       1.000000      13.000000   \n",
       "50%     79827.000000      12.00000       1.000000      18.000000   \n",
       "75%    118252.000000      15.00000       1.000000      19.000000   \n",
       "max    364757.000000     551.00000    3867.000000     866.000000   \n",
       "\n",
       "             channel  is_attributed  \n",
       "count  100000.000000  100000.000000  \n",
       "mean      268.832460       0.002270  \n",
       "std       129.724248       0.047591  \n",
       "min         3.000000       0.000000  \n",
       "25%       145.000000       0.000000  \n",
       "50%       258.000000       0.000000  \n",
       "75%       379.000000       0.000000  \n",
       "max       498.000000       1.000000  "
      ]
     },
     "execution_count": 4,
     "metadata": {},
     "output_type": "execute_result"
    }
   ],
   "source": [
    "df.describe()"
   ]
  },
  {
   "cell_type": "code",
   "execution_count": 5,
   "id": "81d2435e",
   "metadata": {},
   "outputs": [
    {
     "data": {
      "text/html": [
       "<div>\n",
       "<style scoped>\n",
       "    .dataframe tbody tr th:only-of-type {\n",
       "        vertical-align: middle;\n",
       "    }\n",
       "\n",
       "    .dataframe tbody tr th {\n",
       "        vertical-align: top;\n",
       "    }\n",
       "\n",
       "    .dataframe thead th {\n",
       "        text-align: right;\n",
       "    }\n",
       "</style>\n",
       "<table border=\"1\" class=\"dataframe\">\n",
       "  <thead>\n",
       "    <tr style=\"text-align: right;\">\n",
       "      <th></th>\n",
       "      <th>ip</th>\n",
       "      <th>app</th>\n",
       "      <th>device</th>\n",
       "      <th>os</th>\n",
       "      <th>channel</th>\n",
       "      <th>click_time</th>\n",
       "      <th>attributed_time</th>\n",
       "      <th>is_attributed</th>\n",
       "    </tr>\n",
       "  </thead>\n",
       "  <tbody>\n",
       "    <tr>\n",
       "      <th>0</th>\n",
       "      <td>87540</td>\n",
       "      <td>12</td>\n",
       "      <td>1</td>\n",
       "      <td>13</td>\n",
       "      <td>497</td>\n",
       "      <td>2017-11-07 09:30:38</td>\n",
       "      <td>NaN</td>\n",
       "      <td>0</td>\n",
       "    </tr>\n",
       "    <tr>\n",
       "      <th>1</th>\n",
       "      <td>105560</td>\n",
       "      <td>25</td>\n",
       "      <td>1</td>\n",
       "      <td>17</td>\n",
       "      <td>259</td>\n",
       "      <td>2017-11-07 13:40:27</td>\n",
       "      <td>NaN</td>\n",
       "      <td>0</td>\n",
       "    </tr>\n",
       "    <tr>\n",
       "      <th>2</th>\n",
       "      <td>101424</td>\n",
       "      <td>12</td>\n",
       "      <td>1</td>\n",
       "      <td>19</td>\n",
       "      <td>212</td>\n",
       "      <td>2017-11-07 18:05:24</td>\n",
       "      <td>NaN</td>\n",
       "      <td>0</td>\n",
       "    </tr>\n",
       "    <tr>\n",
       "      <th>3</th>\n",
       "      <td>94584</td>\n",
       "      <td>13</td>\n",
       "      <td>1</td>\n",
       "      <td>13</td>\n",
       "      <td>477</td>\n",
       "      <td>2017-11-07 04:58:08</td>\n",
       "      <td>NaN</td>\n",
       "      <td>0</td>\n",
       "    </tr>\n",
       "    <tr>\n",
       "      <th>4</th>\n",
       "      <td>68413</td>\n",
       "      <td>12</td>\n",
       "      <td>1</td>\n",
       "      <td>1</td>\n",
       "      <td>178</td>\n",
       "      <td>2017-11-09 09:00:09</td>\n",
       "      <td>NaN</td>\n",
       "      <td>0</td>\n",
       "    </tr>\n",
       "  </tbody>\n",
       "</table>\n",
       "</div>"
      ],
      "text/plain": [
       "       ip  app  device  os  channel           click_time attributed_time  \\\n",
       "0   87540   12       1  13      497  2017-11-07 09:30:38             NaN   \n",
       "1  105560   25       1  17      259  2017-11-07 13:40:27             NaN   \n",
       "2  101424   12       1  19      212  2017-11-07 18:05:24             NaN   \n",
       "3   94584   13       1  13      477  2017-11-07 04:58:08             NaN   \n",
       "4   68413   12       1   1      178  2017-11-09 09:00:09             NaN   \n",
       "\n",
       "   is_attributed  \n",
       "0              0  \n",
       "1              0  \n",
       "2              0  \n",
       "3              0  \n",
       "4              0  "
      ]
     },
     "execution_count": 5,
     "metadata": {},
     "output_type": "execute_result"
    }
   ],
   "source": [
    "df.head()"
   ]
  },
  {
   "cell_type": "code",
   "execution_count": 6,
   "id": "3675a3ee",
   "metadata": {},
   "outputs": [],
   "source": [
    "df.drop('attributed_time',axis=1, inplace=True)"
   ]
  },
  {
   "cell_type": "code",
   "execution_count": 7,
   "id": "a578a63a",
   "metadata": {},
   "outputs": [
    {
     "data": {
      "text/plain": [
       "0    0.99773\n",
       "1    0.00227\n",
       "Name: is_attributed, dtype: float64"
      ]
     },
     "execution_count": 7,
     "metadata": {},
     "output_type": "execute_result"
    }
   ],
   "source": [
    "df.is_attributed.value_counts(normalize=True)"
   ]
  },
  {
   "cell_type": "code",
   "execution_count": 8,
   "id": "4fcab44c",
   "metadata": {},
   "outputs": [
    {
     "data": {
      "image/png": "[encoded data removed]",
      "text/plain": [
       "<Figure size 432x288 with 1 Axes>"
      ]
     },
     "metadata": {
      "needs_background": "light"
     },
     "output_type": "display_data"
    }
   ],
   "source": [
    "sns.countplot(data=df,x='app')\n",
    "plt.show()"
   ]
  },
  {
   "cell_type": "code",
   "execution_count": 9,
   "id": "9361d0fa",
   "metadata": {},
   "outputs": [
    {
     "data": {
      "image/png": "[encoded data removed]",
      "text/plain": [
       "<Figure size 432x288 with 1 Axes>"
      ]
     },
     "metadata": {
      "needs_background": "light"
     },
     "output_type": "display_data"
    }
   ],
   "source": [
    "sns.countplot(data=df,x='device')\n",
    "plt.show()"
   ]
  },
  {
   "cell_type": "code",
   "execution_count": 10,
   "id": "b698902f",
   "metadata": {},
   "outputs": [
    {
     "data": {
      "image/png": "[encoded data removed]",
      "text/plain": [
       "<Figure size 432x288 with 1 Axes>"
      ]
     },
     "metadata": {
      "needs_background": "light"
     },
     "output_type": "display_data"
    }
   ],
   "source": [
    "sns.countplot(data=df,x='os')\n",
    "plt.show()"
   ]
  },
  {
   "cell_type": "code",
   "execution_count": 11,
   "id": "ea3b85ab",
   "metadata": {},
   "outputs": [
    {
     "data": {
      "image/png": "[encoded data removed]",
      "text/plain": [
       "<Figure size 432x288 with 1 Axes>"
      ]
     },
     "metadata": {
      "needs_background": "light"
     },
     "output_type": "display_data"
    }
   ],
   "source": [
    "sns.countplot(data=df,x='channel')\n",
    "plt.show()"
   ]
  },
  {
   "cell_type": "code",
   "execution_count": 12,
   "id": "dc3aa16d",
   "metadata": {},
   "outputs": [
    {
     "data": {
      "text/html": [
       "<div>\n",
       "<style scoped>\n",
       "    .dataframe tbody tr th:only-of-type {\n",
       "        vertical-align: middle;\n",
       "    }\n",
       "\n",
       "    .dataframe tbody tr th {\n",
       "        vertical-align: top;\n",
       "    }\n",
       "\n",
       "    .dataframe thead th {\n",
       "        text-align: right;\n",
       "    }\n",
       "</style>\n",
       "<table border=\"1\" class=\"dataframe\">\n",
       "  <thead>\n",
       "    <tr style=\"text-align: right;\">\n",
       "      <th></th>\n",
       "      <th>ip</th>\n",
       "      <th>Count</th>\n",
       "    </tr>\n",
       "  </thead>\n",
       "  <tbody>\n",
       "    <tr>\n",
       "      <th>926</th>\n",
       "      <td>5348</td>\n",
       "      <td>669</td>\n",
       "    </tr>\n",
       "    <tr>\n",
       "      <th>918</th>\n",
       "      <td>5314</td>\n",
       "      <td>616</td>\n",
       "    </tr>\n",
       "    <tr>\n",
       "      <th>12833</th>\n",
       "      <td>73487</td>\n",
       "      <td>439</td>\n",
       "    </tr>\n",
       "    <tr>\n",
       "      <th>12839</th>\n",
       "      <td>73516</td>\n",
       "      <td>399</td>\n",
       "    </tr>\n",
       "    <tr>\n",
       "      <th>9385</th>\n",
       "      <td>53454</td>\n",
       "      <td>280</td>\n",
       "    </tr>\n",
       "    <tr>\n",
       "      <th>...</th>\n",
       "      <td>...</td>\n",
       "      <td>...</td>\n",
       "    </tr>\n",
       "    <tr>\n",
       "      <th>23859</th>\n",
       "      <td>145934</td>\n",
       "      <td>25</td>\n",
       "    </tr>\n",
       "    <tr>\n",
       "      <th>6636</th>\n",
       "      <td>38219</td>\n",
       "      <td>25</td>\n",
       "    </tr>\n",
       "    <tr>\n",
       "      <th>9493</th>\n",
       "      <td>53960</td>\n",
       "      <td>25</td>\n",
       "    </tr>\n",
       "    <tr>\n",
       "      <th>14498</th>\n",
       "      <td>83280</td>\n",
       "      <td>25</td>\n",
       "    </tr>\n",
       "    <tr>\n",
       "      <th>9520</th>\n",
       "      <td>54125</td>\n",
       "      <td>25</td>\n",
       "    </tr>\n",
       "  </tbody>\n",
       "</table>\n",
       "<p>200 rows × 2 columns</p>\n",
       "</div>"
      ],
      "text/plain": [
       "           ip  Count\n",
       "926      5348    669\n",
       "918      5314    616\n",
       "12833   73487    439\n",
       "12839   73516    399\n",
       "9385    53454    280\n",
       "...       ...    ...\n",
       "23859  145934     25\n",
       "6636    38219     25\n",
       "9493    53960     25\n",
       "14498   83280     25\n",
       "9520    54125     25\n",
       "\n",
       "[200 rows x 2 columns]"
      ]
     },
     "execution_count": 12,
     "metadata": {},
     "output_type": "execute_result"
    }
   ],
   "source": [
    "df.groupby('ip')['ip'].count().reset_index(name='Count').sort_values('Count', ascending=False).head(200)"
   ]
  },
  {
   "cell_type": "code",
   "execution_count": 13,
   "id": "2243bbd5",
   "metadata": {},
   "outputs": [],
   "source": [
    "df['click_time']=pd.to_datetime(df['click_time'])"
   ]
  },
  {
   "cell_type": "code",
   "execution_count": 14,
   "id": "91004a8e",
   "metadata": {},
   "outputs": [
    {
     "name": "stdout",
     "output_type": "stream",
     "text": [
      "<class 'pandas.core.frame.DataFrame'>\n",
      "RangeIndex: 100000 entries, 0 to 99999\n",
      "Data columns (total 7 columns):\n",
      " #   Column         Non-Null Count   Dtype         \n",
      "---  ------         --------------   -----         \n",
      " 0   ip             100000 non-null  int64         \n",
      " 1   app            100000 non-null  int64         \n",
      " 2   device         100000 non-null  int64         \n",
      " 3   os             100000 non-null  int64         \n",
      " 4   channel        100000 non-null  int64         \n",
      " 5   click_time     100000 non-null  datetime64[ns]\n",
      " 6   is_attributed  100000 non-null  int64         \n",
      "dtypes: datetime64[ns](1), int64(6)\n",
      "memory usage: 5.3 MB\n"
     ]
    }
   ],
   "source": [
    "df.info()"
   ]
  },
  {
   "cell_type": "code",
   "execution_count": 15,
   "id": "3e87ab03",
   "metadata": {},
   "outputs": [
    {
     "data": {
      "text/html": [
       "<div>\n",
       "<style scoped>\n",
       "    .dataframe tbody tr th:only-of-type {\n",
       "        vertical-align: middle;\n",
       "    }\n",
       "\n",
       "    .dataframe tbody tr th {\n",
       "        vertical-align: top;\n",
       "    }\n",
       "\n",
       "    .dataframe thead th {\n",
       "        text-align: right;\n",
       "    }\n",
       "</style>\n",
       "<table border=\"1\" class=\"dataframe\">\n",
       "  <thead>\n",
       "    <tr style=\"text-align: right;\">\n",
       "      <th></th>\n",
       "      <th>click_time</th>\n",
       "    </tr>\n",
       "  </thead>\n",
       "  <tbody>\n",
       "    <tr>\n",
       "      <th>0</th>\n",
       "      <td>2017-11-07 09:30:38</td>\n",
       "    </tr>\n",
       "    <tr>\n",
       "      <th>1</th>\n",
       "      <td>2017-11-07 13:40:27</td>\n",
       "    </tr>\n",
       "    <tr>\n",
       "      <th>2</th>\n",
       "      <td>2017-11-07 18:05:24</td>\n",
       "    </tr>\n",
       "    <tr>\n",
       "      <th>3</th>\n",
       "      <td>2017-11-07 04:58:08</td>\n",
       "    </tr>\n",
       "    <tr>\n",
       "      <th>4</th>\n",
       "      <td>2017-11-09 09:00:09</td>\n",
       "    </tr>\n",
       "  </tbody>\n",
       "</table>\n",
       "</div>"
      ],
      "text/plain": [
       "           click_time\n",
       "0 2017-11-07 09:30:38\n",
       "1 2017-11-07 13:40:27\n",
       "2 2017-11-07 18:05:24\n",
       "3 2017-11-07 04:58:08\n",
       "4 2017-11-09 09:00:09"
      ]
     },
     "execution_count": 15,
     "metadata": {},
     "output_type": "execute_result"
    }
   ],
   "source": [
    "df[['click_time']].head()"
   ]
  },
  {
   "cell_type": "markdown",
   "id": "2375d349",
   "metadata": {},
   "source": [
    "### Feature Engineering"
   ]
  },
  {
   "cell_type": "code",
   "execution_count": 16,
   "id": "44947484",
   "metadata": {},
   "outputs": [],
   "source": [
    "# df['day']\n",
    "df['day_of_week']= df['click_time'].dt.dayofweek\n",
    "df['hour']= df['click_time'].dt.hour\n",
    "df['month']=df['click_time'].dt.month\n",
    "# df['click_time'].dt.year\n",
    "df['day_of_year'] =df['click_time'].dt.dayofyear"
   ]
  },
  {
   "cell_type": "code",
   "execution_count": 17,
   "id": "9d4dee29",
   "metadata": {},
   "outputs": [
    {
     "data": {
      "text/html": [
       "<div>\n",
       "<style scoped>\n",
       "    .dataframe tbody tr th:only-of-type {\n",
       "        vertical-align: middle;\n",
       "    }\n",
       "\n",
       "    .dataframe tbody tr th {\n",
       "        vertical-align: top;\n",
       "    }\n",
       "\n",
       "    .dataframe thead th {\n",
       "        text-align: right;\n",
       "    }\n",
       "</style>\n",
       "<table border=\"1\" class=\"dataframe\">\n",
       "  <thead>\n",
       "    <tr style=\"text-align: right;\">\n",
       "      <th></th>\n",
       "      <th>ip</th>\n",
       "      <th>app</th>\n",
       "      <th>device</th>\n",
       "      <th>os</th>\n",
       "      <th>channel</th>\n",
       "      <th>click_time</th>\n",
       "      <th>is_attributed</th>\n",
       "      <th>day_of_week</th>\n",
       "      <th>hour</th>\n",
       "      <th>month</th>\n",
       "      <th>day_of_year</th>\n",
       "    </tr>\n",
       "  </thead>\n",
       "  <tbody>\n",
       "    <tr>\n",
       "      <th>0</th>\n",
       "      <td>87540</td>\n",
       "      <td>12</td>\n",
       "      <td>1</td>\n",
       "      <td>13</td>\n",
       "      <td>497</td>\n",
       "      <td>2017-11-07 09:30:38</td>\n",
       "      <td>0</td>\n",
       "      <td>1</td>\n",
       "      <td>9</td>\n",
       "      <td>11</td>\n",
       "      <td>311</td>\n",
       "    </tr>\n",
       "    <tr>\n",
       "      <th>1</th>\n",
       "      <td>105560</td>\n",
       "      <td>25</td>\n",
       "      <td>1</td>\n",
       "      <td>17</td>\n",
       "      <td>259</td>\n",
       "      <td>2017-11-07 13:40:27</td>\n",
       "      <td>0</td>\n",
       "      <td>1</td>\n",
       "      <td>13</td>\n",
       "      <td>11</td>\n",
       "      <td>311</td>\n",
       "    </tr>\n",
       "    <tr>\n",
       "      <th>2</th>\n",
       "      <td>101424</td>\n",
       "      <td>12</td>\n",
       "      <td>1</td>\n",
       "      <td>19</td>\n",
       "      <td>212</td>\n",
       "      <td>2017-11-07 18:05:24</td>\n",
       "      <td>0</td>\n",
       "      <td>1</td>\n",
       "      <td>18</td>\n",
       "      <td>11</td>\n",
       "      <td>311</td>\n",
       "    </tr>\n",
       "    <tr>\n",
       "      <th>3</th>\n",
       "      <td>94584</td>\n",
       "      <td>13</td>\n",
       "      <td>1</td>\n",
       "      <td>13</td>\n",
       "      <td>477</td>\n",
       "      <td>2017-11-07 04:58:08</td>\n",
       "      <td>0</td>\n",
       "      <td>1</td>\n",
       "      <td>4</td>\n",
       "      <td>11</td>\n",
       "      <td>311</td>\n",
       "    </tr>\n",
       "    <tr>\n",
       "      <th>4</th>\n",
       "      <td>68413</td>\n",
       "      <td>12</td>\n",
       "      <td>1</td>\n",
       "      <td>1</td>\n",
       "      <td>178</td>\n",
       "      <td>2017-11-09 09:00:09</td>\n",
       "      <td>0</td>\n",
       "      <td>3</td>\n",
       "      <td>9</td>\n",
       "      <td>11</td>\n",
       "      <td>313</td>\n",
       "    </tr>\n",
       "  </tbody>\n",
       "</table>\n",
       "</div>"
      ],
      "text/plain": [
       "       ip  app  device  os  channel          click_time  is_attributed  \\\n",
       "0   87540   12       1  13      497 2017-11-07 09:30:38              0   \n",
       "1  105560   25       1  17      259 2017-11-07 13:40:27              0   \n",
       "2  101424   12       1  19      212 2017-11-07 18:05:24              0   \n",
       "3   94584   13       1  13      477 2017-11-07 04:58:08              0   \n",
       "4   68413   12       1   1      178 2017-11-09 09:00:09              0   \n",
       "\n",
       "   day_of_week  hour  month  day_of_year  \n",
       "0            1     9     11          311  \n",
       "1            1    13     11          311  \n",
       "2            1    18     11          311  \n",
       "3            1     4     11          311  \n",
       "4            3     9     11          313  "
      ]
     },
     "execution_count": 17,
     "metadata": {},
     "output_type": "execute_result"
    }
   ],
   "source": [
    "df.head()"
   ]
  },
  {
   "cell_type": "code",
   "execution_count": 18,
   "id": "1e305bba",
   "metadata": {},
   "outputs": [
    {
     "name": "stdout",
     "output_type": "stream",
     "text": [
      "<class 'pandas.core.frame.DataFrame'>\n",
      "RangeIndex: 100000 entries, 0 to 99999\n",
      "Data columns (total 11 columns):\n",
      " #   Column         Non-Null Count   Dtype         \n",
      "---  ------         --------------   -----         \n",
      " 0   ip             100000 non-null  int64         \n",
      " 1   app            100000 non-null  int64         \n",
      " 2   device         100000 non-null  int64         \n",
      " 3   os             100000 non-null  int64         \n",
      " 4   channel        100000 non-null  int64         \n",
      " 5   click_time     100000 non-null  datetime64[ns]\n",
      " 6   is_attributed  100000 non-null  int64         \n",
      " 7   day_of_week    100000 non-null  int64         \n",
      " 8   hour           100000 non-null  int64         \n",
      " 9   month          100000 non-null  int64         \n",
      " 10  day_of_year    100000 non-null  int64         \n",
      "dtypes: datetime64[ns](1), int64(10)\n",
      "memory usage: 8.4 MB\n"
     ]
    }
   ],
   "source": [
    "df.info()"
   ]
  },
  {
   "cell_type": "code",
   "execution_count": 19,
   "id": "120a6453",
   "metadata": {},
   "outputs": [],
   "source": [
    "df.drop('click_time',axis=1,inplace=True)"
   ]
  },
  {
   "cell_type": "code",
   "execution_count": 20,
   "id": "ceafd08a",
   "metadata": {},
   "outputs": [
    {
     "data": {
      "text/plain": [
       "7.6295166015625"
      ]
     },
     "execution_count": 20,
     "metadata": {},
     "output_type": "execute_result"
    }
   ],
   "source": [
    "(df.memory_usage()/1024**2).sum()"
   ]
  },
  {
   "cell_type": "code",
   "execution_count": 21,
   "id": "6b172cc1",
   "metadata": {},
   "outputs": [],
   "source": [
    "ip_count= df.groupby('ip').size().rename('ip_count').reset_index()"
   ]
  },
  {
   "cell_type": "code",
   "execution_count": 22,
   "id": "5e927ba7",
   "metadata": {},
   "outputs": [],
   "source": [
    "ip_day_hour=df.groupby(['ip','day_of_week','hour']).size().reset_index(name='ip_day_hour')"
   ]
  },
  {
   "cell_type": "code",
   "execution_count": 23,
   "id": "fe5f5390",
   "metadata": {},
   "outputs": [],
   "source": [
    "ip_hour_channel= df.groupby(['ip','channel','hour']).size().reset_index(name='ip_hour_channel')"
   ]
  },
  {
   "cell_type": "code",
   "execution_count": 24,
   "id": "63eb7e51",
   "metadata": {},
   "outputs": [],
   "source": [
    "ip_hour_os= df.groupby(['ip','os','hour']).size().reset_index(name='ip_hour_os')"
   ]
  },
  {
   "cell_type": "code",
   "execution_count": 25,
   "id": "972d6424",
   "metadata": {},
   "outputs": [],
   "source": [
    "ip_hour_app= df.groupby(['ip','app','hour']).size().reset_index(name='ip_hour_app')"
   ]
  },
  {
   "cell_type": "code",
   "execution_count": 26,
   "id": "ae51701c",
   "metadata": {},
   "outputs": [],
   "source": [
    "ip_hour_device= df.groupby(['ip','device','hour']).size().reset_index(name='ip_hour_device')"
   ]
  },
  {
   "cell_type": "code",
   "execution_count": 27,
   "id": "72494f67",
   "metadata": {},
   "outputs": [],
   "source": [
    "df= pd.merge(df,ip_count, how='left', on ='ip')\n"
   ]
  },
  {
   "cell_type": "code",
   "execution_count": 28,
   "id": "8981bb4f",
   "metadata": {},
   "outputs": [],
   "source": [
    "df=pd.merge(df,ip_day_hour, how='left', on =['ip', 'day_of_week', 'hour'])\n",
    "df=pd.merge(df,ip_hour_channel, how='left', on =['ip','channel','hour'])\n",
    "df=pd.merge(df,ip_hour_os, how='left', on =['ip','os','hour'])\n",
    "df=pd.merge(df,ip_hour_app, how='left', on =['ip','app','hour'])\n",
    "df=pd.merge(df,ip_hour_device, how='left', on =['ip','device','hour'])"
   ]
  },
  {
   "cell_type": "code",
   "execution_count": 29,
   "id": "83c7679f",
   "metadata": {},
   "outputs": [
    {
     "data": {
      "text/html": [
       "<div>\n",
       "<style scoped>\n",
       "    .dataframe tbody tr th:only-of-type {\n",
       "        vertical-align: middle;\n",
       "    }\n",
       "\n",
       "    .dataframe tbody tr th {\n",
       "        vertical-align: top;\n",
       "    }\n",
       "\n",
       "    .dataframe thead th {\n",
       "        text-align: right;\n",
       "    }\n",
       "</style>\n",
       "<table border=\"1\" class=\"dataframe\">\n",
       "  <thead>\n",
       "    <tr style=\"text-align: right;\">\n",
       "      <th></th>\n",
       "      <th>ip</th>\n",
       "      <th>app</th>\n",
       "      <th>device</th>\n",
       "      <th>os</th>\n",
       "      <th>channel</th>\n",
       "      <th>is_attributed</th>\n",
       "      <th>day_of_week</th>\n",
       "      <th>hour</th>\n",
       "      <th>month</th>\n",
       "      <th>day_of_year</th>\n",
       "      <th>ip_count</th>\n",
       "      <th>ip_day_hour</th>\n",
       "      <th>ip_hour_channel</th>\n",
       "      <th>ip_hour_os</th>\n",
       "      <th>ip_hour_app</th>\n",
       "      <th>ip_hour_device</th>\n",
       "    </tr>\n",
       "  </thead>\n",
       "  <tbody>\n",
       "    <tr>\n",
       "      <th>0</th>\n",
       "      <td>87540</td>\n",
       "      <td>12</td>\n",
       "      <td>1</td>\n",
       "      <td>13</td>\n",
       "      <td>497</td>\n",
       "      <td>0</td>\n",
       "      <td>1</td>\n",
       "      <td>9</td>\n",
       "      <td>11</td>\n",
       "      <td>311</td>\n",
       "      <td>8</td>\n",
       "      <td>1</td>\n",
       "      <td>1</td>\n",
       "      <td>1</td>\n",
       "      <td>1</td>\n",
       "      <td>1</td>\n",
       "    </tr>\n",
       "    <tr>\n",
       "      <th>1</th>\n",
       "      <td>105560</td>\n",
       "      <td>25</td>\n",
       "      <td>1</td>\n",
       "      <td>17</td>\n",
       "      <td>259</td>\n",
       "      <td>0</td>\n",
       "      <td>1</td>\n",
       "      <td>13</td>\n",
       "      <td>11</td>\n",
       "      <td>311</td>\n",
       "      <td>149</td>\n",
       "      <td>4</td>\n",
       "      <td>1</td>\n",
       "      <td>1</td>\n",
       "      <td>1</td>\n",
       "      <td>8</td>\n",
       "    </tr>\n",
       "    <tr>\n",
       "      <th>2</th>\n",
       "      <td>101424</td>\n",
       "      <td>12</td>\n",
       "      <td>1</td>\n",
       "      <td>19</td>\n",
       "      <td>212</td>\n",
       "      <td>0</td>\n",
       "      <td>1</td>\n",
       "      <td>18</td>\n",
       "      <td>11</td>\n",
       "      <td>311</td>\n",
       "      <td>2</td>\n",
       "      <td>1</td>\n",
       "      <td>1</td>\n",
       "      <td>1</td>\n",
       "      <td>1</td>\n",
       "      <td>1</td>\n",
       "    </tr>\n",
       "    <tr>\n",
       "      <th>3</th>\n",
       "      <td>94584</td>\n",
       "      <td>13</td>\n",
       "      <td>1</td>\n",
       "      <td>13</td>\n",
       "      <td>477</td>\n",
       "      <td>0</td>\n",
       "      <td>1</td>\n",
       "      <td>4</td>\n",
       "      <td>11</td>\n",
       "      <td>311</td>\n",
       "      <td>3</td>\n",
       "      <td>1</td>\n",
       "      <td>1</td>\n",
       "      <td>1</td>\n",
       "      <td>1</td>\n",
       "      <td>1</td>\n",
       "    </tr>\n",
       "    <tr>\n",
       "      <th>4</th>\n",
       "      <td>68413</td>\n",
       "      <td>12</td>\n",
       "      <td>1</td>\n",
       "      <td>1</td>\n",
       "      <td>178</td>\n",
       "      <td>0</td>\n",
       "      <td>3</td>\n",
       "      <td>9</td>\n",
       "      <td>11</td>\n",
       "      <td>313</td>\n",
       "      <td>4</td>\n",
       "      <td>1</td>\n",
       "      <td>1</td>\n",
       "      <td>1</td>\n",
       "      <td>1</td>\n",
       "      <td>1</td>\n",
       "    </tr>\n",
       "  </tbody>\n",
       "</table>\n",
       "</div>"
      ],
      "text/plain": [
       "       ip  app  device  os  channel  is_attributed  day_of_week  hour  month  \\\n",
       "0   87540   12       1  13      497              0            1     9     11   \n",
       "1  105560   25       1  17      259              0            1    13     11   \n",
       "2  101424   12       1  19      212              0            1    18     11   \n",
       "3   94584   13       1  13      477              0            1     4     11   \n",
       "4   68413   12       1   1      178              0            3     9     11   \n",
       "\n",
       "   day_of_year  ip_count  ip_day_hour  ip_hour_channel  ip_hour_os  \\\n",
       "0          311         8            1                1           1   \n",
       "1          311       149            4                1           1   \n",
       "2          311         2            1                1           1   \n",
       "3          311         3            1                1           1   \n",
       "4          313         4            1                1           1   \n",
       "\n",
       "   ip_hour_app  ip_hour_device  \n",
       "0            1               1  \n",
       "1            1               8  \n",
       "2            1               1  \n",
       "3            1               1  \n",
       "4            1               1  "
      ]
     },
     "execution_count": 29,
     "metadata": {},
     "output_type": "execute_result"
    }
   ],
   "source": [
    "df.head()"
   ]
  },
  {
   "cell_type": "markdown",
   "id": "17a33c1b",
   "metadata": {},
   "source": [
    "#### Split Data"
   ]
  },
  {
   "cell_type": "code",
   "execution_count": 30,
   "id": "b6111395",
   "metadata": {},
   "outputs": [
    {
     "name": "stdout",
     "output_type": "stream",
     "text": [
      "(80000, 15)\n",
      "(80000, 1)\n",
      "(20000, 15)\n",
      "(20000, 1)\n"
     ]
    }
   ],
   "source": [
    "# create x and y train\n",
    "X = df.drop('is_attributed', axis=1)\n",
    "y = df[['is_attributed']]\n",
    "\n",
    "# split data into train and test/validation sets\n",
    "X_train, X_test, y_train, y_test = train_test_split(X, y, test_size=0.20, random_state=101)\n",
    "print(X_train.shape)\n",
    "print(y_train.shape)\n",
    "print(X_test.shape)\n",
    "print(y_test.shape)"
   ]
  },
  {
   "cell_type": "code",
   "execution_count": 31,
   "id": "5d55b6c9",
   "metadata": {},
   "outputs": [
    {
     "name": "stdout",
     "output_type": "stream",
     "text": [
      "is_attributed    0.002275\n",
      "dtype: float64\n",
      "is_attributed    0.00225\n",
      "dtype: float64\n"
     ]
    }
   ],
   "source": [
    "# check the average download rates in train and test data, should be comparable\n",
    "print(y_train.mean())\n",
    "print(y_test.mean())"
   ]
  },
  {
   "cell_type": "markdown",
   "id": "f939329d",
   "metadata": {},
   "source": [
    "## Modelling\n",
    "\n",
    "#### AdaBoost"
   ]
  },
  {
   "cell_type": "code",
   "execution_count": 32,
   "id": "fd0ade7d",
   "metadata": {},
   "outputs": [],
   "source": [
    "from sklearn.tree import DecisionTreeClassifier"
   ]
  },
  {
   "cell_type": "code",
   "execution_count": 33,
   "id": "d107a83d",
   "metadata": {},
   "outputs": [
    {
     "data": {
      "text/plain": [
       "0.9635813914641276"
      ]
     },
     "execution_count": 33,
     "metadata": {},
     "output_type": "execute_result"
    }
   ],
   "source": [
    "# Getting Base model\n",
    "\n",
    "ada = AdaBoostClassifier()\n",
    "ada.fit(X_train, y_train)\n",
    "metrics.roc_auc_score(y_test, ada.predict_proba(X_test)[:,1])"
   ]
  },
  {
   "cell_type": "code",
   "execution_count": 34,
   "id": "1fc79213",
   "metadata": {},
   "outputs": [],
   "source": [
    "## Perform HyperTunning\n",
    "\n",
    "param_grid = {\n",
    "    'n_estimators' : [20.50,100,300,400,500,600],\n",
    "    'learning_rate': [0.01,0.05,0.09,0.1,0.5,1.0]\n",
    "    \n",
    "}\n",
    "\n",
    "ada = AdaBoostClassifier()\n",
    "\n",
    "ada_grid_cv = GridSearchCV(ada, param_grid, cv=4, return_train_score=True, n_jobs=-1, verbose=True, scoring='roc_auc')"
   ]
  },
  {
   "cell_type": "code",
   "execution_count": 35,
   "id": "9e417f79",
   "metadata": {},
   "outputs": [
    {
     "name": "stdout",
     "output_type": "stream",
     "text": [
      "Fitting 4 folds for each of 36 candidates, totalling 144 fits\n",
      "Wall time: 6min 43s\n"
     ]
    },
    {
     "data": {
      "text/plain": [
       "GridSearchCV(cv=4, estimator=AdaBoostClassifier(), n_jobs=-1,\n",
       "             param_grid={'learning_rate': [0.01, 0.05, 0.09, 0.1, 0.5, 1.0],\n",
       "                         'n_estimators': [20.5, 100, 300, 400, 500, 600]},\n",
       "             return_train_score=True, scoring='roc_auc', verbose=True)"
      ]
     },
     "execution_count": 35,
     "metadata": {},
     "output_type": "execute_result"
    }
   ],
   "source": [
    "%%time\n",
    "ada_grid_cv.fit(X_train,y_train)"
   ]
  },
  {
   "cell_type": "code",
   "execution_count": 36,
   "id": "7339c17a",
   "metadata": {},
   "outputs": [],
   "source": [
    "ada_df= pd.DataFrame(ada_grid_cv.cv_results_)[['rank_test_score','param_n_estimators','param_learning_rate',\n",
    "                                       'mean_train_score','mean_test_score']]"
   ]
  },
  {
   "cell_type": "code",
   "execution_count": 37,
   "id": "02bcc36f",
   "metadata": {},
   "outputs": [],
   "source": [
    "# ada_df.groupby('param_learning_rate')[ 'mean_train_score','mean_test_score'].mean().plot()"
   ]
  },
  {
   "cell_type": "code",
   "execution_count": 38,
   "id": "0289ae08",
   "metadata": {},
   "outputs": [
    {
     "data": {
      "text/plain": [
       "<AxesSubplot:xlabel='param_n_estimators'>"
      ]
     },
     "execution_count": 38,
     "metadata": {},
     "output_type": "execute_result"
    },
    {
     "data": {
      "image/png": "[encoded data removed]",
      "text/plain": [
       "<Figure size 432x288 with 1 Axes>"
      ]
     },
     "metadata": {
      "needs_background": "light"
     },
     "output_type": "display_data"
    }
   ],
   "source": [
    "ada_df.groupby('param_n_estimators')[ 'mean_train_score','mean_test_score'].mean().plot()"
   ]
  },
  {
   "cell_type": "code",
   "execution_count": 39,
   "id": "703365b9",
   "metadata": {},
   "outputs": [
    {
     "data": {
      "text/plain": [
       "AdaBoostClassifier(learning_rate=0.05, n_estimators=500)"
      ]
     },
     "execution_count": 39,
     "metadata": {},
     "output_type": "execute_result"
    }
   ],
   "source": [
    "ada_grid_cv.best_estimator_"
   ]
  },
  {
   "cell_type": "code",
   "execution_count": 40,
   "id": "0038f24b",
   "metadata": {},
   "outputs": [
    {
     "data": {
      "text/plain": [
       "0.9522646226563574"
      ]
     },
     "execution_count": 40,
     "metadata": {},
     "output_type": "execute_result"
    }
   ],
   "source": [
    "ada_grid_cv.best_score_"
   ]
  },
  {
   "cell_type": "code",
   "execution_count": 41,
   "id": "ecfcc164",
   "metadata": {},
   "outputs": [
    {
     "data": {
      "text/plain": [
       "AdaBoostClassifier(learning_rate=0.05, n_estimators=500)"
      ]
     },
     "execution_count": 41,
     "metadata": {},
     "output_type": "execute_result"
    }
   ],
   "source": [
    "# Creating the Final model\n",
    "\n",
    "final_ada=AdaBoostClassifier(learning_rate=0.05, n_estimators=500)\n",
    "final_ada.fit(X_train,y_train)"
   ]
  },
  {
   "cell_type": "code",
   "execution_count": 42,
   "id": "3efded97",
   "metadata": {},
   "outputs": [
    {
     "data": {
      "text/plain": [
       "0.9736778919294141"
      ]
     },
     "execution_count": 42,
     "metadata": {},
     "output_type": "execute_result"
    }
   ],
   "source": [
    "metrics.roc_auc_score(y_train, final_ada.predict_proba(X_train)[:,1])"
   ]
  },
  {
   "cell_type": "code",
   "execution_count": 43,
   "id": "0b34c0cb",
   "metadata": {},
   "outputs": [
    {
     "data": {
      "text/plain": [
       "0.9559831843870933"
      ]
     },
     "execution_count": 43,
     "metadata": {},
     "output_type": "execute_result"
    }
   ],
   "source": [
    "metrics.roc_auc_score(y_test, final_ada.predict_proba(X_test)[:,1])"
   ]
  },
  {
   "cell_type": "markdown",
   "id": "9eec395f",
   "metadata": {},
   "source": [
    "### Gradient Boosting"
   ]
  },
  {
   "cell_type": "markdown",
   "id": "1677737e",
   "metadata": {},
   "source": [
    "Base Model"
   ]
  },
  {
   "cell_type": "code",
   "execution_count": 44,
   "id": "a0cd72ac",
   "metadata": {},
   "outputs": [
    {
     "data": {
      "text/plain": [
       "0.9610122776246552"
      ]
     },
     "execution_count": 44,
     "metadata": {},
     "output_type": "execute_result"
    }
   ],
   "source": [
    "gbm = GradientBoostingClassifier()\n",
    "gbm.fit(X_train, y_train)\n",
    "metrics.roc_auc_score(y_test, gbm.predict_proba(X_test)[:,1])"
   ]
  },
  {
   "cell_type": "code",
   "execution_count": 45,
   "id": "227cb8e3",
   "metadata": {},
   "outputs": [
    {
     "name": "stdout",
     "output_type": "stream",
     "text": [
      "Fitting 4 folds for each of 12 candidates, totalling 48 fits\n"
     ]
    }
   ],
   "source": [
    "## Perform HyperTunning\n",
    "\n",
    "param_grid = {\n",
    "    'n_estimators' : [50,100,150],\n",
    "    'subsample' :    [0.3,0.6,0.9,1.0]\n",
    "    \n",
    "}\n",
    "\n",
    "gbm = GradientBoostingClassifier()\n",
    "\n",
    "gbm_grid_cv = GridSearchCV(gbm, param_grid, cv=4, return_train_score=True, n_jobs=-1, verbose=True, scoring='roc_auc')\n",
    "\n",
    "# Fit the model\n",
    "\n",
    "# %%time\n",
    "gbm_grid_cv.fit(X_train,y_train)\n",
    "\n",
    "\n",
    "# Convert the results to a dataframe\n",
    "gbm_df= pd.DataFrame(gbm_grid_cv.cv_results_)[['rank_test_score','param_subsample','param_n_estimators',\n",
    "                                       'mean_train_score','mean_test_score']]"
   ]
  },
  {
   "cell_type": "code",
   "execution_count": 46,
   "id": "deca5dd4",
   "metadata": {},
   "outputs": [
    {
     "data": {
      "text/plain": [
       "<AxesSubplot:xlabel='param_subsample'>"
      ]
     },
     "execution_count": 46,
     "metadata": {},
     "output_type": "execute_result"
    },
    {
     "data": {
      "image/png": "[encoded data removed]",
      "text/plain": [
       "<Figure size 432x288 with 1 Axes>"
      ]
     },
     "metadata": {
      "needs_background": "light"
     },
     "output_type": "display_data"
    }
   ],
   "source": [
    "gbm_df.groupby('param_subsample')[ 'mean_train_score','mean_test_score'].mean().plot()"
   ]
  },
  {
   "cell_type": "code",
   "execution_count": 47,
   "id": "5753a789",
   "metadata": {},
   "outputs": [
    {
     "data": {
      "text/plain": [
       "<AxesSubplot:xlabel='param_n_estimators'>"
      ]
     },
     "execution_count": 47,
     "metadata": {},
     "output_type": "execute_result"
    },
    {
     "data": {
      "image/png": "[encoded data removed]",
      "text/plain": [
       "<Figure size 432x288 with 1 Axes>"
      ]
     },
     "metadata": {
      "needs_background": "light"
     },
     "output_type": "display_data"
    }
   ],
   "source": [
    "gbm_df.groupby('param_n_estimators')[ 'mean_train_score','mean_test_score'].mean().plot()"
   ]
  },
  {
   "cell_type": "code",
   "execution_count": 48,
   "id": "ae3c26ee",
   "metadata": {},
   "outputs": [
    {
     "data": {
      "text/plain": [
       "GradientBoostingClassifier(n_estimators=150)"
      ]
     },
     "execution_count": 48,
     "metadata": {},
     "output_type": "execute_result"
    }
   ],
   "source": [
    "gbm_grid_cv.best_estimator_"
   ]
  },
  {
   "cell_type": "code",
   "execution_count": 49,
   "id": "77048863",
   "metadata": {},
   "outputs": [
    {
     "data": {
      "text/plain": [
       "0.9380061354833393"
      ]
     },
     "execution_count": 49,
     "metadata": {},
     "output_type": "execute_result"
    }
   ],
   "source": [
    "gbm_grid_cv.best_score_"
   ]
  },
  {
   "cell_type": "markdown",
   "id": "8a304bfa",
   "metadata": {},
   "source": [
    "### XGBOOST\n",
    "\n",
    "Base Model"
   ]
  },
  {
   "cell_type": "code",
   "execution_count": 51,
   "id": "30f58be4",
   "metadata": {},
   "outputs": [
    {
     "name": "stdout",
     "output_type": "stream",
     "text": [
      "[09:02:18] WARNING: C:/Users/Administrator/workspace/xgboost-win64_release_1.5.0/src/learner.cc:1115: Starting in XGBoost 1.3.0, the default evaluation metric used with the objective 'binary:logistic' was changed from 'error' to 'logloss'. Explicitly set eval_metric if you'd like to restore the old behavior.\n"
     ]
    },
    {
     "data": {
      "text/plain": [
       "0.9732776524958935"
      ]
     },
     "execution_count": 51,
     "metadata": {},
     "output_type": "execute_result"
    }
   ],
   "source": [
    "xgb = XGBClassifier()\n",
    "xgb.fit(X_train, y_train)\n",
    "metrics.roc_auc_score(y_test, xgb.predict_proba(X_test)[:,1])"
   ]
  },
  {
   "cell_type": "code",
   "execution_count": 52,
   "id": "79661448",
   "metadata": {},
   "outputs": [
    {
     "name": "stdout",
     "output_type": "stream",
     "text": [
      "Fitting 4 folds for each of 9 candidates, totalling 36 fits\n",
      "[09:02:44] WARNING: C:/Users/Administrator/workspace/xgboost-win64_release_1.5.0/src/learner.cc:1115: Starting in XGBoost 1.3.0, the default evaluation metric used with the objective 'binary:logistic' was changed from 'error' to 'logloss'. Explicitly set eval_metric if you'd like to restore the old behavior.\n"
     ]
    }
   ],
   "source": [
    "## Perform HyperTunning\n",
    "\n",
    "param_grid = {'learning_rate': [0.1,0.2, 0.6], \n",
    "             'subsample': [0.3, 0.6, 0.9]}    \n",
    "\n",
    "xgb = XGBClassifier()\n",
    "\n",
    "xgb_grid_cv = GridSearchCV(xgb, param_grid, cv=4, return_train_score=True, n_jobs=-1, verbose=True, scoring='roc_auc')\n",
    "\n",
    "# Fit the model\n",
    "\n",
    "# %%time\n",
    "xgb_grid_cv.fit(X_train,y_train)\n",
    "\n",
    "\n",
    "# Convert the results to a dataframe\n",
    "xgb_df= pd.DataFrame(xgb_grid_cv.cv_results_)[['rank_test_score','param_subsample','param_learning_rate',\n",
    "                                       'mean_train_score','mean_test_score']]"
   ]
  },
  {
   "cell_type": "code",
   "execution_count": 53,
   "id": "7263920b",
   "metadata": {},
   "outputs": [
    {
     "data": {
      "text/plain": [
       "<AxesSubplot:xlabel='param_subsample'>"
      ]
     },
     "execution_count": 53,
     "metadata": {},
     "output_type": "execute_result"
    },
    {
     "data": {
      "image/png": "[encoded data removed]",
      "text/plain": [
       "<Figure size 432x288 with 1 Axes>"
      ]
     },
     "metadata": {
      "needs_background": "light"
     },
     "output_type": "display_data"
    }
   ],
   "source": [
    "xgb_df.groupby('param_subsample')[ 'mean_train_score','mean_test_score'].mean().plot()"
   ]
  },
  {
   "cell_type": "code",
   "execution_count": 54,
   "id": "86bd2e1d",
   "metadata": {},
   "outputs": [
    {
     "data": {
      "text/plain": [
       "<AxesSubplot:xlabel='param_learning_rate'>"
      ]
     },
     "execution_count": 54,
     "metadata": {},
     "output_type": "execute_result"
    },
    {
     "data": {
      "image/png": "[encoded data removed]",
      "text/plain": [
       "<Figure size 432x288 with 1 Axes>"
      ]
     },
     "metadata": {
      "needs_background": "light"
     },
     "output_type": "display_data"
    }
   ],
   "source": [
    "xgb_df.groupby('param_learning_rate')[ 'mean_train_score','mean_test_score'].mean().plot()"
   ]
  },
  {
   "cell_type": "code",
   "execution_count": 56,
   "id": "7ec688b3",
   "metadata": {},
   "outputs": [],
   "source": [
    "from lightgbm import LGBMClassifier"
   ]
  },
  {
   "cell_type": "code",
   "execution_count": 65,
   "id": "ed48e813",
   "metadata": {},
   "outputs": [
    {
     "data": {
      "text/plain": [
       "0.9631125588128846"
      ]
     },
     "execution_count": 65,
     "metadata": {},
     "output_type": "execute_result"
    }
   ],
   "source": [
    "lgbm = LGBMClassifier(max_depth=3)\n",
    "lgbm.fit(X_train,y_train)\n",
    "metrics.roc_auc_score(y_test, lgbm.predict_proba(X_test)[:,1])"
   ]
  },
  {
   "cell_type": "code",
   "execution_count": 58,
   "id": "2b52e3ae",
   "metadata": {},
   "outputs": [],
   "source": [
    "from catboost import CatBoostClassifier"
   ]
  },
  {
   "cell_type": "code",
   "execution_count": 67,
   "id": "7eb96c83",
   "metadata": {},
   "outputs": [
    {
     "name": "stdout",
     "output_type": "stream",
     "text": [
      "Learning rate set to 0.06692\n",
      "0:\tlearn: 0.5109828\ttotal: 15.6ms\tremaining: 15.6s\n",
      "1:\tlearn: 0.3769000\ttotal: 19.1ms\tremaining: 9.52s\n",
      "2:\tlearn: 0.2797580\ttotal: 23.6ms\tremaining: 7.84s\n",
      "3:\tlearn: 0.2077444\ttotal: 28ms\tremaining: 6.98s\n",
      "4:\tlearn: 0.1572131\ttotal: 32.7ms\tremaining: 6.5s\n",
      "5:\tlearn: 0.1208251\ttotal: 37.2ms\tremaining: 6.17s\n",
      "6:\tlearn: 0.0929176\ttotal: 42.2ms\tremaining: 5.99s\n",
      "7:\tlearn: 0.0738999\ttotal: 46.8ms\tremaining: 5.8s\n",
      "8:\tlearn: 0.0604802\ttotal: 51.5ms\tremaining: 5.67s\n",
      "9:\tlearn: 0.0500978\ttotal: 56.4ms\tremaining: 5.58s\n",
      "10:\tlearn: 0.0417926\ttotal: 61.1ms\tremaining: 5.5s\n",
      "11:\tlearn: 0.0355216\ttotal: 66.2ms\tremaining: 5.45s\n",
      "12:\tlearn: 0.0304619\ttotal: 71.4ms\tremaining: 5.42s\n",
      "13:\tlearn: 0.0254581\ttotal: 76.4ms\tremaining: 5.38s\n",
      "14:\tlearn: 0.0216792\ttotal: 81.4ms\tremaining: 5.35s\n",
      "15:\tlearn: 0.0189689\ttotal: 86.4ms\tremaining: 5.31s\n",
      "16:\tlearn: 0.0169802\ttotal: 91.5ms\tremaining: 5.29s\n",
      "17:\tlearn: 0.0155881\ttotal: 96.4ms\tremaining: 5.26s\n",
      "18:\tlearn: 0.0148371\ttotal: 101ms\tremaining: 5.2s\n",
      "19:\tlearn: 0.0139077\ttotal: 105ms\tremaining: 5.17s\n",
      "20:\tlearn: 0.0133745\ttotal: 110ms\tremaining: 5.13s\n",
      "21:\tlearn: 0.0127613\ttotal: 115ms\tremaining: 5.09s\n",
      "22:\tlearn: 0.0122088\ttotal: 119ms\tremaining: 5.06s\n",
      "23:\tlearn: 0.0117075\ttotal: 124ms\tremaining: 5.05s\n",
      "24:\tlearn: 0.0113313\ttotal: 129ms\tremaining: 5.02s\n",
      "25:\tlearn: 0.0110002\ttotal: 133ms\tremaining: 5s\n",
      "26:\tlearn: 0.0107202\ttotal: 138ms\tremaining: 4.97s\n",
      "27:\tlearn: 0.0105920\ttotal: 142ms\tremaining: 4.94s\n",
      "28:\tlearn: 0.0104458\ttotal: 147ms\tremaining: 4.92s\n",
      "29:\tlearn: 0.0103307\ttotal: 152ms\tremaining: 4.9s\n",
      "30:\tlearn: 0.0101408\ttotal: 156ms\tremaining: 4.87s\n",
      "31:\tlearn: 0.0100496\ttotal: 160ms\tremaining: 4.85s\n",
      "32:\tlearn: 0.0098957\ttotal: 165ms\tremaining: 4.83s\n",
      "33:\tlearn: 0.0097273\ttotal: 170ms\tremaining: 4.82s\n",
      "34:\tlearn: 0.0095957\ttotal: 175ms\tremaining: 4.81s\n",
      "35:\tlearn: 0.0095455\ttotal: 181ms\tremaining: 4.83s\n",
      "36:\tlearn: 0.0094928\ttotal: 186ms\tremaining: 4.84s\n",
      "37:\tlearn: 0.0093743\ttotal: 192ms\tremaining: 4.85s\n",
      "38:\tlearn: 0.0093149\ttotal: 196ms\tremaining: 4.83s\n",
      "39:\tlearn: 0.0092243\ttotal: 201ms\tremaining: 4.82s\n",
      "40:\tlearn: 0.0091770\ttotal: 206ms\tremaining: 4.81s\n",
      "41:\tlearn: 0.0091034\ttotal: 210ms\tremaining: 4.79s\n",
      "42:\tlearn: 0.0090177\ttotal: 215ms\tremaining: 4.77s\n",
      "43:\tlearn: 0.0089514\ttotal: 219ms\tremaining: 4.76s\n",
      "44:\tlearn: 0.0089178\ttotal: 224ms\tremaining: 4.75s\n",
      "45:\tlearn: 0.0088536\ttotal: 228ms\tremaining: 4.73s\n",
      "46:\tlearn: 0.0087430\ttotal: 233ms\tremaining: 4.72s\n",
      "47:\tlearn: 0.0086948\ttotal: 238ms\tremaining: 4.72s\n",
      "48:\tlearn: 0.0086293\ttotal: 243ms\tremaining: 4.71s\n",
      "49:\tlearn: 0.0085314\ttotal: 248ms\tremaining: 4.71s\n",
      "50:\tlearn: 0.0085008\ttotal: 252ms\tremaining: 4.7s\n",
      "51:\tlearn: 0.0084639\ttotal: 257ms\tremaining: 4.69s\n",
      "52:\tlearn: 0.0084070\ttotal: 262ms\tremaining: 4.68s\n",
      "53:\tlearn: 0.0083156\ttotal: 267ms\tremaining: 4.67s\n",
      "54:\tlearn: 0.0082889\ttotal: 271ms\tremaining: 4.66s\n",
      "55:\tlearn: 0.0082359\ttotal: 276ms\tremaining: 4.65s\n",
      "56:\tlearn: 0.0081533\ttotal: 281ms\tremaining: 4.64s\n",
      "57:\tlearn: 0.0081092\ttotal: 285ms\tremaining: 4.63s\n",
      "58:\tlearn: 0.0080846\ttotal: 290ms\tremaining: 4.62s\n",
      "59:\tlearn: 0.0080269\ttotal: 295ms\tremaining: 4.62s\n",
      "60:\tlearn: 0.0079929\ttotal: 299ms\tremaining: 4.6s\n",
      "61:\tlearn: 0.0079596\ttotal: 304ms\tremaining: 4.59s\n",
      "62:\tlearn: 0.0078915\ttotal: 308ms\tremaining: 4.59s\n",
      "63:\tlearn: 0.0078732\ttotal: 313ms\tremaining: 4.57s\n",
      "64:\tlearn: 0.0078449\ttotal: 317ms\tremaining: 4.56s\n",
      "65:\tlearn: 0.0078247\ttotal: 322ms\tremaining: 4.55s\n",
      "66:\tlearn: 0.0078083\ttotal: 326ms\tremaining: 4.54s\n",
      "67:\tlearn: 0.0077676\ttotal: 330ms\tremaining: 4.53s\n",
      "68:\tlearn: 0.0077603\ttotal: 335ms\tremaining: 4.52s\n",
      "69:\tlearn: 0.0077370\ttotal: 339ms\tremaining: 4.5s\n",
      "70:\tlearn: 0.0076974\ttotal: 344ms\tremaining: 4.49s\n",
      "71:\tlearn: 0.0076655\ttotal: 348ms\tremaining: 4.48s\n",
      "72:\tlearn: 0.0076533\ttotal: 352ms\tremaining: 4.47s\n",
      "73:\tlearn: 0.0076320\ttotal: 357ms\tremaining: 4.46s\n",
      "74:\tlearn: 0.0076140\ttotal: 362ms\tremaining: 4.46s\n",
      "75:\tlearn: 0.0076085\ttotal: 366ms\tremaining: 4.46s\n",
      "76:\tlearn: 0.0075841\ttotal: 371ms\tremaining: 4.45s\n",
      "77:\tlearn: 0.0075643\ttotal: 376ms\tremaining: 4.44s\n",
      "78:\tlearn: 0.0075503\ttotal: 380ms\tremaining: 4.43s\n",
      "79:\tlearn: 0.0075314\ttotal: 385ms\tremaining: 4.43s\n",
      "80:\tlearn: 0.0075255\ttotal: 391ms\tremaining: 4.43s\n",
      "81:\tlearn: 0.0075123\ttotal: 395ms\tremaining: 4.43s\n",
      "82:\tlearn: 0.0074989\ttotal: 400ms\tremaining: 4.42s\n",
      "83:\tlearn: 0.0074182\ttotal: 405ms\tremaining: 4.42s\n",
      "84:\tlearn: 0.0073897\ttotal: 410ms\tremaining: 4.41s\n",
      "85:\tlearn: 0.0073802\ttotal: 414ms\tremaining: 4.4s\n",
      "86:\tlearn: 0.0073474\ttotal: 419ms\tremaining: 4.4s\n",
      "87:\tlearn: 0.0073178\ttotal: 424ms\tremaining: 4.39s\n",
      "88:\tlearn: 0.0073029\ttotal: 428ms\tremaining: 4.38s\n",
      "89:\tlearn: 0.0072834\ttotal: 433ms\tremaining: 4.37s\n",
      "90:\tlearn: 0.0072545\ttotal: 437ms\tremaining: 4.37s\n",
      "91:\tlearn: 0.0072448\ttotal: 441ms\tremaining: 4.36s\n",
      "92:\tlearn: 0.0072348\ttotal: 446ms\tremaining: 4.35s\n",
      "93:\tlearn: 0.0072151\ttotal: 450ms\tremaining: 4.34s\n",
      "94:\tlearn: 0.0072123\ttotal: 454ms\tremaining: 4.33s\n",
      "95:\tlearn: 0.0071977\ttotal: 459ms\tremaining: 4.32s\n",
      "96:\tlearn: 0.0071671\ttotal: 463ms\tremaining: 4.31s\n",
      "97:\tlearn: 0.0071640\ttotal: 468ms\tremaining: 4.3s\n",
      "98:\tlearn: 0.0071374\ttotal: 473ms\tremaining: 4.3s\n",
      "99:\tlearn: 0.0071164\ttotal: 477ms\tremaining: 4.29s\n",
      "100:\tlearn: 0.0070189\ttotal: 482ms\tremaining: 4.29s\n",
      "101:\tlearn: 0.0070030\ttotal: 486ms\tremaining: 4.28s\n",
      "102:\tlearn: 0.0069910\ttotal: 491ms\tremaining: 4.28s\n",
      "103:\tlearn: 0.0069735\ttotal: 496ms\tremaining: 4.27s\n",
      "104:\tlearn: 0.0068992\ttotal: 500ms\tremaining: 4.26s\n",
      "105:\tlearn: 0.0068695\ttotal: 506ms\tremaining: 4.26s\n",
      "106:\tlearn: 0.0068502\ttotal: 511ms\tremaining: 4.26s\n",
      "107:\tlearn: 0.0068337\ttotal: 515ms\tremaining: 4.25s\n",
      "108:\tlearn: 0.0067761\ttotal: 520ms\tremaining: 4.25s\n",
      "109:\tlearn: 0.0067177\ttotal: 524ms\tremaining: 4.24s\n",
      "110:\tlearn: 0.0066950\ttotal: 528ms\tremaining: 4.23s\n",
      "111:\tlearn: 0.0066853\ttotal: 533ms\tremaining: 4.22s\n",
      "112:\tlearn: 0.0066717\ttotal: 537ms\tremaining: 4.22s\n",
      "113:\tlearn: 0.0066653\ttotal: 542ms\tremaining: 4.21s\n",
      "114:\tlearn: 0.0066496\ttotal: 546ms\tremaining: 4.2s\n",
      "115:\tlearn: 0.0066424\ttotal: 551ms\tremaining: 4.2s\n",
      "116:\tlearn: 0.0066308\ttotal: 556ms\tremaining: 4.2s\n",
      "117:\tlearn: 0.0065808\ttotal: 562ms\tremaining: 4.2s\n",
      "118:\tlearn: 0.0065699\ttotal: 567ms\tremaining: 4.2s\n",
      "119:\tlearn: 0.0065590\ttotal: 572ms\tremaining: 4.2s\n",
      "120:\tlearn: 0.0065400\ttotal: 578ms\tremaining: 4.2s\n",
      "121:\tlearn: 0.0065003\ttotal: 582ms\tremaining: 4.19s\n",
      "122:\tlearn: 0.0064928\ttotal: 587ms\tremaining: 4.18s\n",
      "123:\tlearn: 0.0064733\ttotal: 592ms\tremaining: 4.18s\n",
      "124:\tlearn: 0.0064695\ttotal: 596ms\tremaining: 4.17s\n",
      "125:\tlearn: 0.0064593\ttotal: 600ms\tremaining: 4.16s\n",
      "126:\tlearn: 0.0064490\ttotal: 605ms\tremaining: 4.16s\n",
      "127:\tlearn: 0.0064384\ttotal: 609ms\tremaining: 4.15s\n",
      "128:\tlearn: 0.0064306\ttotal: 613ms\tremaining: 4.14s\n",
      "129:\tlearn: 0.0063979\ttotal: 618ms\tremaining: 4.13s\n",
      "130:\tlearn: 0.0063864\ttotal: 622ms\tremaining: 4.13s\n",
      "131:\tlearn: 0.0063780\ttotal: 627ms\tremaining: 4.12s\n",
      "132:\tlearn: 0.0063596\ttotal: 632ms\tremaining: 4.12s\n",
      "133:\tlearn: 0.0063417\ttotal: 636ms\tremaining: 4.11s\n",
      "134:\tlearn: 0.0063263\ttotal: 641ms\tremaining: 4.11s\n",
      "135:\tlearn: 0.0063217\ttotal: 645ms\tremaining: 4.1s\n",
      "136:\tlearn: 0.0063070\ttotal: 650ms\tremaining: 4.09s\n",
      "137:\tlearn: 0.0062825\ttotal: 654ms\tremaining: 4.09s\n",
      "138:\tlearn: 0.0062747\ttotal: 659ms\tremaining: 4.08s\n",
      "139:\tlearn: 0.0062601\ttotal: 663ms\tremaining: 4.07s\n",
      "140:\tlearn: 0.0062521\ttotal: 668ms\tremaining: 4.07s\n",
      "141:\tlearn: 0.0062431\ttotal: 672ms\tremaining: 4.06s\n",
      "142:\tlearn: 0.0062256\ttotal: 677ms\tremaining: 4.05s\n",
      "143:\tlearn: 0.0062018\ttotal: 682ms\tremaining: 4.05s\n",
      "144:\tlearn: 0.0061937\ttotal: 687ms\tremaining: 4.05s\n",
      "145:\tlearn: 0.0061790\ttotal: 692ms\tremaining: 4.05s\n",
      "146:\tlearn: 0.0061661\ttotal: 696ms\tremaining: 4.04s\n",
      "147:\tlearn: 0.0061561\ttotal: 701ms\tremaining: 4.03s\n",
      "148:\tlearn: 0.0061152\ttotal: 705ms\tremaining: 4.03s\n",
      "149:\tlearn: 0.0061118\ttotal: 709ms\tremaining: 4.02s\n",
      "150:\tlearn: 0.0060716\ttotal: 714ms\tremaining: 4.01s\n",
      "151:\tlearn: 0.0060626\ttotal: 718ms\tremaining: 4.01s\n",
      "152:\tlearn: 0.0060508\ttotal: 723ms\tremaining: 4s\n",
      "153:\tlearn: 0.0060233\ttotal: 728ms\tremaining: 4s\n",
      "154:\tlearn: 0.0060122\ttotal: 733ms\tremaining: 4s\n",
      "155:\tlearn: 0.0060061\ttotal: 738ms\tremaining: 3.99s\n",
      "156:\tlearn: 0.0059992\ttotal: 744ms\tremaining: 3.99s\n",
      "157:\tlearn: 0.0059898\ttotal: 749ms\tremaining: 3.99s\n",
      "158:\tlearn: 0.0059850\ttotal: 753ms\tremaining: 3.98s\n",
      "159:\tlearn: 0.0059807\ttotal: 758ms\tremaining: 3.98s\n",
      "160:\tlearn: 0.0059666\ttotal: 763ms\tremaining: 3.97s\n",
      "161:\tlearn: 0.0059613\ttotal: 767ms\tremaining: 3.97s\n",
      "162:\tlearn: 0.0059278\ttotal: 772ms\tremaining: 3.96s\n",
      "163:\tlearn: 0.0059240\ttotal: 776ms\tremaining: 3.96s\n",
      "164:\tlearn: 0.0059194\ttotal: 780ms\tremaining: 3.95s\n",
      "165:\tlearn: 0.0058968\ttotal: 785ms\tremaining: 3.94s\n",
      "166:\tlearn: 0.0058888\ttotal: 789ms\tremaining: 3.94s\n",
      "167:\tlearn: 0.0058721\ttotal: 794ms\tremaining: 3.93s\n",
      "168:\tlearn: 0.0058532\ttotal: 798ms\tremaining: 3.92s\n",
      "169:\tlearn: 0.0058452\ttotal: 803ms\tremaining: 3.92s\n",
      "170:\tlearn: 0.0058362\ttotal: 808ms\tremaining: 3.92s\n",
      "171:\tlearn: 0.0058273\ttotal: 812ms\tremaining: 3.91s\n",
      "172:\tlearn: 0.0058073\ttotal: 817ms\tremaining: 3.9s\n",
      "173:\tlearn: 0.0058042\ttotal: 821ms\tremaining: 3.9s\n",
      "174:\tlearn: 0.0057956\ttotal: 826ms\tremaining: 3.89s\n",
      "175:\tlearn: 0.0057926\ttotal: 830ms\tremaining: 3.88s\n",
      "176:\tlearn: 0.0057898\ttotal: 834ms\tremaining: 3.88s\n",
      "177:\tlearn: 0.0057760\ttotal: 839ms\tremaining: 3.88s\n",
      "178:\tlearn: 0.0057557\ttotal: 845ms\tremaining: 3.87s\n",
      "179:\tlearn: 0.0057494\ttotal: 849ms\tremaining: 3.87s\n",
      "180:\tlearn: 0.0057382\ttotal: 854ms\tremaining: 3.87s\n",
      "181:\tlearn: 0.0057327\ttotal: 859ms\tremaining: 3.86s\n",
      "182:\tlearn: 0.0057296\ttotal: 864ms\tremaining: 3.86s\n",
      "183:\tlearn: 0.0057193\ttotal: 869ms\tremaining: 3.85s\n",
      "184:\tlearn: 0.0057157\ttotal: 873ms\tremaining: 3.85s\n",
      "185:\tlearn: 0.0057108\ttotal: 878ms\tremaining: 3.84s\n",
      "186:\tlearn: 0.0056949\ttotal: 882ms\tremaining: 3.84s\n",
      "187:\tlearn: 0.0056835\ttotal: 887ms\tremaining: 3.83s\n",
      "188:\tlearn: 0.0056665\ttotal: 891ms\tremaining: 3.83s\n",
      "189:\tlearn: 0.0056589\ttotal: 896ms\tremaining: 3.82s\n",
      "190:\tlearn: 0.0056530\ttotal: 901ms\tremaining: 3.82s\n"
     ]
    },
    {
     "name": "stdout",
     "output_type": "stream",
     "text": [
      "191:\tlearn: 0.0056505\ttotal: 906ms\tremaining: 3.81s\n",
      "192:\tlearn: 0.0056286\ttotal: 910ms\tremaining: 3.81s\n",
      "193:\tlearn: 0.0056258\ttotal: 916ms\tremaining: 3.8s\n",
      "194:\tlearn: 0.0056218\ttotal: 920ms\tremaining: 3.8s\n",
      "195:\tlearn: 0.0056001\ttotal: 925ms\tremaining: 3.79s\n",
      "196:\tlearn: 0.0055910\ttotal: 930ms\tremaining: 3.79s\n",
      "197:\tlearn: 0.0055856\ttotal: 935ms\tremaining: 3.79s\n",
      "198:\tlearn: 0.0055709\ttotal: 940ms\tremaining: 3.78s\n",
      "199:\tlearn: 0.0055686\ttotal: 944ms\tremaining: 3.78s\n",
      "200:\tlearn: 0.0055533\ttotal: 949ms\tremaining: 3.77s\n",
      "201:\tlearn: 0.0055508\ttotal: 954ms\tremaining: 3.77s\n",
      "202:\tlearn: 0.0055370\ttotal: 958ms\tremaining: 3.76s\n",
      "203:\tlearn: 0.0055287\ttotal: 963ms\tremaining: 3.76s\n",
      "204:\tlearn: 0.0055265\ttotal: 968ms\tremaining: 3.75s\n",
      "205:\tlearn: 0.0055243\ttotal: 973ms\tremaining: 3.75s\n",
      "206:\tlearn: 0.0055175\ttotal: 978ms\tremaining: 3.75s\n",
      "207:\tlearn: 0.0055152\ttotal: 984ms\tremaining: 3.74s\n",
      "208:\tlearn: 0.0055049\ttotal: 989ms\tremaining: 3.74s\n",
      "209:\tlearn: 0.0055021\ttotal: 994ms\tremaining: 3.74s\n",
      "210:\tlearn: 0.0054959\ttotal: 999ms\tremaining: 3.73s\n",
      "211:\tlearn: 0.0054924\ttotal: 1s\tremaining: 3.73s\n",
      "212:\tlearn: 0.0054899\ttotal: 1.01s\tremaining: 3.72s\n",
      "213:\tlearn: 0.0054870\ttotal: 1.01s\tremaining: 3.72s\n",
      "214:\tlearn: 0.0054853\ttotal: 1.02s\tremaining: 3.71s\n",
      "215:\tlearn: 0.0054671\ttotal: 1.02s\tremaining: 3.71s\n",
      "216:\tlearn: 0.0054569\ttotal: 1.02s\tremaining: 3.7s\n",
      "217:\tlearn: 0.0054553\ttotal: 1.03s\tremaining: 3.69s\n",
      "218:\tlearn: 0.0054443\ttotal: 1.03s\tremaining: 3.69s\n",
      "219:\tlearn: 0.0054426\ttotal: 1.04s\tremaining: 3.68s\n",
      "220:\tlearn: 0.0054400\ttotal: 1.04s\tremaining: 3.68s\n",
      "221:\tlearn: 0.0054382\ttotal: 1.05s\tremaining: 3.67s\n",
      "222:\tlearn: 0.0054366\ttotal: 1.05s\tremaining: 3.67s\n",
      "223:\tlearn: 0.0054349\ttotal: 1.06s\tremaining: 3.66s\n",
      "224:\tlearn: 0.0054284\ttotal: 1.06s\tremaining: 3.66s\n",
      "225:\tlearn: 0.0054131\ttotal: 1.07s\tremaining: 3.65s\n",
      "226:\tlearn: 0.0054114\ttotal: 1.07s\tremaining: 3.65s\n",
      "227:\tlearn: 0.0054059\ttotal: 1.07s\tremaining: 3.64s\n",
      "228:\tlearn: 0.0054044\ttotal: 1.08s\tremaining: 3.64s\n",
      "229:\tlearn: 0.0053934\ttotal: 1.08s\tremaining: 3.63s\n",
      "230:\tlearn: 0.0053840\ttotal: 1.09s\tremaining: 3.63s\n",
      "231:\tlearn: 0.0053743\ttotal: 1.1s\tremaining: 3.63s\n",
      "232:\tlearn: 0.0053729\ttotal: 1.1s\tremaining: 3.62s\n",
      "233:\tlearn: 0.0053640\ttotal: 1.1s\tremaining: 3.62s\n",
      "234:\tlearn: 0.0053430\ttotal: 1.11s\tremaining: 3.61s\n",
      "235:\tlearn: 0.0053417\ttotal: 1.11s\tremaining: 3.61s\n",
      "236:\tlearn: 0.0053282\ttotal: 1.12s\tremaining: 3.6s\n",
      "237:\tlearn: 0.0053269\ttotal: 1.12s\tremaining: 3.6s\n",
      "238:\tlearn: 0.0053182\ttotal: 1.13s\tremaining: 3.59s\n",
      "239:\tlearn: 0.0053041\ttotal: 1.13s\tremaining: 3.59s\n",
      "240:\tlearn: 0.0053031\ttotal: 1.14s\tremaining: 3.58s\n",
      "241:\tlearn: 0.0052944\ttotal: 1.14s\tremaining: 3.58s\n",
      "242:\tlearn: 0.0052932\ttotal: 1.15s\tremaining: 3.57s\n",
      "243:\tlearn: 0.0052865\ttotal: 1.15s\tremaining: 3.56s\n",
      "244:\tlearn: 0.0052854\ttotal: 1.16s\tremaining: 3.56s\n",
      "245:\tlearn: 0.0052840\ttotal: 1.16s\tremaining: 3.55s\n",
      "246:\tlearn: 0.0052792\ttotal: 1.16s\tremaining: 3.55s\n",
      "247:\tlearn: 0.0052687\ttotal: 1.17s\tremaining: 3.55s\n",
      "248:\tlearn: 0.0052675\ttotal: 1.18s\tremaining: 3.55s\n",
      "249:\tlearn: 0.0052664\ttotal: 1.18s\tremaining: 3.55s\n",
      "250:\tlearn: 0.0052537\ttotal: 1.19s\tremaining: 3.55s\n",
      "251:\tlearn: 0.0052512\ttotal: 1.2s\tremaining: 3.55s\n",
      "252:\tlearn: 0.0052451\ttotal: 1.2s\tremaining: 3.55s\n",
      "253:\tlearn: 0.0052375\ttotal: 1.21s\tremaining: 3.56s\n",
      "254:\tlearn: 0.0052318\ttotal: 1.22s\tremaining: 3.56s\n",
      "255:\tlearn: 0.0052246\ttotal: 1.22s\tremaining: 3.56s\n",
      "256:\tlearn: 0.0052170\ttotal: 1.23s\tremaining: 3.56s\n",
      "257:\tlearn: 0.0052158\ttotal: 1.24s\tremaining: 3.56s\n",
      "258:\tlearn: 0.0052103\ttotal: 1.25s\tremaining: 3.56s\n",
      "259:\tlearn: 0.0052090\ttotal: 1.25s\tremaining: 3.57s\n",
      "260:\tlearn: 0.0051975\ttotal: 1.26s\tremaining: 3.57s\n",
      "261:\tlearn: 0.0051931\ttotal: 1.27s\tremaining: 3.57s\n",
      "262:\tlearn: 0.0051798\ttotal: 1.27s\tremaining: 3.57s\n",
      "263:\tlearn: 0.0051761\ttotal: 1.28s\tremaining: 3.58s\n",
      "264:\tlearn: 0.0051752\ttotal: 1.29s\tremaining: 3.58s\n",
      "265:\tlearn: 0.0051647\ttotal: 1.29s\tremaining: 3.57s\n",
      "266:\tlearn: 0.0051531\ttotal: 1.3s\tremaining: 3.58s\n",
      "267:\tlearn: 0.0051341\ttotal: 1.31s\tremaining: 3.57s\n",
      "268:\tlearn: 0.0051279\ttotal: 1.32s\tremaining: 3.58s\n",
      "269:\tlearn: 0.0051211\ttotal: 1.32s\tremaining: 3.58s\n",
      "270:\tlearn: 0.0051065\ttotal: 1.33s\tremaining: 3.58s\n",
      "271:\tlearn: 0.0051057\ttotal: 1.34s\tremaining: 3.58s\n",
      "272:\tlearn: 0.0050935\ttotal: 1.34s\tremaining: 3.58s\n",
      "273:\tlearn: 0.0050897\ttotal: 1.35s\tremaining: 3.58s\n",
      "274:\tlearn: 0.0050790\ttotal: 1.36s\tremaining: 3.58s\n",
      "275:\tlearn: 0.0050780\ttotal: 1.36s\tremaining: 3.58s\n",
      "276:\tlearn: 0.0050770\ttotal: 1.37s\tremaining: 3.58s\n",
      "277:\tlearn: 0.0050697\ttotal: 1.38s\tremaining: 3.58s\n",
      "278:\tlearn: 0.0050597\ttotal: 1.38s\tremaining: 3.57s\n",
      "279:\tlearn: 0.0050587\ttotal: 1.39s\tremaining: 3.57s\n",
      "280:\tlearn: 0.0050538\ttotal: 1.39s\tremaining: 3.57s\n",
      "281:\tlearn: 0.0050526\ttotal: 1.4s\tremaining: 3.56s\n",
      "282:\tlearn: 0.0050474\ttotal: 1.4s\tremaining: 3.56s\n",
      "283:\tlearn: 0.0050407\ttotal: 1.41s\tremaining: 3.55s\n",
      "284:\tlearn: 0.0050399\ttotal: 1.41s\tremaining: 3.55s\n",
      "285:\tlearn: 0.0050377\ttotal: 1.42s\tremaining: 3.54s\n",
      "286:\tlearn: 0.0050308\ttotal: 1.42s\tremaining: 3.54s\n",
      "287:\tlearn: 0.0050164\ttotal: 1.43s\tremaining: 3.53s\n",
      "288:\tlearn: 0.0050119\ttotal: 1.43s\tremaining: 3.53s\n",
      "289:\tlearn: 0.0050051\ttotal: 1.44s\tremaining: 3.52s\n",
      "290:\tlearn: 0.0050044\ttotal: 1.44s\tremaining: 3.52s\n",
      "291:\tlearn: 0.0050037\ttotal: 1.45s\tremaining: 3.51s\n",
      "292:\tlearn: 0.0049948\ttotal: 1.45s\tremaining: 3.51s\n",
      "293:\tlearn: 0.0049927\ttotal: 1.46s\tremaining: 3.5s\n",
      "294:\tlearn: 0.0049796\ttotal: 1.46s\tremaining: 3.5s\n",
      "295:\tlearn: 0.0049690\ttotal: 1.47s\tremaining: 3.49s\n",
      "296:\tlearn: 0.0049653\ttotal: 1.47s\tremaining: 3.49s\n",
      "297:\tlearn: 0.0049609\ttotal: 1.48s\tremaining: 3.48s\n",
      "298:\tlearn: 0.0049555\ttotal: 1.48s\tremaining: 3.48s\n",
      "299:\tlearn: 0.0049505\ttotal: 1.49s\tremaining: 3.47s\n",
      "300:\tlearn: 0.0049455\ttotal: 1.49s\tremaining: 3.46s\n",
      "301:\tlearn: 0.0049408\ttotal: 1.5s\tremaining: 3.46s\n",
      "302:\tlearn: 0.0049368\ttotal: 1.5s\tremaining: 3.45s\n",
      "303:\tlearn: 0.0049245\ttotal: 1.5s\tremaining: 3.45s\n",
      "304:\tlearn: 0.0049105\ttotal: 1.51s\tremaining: 3.44s\n",
      "305:\tlearn: 0.0049002\ttotal: 1.51s\tremaining: 3.44s\n",
      "306:\tlearn: 0.0048917\ttotal: 1.52s\tremaining: 3.43s\n",
      "307:\tlearn: 0.0048850\ttotal: 1.52s\tremaining: 3.42s\n",
      "308:\tlearn: 0.0048789\ttotal: 1.53s\tremaining: 3.42s\n",
      "309:\tlearn: 0.0048740\ttotal: 1.53s\tremaining: 3.41s\n",
      "310:\tlearn: 0.0048733\ttotal: 1.54s\tremaining: 3.4s\n",
      "311:\tlearn: 0.0048677\ttotal: 1.54s\tremaining: 3.4s\n",
      "312:\tlearn: 0.0048566\ttotal: 1.55s\tremaining: 3.39s\n",
      "313:\tlearn: 0.0048428\ttotal: 1.55s\tremaining: 3.39s\n",
      "314:\tlearn: 0.0048324\ttotal: 1.56s\tremaining: 3.39s\n",
      "315:\tlearn: 0.0048283\ttotal: 1.56s\tremaining: 3.38s\n",
      "316:\tlearn: 0.0048254\ttotal: 1.57s\tremaining: 3.38s\n",
      "317:\tlearn: 0.0048178\ttotal: 1.57s\tremaining: 3.37s\n",
      "318:\tlearn: 0.0048124\ttotal: 1.57s\tremaining: 3.36s\n",
      "319:\tlearn: 0.0048079\ttotal: 1.58s\tremaining: 3.36s\n",
      "320:\tlearn: 0.0048039\ttotal: 1.58s\tremaining: 3.35s\n",
      "321:\tlearn: 0.0047757\ttotal: 1.59s\tremaining: 3.35s\n",
      "322:\tlearn: 0.0047684\ttotal: 1.59s\tremaining: 3.34s\n",
      "323:\tlearn: 0.0047646\ttotal: 1.6s\tremaining: 3.33s\n",
      "324:\tlearn: 0.0047632\ttotal: 1.6s\tremaining: 3.33s\n",
      "325:\tlearn: 0.0047575\ttotal: 1.61s\tremaining: 3.32s\n",
      "326:\tlearn: 0.0047549\ttotal: 1.61s\tremaining: 3.31s\n",
      "327:\tlearn: 0.0047503\ttotal: 1.61s\tremaining: 3.31s\n",
      "328:\tlearn: 0.0047441\ttotal: 1.62s\tremaining: 3.3s\n",
      "329:\tlearn: 0.0047389\ttotal: 1.62s\tremaining: 3.3s\n",
      "330:\tlearn: 0.0047381\ttotal: 1.63s\tremaining: 3.29s\n",
      "331:\tlearn: 0.0047295\ttotal: 1.63s\tremaining: 3.28s\n",
      "332:\tlearn: 0.0047260\ttotal: 1.64s\tremaining: 3.28s\n",
      "333:\tlearn: 0.0047176\ttotal: 1.64s\tremaining: 3.27s\n",
      "334:\tlearn: 0.0047077\ttotal: 1.65s\tremaining: 3.27s\n",
      "335:\tlearn: 0.0046997\ttotal: 1.65s\tremaining: 3.26s\n",
      "336:\tlearn: 0.0046925\ttotal: 1.66s\tremaining: 3.26s\n",
      "337:\tlearn: 0.0046887\ttotal: 1.66s\tremaining: 3.25s\n",
      "338:\tlearn: 0.0046808\ttotal: 1.67s\tremaining: 3.25s\n",
      "339:\tlearn: 0.0046760\ttotal: 1.67s\tremaining: 3.25s\n",
      "340:\tlearn: 0.0046742\ttotal: 1.68s\tremaining: 3.24s\n",
      "341:\tlearn: 0.0046685\ttotal: 1.68s\tremaining: 3.23s\n",
      "342:\tlearn: 0.0046586\ttotal: 1.69s\tremaining: 3.23s\n",
      "343:\tlearn: 0.0046538\ttotal: 1.69s\tremaining: 3.22s\n",
      "344:\tlearn: 0.0046447\ttotal: 1.7s\tremaining: 3.22s\n",
      "345:\tlearn: 0.0046415\ttotal: 1.7s\tremaining: 3.21s\n",
      "346:\tlearn: 0.0046303\ttotal: 1.71s\tremaining: 3.21s\n",
      "347:\tlearn: 0.0046237\ttotal: 1.71s\tremaining: 3.2s\n",
      "348:\tlearn: 0.0046203\ttotal: 1.71s\tremaining: 3.2s\n",
      "349:\tlearn: 0.0046153\ttotal: 1.72s\tremaining: 3.19s\n",
      "350:\tlearn: 0.0046046\ttotal: 1.72s\tremaining: 3.19s\n",
      "351:\tlearn: 0.0045998\ttotal: 1.73s\tremaining: 3.18s\n",
      "352:\tlearn: 0.0045946\ttotal: 1.73s\tremaining: 3.18s\n",
      "353:\tlearn: 0.0045899\ttotal: 1.74s\tremaining: 3.17s\n",
      "354:\tlearn: 0.0045807\ttotal: 1.74s\tremaining: 3.17s\n",
      "355:\tlearn: 0.0045740\ttotal: 1.75s\tremaining: 3.16s\n",
      "356:\tlearn: 0.0045713\ttotal: 1.75s\tremaining: 3.16s\n",
      "357:\tlearn: 0.0045687\ttotal: 1.76s\tremaining: 3.15s\n",
      "358:\tlearn: 0.0045677\ttotal: 1.76s\tremaining: 3.15s\n",
      "359:\tlearn: 0.0045660\ttotal: 1.77s\tremaining: 3.14s\n",
      "360:\tlearn: 0.0045623\ttotal: 1.77s\tremaining: 3.13s\n",
      "361:\tlearn: 0.0045576\ttotal: 1.77s\tremaining: 3.13s\n",
      "362:\tlearn: 0.0045560\ttotal: 1.78s\tremaining: 3.12s\n",
      "363:\tlearn: 0.0045510\ttotal: 1.78s\tremaining: 3.12s\n",
      "364:\tlearn: 0.0045499\ttotal: 1.79s\tremaining: 3.11s\n",
      "365:\tlearn: 0.0045433\ttotal: 1.79s\tremaining: 3.1s\n",
      "366:\tlearn: 0.0045415\ttotal: 1.8s\tremaining: 3.1s\n",
      "367:\tlearn: 0.0045341\ttotal: 1.8s\tremaining: 3.09s\n",
      "368:\tlearn: 0.0045298\ttotal: 1.8s\tremaining: 3.09s\n",
      "369:\tlearn: 0.0045228\ttotal: 1.81s\tremaining: 3.08s\n",
      "370:\tlearn: 0.0045181\ttotal: 1.81s\tremaining: 3.08s\n",
      "371:\tlearn: 0.0045135\ttotal: 1.82s\tremaining: 3.07s\n",
      "372:\tlearn: 0.0045076\ttotal: 1.82s\tremaining: 3.07s\n"
     ]
    },
    {
     "name": "stdout",
     "output_type": "stream",
     "text": [
      "373:\tlearn: 0.0045061\ttotal: 1.83s\tremaining: 3.06s\n",
      "374:\tlearn: 0.0044997\ttotal: 1.83s\tremaining: 3.06s\n",
      "375:\tlearn: 0.0044989\ttotal: 1.84s\tremaining: 3.05s\n",
      "376:\tlearn: 0.0044957\ttotal: 1.84s\tremaining: 3.05s\n",
      "377:\tlearn: 0.0044866\ttotal: 1.85s\tremaining: 3.04s\n",
      "378:\tlearn: 0.0044794\ttotal: 1.85s\tremaining: 3.04s\n",
      "379:\tlearn: 0.0044763\ttotal: 1.86s\tremaining: 3.03s\n",
      "380:\tlearn: 0.0044705\ttotal: 1.86s\tremaining: 3.02s\n",
      "381:\tlearn: 0.0044624\ttotal: 1.87s\tremaining: 3.02s\n",
      "382:\tlearn: 0.0044572\ttotal: 1.87s\tremaining: 3.02s\n",
      "383:\tlearn: 0.0044496\ttotal: 1.88s\tremaining: 3.01s\n",
      "384:\tlearn: 0.0044442\ttotal: 1.88s\tremaining: 3s\n",
      "385:\tlearn: 0.0044428\ttotal: 1.89s\tremaining: 3s\n",
      "386:\tlearn: 0.0044169\ttotal: 1.89s\tremaining: 2.99s\n",
      "387:\tlearn: 0.0044116\ttotal: 1.89s\tremaining: 2.99s\n",
      "388:\tlearn: 0.0044050\ttotal: 1.9s\tremaining: 2.98s\n",
      "389:\tlearn: 0.0044001\ttotal: 1.9s\tremaining: 2.98s\n",
      "390:\tlearn: 0.0043935\ttotal: 1.91s\tremaining: 2.97s\n",
      "391:\tlearn: 0.0043896\ttotal: 1.91s\tremaining: 2.97s\n",
      "392:\tlearn: 0.0043852\ttotal: 1.92s\tremaining: 2.96s\n",
      "393:\tlearn: 0.0043778\ttotal: 1.92s\tremaining: 2.96s\n",
      "394:\tlearn: 0.0043765\ttotal: 1.93s\tremaining: 2.95s\n",
      "395:\tlearn: 0.0043737\ttotal: 1.93s\tremaining: 2.94s\n",
      "396:\tlearn: 0.0043683\ttotal: 1.94s\tremaining: 2.94s\n",
      "397:\tlearn: 0.0043642\ttotal: 1.94s\tremaining: 2.93s\n",
      "398:\tlearn: 0.0043612\ttotal: 1.94s\tremaining: 2.93s\n",
      "399:\tlearn: 0.0043574\ttotal: 1.95s\tremaining: 2.92s\n",
      "400:\tlearn: 0.0043539\ttotal: 1.95s\tremaining: 2.92s\n",
      "401:\tlearn: 0.0043510\ttotal: 1.96s\tremaining: 2.91s\n",
      "402:\tlearn: 0.0043475\ttotal: 1.96s\tremaining: 2.9s\n",
      "403:\tlearn: 0.0043447\ttotal: 1.97s\tremaining: 2.9s\n",
      "404:\tlearn: 0.0043351\ttotal: 1.97s\tremaining: 2.89s\n",
      "405:\tlearn: 0.0043319\ttotal: 1.98s\tremaining: 2.89s\n",
      "406:\tlearn: 0.0043225\ttotal: 1.98s\tremaining: 2.88s\n",
      "407:\tlearn: 0.0043157\ttotal: 1.98s\tremaining: 2.88s\n",
      "408:\tlearn: 0.0043111\ttotal: 1.99s\tremaining: 2.87s\n",
      "409:\tlearn: 0.0043090\ttotal: 1.99s\tremaining: 2.87s\n",
      "410:\tlearn: 0.0043015\ttotal: 2s\tremaining: 2.86s\n",
      "411:\tlearn: 0.0042987\ttotal: 2s\tremaining: 2.86s\n",
      "412:\tlearn: 0.0042942\ttotal: 2.01s\tremaining: 2.85s\n",
      "413:\tlearn: 0.0042916\ttotal: 2.01s\tremaining: 2.85s\n",
      "414:\tlearn: 0.0042891\ttotal: 2.02s\tremaining: 2.84s\n",
      "415:\tlearn: 0.0042808\ttotal: 2.02s\tremaining: 2.84s\n",
      "416:\tlearn: 0.0042794\ttotal: 2.03s\tremaining: 2.83s\n",
      "417:\tlearn: 0.0042769\ttotal: 2.03s\tremaining: 2.83s\n",
      "418:\tlearn: 0.0042733\ttotal: 2.04s\tremaining: 2.82s\n",
      "419:\tlearn: 0.0042731\ttotal: 2.04s\tremaining: 2.82s\n",
      "420:\tlearn: 0.0042691\ttotal: 2.04s\tremaining: 2.81s\n",
      "421:\tlearn: 0.0042633\ttotal: 2.05s\tremaining: 2.81s\n",
      "422:\tlearn: 0.0042600\ttotal: 2.05s\tremaining: 2.8s\n",
      "423:\tlearn: 0.0042577\ttotal: 2.06s\tremaining: 2.79s\n",
      "424:\tlearn: 0.0042527\ttotal: 2.06s\tremaining: 2.79s\n",
      "425:\tlearn: 0.0042509\ttotal: 2.07s\tremaining: 2.78s\n",
      "426:\tlearn: 0.0042451\ttotal: 2.07s\tremaining: 2.78s\n",
      "427:\tlearn: 0.0042404\ttotal: 2.08s\tremaining: 2.77s\n",
      "428:\tlearn: 0.0042391\ttotal: 2.08s\tremaining: 2.77s\n",
      "429:\tlearn: 0.0042383\ttotal: 2.08s\tremaining: 2.76s\n",
      "430:\tlearn: 0.0042353\ttotal: 2.09s\tremaining: 2.76s\n",
      "431:\tlearn: 0.0042322\ttotal: 2.09s\tremaining: 2.75s\n",
      "432:\tlearn: 0.0042313\ttotal: 2.1s\tremaining: 2.75s\n",
      "433:\tlearn: 0.0042231\ttotal: 2.1s\tremaining: 2.74s\n",
      "434:\tlearn: 0.0042196\ttotal: 2.11s\tremaining: 2.74s\n",
      "435:\tlearn: 0.0042163\ttotal: 2.11s\tremaining: 2.73s\n",
      "436:\tlearn: 0.0041969\ttotal: 2.12s\tremaining: 2.73s\n",
      "437:\tlearn: 0.0041727\ttotal: 2.12s\tremaining: 2.72s\n",
      "438:\tlearn: 0.0041725\ttotal: 2.13s\tremaining: 2.72s\n",
      "439:\tlearn: 0.0041661\ttotal: 2.13s\tremaining: 2.71s\n",
      "440:\tlearn: 0.0041598\ttotal: 2.14s\tremaining: 2.71s\n",
      "441:\tlearn: 0.0041519\ttotal: 2.14s\tremaining: 2.7s\n",
      "442:\tlearn: 0.0041388\ttotal: 2.15s\tremaining: 2.7s\n",
      "443:\tlearn: 0.0041329\ttotal: 2.15s\tremaining: 2.69s\n",
      "444:\tlearn: 0.0041289\ttotal: 2.15s\tremaining: 2.69s\n",
      "445:\tlearn: 0.0041210\ttotal: 2.16s\tremaining: 2.68s\n",
      "446:\tlearn: 0.0041156\ttotal: 2.16s\tremaining: 2.68s\n",
      "447:\tlearn: 0.0041134\ttotal: 2.17s\tremaining: 2.67s\n",
      "448:\tlearn: 0.0041099\ttotal: 2.17s\tremaining: 2.67s\n",
      "449:\tlearn: 0.0041081\ttotal: 2.18s\tremaining: 2.66s\n",
      "450:\tlearn: 0.0041001\ttotal: 2.18s\tremaining: 2.65s\n",
      "451:\tlearn: 0.0040932\ttotal: 2.19s\tremaining: 2.65s\n",
      "452:\tlearn: 0.0040892\ttotal: 2.19s\tremaining: 2.65s\n",
      "453:\tlearn: 0.0040850\ttotal: 2.2s\tremaining: 2.64s\n",
      "454:\tlearn: 0.0040829\ttotal: 2.2s\tremaining: 2.64s\n",
      "455:\tlearn: 0.0040807\ttotal: 2.21s\tremaining: 2.63s\n",
      "456:\tlearn: 0.0040774\ttotal: 2.21s\tremaining: 2.63s\n",
      "457:\tlearn: 0.0040699\ttotal: 2.22s\tremaining: 2.62s\n",
      "458:\tlearn: 0.0040652\ttotal: 2.22s\tremaining: 2.62s\n",
      "459:\tlearn: 0.0040620\ttotal: 2.23s\tremaining: 2.61s\n",
      "460:\tlearn: 0.0040600\ttotal: 2.23s\tremaining: 2.61s\n",
      "461:\tlearn: 0.0040571\ttotal: 2.23s\tremaining: 2.6s\n",
      "462:\tlearn: 0.0040549\ttotal: 2.24s\tremaining: 2.6s\n",
      "463:\tlearn: 0.0040485\ttotal: 2.24s\tremaining: 2.59s\n",
      "464:\tlearn: 0.0040458\ttotal: 2.25s\tremaining: 2.58s\n",
      "465:\tlearn: 0.0040431\ttotal: 2.25s\tremaining: 2.58s\n",
      "466:\tlearn: 0.0040394\ttotal: 2.25s\tremaining: 2.57s\n",
      "467:\tlearn: 0.0040291\ttotal: 2.26s\tremaining: 2.57s\n",
      "468:\tlearn: 0.0040227\ttotal: 2.27s\tremaining: 2.56s\n",
      "469:\tlearn: 0.0040174\ttotal: 2.27s\tremaining: 2.56s\n",
      "470:\tlearn: 0.0040151\ttotal: 2.27s\tremaining: 2.55s\n",
      "471:\tlearn: 0.0040128\ttotal: 2.28s\tremaining: 2.55s\n",
      "472:\tlearn: 0.0040101\ttotal: 2.28s\tremaining: 2.54s\n",
      "473:\tlearn: 0.0040011\ttotal: 2.29s\tremaining: 2.54s\n",
      "474:\tlearn: 0.0039979\ttotal: 2.29s\tremaining: 2.53s\n",
      "475:\tlearn: 0.0039948\ttotal: 2.3s\tremaining: 2.53s\n",
      "476:\tlearn: 0.0039913\ttotal: 2.3s\tremaining: 2.52s\n",
      "477:\tlearn: 0.0039856\ttotal: 2.31s\tremaining: 2.52s\n",
      "478:\tlearn: 0.0039854\ttotal: 2.31s\tremaining: 2.51s\n",
      "479:\tlearn: 0.0039824\ttotal: 2.31s\tremaining: 2.51s\n",
      "480:\tlearn: 0.0039790\ttotal: 2.32s\tremaining: 2.5s\n",
      "481:\tlearn: 0.0039757\ttotal: 2.32s\tremaining: 2.5s\n",
      "482:\tlearn: 0.0039698\ttotal: 2.33s\tremaining: 2.49s\n",
      "483:\tlearn: 0.0039657\ttotal: 2.33s\tremaining: 2.49s\n",
      "484:\tlearn: 0.0039516\ttotal: 2.34s\tremaining: 2.48s\n",
      "485:\tlearn: 0.0039474\ttotal: 2.34s\tremaining: 2.48s\n",
      "486:\tlearn: 0.0039445\ttotal: 2.35s\tremaining: 2.47s\n",
      "487:\tlearn: 0.0039403\ttotal: 2.35s\tremaining: 2.47s\n",
      "488:\tlearn: 0.0039372\ttotal: 2.36s\tremaining: 2.46s\n",
      "489:\tlearn: 0.0039361\ttotal: 2.36s\tremaining: 2.46s\n",
      "490:\tlearn: 0.0039310\ttotal: 2.37s\tremaining: 2.45s\n",
      "491:\tlearn: 0.0039283\ttotal: 2.37s\tremaining: 2.45s\n",
      "492:\tlearn: 0.0039254\ttotal: 2.37s\tremaining: 2.44s\n",
      "493:\tlearn: 0.0039201\ttotal: 2.38s\tremaining: 2.44s\n",
      "494:\tlearn: 0.0039152\ttotal: 2.38s\tremaining: 2.43s\n",
      "495:\tlearn: 0.0039023\ttotal: 2.39s\tremaining: 2.43s\n",
      "496:\tlearn: 0.0038997\ttotal: 2.39s\tremaining: 2.42s\n",
      "497:\tlearn: 0.0038888\ttotal: 2.4s\tremaining: 2.42s\n",
      "498:\tlearn: 0.0038818\ttotal: 2.4s\tremaining: 2.41s\n",
      "499:\tlearn: 0.0038793\ttotal: 2.41s\tremaining: 2.41s\n",
      "500:\tlearn: 0.0038766\ttotal: 2.41s\tremaining: 2.4s\n",
      "501:\tlearn: 0.0038650\ttotal: 2.42s\tremaining: 2.4s\n",
      "502:\tlearn: 0.0038577\ttotal: 2.42s\tremaining: 2.39s\n",
      "503:\tlearn: 0.0038548\ttotal: 2.42s\tremaining: 2.38s\n",
      "504:\tlearn: 0.0038472\ttotal: 2.43s\tremaining: 2.38s\n",
      "505:\tlearn: 0.0038411\ttotal: 2.43s\tremaining: 2.37s\n",
      "506:\tlearn: 0.0038310\ttotal: 2.44s\tremaining: 2.37s\n",
      "507:\tlearn: 0.0038216\ttotal: 2.44s\tremaining: 2.36s\n",
      "508:\tlearn: 0.0038142\ttotal: 2.45s\tremaining: 2.36s\n",
      "509:\tlearn: 0.0038110\ttotal: 2.45s\tremaining: 2.35s\n",
      "510:\tlearn: 0.0038081\ttotal: 2.46s\tremaining: 2.35s\n",
      "511:\tlearn: 0.0038055\ttotal: 2.46s\tremaining: 2.34s\n",
      "512:\tlearn: 0.0038032\ttotal: 2.46s\tremaining: 2.34s\n",
      "513:\tlearn: 0.0037958\ttotal: 2.47s\tremaining: 2.33s\n",
      "514:\tlearn: 0.0037916\ttotal: 2.47s\tremaining: 2.33s\n",
      "515:\tlearn: 0.0037898\ttotal: 2.48s\tremaining: 2.32s\n",
      "516:\tlearn: 0.0037833\ttotal: 2.48s\tremaining: 2.32s\n",
      "517:\tlearn: 0.0037646\ttotal: 2.48s\tremaining: 2.31s\n",
      "518:\tlearn: 0.0037570\ttotal: 2.49s\tremaining: 2.31s\n",
      "519:\tlearn: 0.0037530\ttotal: 2.49s\tremaining: 2.3s\n",
      "520:\tlearn: 0.0037517\ttotal: 2.5s\tremaining: 2.3s\n",
      "521:\tlearn: 0.0037449\ttotal: 2.5s\tremaining: 2.29s\n",
      "522:\tlearn: 0.0037351\ttotal: 2.51s\tremaining: 2.29s\n",
      "523:\tlearn: 0.0037327\ttotal: 2.51s\tremaining: 2.28s\n",
      "524:\tlearn: 0.0037293\ttotal: 2.52s\tremaining: 2.28s\n",
      "525:\tlearn: 0.0037191\ttotal: 2.52s\tremaining: 2.27s\n",
      "526:\tlearn: 0.0037168\ttotal: 2.52s\tremaining: 2.27s\n",
      "527:\tlearn: 0.0037145\ttotal: 2.53s\tremaining: 2.26s\n",
      "528:\tlearn: 0.0036983\ttotal: 2.53s\tremaining: 2.26s\n",
      "529:\tlearn: 0.0036954\ttotal: 2.54s\tremaining: 2.25s\n",
      "530:\tlearn: 0.0036940\ttotal: 2.54s\tremaining: 2.25s\n",
      "531:\tlearn: 0.0036920\ttotal: 2.55s\tremaining: 2.24s\n",
      "532:\tlearn: 0.0036882\ttotal: 2.55s\tremaining: 2.23s\n",
      "533:\tlearn: 0.0036863\ttotal: 2.56s\tremaining: 2.23s\n"
     ]
    },
    {
     "name": "stdout",
     "output_type": "stream",
     "text": [
      "534:\tlearn: 0.0036795\ttotal: 2.56s\tremaining: 2.23s\n",
      "535:\tlearn: 0.0036780\ttotal: 2.56s\tremaining: 2.22s\n",
      "536:\tlearn: 0.0036724\ttotal: 2.57s\tremaining: 2.22s\n",
      "537:\tlearn: 0.0036695\ttotal: 2.57s\tremaining: 2.21s\n",
      "538:\tlearn: 0.0036654\ttotal: 2.58s\tremaining: 2.21s\n",
      "539:\tlearn: 0.0036623\ttotal: 2.58s\tremaining: 2.2s\n",
      "540:\tlearn: 0.0036600\ttotal: 2.59s\tremaining: 2.2s\n",
      "541:\tlearn: 0.0036524\ttotal: 2.59s\tremaining: 2.19s\n",
      "542:\tlearn: 0.0036501\ttotal: 2.6s\tremaining: 2.19s\n",
      "543:\tlearn: 0.0036441\ttotal: 2.6s\tremaining: 2.18s\n",
      "544:\tlearn: 0.0036434\ttotal: 2.6s\tremaining: 2.17s\n",
      "545:\tlearn: 0.0036388\ttotal: 2.61s\tremaining: 2.17s\n",
      "546:\tlearn: 0.0036351\ttotal: 2.61s\tremaining: 2.17s\n",
      "547:\tlearn: 0.0036332\ttotal: 2.62s\tremaining: 2.16s\n",
      "548:\tlearn: 0.0036323\ttotal: 2.62s\tremaining: 2.15s\n",
      "549:\tlearn: 0.0036291\ttotal: 2.63s\tremaining: 2.15s\n",
      "550:\tlearn: 0.0036270\ttotal: 2.63s\tremaining: 2.15s\n",
      "551:\tlearn: 0.0036240\ttotal: 2.64s\tremaining: 2.14s\n",
      "552:\tlearn: 0.0036217\ttotal: 2.64s\tremaining: 2.13s\n",
      "553:\tlearn: 0.0036209\ttotal: 2.65s\tremaining: 2.13s\n",
      "554:\tlearn: 0.0036014\ttotal: 2.65s\tremaining: 2.13s\n",
      "555:\tlearn: 0.0035990\ttotal: 2.65s\tremaining: 2.12s\n",
      "556:\tlearn: 0.0035953\ttotal: 2.66s\tremaining: 2.12s\n",
      "557:\tlearn: 0.0035932\ttotal: 2.66s\tremaining: 2.11s\n",
      "558:\tlearn: 0.0035925\ttotal: 2.67s\tremaining: 2.1s\n",
      "559:\tlearn: 0.0035877\ttotal: 2.67s\tremaining: 2.1s\n",
      "560:\tlearn: 0.0035707\ttotal: 2.68s\tremaining: 2.1s\n",
      "561:\tlearn: 0.0035642\ttotal: 2.68s\tremaining: 2.09s\n",
      "562:\tlearn: 0.0035575\ttotal: 2.69s\tremaining: 2.09s\n",
      "563:\tlearn: 0.0035548\ttotal: 2.69s\tremaining: 2.08s\n",
      "564:\tlearn: 0.0035503\ttotal: 2.7s\tremaining: 2.08s\n",
      "565:\tlearn: 0.0035478\ttotal: 2.7s\tremaining: 2.07s\n",
      "566:\tlearn: 0.0035456\ttotal: 2.71s\tremaining: 2.07s\n",
      "567:\tlearn: 0.0035410\ttotal: 2.71s\tremaining: 2.06s\n",
      "568:\tlearn: 0.0035393\ttotal: 2.71s\tremaining: 2.06s\n",
      "569:\tlearn: 0.0035334\ttotal: 2.72s\tremaining: 2.05s\n",
      "570:\tlearn: 0.0035305\ttotal: 2.72s\tremaining: 2.05s\n",
      "571:\tlearn: 0.0035287\ttotal: 2.73s\tremaining: 2.04s\n",
      "572:\tlearn: 0.0035246\ttotal: 2.73s\tremaining: 2.04s\n",
      "573:\tlearn: 0.0035223\ttotal: 2.74s\tremaining: 2.03s\n",
      "574:\tlearn: 0.0035207\ttotal: 2.74s\tremaining: 2.03s\n",
      "575:\tlearn: 0.0035118\ttotal: 2.75s\tremaining: 2.02s\n",
      "576:\tlearn: 0.0035017\ttotal: 2.75s\tremaining: 2.02s\n",
      "577:\tlearn: 0.0034915\ttotal: 2.76s\tremaining: 2.01s\n",
      "578:\tlearn: 0.0034881\ttotal: 2.76s\tremaining: 2.01s\n",
      "579:\tlearn: 0.0034865\ttotal: 2.77s\tremaining: 2s\n",
      "580:\tlearn: 0.0034796\ttotal: 2.77s\tremaining: 2s\n",
      "581:\tlearn: 0.0034773\ttotal: 2.78s\tremaining: 1.99s\n",
      "582:\tlearn: 0.0034699\ttotal: 2.78s\tremaining: 1.99s\n",
      "583:\tlearn: 0.0034635\ttotal: 2.79s\tremaining: 1.98s\n",
      "584:\tlearn: 0.0034623\ttotal: 2.79s\tremaining: 1.98s\n",
      "585:\tlearn: 0.0034597\ttotal: 2.79s\tremaining: 1.97s\n",
      "586:\tlearn: 0.0034519\ttotal: 2.8s\tremaining: 1.97s\n",
      "587:\tlearn: 0.0034468\ttotal: 2.8s\tremaining: 1.96s\n",
      "588:\tlearn: 0.0034432\ttotal: 2.81s\tremaining: 1.96s\n",
      "589:\tlearn: 0.0034392\ttotal: 2.81s\tremaining: 1.95s\n",
      "590:\tlearn: 0.0034362\ttotal: 2.82s\tremaining: 1.95s\n",
      "591:\tlearn: 0.0034294\ttotal: 2.82s\tremaining: 1.94s\n",
      "592:\tlearn: 0.0034266\ttotal: 2.83s\tremaining: 1.94s\n",
      "593:\tlearn: 0.0034250\ttotal: 2.83s\tremaining: 1.94s\n",
      "594:\tlearn: 0.0034196\ttotal: 2.83s\tremaining: 1.93s\n",
      "595:\tlearn: 0.0034169\ttotal: 2.84s\tremaining: 1.93s\n",
      "596:\tlearn: 0.0034159\ttotal: 2.84s\tremaining: 1.92s\n",
      "597:\tlearn: 0.0034029\ttotal: 2.85s\tremaining: 1.92s\n",
      "598:\tlearn: 0.0033992\ttotal: 2.85s\tremaining: 1.91s\n",
      "599:\tlearn: 0.0033959\ttotal: 2.86s\tremaining: 1.91s\n",
      "600:\tlearn: 0.0033929\ttotal: 2.86s\tremaining: 1.9s\n",
      "601:\tlearn: 0.0033921\ttotal: 2.87s\tremaining: 1.9s\n",
      "602:\tlearn: 0.0033868\ttotal: 2.87s\tremaining: 1.89s\n",
      "603:\tlearn: 0.0033824\ttotal: 2.88s\tremaining: 1.89s\n",
      "604:\tlearn: 0.0033771\ttotal: 2.88s\tremaining: 1.88s\n",
      "605:\tlearn: 0.0033712\ttotal: 2.88s\tremaining: 1.88s\n",
      "606:\tlearn: 0.0033671\ttotal: 2.89s\tremaining: 1.87s\n",
      "607:\tlearn: 0.0033669\ttotal: 2.89s\tremaining: 1.86s\n",
      "608:\tlearn: 0.0033644\ttotal: 2.9s\tremaining: 1.86s\n",
      "609:\tlearn: 0.0033628\ttotal: 2.9s\tremaining: 1.85s\n",
      "610:\tlearn: 0.0033605\ttotal: 2.91s\tremaining: 1.85s\n",
      "611:\tlearn: 0.0033589\ttotal: 2.91s\tremaining: 1.84s\n",
      "612:\tlearn: 0.0033567\ttotal: 2.92s\tremaining: 1.84s\n",
      "613:\tlearn: 0.0033540\ttotal: 2.92s\tremaining: 1.83s\n",
      "614:\tlearn: 0.0033501\ttotal: 2.92s\tremaining: 1.83s\n",
      "615:\tlearn: 0.0033435\ttotal: 2.93s\tremaining: 1.82s\n",
      "616:\tlearn: 0.0033413\ttotal: 2.93s\tremaining: 1.82s\n",
      "617:\tlearn: 0.0033342\ttotal: 2.94s\tremaining: 1.82s\n",
      "618:\tlearn: 0.0033337\ttotal: 2.94s\tremaining: 1.81s\n",
      "619:\tlearn: 0.0033318\ttotal: 2.95s\tremaining: 1.81s\n",
      "620:\tlearn: 0.0033280\ttotal: 2.95s\tremaining: 1.8s\n",
      "621:\tlearn: 0.0033228\ttotal: 2.96s\tremaining: 1.8s\n",
      "622:\tlearn: 0.0033175\ttotal: 2.96s\tremaining: 1.79s\n",
      "623:\tlearn: 0.0033129\ttotal: 2.97s\tremaining: 1.79s\n",
      "624:\tlearn: 0.0033105\ttotal: 2.97s\tremaining: 1.78s\n",
      "625:\tlearn: 0.0033084\ttotal: 2.98s\tremaining: 1.78s\n",
      "626:\tlearn: 0.0033058\ttotal: 2.98s\tremaining: 1.77s\n",
      "627:\tlearn: 0.0033010\ttotal: 2.98s\tremaining: 1.77s\n",
      "628:\tlearn: 0.0032975\ttotal: 2.99s\tremaining: 1.76s\n",
      "629:\tlearn: 0.0032940\ttotal: 2.99s\tremaining: 1.76s\n",
      "630:\tlearn: 0.0032875\ttotal: 3s\tremaining: 1.75s\n",
      "631:\tlearn: 0.0032860\ttotal: 3s\tremaining: 1.75s\n",
      "632:\tlearn: 0.0032838\ttotal: 3s\tremaining: 1.74s\n",
      "633:\tlearn: 0.0032816\ttotal: 3.01s\tremaining: 1.74s\n",
      "634:\tlearn: 0.0032815\ttotal: 3.01s\tremaining: 1.73s\n",
      "635:\tlearn: 0.0032800\ttotal: 3.02s\tremaining: 1.73s\n",
      "636:\tlearn: 0.0032777\ttotal: 3.02s\tremaining: 1.72s\n",
      "637:\tlearn: 0.0032755\ttotal: 3.03s\tremaining: 1.72s\n",
      "638:\tlearn: 0.0032691\ttotal: 3.03s\tremaining: 1.71s\n",
      "639:\tlearn: 0.0032657\ttotal: 3.04s\tremaining: 1.71s\n",
      "640:\tlearn: 0.0032594\ttotal: 3.04s\tremaining: 1.7s\n",
      "641:\tlearn: 0.0032572\ttotal: 3.04s\tremaining: 1.7s\n",
      "642:\tlearn: 0.0032553\ttotal: 3.05s\tremaining: 1.69s\n",
      "643:\tlearn: 0.0032510\ttotal: 3.05s\tremaining: 1.69s\n",
      "644:\tlearn: 0.0032509\ttotal: 3.06s\tremaining: 1.68s\n",
      "645:\tlearn: 0.0032477\ttotal: 3.06s\tremaining: 1.68s\n",
      "646:\tlearn: 0.0032422\ttotal: 3.07s\tremaining: 1.67s\n",
      "647:\tlearn: 0.0032408\ttotal: 3.07s\tremaining: 1.67s\n",
      "648:\tlearn: 0.0032391\ttotal: 3.08s\tremaining: 1.66s\n",
      "649:\tlearn: 0.0032371\ttotal: 3.08s\tremaining: 1.66s\n",
      "650:\tlearn: 0.0032326\ttotal: 3.09s\tremaining: 1.65s\n",
      "651:\tlearn: 0.0032310\ttotal: 3.09s\tremaining: 1.65s\n",
      "652:\tlearn: 0.0032296\ttotal: 3.09s\tremaining: 1.64s\n",
      "653:\tlearn: 0.0032163\ttotal: 3.1s\tremaining: 1.64s\n",
      "654:\tlearn: 0.0032136\ttotal: 3.1s\tremaining: 1.63s\n",
      "655:\tlearn: 0.0032054\ttotal: 3.11s\tremaining: 1.63s\n",
      "656:\tlearn: 0.0032042\ttotal: 3.11s\tremaining: 1.62s\n",
      "657:\tlearn: 0.0032015\ttotal: 3.12s\tremaining: 1.62s\n",
      "658:\tlearn: 0.0031971\ttotal: 3.12s\tremaining: 1.61s\n",
      "659:\tlearn: 0.0031888\ttotal: 3.13s\tremaining: 1.61s\n",
      "660:\tlearn: 0.0031852\ttotal: 3.13s\tremaining: 1.61s\n",
      "661:\tlearn: 0.0031824\ttotal: 3.13s\tremaining: 1.6s\n",
      "662:\tlearn: 0.0031766\ttotal: 3.14s\tremaining: 1.6s\n",
      "663:\tlearn: 0.0031753\ttotal: 3.15s\tremaining: 1.59s\n",
      "664:\tlearn: 0.0031722\ttotal: 3.15s\tremaining: 1.59s\n",
      "665:\tlearn: 0.0031672\ttotal: 3.15s\tremaining: 1.58s\n",
      "666:\tlearn: 0.0031659\ttotal: 3.16s\tremaining: 1.58s\n",
      "667:\tlearn: 0.0031585\ttotal: 3.16s\tremaining: 1.57s\n",
      "668:\tlearn: 0.0031573\ttotal: 3.17s\tremaining: 1.57s\n",
      "669:\tlearn: 0.0031558\ttotal: 3.17s\tremaining: 1.56s\n",
      "670:\tlearn: 0.0031533\ttotal: 3.18s\tremaining: 1.56s\n",
      "671:\tlearn: 0.0031417\ttotal: 3.18s\tremaining: 1.55s\n",
      "672:\tlearn: 0.0031399\ttotal: 3.19s\tremaining: 1.55s\n",
      "673:\tlearn: 0.0031369\ttotal: 3.19s\tremaining: 1.54s\n",
      "674:\tlearn: 0.0031278\ttotal: 3.2s\tremaining: 1.54s\n",
      "675:\tlearn: 0.0031258\ttotal: 3.2s\tremaining: 1.53s\n",
      "676:\tlearn: 0.0031246\ttotal: 3.21s\tremaining: 1.53s\n",
      "677:\tlearn: 0.0031225\ttotal: 3.21s\tremaining: 1.52s\n",
      "678:\tlearn: 0.0031192\ttotal: 3.22s\tremaining: 1.52s\n",
      "679:\tlearn: 0.0031170\ttotal: 3.22s\tremaining: 1.51s\n",
      "680:\tlearn: 0.0031081\ttotal: 3.23s\tremaining: 1.51s\n",
      "681:\tlearn: 0.0031069\ttotal: 3.23s\tremaining: 1.51s\n",
      "682:\tlearn: 0.0031028\ttotal: 3.23s\tremaining: 1.5s\n",
      "683:\tlearn: 0.0030981\ttotal: 3.24s\tremaining: 1.5s\n",
      "684:\tlearn: 0.0030945\ttotal: 3.24s\tremaining: 1.49s\n",
      "685:\tlearn: 0.0030929\ttotal: 3.25s\tremaining: 1.49s\n",
      "686:\tlearn: 0.0030917\ttotal: 3.25s\tremaining: 1.48s\n",
      "687:\tlearn: 0.0030871\ttotal: 3.26s\tremaining: 1.48s\n",
      "688:\tlearn: 0.0030852\ttotal: 3.26s\tremaining: 1.47s\n",
      "689:\tlearn: 0.0030818\ttotal: 3.27s\tremaining: 1.47s\n",
      "690:\tlearn: 0.0030796\ttotal: 3.27s\tremaining: 1.46s\n",
      "691:\tlearn: 0.0030766\ttotal: 3.27s\tremaining: 1.46s\n",
      "692:\tlearn: 0.0030751\ttotal: 3.28s\tremaining: 1.45s\n",
      "693:\tlearn: 0.0030739\ttotal: 3.28s\tremaining: 1.45s\n",
      "694:\tlearn: 0.0030728\ttotal: 3.29s\tremaining: 1.44s\n"
     ]
    },
    {
     "name": "stdout",
     "output_type": "stream",
     "text": [
      "695:\tlearn: 0.0030702\ttotal: 3.29s\tremaining: 1.44s\n",
      "696:\tlearn: 0.0030677\ttotal: 3.3s\tremaining: 1.43s\n",
      "697:\tlearn: 0.0030666\ttotal: 3.3s\tremaining: 1.43s\n",
      "698:\tlearn: 0.0030562\ttotal: 3.31s\tremaining: 1.42s\n",
      "699:\tlearn: 0.0030549\ttotal: 3.31s\tremaining: 1.42s\n",
      "700:\tlearn: 0.0030527\ttotal: 3.32s\tremaining: 1.41s\n",
      "701:\tlearn: 0.0030502\ttotal: 3.32s\tremaining: 1.41s\n",
      "702:\tlearn: 0.0030485\ttotal: 3.33s\tremaining: 1.4s\n",
      "703:\tlearn: 0.0030471\ttotal: 3.33s\tremaining: 1.4s\n",
      "704:\tlearn: 0.0030466\ttotal: 3.33s\tremaining: 1.4s\n",
      "705:\tlearn: 0.0030446\ttotal: 3.34s\tremaining: 1.39s\n",
      "706:\tlearn: 0.0030419\ttotal: 3.34s\tremaining: 1.39s\n",
      "707:\tlearn: 0.0030348\ttotal: 3.35s\tremaining: 1.38s\n",
      "708:\tlearn: 0.0030290\ttotal: 3.35s\tremaining: 1.38s\n",
      "709:\tlearn: 0.0030248\ttotal: 3.36s\tremaining: 1.37s\n",
      "710:\tlearn: 0.0030227\ttotal: 3.36s\tremaining: 1.37s\n",
      "711:\tlearn: 0.0030202\ttotal: 3.37s\tremaining: 1.36s\n",
      "712:\tlearn: 0.0030171\ttotal: 3.37s\tremaining: 1.36s\n",
      "713:\tlearn: 0.0030166\ttotal: 3.38s\tremaining: 1.35s\n",
      "714:\tlearn: 0.0030150\ttotal: 3.38s\tremaining: 1.35s\n",
      "715:\tlearn: 0.0030135\ttotal: 3.38s\tremaining: 1.34s\n",
      "716:\tlearn: 0.0030080\ttotal: 3.39s\tremaining: 1.34s\n",
      "717:\tlearn: 0.0030062\ttotal: 3.39s\tremaining: 1.33s\n",
      "718:\tlearn: 0.0030052\ttotal: 3.4s\tremaining: 1.33s\n",
      "719:\tlearn: 0.0030000\ttotal: 3.4s\tremaining: 1.32s\n",
      "720:\tlearn: 0.0029935\ttotal: 3.41s\tremaining: 1.32s\n",
      "721:\tlearn: 0.0029915\ttotal: 3.41s\tremaining: 1.31s\n",
      "722:\tlearn: 0.0029867\ttotal: 3.42s\tremaining: 1.31s\n",
      "723:\tlearn: 0.0029859\ttotal: 3.42s\tremaining: 1.3s\n",
      "724:\tlearn: 0.0029768\ttotal: 3.42s\tremaining: 1.3s\n",
      "725:\tlearn: 0.0029753\ttotal: 3.43s\tremaining: 1.29s\n",
      "726:\tlearn: 0.0029720\ttotal: 3.43s\tremaining: 1.29s\n",
      "727:\tlearn: 0.0029702\ttotal: 3.44s\tremaining: 1.28s\n",
      "728:\tlearn: 0.0029655\ttotal: 3.44s\tremaining: 1.28s\n",
      "729:\tlearn: 0.0029642\ttotal: 3.45s\tremaining: 1.27s\n",
      "730:\tlearn: 0.0029619\ttotal: 3.45s\tremaining: 1.27s\n",
      "731:\tlearn: 0.0029601\ttotal: 3.46s\tremaining: 1.27s\n",
      "732:\tlearn: 0.0029568\ttotal: 3.46s\tremaining: 1.26s\n",
      "733:\tlearn: 0.0029564\ttotal: 3.47s\tremaining: 1.26s\n",
      "734:\tlearn: 0.0029550\ttotal: 3.47s\tremaining: 1.25s\n",
      "735:\tlearn: 0.0029540\ttotal: 3.48s\tremaining: 1.25s\n",
      "736:\tlearn: 0.0029498\ttotal: 3.48s\tremaining: 1.24s\n",
      "737:\tlearn: 0.0029488\ttotal: 3.49s\tremaining: 1.24s\n",
      "738:\tlearn: 0.0029453\ttotal: 3.49s\tremaining: 1.23s\n",
      "739:\tlearn: 0.0029406\ttotal: 3.5s\tremaining: 1.23s\n",
      "740:\tlearn: 0.0029359\ttotal: 3.5s\tremaining: 1.22s\n",
      "741:\tlearn: 0.0029330\ttotal: 3.51s\tremaining: 1.22s\n",
      "742:\tlearn: 0.0029300\ttotal: 3.51s\tremaining: 1.21s\n",
      "743:\tlearn: 0.0029266\ttotal: 3.52s\tremaining: 1.21s\n",
      "744:\tlearn: 0.0029241\ttotal: 3.52s\tremaining: 1.21s\n",
      "745:\tlearn: 0.0029215\ttotal: 3.53s\tremaining: 1.2s\n",
      "746:\tlearn: 0.0029154\ttotal: 3.53s\tremaining: 1.2s\n",
      "747:\tlearn: 0.0029104\ttotal: 3.54s\tremaining: 1.19s\n",
      "748:\tlearn: 0.0029092\ttotal: 3.54s\tremaining: 1.19s\n",
      "749:\tlearn: 0.0029070\ttotal: 3.55s\tremaining: 1.18s\n",
      "750:\tlearn: 0.0029054\ttotal: 3.55s\tremaining: 1.18s\n",
      "751:\tlearn: 0.0029042\ttotal: 3.56s\tremaining: 1.17s\n",
      "752:\tlearn: 0.0029019\ttotal: 3.56s\tremaining: 1.17s\n",
      "753:\tlearn: 0.0028957\ttotal: 3.57s\tremaining: 1.16s\n",
      "754:\tlearn: 0.0028928\ttotal: 3.58s\tremaining: 1.16s\n",
      "755:\tlearn: 0.0028910\ttotal: 3.58s\tremaining: 1.16s\n",
      "756:\tlearn: 0.0028879\ttotal: 3.58s\tremaining: 1.15s\n",
      "757:\tlearn: 0.0028868\ttotal: 3.59s\tremaining: 1.15s\n",
      "758:\tlearn: 0.0028859\ttotal: 3.59s\tremaining: 1.14s\n",
      "759:\tlearn: 0.0028838\ttotal: 3.6s\tremaining: 1.14s\n",
      "760:\tlearn: 0.0028818\ttotal: 3.6s\tremaining: 1.13s\n",
      "761:\tlearn: 0.0028794\ttotal: 3.61s\tremaining: 1.13s\n",
      "762:\tlearn: 0.0028758\ttotal: 3.61s\tremaining: 1.12s\n",
      "763:\tlearn: 0.0028725\ttotal: 3.62s\tremaining: 1.12s\n",
      "764:\tlearn: 0.0028715\ttotal: 3.63s\tremaining: 1.11s\n",
      "765:\tlearn: 0.0028655\ttotal: 3.63s\tremaining: 1.11s\n",
      "766:\tlearn: 0.0028602\ttotal: 3.63s\tremaining: 1.1s\n",
      "767:\tlearn: 0.0028594\ttotal: 3.64s\tremaining: 1.1s\n",
      "768:\tlearn: 0.0028560\ttotal: 3.65s\tremaining: 1.09s\n",
      "769:\tlearn: 0.0028531\ttotal: 3.65s\tremaining: 1.09s\n",
      "770:\tlearn: 0.0028516\ttotal: 3.66s\tremaining: 1.09s\n",
      "771:\tlearn: 0.0028469\ttotal: 3.66s\tremaining: 1.08s\n",
      "772:\tlearn: 0.0028440\ttotal: 3.67s\tremaining: 1.08s\n",
      "773:\tlearn: 0.0028425\ttotal: 3.67s\tremaining: 1.07s\n",
      "774:\tlearn: 0.0028407\ttotal: 3.68s\tremaining: 1.07s\n",
      "775:\tlearn: 0.0028390\ttotal: 3.69s\tremaining: 1.06s\n",
      "776:\tlearn: 0.0028382\ttotal: 3.69s\tremaining: 1.06s\n",
      "777:\tlearn: 0.0028371\ttotal: 3.7s\tremaining: 1.05s\n",
      "778:\tlearn: 0.0028360\ttotal: 3.7s\tremaining: 1.05s\n",
      "779:\tlearn: 0.0028346\ttotal: 3.71s\tremaining: 1.04s\n",
      "780:\tlearn: 0.0028321\ttotal: 3.71s\tremaining: 1.04s\n",
      "781:\tlearn: 0.0028280\ttotal: 3.72s\tremaining: 1.04s\n",
      "782:\tlearn: 0.0028272\ttotal: 3.72s\tremaining: 1.03s\n",
      "783:\tlearn: 0.0028251\ttotal: 3.73s\tremaining: 1.03s\n",
      "784:\tlearn: 0.0028221\ttotal: 3.73s\tremaining: 1.02s\n",
      "785:\tlearn: 0.0028190\ttotal: 3.74s\tremaining: 1.02s\n",
      "786:\tlearn: 0.0028150\ttotal: 3.75s\tremaining: 1.01s\n",
      "787:\tlearn: 0.0028116\ttotal: 3.75s\tremaining: 1.01s\n",
      "788:\tlearn: 0.0028090\ttotal: 3.76s\tremaining: 1s\n",
      "789:\tlearn: 0.0028061\ttotal: 3.76s\tremaining: 1000ms\n",
      "790:\tlearn: 0.0028002\ttotal: 3.77s\tremaining: 995ms\n",
      "791:\tlearn: 0.0027999\ttotal: 3.77s\tremaining: 991ms\n",
      "792:\tlearn: 0.0027974\ttotal: 3.78s\tremaining: 986ms\n",
      "793:\tlearn: 0.0027958\ttotal: 3.78s\tremaining: 982ms\n",
      "794:\tlearn: 0.0027944\ttotal: 3.79s\tremaining: 977ms\n",
      "795:\tlearn: 0.0027909\ttotal: 3.79s\tremaining: 972ms\n",
      "796:\tlearn: 0.0027906\ttotal: 3.8s\tremaining: 968ms\n",
      "797:\tlearn: 0.0027863\ttotal: 3.8s\tremaining: 963ms\n",
      "798:\tlearn: 0.0027840\ttotal: 3.81s\tremaining: 958ms\n",
      "799:\tlearn: 0.0027817\ttotal: 3.81s\tremaining: 954ms\n",
      "800:\tlearn: 0.0027791\ttotal: 3.82s\tremaining: 949ms\n",
      "801:\tlearn: 0.0027778\ttotal: 3.82s\tremaining: 944ms\n",
      "802:\tlearn: 0.0027756\ttotal: 3.83s\tremaining: 939ms\n",
      "803:\tlearn: 0.0027733\ttotal: 3.83s\tremaining: 934ms\n",
      "804:\tlearn: 0.0027724\ttotal: 3.84s\tremaining: 929ms\n",
      "805:\tlearn: 0.0027722\ttotal: 3.84s\tremaining: 925ms\n",
      "806:\tlearn: 0.0027712\ttotal: 3.85s\tremaining: 920ms\n",
      "807:\tlearn: 0.0027671\ttotal: 3.85s\tremaining: 915ms\n",
      "808:\tlearn: 0.0027645\ttotal: 3.86s\tremaining: 911ms\n",
      "809:\tlearn: 0.0027624\ttotal: 3.86s\tremaining: 906ms\n",
      "810:\tlearn: 0.0027609\ttotal: 3.87s\tremaining: 901ms\n",
      "811:\tlearn: 0.0027559\ttotal: 3.87s\tremaining: 896ms\n",
      "812:\tlearn: 0.0027551\ttotal: 3.88s\tremaining: 891ms\n",
      "813:\tlearn: 0.0027497\ttotal: 3.88s\tremaining: 887ms\n",
      "814:\tlearn: 0.0027487\ttotal: 3.88s\tremaining: 882ms\n",
      "815:\tlearn: 0.0027473\ttotal: 3.89s\tremaining: 877ms\n",
      "816:\tlearn: 0.0027464\ttotal: 3.89s\tremaining: 872ms\n",
      "817:\tlearn: 0.0027455\ttotal: 3.9s\tremaining: 867ms\n",
      "818:\tlearn: 0.0027452\ttotal: 3.9s\tremaining: 863ms\n",
      "819:\tlearn: 0.0027441\ttotal: 3.91s\tremaining: 858ms\n",
      "820:\tlearn: 0.0027419\ttotal: 3.91s\tremaining: 853ms\n",
      "821:\tlearn: 0.0027381\ttotal: 3.92s\tremaining: 848ms\n",
      "822:\tlearn: 0.0027368\ttotal: 3.92s\tremaining: 844ms\n",
      "823:\tlearn: 0.0027361\ttotal: 3.93s\tremaining: 839ms\n",
      "824:\tlearn: 0.0027312\ttotal: 3.93s\tremaining: 834ms\n",
      "825:\tlearn: 0.0027291\ttotal: 3.94s\tremaining: 829ms\n",
      "826:\tlearn: 0.0027270\ttotal: 3.94s\tremaining: 824ms\n",
      "827:\tlearn: 0.0027222\ttotal: 3.94s\tremaining: 819ms\n",
      "828:\tlearn: 0.0027185\ttotal: 3.95s\tremaining: 815ms\n",
      "829:\tlearn: 0.0027126\ttotal: 3.95s\tremaining: 810ms\n",
      "830:\tlearn: 0.0027099\ttotal: 3.96s\tremaining: 805ms\n",
      "831:\tlearn: 0.0027022\ttotal: 3.96s\tremaining: 800ms\n",
      "832:\tlearn: 0.0026998\ttotal: 3.97s\tremaining: 795ms\n",
      "833:\tlearn: 0.0026974\ttotal: 3.97s\tremaining: 791ms\n",
      "834:\tlearn: 0.0026965\ttotal: 3.98s\tremaining: 786ms\n",
      "835:\tlearn: 0.0026942\ttotal: 3.98s\tremaining: 781ms\n",
      "836:\tlearn: 0.0026896\ttotal: 3.98s\tremaining: 776ms\n",
      "837:\tlearn: 0.0026888\ttotal: 3.99s\tremaining: 771ms\n",
      "838:\tlearn: 0.0026843\ttotal: 3.99s\tremaining: 766ms\n",
      "839:\tlearn: 0.0026830\ttotal: 4s\tremaining: 762ms\n",
      "840:\tlearn: 0.0026795\ttotal: 4s\tremaining: 757ms\n",
      "841:\tlearn: 0.0026783\ttotal: 4.01s\tremaining: 752ms\n",
      "842:\tlearn: 0.0026750\ttotal: 4.01s\tremaining: 747ms\n",
      "843:\tlearn: 0.0026718\ttotal: 4.02s\tremaining: 742ms\n",
      "844:\tlearn: 0.0026668\ttotal: 4.02s\tremaining: 738ms\n",
      "845:\tlearn: 0.0026638\ttotal: 4.03s\tremaining: 733ms\n",
      "846:\tlearn: 0.0026602\ttotal: 4.03s\tremaining: 728ms\n",
      "847:\tlearn: 0.0026586\ttotal: 4.04s\tremaining: 723ms\n",
      "848:\tlearn: 0.0026561\ttotal: 4.04s\tremaining: 719ms\n",
      "849:\tlearn: 0.0026550\ttotal: 4.04s\tremaining: 714ms\n",
      "850:\tlearn: 0.0026540\ttotal: 4.05s\tremaining: 709ms\n",
      "851:\tlearn: 0.0026516\ttotal: 4.05s\tremaining: 704ms\n",
      "852:\tlearn: 0.0026502\ttotal: 4.06s\tremaining: 699ms\n",
      "853:\tlearn: 0.0026489\ttotal: 4.06s\tremaining: 695ms\n",
      "854:\tlearn: 0.0026452\ttotal: 4.07s\tremaining: 690ms\n",
      "855:\tlearn: 0.0026414\ttotal: 4.07s\tremaining: 685ms\n",
      "856:\tlearn: 0.0026392\ttotal: 4.08s\tremaining: 680ms\n",
      "857:\tlearn: 0.0026367\ttotal: 4.08s\tremaining: 675ms\n",
      "858:\tlearn: 0.0026338\ttotal: 4.08s\tremaining: 670ms\n",
      "859:\tlearn: 0.0026327\ttotal: 4.09s\tremaining: 666ms\n",
      "860:\tlearn: 0.0026307\ttotal: 4.09s\tremaining: 661ms\n",
      "861:\tlearn: 0.0026285\ttotal: 4.1s\tremaining: 656ms\n",
      "862:\tlearn: 0.0026232\ttotal: 4.1s\tremaining: 651ms\n",
      "863:\tlearn: 0.0026224\ttotal: 4.11s\tremaining: 646ms\n",
      "864:\tlearn: 0.0026197\ttotal: 4.11s\tremaining: 642ms\n",
      "865:\tlearn: 0.0026179\ttotal: 4.12s\tremaining: 637ms\n",
      "866:\tlearn: 0.0026150\ttotal: 4.12s\tremaining: 632ms\n",
      "867:\tlearn: 0.0026131\ttotal: 4.12s\tremaining: 627ms\n",
      "868:\tlearn: 0.0026113\ttotal: 4.13s\tremaining: 622ms\n",
      "869:\tlearn: 0.0026077\ttotal: 4.13s\tremaining: 617ms\n",
      "870:\tlearn: 0.0026060\ttotal: 4.14s\tremaining: 613ms\n",
      "871:\tlearn: 0.0026037\ttotal: 4.14s\tremaining: 608ms\n",
      "872:\tlearn: 0.0026023\ttotal: 4.15s\tremaining: 603ms\n",
      "873:\tlearn: 0.0025997\ttotal: 4.15s\tremaining: 598ms\n",
      "874:\tlearn: 0.0025976\ttotal: 4.16s\tremaining: 594ms\n",
      "875:\tlearn: 0.0025959\ttotal: 4.16s\tremaining: 589ms\n",
      "876:\tlearn: 0.0025922\ttotal: 4.16s\tremaining: 584ms\n",
      "877:\tlearn: 0.0025868\ttotal: 4.17s\tremaining: 579ms\n",
      "878:\tlearn: 0.0025842\ttotal: 4.17s\tremaining: 574ms\n",
      "879:\tlearn: 0.0025837\ttotal: 4.18s\tremaining: 570ms\n",
      "880:\tlearn: 0.0025826\ttotal: 4.18s\tremaining: 565ms\n",
      "881:\tlearn: 0.0025814\ttotal: 4.19s\tremaining: 560ms\n",
      "882:\tlearn: 0.0025794\ttotal: 4.19s\tremaining: 555ms\n",
      "883:\tlearn: 0.0025788\ttotal: 4.2s\tremaining: 551ms\n",
      "884:\tlearn: 0.0025768\ttotal: 4.2s\tremaining: 546ms\n",
      "885:\tlearn: 0.0025757\ttotal: 4.2s\tremaining: 541ms\n"
     ]
    },
    {
     "name": "stdout",
     "output_type": "stream",
     "text": [
      "886:\tlearn: 0.0025748\ttotal: 4.21s\tremaining: 536ms\n",
      "887:\tlearn: 0.0025700\ttotal: 4.21s\tremaining: 531ms\n",
      "888:\tlearn: 0.0025666\ttotal: 4.22s\tremaining: 527ms\n",
      "889:\tlearn: 0.0025638\ttotal: 4.22s\tremaining: 522ms\n",
      "890:\tlearn: 0.0025604\ttotal: 4.23s\tremaining: 517ms\n",
      "891:\tlearn: 0.0025584\ttotal: 4.24s\tremaining: 513ms\n",
      "892:\tlearn: 0.0025569\ttotal: 4.24s\tremaining: 508ms\n",
      "893:\tlearn: 0.0025541\ttotal: 4.24s\tremaining: 503ms\n",
      "894:\tlearn: 0.0025523\ttotal: 4.25s\tremaining: 499ms\n",
      "895:\tlearn: 0.0025502\ttotal: 4.25s\tremaining: 494ms\n",
      "896:\tlearn: 0.0025485\ttotal: 4.26s\tremaining: 489ms\n",
      "897:\tlearn: 0.0025465\ttotal: 4.26s\tremaining: 484ms\n",
      "898:\tlearn: 0.0025445\ttotal: 4.27s\tremaining: 479ms\n",
      "899:\tlearn: 0.0025436\ttotal: 4.27s\tremaining: 475ms\n",
      "900:\tlearn: 0.0025435\ttotal: 4.28s\tremaining: 470ms\n",
      "901:\tlearn: 0.0025418\ttotal: 4.28s\tremaining: 465ms\n",
      "902:\tlearn: 0.0025379\ttotal: 4.28s\tremaining: 460ms\n",
      "903:\tlearn: 0.0025373\ttotal: 4.29s\tremaining: 455ms\n",
      "904:\tlearn: 0.0025340\ttotal: 4.29s\tremaining: 451ms\n",
      "905:\tlearn: 0.0025331\ttotal: 4.3s\tremaining: 446ms\n",
      "906:\tlearn: 0.0025313\ttotal: 4.3s\tremaining: 441ms\n",
      "907:\tlearn: 0.0025304\ttotal: 4.31s\tremaining: 436ms\n",
      "908:\tlearn: 0.0025253\ttotal: 4.31s\tremaining: 432ms\n",
      "909:\tlearn: 0.0025208\ttotal: 4.32s\tremaining: 427ms\n",
      "910:\tlearn: 0.0025177\ttotal: 4.32s\tremaining: 422ms\n",
      "911:\tlearn: 0.0025142\ttotal: 4.32s\tremaining: 417ms\n",
      "912:\tlearn: 0.0025110\ttotal: 4.33s\tremaining: 413ms\n",
      "913:\tlearn: 0.0025094\ttotal: 4.33s\tremaining: 408ms\n",
      "914:\tlearn: 0.0025081\ttotal: 4.34s\tremaining: 403ms\n",
      "915:\tlearn: 0.0025049\ttotal: 4.34s\tremaining: 398ms\n",
      "916:\tlearn: 0.0025016\ttotal: 4.35s\tremaining: 394ms\n",
      "917:\tlearn: 0.0024970\ttotal: 4.35s\tremaining: 389ms\n",
      "918:\tlearn: 0.0024963\ttotal: 4.36s\tremaining: 384ms\n",
      "919:\tlearn: 0.0024954\ttotal: 4.36s\tremaining: 379ms\n",
      "920:\tlearn: 0.0024924\ttotal: 4.37s\tremaining: 374ms\n",
      "921:\tlearn: 0.0024888\ttotal: 4.37s\tremaining: 370ms\n",
      "922:\tlearn: 0.0024835\ttotal: 4.37s\tremaining: 365ms\n",
      "923:\tlearn: 0.0024804\ttotal: 4.38s\tremaining: 360ms\n",
      "924:\tlearn: 0.0024786\ttotal: 4.38s\tremaining: 355ms\n",
      "925:\tlearn: 0.0024776\ttotal: 4.39s\tremaining: 351ms\n",
      "926:\tlearn: 0.0024768\ttotal: 4.39s\tremaining: 346ms\n",
      "927:\tlearn: 0.0024767\ttotal: 4.4s\tremaining: 341ms\n",
      "928:\tlearn: 0.0024752\ttotal: 4.4s\tremaining: 337ms\n",
      "929:\tlearn: 0.0024738\ttotal: 4.41s\tremaining: 332ms\n",
      "930:\tlearn: 0.0024710\ttotal: 4.41s\tremaining: 327ms\n",
      "931:\tlearn: 0.0024685\ttotal: 4.42s\tremaining: 322ms\n",
      "932:\tlearn: 0.0024661\ttotal: 4.42s\tremaining: 317ms\n",
      "933:\tlearn: 0.0024654\ttotal: 4.42s\tremaining: 313ms\n",
      "934:\tlearn: 0.0024607\ttotal: 4.43s\tremaining: 308ms\n",
      "935:\tlearn: 0.0024600\ttotal: 4.43s\tremaining: 303ms\n",
      "936:\tlearn: 0.0024583\ttotal: 4.44s\tremaining: 298ms\n",
      "937:\tlearn: 0.0024553\ttotal: 4.44s\tremaining: 294ms\n",
      "938:\tlearn: 0.0024515\ttotal: 4.45s\tremaining: 289ms\n",
      "939:\tlearn: 0.0024489\ttotal: 4.45s\tremaining: 284ms\n",
      "940:\tlearn: 0.0024462\ttotal: 4.46s\tremaining: 279ms\n",
      "941:\tlearn: 0.0024404\ttotal: 4.46s\tremaining: 275ms\n",
      "942:\tlearn: 0.0024390\ttotal: 4.47s\tremaining: 270ms\n",
      "943:\tlearn: 0.0024372\ttotal: 4.47s\tremaining: 265ms\n",
      "944:\tlearn: 0.0024334\ttotal: 4.47s\tremaining: 260ms\n",
      "945:\tlearn: 0.0024306\ttotal: 4.48s\tremaining: 256ms\n",
      "946:\tlearn: 0.0024243\ttotal: 4.48s\tremaining: 251ms\n",
      "947:\tlearn: 0.0024198\ttotal: 4.49s\tremaining: 246ms\n",
      "948:\tlearn: 0.0024194\ttotal: 4.49s\tremaining: 241ms\n",
      "949:\tlearn: 0.0024192\ttotal: 4.5s\tremaining: 237ms\n",
      "950:\tlearn: 0.0024162\ttotal: 4.5s\tremaining: 232ms\n",
      "951:\tlearn: 0.0024146\ttotal: 4.51s\tremaining: 227ms\n",
      "952:\tlearn: 0.0024127\ttotal: 4.51s\tremaining: 222ms\n",
      "953:\tlearn: 0.0024080\ttotal: 4.52s\tremaining: 218ms\n",
      "954:\tlearn: 0.0024056\ttotal: 4.52s\tremaining: 213ms\n",
      "955:\tlearn: 0.0024051\ttotal: 4.53s\tremaining: 208ms\n",
      "956:\tlearn: 0.0024050\ttotal: 4.53s\tremaining: 204ms\n",
      "957:\tlearn: 0.0024020\ttotal: 4.54s\tremaining: 199ms\n",
      "958:\tlearn: 0.0024011\ttotal: 4.54s\tremaining: 194ms\n",
      "959:\tlearn: 0.0023995\ttotal: 4.54s\tremaining: 189ms\n",
      "960:\tlearn: 0.0023974\ttotal: 4.55s\tremaining: 185ms\n",
      "961:\tlearn: 0.0023951\ttotal: 4.55s\tremaining: 180ms\n",
      "962:\tlearn: 0.0023933\ttotal: 4.56s\tremaining: 175ms\n",
      "963:\tlearn: 0.0023872\ttotal: 4.56s\tremaining: 170ms\n",
      "964:\tlearn: 0.0023858\ttotal: 4.57s\tremaining: 166ms\n",
      "965:\tlearn: 0.0023825\ttotal: 4.57s\tremaining: 161ms\n",
      "966:\tlearn: 0.0023796\ttotal: 4.58s\tremaining: 156ms\n",
      "967:\tlearn: 0.0023785\ttotal: 4.58s\tremaining: 151ms\n",
      "968:\tlearn: 0.0023775\ttotal: 4.59s\tremaining: 147ms\n",
      "969:\tlearn: 0.0023763\ttotal: 4.59s\tremaining: 142ms\n",
      "970:\tlearn: 0.0023745\ttotal: 4.6s\tremaining: 137ms\n",
      "971:\tlearn: 0.0023730\ttotal: 4.6s\tremaining: 133ms\n",
      "972:\tlearn: 0.0023722\ttotal: 4.6s\tremaining: 128ms\n",
      "973:\tlearn: 0.0023709\ttotal: 4.61s\tremaining: 123ms\n",
      "974:\tlearn: 0.0023693\ttotal: 4.61s\tremaining: 118ms\n",
      "975:\tlearn: 0.0023653\ttotal: 4.62s\tremaining: 114ms\n",
      "976:\tlearn: 0.0023643\ttotal: 4.62s\tremaining: 109ms\n",
      "977:\tlearn: 0.0023609\ttotal: 4.63s\tremaining: 104ms\n",
      "978:\tlearn: 0.0023592\ttotal: 4.63s\tremaining: 99.4ms\n",
      "979:\tlearn: 0.0023583\ttotal: 4.64s\tremaining: 94.6ms\n",
      "980:\tlearn: 0.0023557\ttotal: 4.64s\tremaining: 89.9ms\n",
      "981:\tlearn: 0.0023551\ttotal: 4.64s\tremaining: 85.1ms\n",
      "982:\tlearn: 0.0023544\ttotal: 4.65s\tremaining: 80.4ms\n",
      "983:\tlearn: 0.0023513\ttotal: 4.65s\tremaining: 75.7ms\n",
      "984:\tlearn: 0.0023486\ttotal: 4.66s\tremaining: 70.9ms\n",
      "985:\tlearn: 0.0023458\ttotal: 4.66s\tremaining: 66.2ms\n",
      "986:\tlearn: 0.0023426\ttotal: 4.67s\tremaining: 61.5ms\n",
      "987:\tlearn: 0.0023400\ttotal: 4.68s\tremaining: 56.8ms\n",
      "988:\tlearn: 0.0023376\ttotal: 4.68s\tremaining: 52.1ms\n",
      "989:\tlearn: 0.0023343\ttotal: 4.69s\tremaining: 47.4ms\n",
      "990:\tlearn: 0.0023331\ttotal: 4.69s\tremaining: 42.6ms\n",
      "991:\tlearn: 0.0023315\ttotal: 4.7s\tremaining: 37.9ms\n",
      "992:\tlearn: 0.0023300\ttotal: 4.7s\tremaining: 33.2ms\n",
      "993:\tlearn: 0.0023296\ttotal: 4.71s\tremaining: 28.4ms\n",
      "994:\tlearn: 0.0023289\ttotal: 4.71s\tremaining: 23.7ms\n",
      "995:\tlearn: 0.0023267\ttotal: 4.72s\tremaining: 18.9ms\n",
      "996:\tlearn: 0.0023263\ttotal: 4.72s\tremaining: 14.2ms\n",
      "997:\tlearn: 0.0023248\ttotal: 4.73s\tremaining: 9.47ms\n",
      "998:\tlearn: 0.0023221\ttotal: 4.73s\tremaining: 4.74ms\n",
      "999:\tlearn: 0.0023211\ttotal: 4.74s\tremaining: 0us\n"
     ]
    },
    {
     "data": {
      "text/plain": [
       "0.9695603997884128"
      ]
     },
     "execution_count": 67,
     "metadata": {},
     "output_type": "execute_result"
    }
   ],
   "source": [
    "cbm = CatBoostClassifier(max_depth=5)\n",
    "cbm.fit(X_train,y_train)\n",
    "metrics.roc_auc_score(y_test, cbm.predict_proba(X_test)[:,1])"
   ]
  },
  {
   "cell_type": "code",
   "execution_count": null,
   "id": "084564ba",
   "metadata": {},
   "outputs": [],
   "source": []
  }
 ],
 "metadata": {
  "kernelspec": {
   "display_name": "Python 3",
   "language": "python",
   "name": "python3"
  },
  "language_info": {
   "codemirror_mode": {
    "name": "ipython",
    "version": 3
   },
   "file_extension": ".py",
   "mimetype": "text/x-python",
   "name": "python",
   "nbconvert_exporter": "python",
   "pygments_lexer": "ipython3",
   "version": "3.8.8"
  }
 },
 "nbformat": 4,
 "nbformat_minor": 5
}
